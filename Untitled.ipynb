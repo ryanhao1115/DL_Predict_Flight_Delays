{
 "cells": [
  {
   "cell_type": "code",
   "execution_count": 1,
   "id": "281d07c9-b978-4a43-980d-1a991c1cf0d1",
   "metadata": {},
   "outputs": [],
   "source": [
    "import pandas as pd\n",
    "import numpy as np\n",
    "from datetime import datetime\n",
    "import holidays\n",
    "from sklearn.model_selection import train_test_split\n",
    "from sklearn.model_selection import GridSearchCV\n",
    "from sklearn.linear_model import LinearRegression,ElasticNet\n",
    "from sklearn.preprocessing import StandardScaler"
   ]
  },
  {
   "cell_type": "markdown",
   "id": "8d5704a2-0584-4232-90cd-0eff389fb4aa",
   "metadata": {},
   "source": [
    "## Build X_train"
   ]
  },
  {
   "cell_type": "code",
   "execution_count": 2,
   "id": "4d18123c-d7b1-460d-95f7-5d277e6768b5",
   "metadata": {},
   "outputs": [],
   "source": [
    "df_train = pd.read_csv('fl_train')"
   ]
  },
  {
   "cell_type": "code",
   "execution_count": 4,
   "id": "9ceccaf7-f84c-408e-8caa-9c11595f4779",
   "metadata": {},
   "outputs": [],
   "source": [
    "X_train = df_train[['fl_date','op_unique_carrier','op_carrier_fl_num','arr_delay']]"
   ]
  },
  {
   "cell_type": "code",
   "execution_count": 5,
   "id": "e849635b-4b09-44d0-a009-d2bf371e8d20",
   "metadata": {},
   "outputs": [
    {
     "name": "stderr",
     "output_type": "stream",
     "text": [
      "D:\\big data\\anaconda3\\envs\\LH\\lib\\site-packages\\pandas\\core\\generic.py:6392: SettingWithCopyWarning: \n",
      "A value is trying to be set on a copy of a slice from a DataFrame\n",
      "\n",
      "See the caveats in the documentation: https://pandas.pydata.org/pandas-docs/stable/user_guide/indexing.html#returning-a-view-versus-a-copy\n",
      "  return self._update_inplace(result)\n"
     ]
    }
   ],
   "source": [
    "# after test data, arr_delay should be 0. \n",
    "X_train['arr_delay'].fillna(0,inplace=True)\n",
    "\n",
    "#remove outliner\n",
    "X_train = X_train[(X_train['arr_delay'] > -80) & (X_train['arr_delay'] < 180)] \n",
    "\n",
    "#combine features\n",
    "def combine_str_num(x,y):\n",
    "    return x + str(y)\n",
    "X_train['uni_fl'] = np.vectorize(combine_str_num)(X_train['op_unique_carrier'],X_train['op_carrier_fl_num'])\n",
    "X_train.drop(columns=['op_unique_carrier','op_carrier_fl_num'],inplace=True)\n",
    "\n",
    "# feature coding\n",
    "unifl_target_mean = X_train.groupby(['uni_fl'])['arr_delay'].mean()\n",
    "X_train['uni_fl'] =X_train['uni_fl'].map(unifl_target_mean)"
   ]
  },
  {
   "cell_type": "code",
   "execution_count": 6,
   "id": "5b5e18d7-de3c-4053-8c68-bc250dcb9b97",
   "metadata": {},
   "outputs": [],
   "source": [
    "#transform fl_date\n",
    "def getmonth(x):\n",
    "    return x.split(sep='-')[1]\n",
    "X_train['month'] = X_train['fl_date'].apply(getmonth)\n",
    "\n",
    "def getdayofweek(x):\n",
    "    year_s, mon_s, day_s = x.split('-')\n",
    "    fl_d = datetime(int(year_s), int(mon_s), int(day_s))\n",
    "    return fl_d.weekday()\n",
    "X_train['day_of_week'] = X_train['fl_date'].apply(getdayofweek)\n",
    "\n",
    "us_holidays = holidays.UnitedStates()\n",
    "def isholiday(x):\n",
    "    year_s, mon_s, day_s = x.split('-')\n",
    "    if datetime(int(year_s), int(mon_s), int(day_s)) in us_holidays:\n",
    "        return 1\n",
    "    else:\n",
    "        return 0\n",
    "X_train['is_holiday'] = X_train['fl_date'].apply(isholiday)\n",
    "\n",
    "y_train = X_train['arr_delay']\n",
    "\n",
    "X_train = X_train.drop(columns=['fl_date','arr_delay'])\n",
    "\n",
    "X_train = pd.get_dummies(X_train,columns=['month','day_of_week'])"
   ]
  },
  {
   "cell_type": "code",
   "execution_count": 10,
   "id": "86f88a4d-8db0-4d15-82bf-f83747c52265",
   "metadata": {},
   "outputs": [],
   "source": [
    "scaler = StandardScaler()\n",
    "X = scaler.fit_transform(X_train)"
   ]
  },
  {
   "cell_type": "code",
   "execution_count": 12,
   "id": "c249cef2-421b-493c-be1d-3ad3ad891db8",
   "metadata": {},
   "outputs": [],
   "source": [
    "x_small = X[:100000]\n",
    "y_small = y_train[:100000]"
   ]
  },
  {
   "cell_type": "markdown",
   "id": "83b52da6-73f3-408f-ad3a-a9b61387ca9b",
   "metadata": {},
   "source": [
    "### Build X_test"
   ]
  },
  {
   "cell_type": "code",
   "execution_count": 27,
   "id": "fda72711-48ba-4bb2-bc74-bb85e3ffee12",
   "metadata": {},
   "outputs": [],
   "source": [
    "df_test = pd.read_csv('fl_test')"
   ]
  },
  {
   "cell_type": "code",
   "execution_count": 31,
   "id": "5037196b-82ad-46b5-9949-d3fcffffb6ce",
   "metadata": {},
   "outputs": [],
   "source": [
    "X_test = df_test[['fl_date','op_unique_carrier','op_carrier_fl_num','arr_delay']]"
   ]
  },
  {
   "cell_type": "code",
   "execution_count": 35,
   "id": "d36c665e-794e-4e5b-965a-1288c5b25339",
   "metadata": {},
   "outputs": [
    {
     "name": "stdout",
     "output_type": "stream",
     "text": [
      "<class 'pandas.core.frame.DataFrame'>\n",
      "RangeIndex: 3185497 entries, 0 to 3185496\n",
      "Data columns (total 3 columns):\n",
      " #   Column     Dtype  \n",
      "---  ------     -----  \n",
      " 0   fl_date    object \n",
      " 1   arr_delay  float64\n",
      " 2   uni_fl     float64\n",
      "dtypes: float64(2), object(1)\n",
      "memory usage: 72.9+ MB\n"
     ]
    }
   ],
   "source": [
    "X_test.info()"
   ]
  },
  {
   "cell_type": "code",
   "execution_count": null,
   "id": "7c958fab-6d0e-45e4-b8be-402408ab0825",
   "metadata": {},
   "outputs": [],
   "source": [
    "# after test data, arr_delay should be 0. \n",
    "X_test['arr_delay'].fillna(0,inplace=True)\n",
    "\n",
    "#remove outliner\n",
    "#X_train = X_train[(X_train['arr_delay'] > -80) & (X_train['arr_delay'] < 180)] \n",
    "\n",
    "#combine features\n",
    "def combine_str_num(x,y):\n",
    "    return x + str(y)\n",
    "X_test['uni_fl'] = np.vectorize(combine_str_num)(X_test['op_unique_carrier'],X_test['op_carrier_fl_num'])\n",
    "X_test.drop(columns=['op_unique_carrier','op_carrier_fl_num'],inplace=True)\n",
    "\n",
    "# feature coding\n",
    "#unifl_target_mean = X_train.groupby(['uni_fl'])['arr_delay'].mean()\n",
    "X_test['uni_fl'] =X_test['uni_fl'].map(unifl_target_mean)"
   ]
  },
  {
   "cell_type": "code",
   "execution_count": 36,
   "id": "91074fc0-666f-4ce1-98fd-6db8f14567c9",
   "metadata": {},
   "outputs": [
    {
     "name": "stderr",
     "output_type": "stream",
     "text": [
      "C:\\Users\\huawei\\AppData\\Local\\Temp/ipykernel_17640/2080152010.py:4: SettingWithCopyWarning: \n",
      "A value is trying to be set on a copy of a slice from a DataFrame.\n",
      "Try using .loc[row_indexer,col_indexer] = value instead\n",
      "\n",
      "See the caveats in the documentation: https://pandas.pydata.org/pandas-docs/stable/user_guide/indexing.html#returning-a-view-versus-a-copy\n",
      "  X_test['month'] = X_test['fl_date'].apply(getmonth)\n",
      "C:\\Users\\huawei\\AppData\\Local\\Temp/ipykernel_17640/2080152010.py:10: SettingWithCopyWarning: \n",
      "A value is trying to be set on a copy of a slice from a DataFrame.\n",
      "Try using .loc[row_indexer,col_indexer] = value instead\n",
      "\n",
      "See the caveats in the documentation: https://pandas.pydata.org/pandas-docs/stable/user_guide/indexing.html#returning-a-view-versus-a-copy\n",
      "  X_test['day_of_week'] = X_test['fl_date'].apply(getdayofweek)\n",
      "C:\\Users\\huawei\\AppData\\Local\\Temp/ipykernel_17640/2080152010.py:19: SettingWithCopyWarning: \n",
      "A value is trying to be set on a copy of a slice from a DataFrame.\n",
      "Try using .loc[row_indexer,col_indexer] = value instead\n",
      "\n",
      "See the caveats in the documentation: https://pandas.pydata.org/pandas-docs/stable/user_guide/indexing.html#returning-a-view-versus-a-copy\n",
      "  X_test['is_holiday'] = X_test['fl_date'].apply(isholiday)\n"
     ]
    }
   ],
   "source": [
    "#transform fl_date\n",
    "def getmonth(x):\n",
    "    return x.split(sep='-')[1]\n",
    "X_test['month'] = X_test['fl_date'].apply(getmonth)\n",
    "\n",
    "def getdayofweek(x):\n",
    "    year_s, mon_s, day_s = x.split('-')\n",
    "    fl_d = datetime(int(year_s), int(mon_s), int(day_s))\n",
    "    return fl_d.weekday()\n",
    "X_test['day_of_week'] = X_test['fl_date'].apply(getdayofweek)\n",
    "\n",
    "us_holidays = holidays.UnitedStates()\n",
    "def isholiday(x):\n",
    "    year_s, mon_s, day_s = x.split('-')\n",
    "    if datetime(int(year_s), int(mon_s), int(day_s)) in us_holidays:\n",
    "        return 1\n",
    "    else:\n",
    "        return 0\n",
    "X_test['is_holiday'] = X_test['fl_date'].apply(isholiday)\n",
    "\n",
    "y_test = X_test['arr_delay']\n",
    "\n"
   ]
  },
  {
   "cell_type": "code",
   "execution_count": 39,
   "id": "e825a156-999d-4e66-95b7-aced207cd477",
   "metadata": {},
   "outputs": [],
   "source": [
    "X_test = X_test.drop(columns=['fl_date','arr_delay'])\n",
    "\n",
    "X_test = pd.get_dummies(X_test,columns=['month','day_of_week'])\n",
    "\n",
    "X_test = scaler.transform(X_test)"
   ]
  },
  {
   "cell_type": "code",
   "execution_count": 44,
   "id": "e67cf253-b544-41c0-9052-67d53e958cac",
   "metadata": {},
   "outputs": [],
   "source": [
    "## ElasticNet"
   ]
  },
  {
   "cell_type": "code",
   "execution_count": 16,
   "id": "a3a9c70b-c0af-4224-92e5-5c478397db08",
   "metadata": {},
   "outputs": [],
   "source": [
    "parametersGrid = {    \"alpha\": [0.01],\n",
    "                      \"l1_ratio\": [0.8]}"
   ]
  },
  {
   "cell_type": "code",
   "execution_count": null,
   "id": "609e001c-d121-4e8f-961e-5dec7a66f349",
   "metadata": {},
   "outputs": [],
   "source": [
    "ent = ElasticNet(max_iter=100000)\n",
    "grid = GridSearchCV(ent, parametersGrid, scoring='r2', cv=3)\n",
    "grid.fit(X, y_train)\n",
    "#Y_pred = grid.predict(X_test)"
   ]
  },
  {
   "cell_type": "code",
   "execution_count": null,
   "id": "14a09f24-70ca-4b4f-908e-c714d3505d81",
   "metadata": {},
   "outputs": [],
   "source": [
    "9 + 4"
   ]
  },
  {
   "cell_type": "code",
   "execution_count": 49,
   "id": "e0e4cfe1-641f-4548-b898-71a5c84285c0",
   "metadata": {},
   "outputs": [
    {
     "data": {
      "text/plain": [
       "0.037004696025849104"
      ]
     },
     "execution_count": 49,
     "metadata": {},
     "output_type": "execute_result"
    }
   ],
   "source": [
    "#first tried\n",
    "grid.best_score_"
   ]
  },
  {
   "cell_type": "code",
   "execution_count": 20,
   "id": "f072caa3-c486-4c25-a106-328198dd0fce",
   "metadata": {},
   "outputs": [],
   "source": [
    "import xgboost as xgb\n",
    "from sklearn.metrics import mean_squared_error\n",
    "from sklearn.metrics import r2_score"
   ]
  },
  {
   "cell_type": "code",
   "execution_count": 23,
   "id": "df59f91f-84b2-4c80-8f1c-4e5ab8fd3fde",
   "metadata": {},
   "outputs": [],
   "source": [
    "xg_reg = xgb.XGBRegressor(objective ='reg:squarederror', colsample_bytree = 0.3, learning_rate = 0.1,\n",
    "                max_depth = 5, alpha = 10, n_estimators = 10)"
   ]
  },
  {
   "cell_type": "code",
   "execution_count": 24,
   "id": "487ecc5c-8b56-414a-ab27-5642e00e9e52",
   "metadata": {},
   "outputs": [
    {
     "data": {
      "text/plain": [
       "XGBRegressor(alpha=10, base_score=0.5, booster='gbtree', colsample_bylevel=1,\n",
       "             colsample_bynode=1, colsample_bytree=0.3, gamma=0, gpu_id=-1,\n",
       "             importance_type='gain', interaction_constraints='',\n",
       "             learning_rate=0.1, max_delta_step=0, max_depth=5,\n",
       "             min_child_weight=1, missing=nan, monotone_constraints='()',\n",
       "             n_estimators=10, n_jobs=8, num_parallel_tree=1, random_state=0,\n",
       "             reg_alpha=10, reg_lambda=1, scale_pos_weight=1, subsample=1,\n",
       "             tree_method='approx', validate_parameters=1, verbosity=None)"
      ]
     },
     "execution_count": 24,
     "metadata": {},
     "output_type": "execute_result"
    }
   ],
   "source": [
    "xg_reg.fit(X,y_train)"
   ]
  },
  {
   "cell_type": "code",
   "execution_count": 42,
   "id": "695eb115-1271-46f3-8bfb-f6c8ca802d31",
   "metadata": {},
   "outputs": [
    {
     "name": "stderr",
     "output_type": "stream",
     "text": [
      "D:\\big data\\anaconda3\\envs\\LH\\lib\\site-packages\\xgboost\\data.py:112: UserWarning: Use subset (sliced data) of np.ndarray is not recommended because it will generate extra copies and increase memory consumption\n",
      "  warnings.warn(\n"
     ]
    }
   ],
   "source": [
    "y_pred = xg_reg.predict(X_test)"
   ]
  },
  {
   "cell_type": "code",
   "execution_count": 43,
   "id": "b2d6400c-ddf7-49a6-bc61-5ab1996fdf9f",
   "metadata": {},
   "outputs": [
    {
     "data": {
      "text/plain": [
       "-0.0005833909885790689"
      ]
     },
     "execution_count": 43,
     "metadata": {},
     "output_type": "execute_result"
    }
   ],
   "source": [
    "r2_score(y_test,y_pred)"
   ]
  },
  {
   "cell_type": "code",
   "execution_count": null,
   "id": "8156602b-0319-43ce-8a95-a1e4cfb6ae14",
   "metadata": {},
   "outputs": [],
   "source": []
  }
 ],
 "metadata": {
  "kernelspec": {
   "display_name": "Python 3 (ipykernel)",
   "language": "python",
   "name": "python3"
  },
  "language_info": {
   "codemirror_mode": {
    "name": "ipython",
    "version": 3
   },
   "file_extension": ".py",
   "mimetype": "text/x-python",
   "name": "python",
   "nbconvert_exporter": "python",
   "pygments_lexer": "ipython3",
   "version": "3.8.10"
  }
 },
 "nbformat": 4,
 "nbformat_minor": 5
}
