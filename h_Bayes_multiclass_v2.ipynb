{
 "cells": [
  {
   "cell_type": "code",
   "execution_count": 2,
   "id": "1f8a0d63",
   "metadata": {
    "colab": {
     "base_uri": "https://localhost:8080/"
    },
    "id": "Gx6Js4F8VdBf",
    "outputId": "300d454d-5e5f-4c00-b419-febd89d44dd9"
   },
   "outputs": [
    {
     "name": "stdout",
     "output_type": "stream",
     "text": [
      "Drive already mounted at /drive; to attempt to forcibly remount, call drive.mount(\"/drive\", force_remount=True).\n"
     ]
    }
   ],
   "source": [
    "from google.colab import drive\n",
    "drive.mount('/drive')"
   ]
  },
  {
   "cell_type": "code",
   "execution_count": 1,
   "id": "55439c3e",
   "metadata": {
    "id": "281d07c9-b978-4a43-980d-1a991c1cf0d1"
   },
   "outputs": [
    {
     "name": "stderr",
     "output_type": "stream",
     "text": [
      "/home/ec2-user/anaconda3/envs/pytorch_latest_p37/lib/python3.7/importlib/_bootstrap.py:219: RuntimeWarning: numpy.ufunc size changed, may indicate binary incompatibility. Expected 192 from C header, got 216 from PyObject\n",
      "  return f(*args, **kwds)\n",
      "/home/ec2-user/anaconda3/envs/pytorch_latest_p37/lib/python3.7/importlib/_bootstrap.py:219: RuntimeWarning: numpy.ufunc size changed, may indicate binary incompatibility. Expected 192 from C header, got 216 from PyObject\n",
      "  return f(*args, **kwds)\n",
      "/home/ec2-user/anaconda3/envs/pytorch_latest_p37/lib/python3.7/importlib/_bootstrap.py:219: RuntimeWarning: numpy.ufunc size changed, may indicate binary incompatibility. Expected 192 from C header, got 216 from PyObject\n",
      "  return f(*args, **kwds)\n",
      "/home/ec2-user/anaconda3/envs/pytorch_latest_p37/lib/python3.7/importlib/_bootstrap.py:219: RuntimeWarning: numpy.ufunc size changed, may indicate binary incompatibility. Expected 192 from C header, got 216 from PyObject\n",
      "  return f(*args, **kwds)\n"
     ]
    }
   ],
   "source": [
    "import pandas as pd\n",
    "import numpy as np\n",
    "from datetime import datetime\n",
    "import holidays\n",
    "from sklearn.model_selection import train_test_split\n",
    "from sklearn.model_selection import GridSearchCV\n",
    "from sklearn.preprocessing import StandardScaler\n",
    "from sklearn.metrics import accuracy_score, roc_auc_score,classification_report,confusion_matrix\n",
    "import matplotlib.pyplot as plt\n",
    "from scipy.stats import  randint\n",
    "import math\n",
    "from sklearn.naive_bayes import GaussianNB\n",
    "from sklearn.ensemble import RandomForestClassifier\n",
    "import pickle"
   ]
  },
  {
   "cell_type": "markdown",
   "id": "9fb459dd",
   "metadata": {
    "id": "8d5704a2-0584-4232-90cd-0eff389fb4aa"
   },
   "source": [
    "## Build X_train"
   ]
  },
  {
   "cell_type": "code",
   "execution_count": 4,
   "id": "3157aa8d",
   "metadata": {
    "id": "4d18123c-d7b1-460d-95f7-5d277e6768b5"
   },
   "outputs": [],
   "source": [
    "X_train = pd.read_csv('fl01_train')"
   ]
  },
  {
   "cell_type": "code",
   "execution_count": 3,
   "id": "cc85c449",
   "metadata": {
    "colab": {
     "base_uri": "https://localhost:8080/",
     "height": 165
    },
    "id": "Rx_vwvNL6wno",
    "outputId": "13002839-153b-40f8-a9df-bce831d27b0b"
   },
   "outputs": [
    {
     "ename": "NameError",
     "evalue": "name 'X_train' is not defined",
     "output_type": "error",
     "traceback": [
      "\u001b[0;31m---------------------------------------------------------------------------\u001b[0m",
      "\u001b[0;31mNameError\u001b[0m                                 Traceback (most recent call last)",
      "\u001b[0;32m<ipython-input-3-bd629803b521>\u001b[0m in \u001b[0;36m<module>\u001b[0;34m\u001b[0m\n\u001b[0;32m----> 1\u001b[0;31m \u001b[0mX_train\u001b[0m\u001b[0;34m.\u001b[0m\u001b[0minfo\u001b[0m\u001b[0;34m(\u001b[0m\u001b[0;34m)\u001b[0m\u001b[0;34m\u001b[0m\u001b[0;34m\u001b[0m\u001b[0m\n\u001b[0m",
      "\u001b[0;31mNameError\u001b[0m: name 'X_train' is not defined"
     ]
    }
   ],
   "source": [
    "X_train.info()"
   ]
  },
  {
   "cell_type": "code",
   "execution_count": 5,
   "id": "e67b60b2",
   "metadata": {
    "id": "9ceccaf7-f84c-408e-8caa-9c11595f4779"
   },
   "outputs": [],
   "source": [
    "X_train = X_train[['fl_date','op_unique_carrier','op_carrier_fl_num','origin_airport_id','crs_dep_time','dest_airport_id','crs_arr_time','distance','arr_delay','carrier_delay','weather_delay','nas_delay','security_delay','late_aircraft_delay']]"
   ]
  },
  {
   "cell_type": "code",
   "execution_count": 27,
   "id": "fd01305d",
   "metadata": {},
   "outputs": [
    {
     "data": {
      "text/html": [
       "<div>\n",
       "<style scoped>\n",
       "    .dataframe tbody tr th:only-of-type {\n",
       "        vertical-align: middle;\n",
       "    }\n",
       "\n",
       "    .dataframe tbody tr th {\n",
       "        vertical-align: top;\n",
       "    }\n",
       "\n",
       "    .dataframe thead th {\n",
       "        text-align: right;\n",
       "    }\n",
       "</style>\n",
       "<table border=\"1\" class=\"dataframe\">\n",
       "  <thead>\n",
       "    <tr style=\"text-align: right;\">\n",
       "      <th></th>\n",
       "      <th>distance</th>\n",
       "      <th>fl_carrier</th>\n",
       "      <th>fl_weather</th>\n",
       "      <th>fl_nas</th>\n",
       "      <th>fl_security</th>\n",
       "      <th>fl_late_aircraft</th>\n",
       "      <th>dep_carrier</th>\n",
       "      <th>arr_carrier</th>\n",
       "      <th>dep_weather</th>\n",
       "      <th>arr_weather</th>\n",
       "      <th>dep_nas</th>\n",
       "      <th>arr_nas</th>\n",
       "      <th>dep_security</th>\n",
       "      <th>arr_security</th>\n",
       "      <th>dep_late_aircraft</th>\n",
       "      <th>arr_late_aircraft</th>\n",
       "      <th>is_holiday</th>\n",
       "      <th>dow_sin</th>\n",
       "      <th>dow_cos</th>\n",
       "    </tr>\n",
       "  </thead>\n",
       "  <tbody>\n",
       "    <tr>\n",
       "      <th>0</th>\n",
       "      <td>2106.0</td>\n",
       "      <td>0.250000</td>\n",
       "      <td>0.000000</td>\n",
       "      <td>31.25</td>\n",
       "      <td>0.0</td>\n",
       "      <td>0.250000</td>\n",
       "      <td>13.813187</td>\n",
       "      <td>10.866667</td>\n",
       "      <td>1.175824</td>\n",
       "      <td>0.000000</td>\n",
       "      <td>7.604396</td>\n",
       "      <td>17.200000</td>\n",
       "      <td>0.000000</td>\n",
       "      <td>1.933333</td>\n",
       "      <td>27.538462</td>\n",
       "      <td>10.866667</td>\n",
       "      <td>0</td>\n",
       "      <td>-0.974927</td>\n",
       "      <td>-0.222525</td>\n",
       "    </tr>\n",
       "    <tr>\n",
       "      <th>1</th>\n",
       "      <td>1243.0</td>\n",
       "      <td>14.500000</td>\n",
       "      <td>0.000000</td>\n",
       "      <td>13.50</td>\n",
       "      <td>0.0</td>\n",
       "      <td>15.500000</td>\n",
       "      <td>32.384615</td>\n",
       "      <td>13.682540</td>\n",
       "      <td>0.000000</td>\n",
       "      <td>0.000000</td>\n",
       "      <td>42.730769</td>\n",
       "      <td>5.206349</td>\n",
       "      <td>0.000000</td>\n",
       "      <td>0.000000</td>\n",
       "      <td>38.115385</td>\n",
       "      <td>13.682540</td>\n",
       "      <td>0</td>\n",
       "      <td>-0.781834</td>\n",
       "      <td>0.623486</td>\n",
       "    </tr>\n",
       "    <tr>\n",
       "      <th>2</th>\n",
       "      <td>612.0</td>\n",
       "      <td>7.666667</td>\n",
       "      <td>10.666667</td>\n",
       "      <td>14.00</td>\n",
       "      <td>0.0</td>\n",
       "      <td>15.333333</td>\n",
       "      <td>19.782065</td>\n",
       "      <td>16.755287</td>\n",
       "      <td>5.087591</td>\n",
       "      <td>1.432024</td>\n",
       "      <td>16.297185</td>\n",
       "      <td>14.552870</td>\n",
       "      <td>0.004171</td>\n",
       "      <td>0.021148</td>\n",
       "      <td>31.207508</td>\n",
       "      <td>16.755287</td>\n",
       "      <td>0</td>\n",
       "      <td>-0.000005</td>\n",
       "      <td>1.000000</td>\n",
       "    </tr>\n",
       "    <tr>\n",
       "      <th>3</th>\n",
       "      <td>515.0</td>\n",
       "      <td>54.600000</td>\n",
       "      <td>0.000000</td>\n",
       "      <td>14.00</td>\n",
       "      <td>0.0</td>\n",
       "      <td>0.000000</td>\n",
       "      <td>25.914530</td>\n",
       "      <td>14.190608</td>\n",
       "      <td>0.350427</td>\n",
       "      <td>3.511050</td>\n",
       "      <td>29.418803</td>\n",
       "      <td>14.882597</td>\n",
       "      <td>0.000000</td>\n",
       "      <td>0.030387</td>\n",
       "      <td>49.871795</td>\n",
       "      <td>14.190608</td>\n",
       "      <td>0</td>\n",
       "      <td>-0.974927</td>\n",
       "      <td>-0.222525</td>\n",
       "    </tr>\n",
       "    <tr>\n",
       "      <th>4</th>\n",
       "      <td>1561.0</td>\n",
       "      <td>3.000000</td>\n",
       "      <td>0.000000</td>\n",
       "      <td>19.00</td>\n",
       "      <td>0.0</td>\n",
       "      <td>0.000000</td>\n",
       "      <td>26.173913</td>\n",
       "      <td>13.481481</td>\n",
       "      <td>5.478261</td>\n",
       "      <td>2.629630</td>\n",
       "      <td>18.521739</td>\n",
       "      <td>29.962963</td>\n",
       "      <td>0.000000</td>\n",
       "      <td>0.000000</td>\n",
       "      <td>0.000000</td>\n",
       "      <td>13.481481</td>\n",
       "      <td>0</td>\n",
       "      <td>-0.000005</td>\n",
       "      <td>1.000000</td>\n",
       "    </tr>\n",
       "  </tbody>\n",
       "</table>\n",
       "</div>"
      ],
      "text/plain": [
       "   distance  fl_carrier  fl_weather  fl_nas  fl_security  fl_late_aircraft  \\\n",
       "0    2106.0    0.250000    0.000000   31.25          0.0          0.250000   \n",
       "1    1243.0   14.500000    0.000000   13.50          0.0         15.500000   \n",
       "2     612.0    7.666667   10.666667   14.00          0.0         15.333333   \n",
       "3     515.0   54.600000    0.000000   14.00          0.0          0.000000   \n",
       "4    1561.0    3.000000    0.000000   19.00          0.0          0.000000   \n",
       "\n",
       "   dep_carrier  arr_carrier  dep_weather  arr_weather    dep_nas    arr_nas  \\\n",
       "0    13.813187    10.866667     1.175824     0.000000   7.604396  17.200000   \n",
       "1    32.384615    13.682540     0.000000     0.000000  42.730769   5.206349   \n",
       "2    19.782065    16.755287     5.087591     1.432024  16.297185  14.552870   \n",
       "3    25.914530    14.190608     0.350427     3.511050  29.418803  14.882597   \n",
       "4    26.173913    13.481481     5.478261     2.629630  18.521739  29.962963   \n",
       "\n",
       "   dep_security  arr_security  dep_late_aircraft  arr_late_aircraft  \\\n",
       "0      0.000000      1.933333          27.538462          10.866667   \n",
       "1      0.000000      0.000000          38.115385          13.682540   \n",
       "2      0.004171      0.021148          31.207508          16.755287   \n",
       "3      0.000000      0.030387          49.871795          14.190608   \n",
       "4      0.000000      0.000000           0.000000          13.481481   \n",
       "\n",
       "   is_holiday   dow_sin   dow_cos  \n",
       "0           0 -0.974927 -0.222525  \n",
       "1           0 -0.781834  0.623486  \n",
       "2           0 -0.000005  1.000000  \n",
       "3           0 -0.974927 -0.222525  \n",
       "4           0 -0.000005  1.000000  "
      ]
     },
     "execution_count": 27,
     "metadata": {},
     "output_type": "execute_result"
    }
   ],
   "source": [
    "X_train.head()"
   ]
  },
  {
   "cell_type": "code",
   "execution_count": 6,
   "id": "f26656f3",
   "metadata": {},
   "outputs": [],
   "source": [
    "train_y = pd.read_csv('train_y_del_cls')"
   ]
  },
  {
   "cell_type": "code",
   "execution_count": 7,
   "id": "c881fe9d",
   "metadata": {},
   "outputs": [],
   "source": [
    "X_train['delay_class'] = train_y['delay_class']"
   ]
  },
  {
   "cell_type": "code",
   "execution_count": 6,
   "id": "a299ef57",
   "metadata": {},
   "outputs": [
    {
     "data": {
      "text/plain": [
       "fl_date                     0\n",
       "op_unique_carrier           0\n",
       "op_carrier_fl_num           0\n",
       "origin_airport_id           0\n",
       "crs_dep_time                0\n",
       "dest_airport_id             0\n",
       "crs_arr_time                0\n",
       "distance                    0\n",
       "arr_delay               17854\n",
       "carrier_delay          812276\n",
       "weather_delay          812276\n",
       "nas_delay              812276\n",
       "security_delay         812276\n",
       "late_aircraft_delay    812276\n",
       "delay_class                 0\n",
       "dtype: int64"
      ]
     },
     "execution_count": 6,
     "metadata": {},
     "output_type": "execute_result"
    }
   ],
   "source": [
    "X_train.isnull().sum()"
   ]
  },
  {
   "cell_type": "code",
   "execution_count": 38,
   "id": "46672fd6",
   "metadata": {},
   "outputs": [],
   "source": [
    "## Combine 5 delays into one delay_class\n",
    "def delay_cla(a,b,c,d,e):\n",
    "    l = pd.Series([a,b,c,d,e]).fillna(0)\n",
    "    if l.sum() == 0:\n",
    "        return 0\n",
    "    else: \n",
    "        return l.idxmax() + 1\n",
    "\n",
    "#print(delay_cla(None,1,None,3,None))\n",
    "X_train['delay_class'] = X_train[['carrier_delay','weather_delay','nas_delay','security_delay','late_aircraft_delay']].apply(lambda X_train: delay_cla(X_train['carrier_delay'],X_train['weather_delay'],X_train['nas_delay'],X_train['security_delay'],X_train['late_aircraft_delay']),axis=1)\n",
    "#X_train['delay_class'] = np.vectorize(delay_cla)(X_train[['carrier_delay','weather_delay','nas_delay','security_delay','late_aircraft_delay']])\n",
    "#X_train['delay_class'] = np.vectorize(delay_cla)(X_train['carrier_delay'],X_train['weather_delay'],X_train['nas_delay'],X_train['security_delay'],X_train['late_aircraft_delay'])"
   ]
  },
  {
   "cell_type": "code",
   "execution_count": 8,
   "id": "979b7b55",
   "metadata": {
    "id": "e849635b-4b09-44d0-a009-d2bf371e8d20"
   },
   "outputs": [],
   "source": [
    "#combine features make uni_fl\n",
    "def combine_str_num(x,y):\n",
    "    return x + str(y)\n",
    "X_train['uni_fl'] = np.vectorize(combine_str_num)(X_train['op_unique_carrier'],X_train['op_carrier_fl_num'])\n",
    "X_train.drop(columns=['op_unique_carrier','op_carrier_fl_num'],inplace=True)\n"
   ]
  },
  {
   "cell_type": "code",
   "execution_count": 9,
   "id": "bfc3669a",
   "metadata": {},
   "outputs": [],
   "source": [
    "# feature coding for flightno --- delay\n",
    "unifl_carrier_mean = X_train.groupby(['uni_fl'])['carrier_delay'].mean()\n",
    "X_train['fl_carrier'] =X_train['uni_fl'].map(unifl_carrier_mean)\n",
    "X_train['fl_carrier'].fillna(0,inplace=True)\n",
    "\n",
    "unifl_weather_mean = X_train.groupby(['uni_fl'])['weather_delay'].mean()\n",
    "X_train['fl_weather'] =X_train['uni_fl'].map(unifl_weather_mean)\n",
    "X_train['fl_weather'].fillna(0,inplace=True)\n",
    "\n",
    "unifl_nas_mean = X_train.groupby(['uni_fl'])['nas_delay'].mean()\n",
    "X_train['fl_nas'] =X_train['uni_fl'].map(unifl_nas_mean)\n",
    "X_train['fl_nas'].fillna(0,inplace=True)\n",
    "\n",
    "unifl_security_mean = X_train.groupby(['uni_fl'])['security_delay'].mean()\n",
    "X_train['fl_security'] =X_train['uni_fl'].map(unifl_security_mean)\n",
    "X_train['fl_security'].fillna(0,inplace=True)\n",
    "\n",
    "unifl_late_aircraft_mean = X_train.groupby(['uni_fl'])['late_aircraft_delay'].mean()\n",
    "X_train['fl_late_aircraft'] =X_train['uni_fl'].map(unifl_late_aircraft_mean)\n",
    "X_train['fl_late_aircraft'].fillna(0,inplace=True)"
   ]
  },
  {
   "cell_type": "code",
   "execution_count": 10,
   "id": "b0aa4b85",
   "metadata": {},
   "outputs": [],
   "source": [
    "## Combine the airportid and related hour\n",
    "def airport_hour(id,t):\n",
    "    '''\n",
    "    combine airport and hour to a new field\n",
    "    '''\n",
    "    h = str(t)[:-2]\n",
    "    if len(h) < 1:\n",
    "        return str(id) + '24'\n",
    "    elif len(h) < 2:\n",
    "        return str(id) + '0' + h\n",
    "    else:\n",
    "        return str(id) + h\n",
    "    \n",
    "X_train['arr_airport_hour'] = np.vectorize(airport_hour)(X_train['dest_airport_id'],X_train['crs_arr_time'])\n",
    "X_train['dep_airport_hour'] = np.vectorize(airport_hour)(X_train['origin_airport_id'],X_train['crs_dep_time'])\n",
    "\n",
    "X_train.drop(columns=['dest_airport_id','crs_arr_time','origin_airport_id','crs_dep_time'],inplace=True)"
   ]
  },
  {
   "cell_type": "code",
   "execution_count": 11,
   "id": "c3a3e101",
   "metadata": {},
   "outputs": [],
   "source": [
    "# feature coding airport_hour to delays\n",
    "dep_hour_carrier_mean = X_train.groupby(['dep_airport_hour'])['carrier_delay'].mean()\n",
    "X_train['dep_carrier'] =X_train['dep_airport_hour'].map(dep_hour_carrier_mean)\n",
    "arr_hour_carrier_mean = X_train.groupby(['arr_airport_hour'])['carrier_delay'].mean()\n",
    "X_train['arr_carrier'] =X_train['arr_airport_hour'].map(arr_hour_carrier_mean)\n",
    "X_train['dep_carrier'].fillna(0,inplace=True)\n",
    "X_train['arr_carrier'].fillna(0,inplace=True)\n",
    "\n",
    "dep_hour_weather_mean = X_train.groupby(['dep_airport_hour'])['weather_delay'].mean()\n",
    "X_train['dep_weather'] =X_train['dep_airport_hour'].map(dep_hour_weather_mean)\n",
    "arr_hour_weather_mean = X_train.groupby(['arr_airport_hour'])['weather_delay'].mean()\n",
    "X_train['arr_weather'] =X_train['arr_airport_hour'].map(arr_hour_weather_mean)\n",
    "X_train['dep_weather'].fillna(0,inplace=True)\n",
    "X_train['arr_weather'].fillna(0,inplace=True)\n",
    "\n",
    "dep_hour_nas_mean = X_train.groupby(['dep_airport_hour'])['nas_delay'].mean()\n",
    "X_train['dep_nas'] =X_train['dep_airport_hour'].map(dep_hour_nas_mean)\n",
    "arr_hour_nas_mean = X_train.groupby(['arr_airport_hour'])['nas_delay'].mean()\n",
    "X_train['arr_nas'] =X_train['arr_airport_hour'].map(arr_hour_nas_mean)\n",
    "X_train['dep_nas'].fillna(0,inplace=True)\n",
    "X_train['arr_nas'].fillna(0,inplace=True)\n",
    "\n",
    "dep_hour_security_mean = X_train.groupby(['dep_airport_hour'])['security_delay'].mean()\n",
    "X_train['dep_security'] =X_train['dep_airport_hour'].map(dep_hour_security_mean)\n",
    "arr_hour_security_mean = X_train.groupby(['arr_airport_hour'])['security_delay'].mean()\n",
    "X_train['arr_security'] =X_train['arr_airport_hour'].map(arr_hour_security_mean)\n",
    "X_train['dep_security'].fillna(0,inplace=True)\n",
    "X_train['arr_security'].fillna(0,inplace=True)\n",
    "\n",
    "dep_hour_late_aircraft_mean = X_train.groupby(['dep_airport_hour'])['late_aircraft_delay'].mean()\n",
    "X_train['dep_late_aircraft'] =X_train['dep_airport_hour'].map(dep_hour_late_aircraft_mean)\n",
    "arr_hour_late_aircraft_mean = X_train.groupby(['arr_airport_hour'])['carrier_delay'].mean()\n",
    "X_train['arr_late_aircraft'] =X_train['arr_airport_hour'].map(arr_hour_late_aircraft_mean)\n",
    "X_train['dep_late_aircraft'].fillna(0,inplace=True)\n",
    "X_train['arr_late_aircraft'].fillna(0,inplace=True)"
   ]
  },
  {
   "cell_type": "code",
   "execution_count": 12,
   "id": "ccc629eb",
   "metadata": {
    "id": "5b5e18d7-de3c-4053-8c68-bc250dcb9b97"
   },
   "outputs": [],
   "source": [
    "#transform fl_date\n",
    "#def getmonth(x):\n",
    "#    return x.split(sep='-')[1]\n",
    "#X_train['month'] = X_train['fl_date'].apply(getmonth)\n",
    "\n",
    "def getdayofweek(x):\n",
    "    year_s, mon_s, day_s = x.split('-')\n",
    "    fl_d = datetime(int(year_s), int(mon_s), int(day_s))\n",
    "    return fl_d.weekday() + 1\n",
    "X_train['day_of_week'] = X_train['fl_date'].apply(getdayofweek)\n",
    "\n",
    "us_holidays = holidays.UnitedStates()\n",
    "def isholiday(x):\n",
    "    year_s, mon_s, day_s = x.split('-')\n",
    "    if datetime(int(year_s), int(mon_s), int(day_s)) in us_holidays:\n",
    "        return 1\n",
    "    else:\n",
    "        return 0\n",
    "X_train['is_holiday'] = X_train['fl_date'].apply(isholiday)\n",
    "\n",
    "\n",
    "pi=3.14159\n",
    "def transformation(column):\n",
    "  max_value = column.max()\n",
    "  sin_values = [math.sin((2*pi*x)/max_value) for x in list(column)]\n",
    "  cos_values = [math.cos((2*pi*x)/max_value) for x in list(column)]\n",
    "  return sin_values, cos_values\n",
    "\n",
    "sin_l, cos_l = transformation(X_train['day_of_week'])\n",
    "\n",
    "X_train['dow_sin'] = sin_l\n",
    "X_train['dow_cos'] = cos_l"
   ]
  },
  {
   "cell_type": "code",
   "execution_count": 13,
   "id": "dbda6431",
   "metadata": {},
   "outputs": [],
   "source": [
    "y_train = X_train['delay_class']\n",
    "X_train.drop(columns=['carrier_delay','weather_delay','nas_delay','security_delay','late_aircraft_delay','fl_date','arr_delay','day_of_week','delay_class','uni_fl','dep_airport_hour','arr_airport_hour'],inplace=True)\n",
    "\n",
    "#X_train = pd.get_dummies(X_train,columns=['month','day_of_week'])"
   ]
  },
  {
   "cell_type": "code",
   "execution_count": 18,
   "id": "2f9adc00",
   "metadata": {
    "id": "86f88a4d-8db0-4d15-82bf-f83747c52265"
   },
   "outputs": [],
   "source": [
    "#scaler = StandardScaler()\n",
    "#X = scaler.fit_transform(X_train)"
   ]
  },
  {
   "cell_type": "code",
   "execution_count": null,
   "id": "6caa3f30",
   "metadata": {
    "id": "c249cef2-421b-493c-be1d-3ad3ad891db8"
   },
   "outputs": [],
   "source": [
    "#x_small = X[:100000]\n",
    "#y_small = y_train[:100000]"
   ]
  },
  {
   "cell_type": "markdown",
   "id": "b690952c",
   "metadata": {
    "id": "83b52da6-73f3-408f-ad3a-a9b61387ca9b"
   },
   "source": [
    "### Build X_test"
   ]
  },
  {
   "cell_type": "code",
   "execution_count": 14,
   "id": "7a1b1b8a",
   "metadata": {
    "id": "fda72711-48ba-4bb2-bc74-bb85e3ffee12"
   },
   "outputs": [],
   "source": [
    "X_test = pd.read_csv('fl01_test')"
   ]
  },
  {
   "cell_type": "code",
   "execution_count": 15,
   "id": "1577820c",
   "metadata": {
    "id": "5037196b-82ad-46b5-9949-d3fcffffb6ce"
   },
   "outputs": [],
   "source": [
    "X_test = X_test[['fl_date','op_unique_carrier','op_carrier_fl_num','origin_airport_id','crs_dep_time','dest_airport_id','crs_arr_time','distance','arr_delay','carrier_delay','weather_delay','nas_delay','security_delay','late_aircraft_delay']]"
   ]
  },
  {
   "cell_type": "code",
   "execution_count": 16,
   "id": "c46ed1ca",
   "metadata": {},
   "outputs": [
    {
     "data": {
      "text/html": [
       "<div>\n",
       "<style scoped>\n",
       "    .dataframe tbody tr th:only-of-type {\n",
       "        vertical-align: middle;\n",
       "    }\n",
       "\n",
       "    .dataframe tbody tr th {\n",
       "        vertical-align: top;\n",
       "    }\n",
       "\n",
       "    .dataframe thead th {\n",
       "        text-align: right;\n",
       "    }\n",
       "</style>\n",
       "<table border=\"1\" class=\"dataframe\">\n",
       "  <thead>\n",
       "    <tr style=\"text-align: right;\">\n",
       "      <th></th>\n",
       "      <th>fl_date</th>\n",
       "      <th>op_unique_carrier</th>\n",
       "      <th>op_carrier_fl_num</th>\n",
       "      <th>origin_airport_id</th>\n",
       "      <th>crs_dep_time</th>\n",
       "      <th>dest_airport_id</th>\n",
       "      <th>crs_arr_time</th>\n",
       "      <th>distance</th>\n",
       "      <th>arr_delay</th>\n",
       "      <th>carrier_delay</th>\n",
       "      <th>weather_delay</th>\n",
       "      <th>nas_delay</th>\n",
       "      <th>security_delay</th>\n",
       "      <th>late_aircraft_delay</th>\n",
       "    </tr>\n",
       "  </thead>\n",
       "  <tbody>\n",
       "    <tr>\n",
       "      <th>0</th>\n",
       "      <td>2018-01-21</td>\n",
       "      <td>AA</td>\n",
       "      <td>9</td>\n",
       "      <td>12478</td>\n",
       "      <td>700</td>\n",
       "      <td>14771</td>\n",
       "      <td>1049</td>\n",
       "      <td>2586.0</td>\n",
       "      <td>-36.0</td>\n",
       "      <td>NaN</td>\n",
       "      <td>NaN</td>\n",
       "      <td>NaN</td>\n",
       "      <td>NaN</td>\n",
       "      <td>NaN</td>\n",
       "    </tr>\n",
       "    <tr>\n",
       "      <th>1</th>\n",
       "      <td>2018-01-12</td>\n",
       "      <td>WN</td>\n",
       "      <td>1832</td>\n",
       "      <td>11278</td>\n",
       "      <td>600</td>\n",
       "      <td>13204</td>\n",
       "      <td>825</td>\n",
       "      <td>759.0</td>\n",
       "      <td>82.0</td>\n",
       "      <td>81.0</td>\n",
       "      <td>0.0</td>\n",
       "      <td>1.0</td>\n",
       "      <td>0.0</td>\n",
       "      <td>0.0</td>\n",
       "    </tr>\n",
       "    <tr>\n",
       "      <th>2</th>\n",
       "      <td>2019-01-27</td>\n",
       "      <td>WN</td>\n",
       "      <td>1699</td>\n",
       "      <td>14893</td>\n",
       "      <td>825</td>\n",
       "      <td>10423</td>\n",
       "      <td>1345</td>\n",
       "      <td>1481.0</td>\n",
       "      <td>-24.0</td>\n",
       "      <td>NaN</td>\n",
       "      <td>NaN</td>\n",
       "      <td>NaN</td>\n",
       "      <td>NaN</td>\n",
       "      <td>NaN</td>\n",
       "    </tr>\n",
       "    <tr>\n",
       "      <th>3</th>\n",
       "      <td>2018-01-01</td>\n",
       "      <td>EV</td>\n",
       "      <td>3978</td>\n",
       "      <td>13930</td>\n",
       "      <td>715</td>\n",
       "      <td>14524</td>\n",
       "      <td>1018</td>\n",
       "      <td>642.0</td>\n",
       "      <td>6.0</td>\n",
       "      <td>NaN</td>\n",
       "      <td>NaN</td>\n",
       "      <td>NaN</td>\n",
       "      <td>NaN</td>\n",
       "      <td>NaN</td>\n",
       "    </tr>\n",
       "    <tr>\n",
       "      <th>4</th>\n",
       "      <td>2018-01-22</td>\n",
       "      <td>F9</td>\n",
       "      <td>649</td>\n",
       "      <td>12953</td>\n",
       "      <td>920</td>\n",
       "      <td>11193</td>\n",
       "      <td>1133</td>\n",
       "      <td>585.0</td>\n",
       "      <td>19.0</td>\n",
       "      <td>0.0</td>\n",
       "      <td>0.0</td>\n",
       "      <td>19.0</td>\n",
       "      <td>0.0</td>\n",
       "      <td>0.0</td>\n",
       "    </tr>\n",
       "  </tbody>\n",
       "</table>\n",
       "</div>"
      ],
      "text/plain": [
       "      fl_date op_unique_carrier  op_carrier_fl_num  origin_airport_id  \\\n",
       "0  2018-01-21                AA                  9              12478   \n",
       "1  2018-01-12                WN               1832              11278   \n",
       "2  2019-01-27                WN               1699              14893   \n",
       "3  2018-01-01                EV               3978              13930   \n",
       "4  2018-01-22                F9                649              12953   \n",
       "\n",
       "   crs_dep_time  dest_airport_id  crs_arr_time  distance  arr_delay  \\\n",
       "0           700            14771          1049    2586.0      -36.0   \n",
       "1           600            13204           825     759.0       82.0   \n",
       "2           825            10423          1345    1481.0      -24.0   \n",
       "3           715            14524          1018     642.0        6.0   \n",
       "4           920            11193          1133     585.0       19.0   \n",
       "\n",
       "   carrier_delay  weather_delay  nas_delay  security_delay  \\\n",
       "0            NaN            NaN        NaN             NaN   \n",
       "1           81.0            0.0        1.0             0.0   \n",
       "2            NaN            NaN        NaN             NaN   \n",
       "3            NaN            NaN        NaN             NaN   \n",
       "4            0.0            0.0       19.0             0.0   \n",
       "\n",
       "   late_aircraft_delay  \n",
       "0                  NaN  \n",
       "1                  0.0  \n",
       "2                  NaN  \n",
       "3                  NaN  \n",
       "4                  0.0  "
      ]
     },
     "execution_count": 16,
     "metadata": {},
     "output_type": "execute_result"
    }
   ],
   "source": [
    "X_test.head()"
   ]
  },
  {
   "cell_type": "code",
   "execution_count": 71,
   "id": "f20bceef",
   "metadata": {},
   "outputs": [
    {
     "data": {
      "text/plain": [
       "distance                    0\n",
       "carrier_delay          202740\n",
       "weather_delay          202740\n",
       "nas_delay              202740\n",
       "security_delay         202740\n",
       "late_aircraft_delay    202740\n",
       "uni_fl                      0\n",
       "arr_airport_hour            0\n",
       "dep_airport_hour            0\n",
       "is_holiday                  0\n",
       "dow_sin                     0\n",
       "dow_cos                     0\n",
       "dtype: int64"
      ]
     },
     "execution_count": 71,
     "metadata": {},
     "output_type": "execute_result"
    }
   ],
   "source": [
    "X_test.isnull().sum()"
   ]
  },
  {
   "cell_type": "code",
   "execution_count": 43,
   "id": "0e28aefc",
   "metadata": {},
   "outputs": [],
   "source": [
    "def delay_cla(a,b,c,d,e):\n",
    "    l = pd.Series([a,b,c,d,e]).fillna(0)\n",
    "    if l.sum() == 0:\n",
    "        return 0\n",
    "    else: \n",
    "        return l.idxmax() + 1\n",
    "X_test['delay_class'] = np.vectorize(delay_cla)(X_test['carrier_delay'],X_test['weather_delay'],X_test['nas_delay'],X_test['security_delay'],X_test['late_aircraft_delay'])"
   ]
  },
  {
   "cell_type": "code",
   "execution_count": 17,
   "id": "8ec04e0f",
   "metadata": {},
   "outputs": [],
   "source": [
    "test_y = pd.read_csv('test_y_del_cls')\n",
    "X_test['delay_class'] = test_y['delay_class']"
   ]
  },
  {
   "cell_type": "code",
   "execution_count": 18,
   "id": "62557882",
   "metadata": {
    "id": "7c958fab-6d0e-45e4-b8be-402408ab0825"
   },
   "outputs": [],
   "source": [
    "#combine features create uni flight no\n",
    "def combine_str_num(x,y):\n",
    "    return x + str(y)\n",
    "X_test['uni_fl'] = np.vectorize(combine_str_num)(X_test['op_unique_carrier'],X_test['op_carrier_fl_num'])\n",
    "X_test.drop(columns=['op_unique_carrier','op_carrier_fl_num'],inplace=True)"
   ]
  },
  {
   "cell_type": "code",
   "execution_count": 19,
   "id": "4be8733b",
   "metadata": {},
   "outputs": [],
   "source": [
    "# feature coding for flightno --- delay\n",
    "unifl_carrier_mean = X_test.groupby(['uni_fl'])['carrier_delay'].mean()\n",
    "X_test['fl_carrier'] =X_test['uni_fl'].map(unifl_carrier_mean)\n",
    "X_test['fl_carrier'].fillna(0,inplace=True)\n",
    "\n",
    "unifl_weather_mean = X_test.groupby(['uni_fl'])['weather_delay'].mean()\n",
    "X_test['fl_weather'] =X_test['uni_fl'].map(unifl_weather_mean)\n",
    "X_test['fl_weather'].fillna(0,inplace=True)\n",
    "\n",
    "unifl_nas_mean = X_test.groupby(['uni_fl'])['nas_delay'].mean()\n",
    "X_test['fl_nas'] =X_test['uni_fl'].map(unifl_nas_mean)\n",
    "X_test['fl_nas'].fillna(0,inplace=True)\n",
    "\n",
    "unifl_security_mean = X_test.groupby(['uni_fl'])['security_delay'].mean()\n",
    "X_test['fl_security'] =X_test['uni_fl'].map(unifl_security_mean)\n",
    "X_test['fl_security'].fillna(0,inplace=True)\n",
    "\n",
    "unifl_late_aircraft_mean = X_test.groupby(['uni_fl'])['late_aircraft_delay'].mean()\n",
    "X_test['fl_late_aircraft'] =X_test['uni_fl'].map(unifl_late_aircraft_mean)\n",
    "X_test['fl_late_aircraft'].fillna(0,inplace=True)"
   ]
  },
  {
   "cell_type": "code",
   "execution_count": 20,
   "id": "27b39489",
   "metadata": {},
   "outputs": [],
   "source": [
    "## Combine the airportid and related hour\n",
    "def airport_hour(id,t):\n",
    "    '''\n",
    "    combine airport and hour to a new field\n",
    "    '''\n",
    "    h = str(t)[:-2]\n",
    "    if len(h) < 1:\n",
    "        return str(id) + '24'\n",
    "    elif len(h) < 2:\n",
    "        return str(id) + '0' + h\n",
    "    else:\n",
    "        return str(id) + h\n",
    "    \n",
    "X_test['arr_airport_hour'] = np.vectorize(airport_hour)(X_test['dest_airport_id'],X_test['crs_arr_time'])\n",
    "X_test['dep_airport_hour'] = np.vectorize(airport_hour)(X_test['origin_airport_id'],X_test['crs_dep_time'])\n",
    "\n",
    "X_test.drop(columns=['dest_airport_id','crs_arr_time','origin_airport_id','crs_dep_time'],inplace=True)"
   ]
  },
  {
   "cell_type": "code",
   "execution_count": 21,
   "id": "4f94a55a",
   "metadata": {},
   "outputs": [],
   "source": [
    "# feature coding airport_hour to delays\n",
    "dep_hour_carrier_mean = X_test.groupby(['dep_airport_hour'])['carrier_delay'].mean()\n",
    "X_test['dep_carrier'] =X_test['dep_airport_hour'].map(dep_hour_carrier_mean)\n",
    "arr_hour_carrier_mean = X_test.groupby(['arr_airport_hour'])['carrier_delay'].mean()\n",
    "X_test['arr_carrier'] =X_test['arr_airport_hour'].map(arr_hour_carrier_mean)\n",
    "X_test['dep_carrier'].fillna(0,inplace=True)\n",
    "X_test['arr_carrier'].fillna(0,inplace=True)\n",
    "\n",
    "dep_hour_weather_mean = X_test.groupby(['dep_airport_hour'])['weather_delay'].mean()\n",
    "X_test['dep_weather'] =X_test['dep_airport_hour'].map(dep_hour_weather_mean)\n",
    "arr_hour_weather_mean = X_test.groupby(['arr_airport_hour'])['weather_delay'].mean()\n",
    "X_test['arr_weather'] =X_test['arr_airport_hour'].map(arr_hour_weather_mean)\n",
    "X_test['dep_weather'].fillna(0,inplace=True)\n",
    "X_test['arr_weather'].fillna(0,inplace=True)\n",
    "\n",
    "dep_hour_nas_mean = X_test.groupby(['dep_airport_hour'])['nas_delay'].mean()\n",
    "X_test['dep_nas'] =X_test['dep_airport_hour'].map(dep_hour_nas_mean)\n",
    "arr_hour_nas_mean = X_test.groupby(['arr_airport_hour'])['nas_delay'].mean()\n",
    "X_test['arr_nas'] =X_test['arr_airport_hour'].map(arr_hour_nas_mean)\n",
    "X_test['dep_nas'].fillna(0,inplace=True)\n",
    "X_test['arr_nas'].fillna(0,inplace=True)\n",
    "\n",
    "dep_hour_security_mean = X_test.groupby(['dep_airport_hour'])['security_delay'].mean()\n",
    "X_test['dep_security'] =X_test['dep_airport_hour'].map(dep_hour_security_mean)\n",
    "arr_hour_security_mean = X_test.groupby(['arr_airport_hour'])['security_delay'].mean()\n",
    "X_test['arr_security'] =X_test['arr_airport_hour'].map(arr_hour_security_mean)\n",
    "X_test['dep_security'].fillna(0,inplace=True)\n",
    "X_test['arr_security'].fillna(0,inplace=True)\n",
    "\n",
    "dep_hour_late_aircraft_mean = X_test.groupby(['dep_airport_hour'])['late_aircraft_delay'].mean()\n",
    "X_test['dep_late_aircraft'] =X_test['dep_airport_hour'].map(dep_hour_late_aircraft_mean)\n",
    "arr_hour_late_aircraft_mean = X_test.groupby(['arr_airport_hour'])['carrier_delay'].mean()\n",
    "X_test['arr_late_aircraft'] =X_test['arr_airport_hour'].map(arr_hour_late_aircraft_mean)\n",
    "X_test['dep_late_aircraft'].fillna(0,inplace=True)\n",
    "X_test['arr_late_aircraft'].fillna(0,inplace=True)"
   ]
  },
  {
   "cell_type": "code",
   "execution_count": 22,
   "id": "6e7318d0",
   "metadata": {
    "id": "91074fc0-666f-4ce1-98fd-6db8f14567c9"
   },
   "outputs": [],
   "source": [
    "#transform fl_date\n",
    "#def getmonth(x):\n",
    "#    return x.split(sep='-')[1]\n",
    "#X_test['month'] = X_test['fl_date'].apply(getmonth)\n",
    "\n",
    "def getdayofweek(x):\n",
    "    year_s, mon_s, day_s = x.split('-')\n",
    "    fl_d = datetime(int(year_s), int(mon_s), int(day_s))\n",
    "    return fl_d.weekday() + 1\n",
    "X_test['day_of_week'] = X_test['fl_date'].apply(getdayofweek)\n",
    "\n",
    "us_holidays = holidays.UnitedStates()\n",
    "def isholiday(x):\n",
    "    year_s, mon_s, day_s = x.split('-')\n",
    "    if datetime(int(year_s), int(mon_s), int(day_s)) in us_holidays:\n",
    "        return 1\n",
    "    else:\n",
    "        return 0\n",
    "X_test['is_holiday'] = X_test['fl_date'].apply(isholiday)\n",
    "\n",
    "\n",
    "\n",
    "pi=3.14159\n",
    "def transformation(column):\n",
    "  max_value = column.max()\n",
    "  sin_values = [math.sin((2*pi*x)/max_value) for x in list(column)]\n",
    "  cos_values = [math.cos((2*pi*x)/max_value) for x in list(column)]\n",
    "  return sin_values, cos_values\n",
    "\n",
    "sin_l, cos_l = transformation(X_test['day_of_week'])\n",
    "\n",
    "X_test['dow_sin'] = sin_l\n",
    "X_test['dow_cos'] = cos_l\n",
    "\n"
   ]
  },
  {
   "cell_type": "code",
   "execution_count": 23,
   "id": "0760d722",
   "metadata": {
    "id": "e825a156-999d-4e66-95b7-aced207cd477"
   },
   "outputs": [],
   "source": [
    "y_test = X_test['delay_class']\n",
    "\n",
    "X_test = X_test.drop(columns=['carrier_delay','weather_delay','nas_delay','security_delay','late_aircraft_delay','fl_date','arr_delay','day_of_week','delay_class','uni_fl','dep_airport_hour','arr_airport_hour'])\n",
    "\n",
    "#X_test = pd.get_dummies(X_test,columns=['month','day_of_week'])\n",
    "\n",
    "#X_test = scaler.transform(X_test)"
   ]
  },
  {
   "cell_type": "markdown",
   "id": "7589a0e0",
   "metadata": {
    "id": "AFLyQ9fnMA0V"
   },
   "source": []
  },
  {
   "cell_type": "code",
   "execution_count": 23,
   "id": "baa11d40",
   "metadata": {
    "id": "wrqH53hG1rsI"
   },
   "outputs": [],
   "source": [
    "###  Bayes"
   ]
  },
  {
   "cell_type": "code",
   "execution_count": 31,
   "id": "8f3851fa",
   "metadata": {},
   "outputs": [],
   "source": [
    "gnb = GaussianNB()\n",
    "gnb.fit(X_train,y_train)\n",
    "y_pred = gnb.predict(X_test)"
   ]
  },
  {
   "cell_type": "code",
   "execution_count": 33,
   "id": "03d95796",
   "metadata": {},
   "outputs": [],
   "source": [
    "y_pred = gnb.predict(X_test)"
   ]
  },
  {
   "cell_type": "code",
   "execution_count": 34,
   "id": "18a3d69b",
   "metadata": {},
   "outputs": [
    {
     "name": "stdout",
     "output_type": "stream",
     "text": [
      "[0 1 2 3 4 5] [ 16521  41683   8672  76576   1244 103278]\n"
     ]
    }
   ],
   "source": [
    "unique, counts = np.unique(y_pred, return_counts=True)\n",
    "print(unique,counts)"
   ]
  },
  {
   "cell_type": "code",
   "execution_count": 35,
   "id": "79ea5d9f",
   "metadata": {},
   "outputs": [
    {
     "name": "stdout",
     "output_type": "stream",
     "text": [
      "Accuracy: 0.1549073693209772\n"
     ]
    }
   ],
   "source": [
    "# Model Accuracy, how often is the classifier correct?\n",
    "print(\"Accuracy:\",accuracy_score(y_test, y_pred))\n",
    "#print(\"ROC score\", roc_auc_score(y_test,y_pred,multi_class='ovr'))"
   ]
  },
  {
   "cell_type": "code",
   "execution_count": 78,
   "id": "10d94db5",
   "metadata": {},
   "outputs": [
    {
     "name": "stdout",
     "output_type": "stream",
     "text": [
      "              precision    recall  f1-score   support\n",
      "\n",
      "           0       0.83      0.86      0.84    202740\n",
      "           1       0.12      0.10      0.11     12054\n",
      "           2       0.07      0.05      0.06      1756\n",
      "           3       0.15      0.11      0.13     14254\n",
      "           4       0.09      0.17      0.11        66\n",
      "           5       0.17      0.14      0.16     17104\n",
      "\n",
      "    accuracy                           0.73    247974\n",
      "   macro avg       0.24      0.24      0.24    247974\n",
      "weighted avg       0.70      0.73      0.71    247974\n",
      "\n"
     ]
    }
   ],
   "source": [
    "print(classification_report(y_test,y_pred))"
   ]
  },
  {
   "cell_type": "code",
   "execution_count": 72,
   "id": "00e90d0a",
   "metadata": {},
   "outputs": [],
   "source": [
    "y_pred_pro = gnb.predict_proba(X_test)"
   ]
  },
  {
   "cell_type": "code",
   "execution_count": 47,
   "id": "0afe4d0b",
   "metadata": {},
   "outputs": [],
   "source": [
    "gnb.class_prior_"
   ]
  },
  {
   "cell_type": "code",
   "execution_count": 52,
   "id": "dec83a77",
   "metadata": {},
   "outputs": [
    {
     "data": {
      "text/plain": [
       "array([0.20215096, 0.26113699, 0.21012088, 0.21025372, 0.00632843,\n",
       "       0.05484196, 0.05516707])"
      ]
     },
     "execution_count": 52,
     "metadata": {},
     "output_type": "execute_result"
    }
   ],
   "source": [
    "y_pred_pro[:3]"
   ]
  },
  {
   "cell_type": "code",
   "execution_count": 41,
   "id": "e30b92d5",
   "metadata": {},
   "outputs": [
    {
     "name": "stdout",
     "output_type": "stream",
     "text": [
      "Accuracy: 0.8176220087589828\n"
     ]
    }
   ],
   "source": [
    "# Model Accuracy, how often is the classifier correct?\n",
    "print(\"Accuracy:\",accuracy_score(y_test, y_pred_r))"
   ]
  },
  {
   "cell_type": "code",
   "execution_count": 42,
   "id": "47896097",
   "metadata": {},
   "outputs": [
    {
     "name": "stdout",
     "output_type": "stream",
     "text": [
      "              precision    recall  f1-score   support\n",
      "\n",
      "           0       0.82      1.00      0.90    202740\n",
      "           1       0.00      0.00      0.00     12054\n",
      "           2       0.00      0.00      0.00      1756\n",
      "           3       0.85      0.00      0.00     14254\n",
      "           4       0.00      0.00      0.00        66\n",
      "           5       0.00      0.00      0.00     17104\n",
      "\n",
      "    accuracy                           0.82    247974\n",
      "   macro avg       0.28      0.17      0.15    247974\n",
      "weighted avg       0.72      0.82      0.74    247974\n",
      "\n"
     ]
    },
    {
     "name": "stderr",
     "output_type": "stream",
     "text": [
      "/home/ec2-user/anaconda3/envs/pytorch_latest_p37/lib/python3.7/site-packages/sklearn/metrics/_classification.py:1221: UndefinedMetricWarning: Precision and F-score are ill-defined and being set to 0.0 in labels with no predicted samples. Use `zero_division` parameter to control this behavior.\n",
      "  _warn_prf(average, modifier, msg_start, len(result))\n"
     ]
    }
   ],
   "source": [
    "print(classification_report(y_test,y_pred_r))"
   ]
  },
  {
   "cell_type": "code",
   "execution_count": 43,
   "id": "a1ef237c",
   "metadata": {},
   "outputs": [
    {
     "data": {
      "text/plain": [
       "array([[202738,      0,      0,      2,      0,      0],\n",
       "       [ 12054,      0,      0,      0,      0,      0],\n",
       "       [  1756,      0,      0,      0,      0,      0],\n",
       "       [ 14243,      0,      0,     11,      0,      0],\n",
       "       [    66,      0,      0,      0,      0,      0],\n",
       "       [ 17104,      0,      0,      0,      0,      0]])"
      ]
     },
     "execution_count": 43,
     "metadata": {},
     "output_type": "execute_result"
    }
   ],
   "source": [
    "confusion_matrix(y_test,y_pred_r)"
   ]
  },
  {
   "cell_type": "code",
   "execution_count": 105,
   "id": "ddf96b3f",
   "metadata": {},
   "outputs": [],
   "source": [
    "pickle.dump(rg,open('Grid_RandomForest_1.sav','wb'))"
   ]
  },
  {
   "cell_type": "code",
   "execution_count": 30,
   "id": "1bea015a",
   "metadata": {},
   "outputs": [],
   "source": [
    "y_pred = loaded_model.predict(X_test)"
   ]
  },
  {
   "cell_type": "code",
   "execution_count": 54,
   "id": "99d2fadb",
   "metadata": {},
   "outputs": [
    {
     "name": "stdout",
     "output_type": "stream",
     "text": [
      "Accuracy: 0.4876559639317025\n"
     ]
    }
   ],
   "source": [
    "print(\"Accuracy:\",accuracy_score(y_test, y_pred_r))"
   ]
  },
  {
   "cell_type": "code",
   "execution_count": 62,
   "id": "b2e6ead8",
   "metadata": {},
   "outputs": [
    {
     "data": {
      "text/plain": [
       "array([1, 2, 2, ..., 2, 2, 2])"
      ]
     },
     "execution_count": 62,
     "metadata": {},
     "output_type": "execute_result"
    }
   ],
   "source": [
    "y_pred_r"
   ]
  },
  {
   "cell_type": "code",
   "execution_count": 56,
   "id": "974ff8a6",
   "metadata": {},
   "outputs": [
    {
     "name": "stdout",
     "output_type": "stream",
     "text": [
      "[0 1 2 3 4 5 6] [    62  16688 180105  30318  12613   6798   1390]\n"
     ]
    }
   ],
   "source": [
    "print(unique,counts)"
   ]
  },
  {
   "cell_type": "code",
   "execution_count": 55,
   "id": "5b2f7760",
   "metadata": {},
   "outputs": [],
   "source": [
    "unique, counts = np.unique(y_pred_r, return_counts=True)"
   ]
  },
  {
   "cell_type": "code",
   "execution_count": 60,
   "id": "f53d256e",
   "metadata": {},
   "outputs": [],
   "source": [
    "y_arr = np.array([arr_d_match[i] for i in y_pred_r])"
   ]
  },
  {
   "cell_type": "code",
   "execution_count": 61,
   "id": "05c322af",
   "metadata": {},
   "outputs": [
    {
     "data": {
      "text/plain": [
       "array([-31.1476422 , -11.23198414, -11.23198414, ..., -11.23198414,\n",
       "       -11.23198414, -11.23198414])"
      ]
     },
     "execution_count": 61,
     "metadata": {},
     "output_type": "execute_result"
    }
   ],
   "source": [
    "y_arr"
   ]
  },
  {
   "cell_type": "code",
   "execution_count": 63,
   "id": "0cf6a302",
   "metadata": {},
   "outputs": [
    {
     "data": {
      "text/plain": [
       "delay_cls\n",
       "0    -84.188470\n",
       "1    -31.147642\n",
       "2    -11.231984\n",
       "3      8.376291\n",
       "4     35.723876\n",
       "5    100.855927\n",
       "6    320.689599\n",
       "Name: arr_delay, dtype: float64"
      ]
     },
     "execution_count": 63,
     "metadata": {},
     "output_type": "execute_result"
    }
   ],
   "source": [
    "arr_d_match"
   ]
  },
  {
   "cell_type": "code",
   "execution_count": 67,
   "id": "b541c96e",
   "metadata": {},
   "outputs": [
    {
     "data": {
      "text/plain": [
       "-0.09276152459671638"
      ]
     },
     "execution_count": 67,
     "metadata": {},
     "output_type": "execute_result"
    }
   ],
   "source": [
    "y_arr = np.array([arr_d_match[i] for i in y_pred])\n",
    "r2_score(Y_compare,y_arr)"
   ]
  },
  {
   "cell_type": "code",
   "execution_count": 64,
   "id": "8b88b4c5",
   "metadata": {},
   "outputs": [
    {
     "data": {
      "text/plain": [
       "0.025932099879509285"
      ]
     },
     "execution_count": 64,
     "metadata": {},
     "output_type": "execute_result"
    }
   ],
   "source": [
    "## four round  48.09246\n",
    "r2_score(y_test,y_pred)"
   ]
  },
  {
   "cell_type": "code",
   "execution_count": 94,
   "id": "b11229a6",
   "metadata": {},
   "outputs": [
    {
     "data": {
      "text/plain": [
       "0.03500066824855497"
      ]
     },
     "execution_count": 94,
     "metadata": {},
     "output_type": "execute_result"
    }
   ],
   "source": [
    "## third round  48.67\n",
    "r2_score(y_test,y_pred)"
   ]
  },
  {
   "cell_type": "code",
   "execution_count": 21,
   "id": "7408f1e6",
   "metadata": {
    "colab": {
     "base_uri": "https://localhost:8080/"
    },
    "id": "f8yRtaY6Ex2v",
    "outputId": "929ba4d5-538a-452c-c09e-51e2369ab379"
   },
   "outputs": [
    {
     "data": {
      "text/plain": [
       "0.02144653066658464"
      ]
     },
     "execution_count": 21,
     "metadata": {},
     "output_type": "execute_result"
    }
   ],
   "source": [
    "## second round with arr_delay <480\n",
    "#r2_score(y_test, y_pred)"
   ]
  },
  {
   "cell_type": "code",
   "execution_count": 27,
   "id": "cdb99cd3",
   "metadata": {
    "colab": {
     "base_uri": "https://localhost:8080/"
    },
    "id": "yDDBGFlLGqW9",
    "outputId": "e03b69c0-cf2d-4108-e099-577638215d1a"
   },
   "outputs": [
    {
     "data": {
      "text/plain": [
       "0.013895135285908466"
      ]
     },
     "execution_count": 27,
     "metadata": {},
     "output_type": "execute_result"
    }
   ],
   "source": [
    "## first round with arr_delay < 180\n",
    "#"
   ]
  },
  {
   "cell_type": "code",
   "execution_count": null,
   "id": "648aa12a",
   "metadata": {
    "id": "b2d6400c-ddf7-49a6-bc61-5ab1996fdf9f",
    "outputId": "250a38db-04bd-47d8-e41c-77e7b31cf44c"
   },
   "outputs": [
    {
     "data": {
      "text/plain": [
       "-0.0005833909885790689"
      ]
     },
     "execution_count": 43,
     "metadata": {},
     "output_type": "execute_result"
    }
   ],
   "source": [
    "## first try on XGBoost \n",
    "#r2_score(y_test,y_pred)"
   ]
  },
  {
   "cell_type": "code",
   "execution_count": null,
   "id": "2c56b247",
   "metadata": {
    "id": "8156602b-0319-43ce-8a95-a1e4cfb6ae14"
   },
   "outputs": [],
   "source": []
  }
 ],
 "metadata": {
  "colab": {
   "collapsed_sections": [],
   "name": "h_XGboost.ipynb",
   "provenance": [],
   "toc_visible": true
  },
  "kernelspec": {
   "display_name": "Python 3 (ipykernel)",
   "language": "python",
   "name": "python3"
  },
  "language_info": {
   "codemirror_mode": {
    "name": "ipython",
    "version": 3
   },
   "file_extension": ".py",
   "mimetype": "text/x-python",
   "name": "python",
   "nbconvert_exporter": "python",
   "pygments_lexer": "ipython3",
   "version": "3.8.10"
  }
 },
 "nbformat": 4,
 "nbformat_minor": 5
}
