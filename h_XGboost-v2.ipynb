{
 "cells": [
  {
   "cell_type": "code",
   "execution_count": 2,
   "id": "9d768ff3",
   "metadata": {
    "colab": {
     "base_uri": "https://localhost:8080/"
    },
    "id": "Gx6Js4F8VdBf",
    "outputId": "300d454d-5e5f-4c00-b419-febd89d44dd9"
   },
   "outputs": [
    {
     "name": "stdout",
     "output_type": "stream",
     "text": [
      "Drive already mounted at /drive; to attempt to forcibly remount, call drive.mount(\"/drive\", force_remount=True).\n"
     ]
    }
   ],
   "source": [
    "from google.colab import drive\n",
    "drive.mount('/drive')"
   ]
  },
  {
   "cell_type": "code",
   "execution_count": null,
   "id": "2f906d16",
   "metadata": {},
   "outputs": [],
   "source": [
    "!pip install holidays"
   ]
  },
  {
   "cell_type": "code",
   "execution_count": 2,
   "id": "9820c1d3",
   "metadata": {
    "id": "281d07c9-b978-4a43-980d-1a991c1cf0d1"
   },
   "outputs": [
    {
     "ename": "ModuleNotFoundError",
     "evalue": "No module named 'holidays'",
     "output_type": "error",
     "traceback": [
      "\u001b[0;31m---------------------------------------------------------------------------\u001b[0m",
      "\u001b[0;31mModuleNotFoundError\u001b[0m                       Traceback (most recent call last)",
      "\u001b[0;32m/tmp/ipykernel_31446/1702175043.py\u001b[0m in \u001b[0;36m<module>\u001b[0;34m\u001b[0m\n\u001b[1;32m      2\u001b[0m \u001b[0;32mimport\u001b[0m \u001b[0mnumpy\u001b[0m \u001b[0;32mas\u001b[0m \u001b[0mnp\u001b[0m\u001b[0;34m\u001b[0m\u001b[0;34m\u001b[0m\u001b[0m\n\u001b[1;32m      3\u001b[0m \u001b[0;32mfrom\u001b[0m \u001b[0mdatetime\u001b[0m \u001b[0;32mimport\u001b[0m \u001b[0mdatetime\u001b[0m\u001b[0;34m\u001b[0m\u001b[0;34m\u001b[0m\u001b[0m\n\u001b[0;32m----> 4\u001b[0;31m \u001b[0;32mimport\u001b[0m \u001b[0mholidays\u001b[0m\u001b[0;34m\u001b[0m\u001b[0;34m\u001b[0m\u001b[0m\n\u001b[0m\u001b[1;32m      5\u001b[0m \u001b[0;32mfrom\u001b[0m \u001b[0msklearn\u001b[0m\u001b[0;34m.\u001b[0m\u001b[0mmodel_selection\u001b[0m \u001b[0;32mimport\u001b[0m \u001b[0mtrain_test_split\u001b[0m\u001b[0;34m\u001b[0m\u001b[0;34m\u001b[0m\u001b[0m\n\u001b[1;32m      6\u001b[0m \u001b[0;32mfrom\u001b[0m \u001b[0msklearn\u001b[0m\u001b[0;34m.\u001b[0m\u001b[0mmodel_selection\u001b[0m \u001b[0;32mimport\u001b[0m \u001b[0mGridSearchCV\u001b[0m\u001b[0;34m\u001b[0m\u001b[0;34m\u001b[0m\u001b[0m\n",
      "\u001b[0;31mModuleNotFoundError\u001b[0m: No module named 'holidays'"
     ]
    }
   ],
   "source": [
    "import pandas as pd\n",
    "import numpy as np\n",
    "from datetime import datetime\n",
    "import holidays\n",
    "from sklearn.model_selection import train_test_split\n",
    "from sklearn.model_selection import GridSearchCV\n",
    "from sklearn.linear_model import LinearRegression,ElasticNet\n",
    "from sklearn.preprocessing import StandardScaler\n",
    "from sklearn.model_selection import RandomizedSearchCV\n",
    "import xgboost as xgb\n",
    "from sklearn.metrics import mean_squared_error\n",
    "from sklearn.metrics import r2_score\n",
    "from scipy.stats import  randint\n",
    "from scipy.stats import uniform"
   ]
  },
  {
   "cell_type": "markdown",
   "id": "9afe0d53",
   "metadata": {
    "id": "8d5704a2-0584-4232-90cd-0eff389fb4aa"
   },
   "source": [
    "## Build X_train"
   ]
  },
  {
   "cell_type": "code",
   "execution_count": 39,
   "id": "3a53c0f4",
   "metadata": {
    "id": "4d18123c-d7b1-460d-95f7-5d277e6768b5"
   },
   "outputs": [],
   "source": [
    "X_train = pd.read_csv('fl_train')"
   ]
  },
  {
   "cell_type": "code",
   "execution_count": 40,
   "id": "e37ed1e9",
   "metadata": {
    "colab": {
     "base_uri": "https://localhost:8080/",
     "height": 165
    },
    "id": "Rx_vwvNL6wno",
    "outputId": "13002839-153b-40f8-a9df-bce831d27b0b"
   },
   "outputs": [
    {
     "name": "stdout",
     "output_type": "stream",
     "text": [
      "<class 'pandas.core.frame.DataFrame'>\n",
      "RangeIndex: 12741988 entries, 0 to 12741987\n",
      "Data columns (total 21 columns):\n",
      " #   Column               Dtype  \n",
      "---  ------               -----  \n",
      " 0   Unnamed: 0           int64  \n",
      " 1   Unnamed: 0.1         int64  \n",
      " 2   fl_date              object \n",
      " 3   op_unique_carrier    object \n",
      " 4   tail_num             object \n",
      " 5   op_carrier_fl_num    int64  \n",
      " 6   origin_airport_id    int64  \n",
      " 7   dest_airport_id      int64  \n",
      " 8   crs_dep_time         int64  \n",
      " 9   dep_delay            float64\n",
      " 10  crs_arr_time         int64  \n",
      " 11  arr_delay            float64\n",
      " 12  cancelled            float64\n",
      " 13  cancellation_code    object \n",
      " 14  crs_elapsed_time     float64\n",
      " 15  distance             float64\n",
      " 16  carrier_delay        float64\n",
      " 17  weather_delay        float64\n",
      " 18  nas_delay            float64\n",
      " 19  security_delay       float64\n",
      " 20  late_aircraft_delay  float64\n",
      "dtypes: float64(10), int64(7), object(4)\n",
      "memory usage: 2.0+ GB\n"
     ]
    }
   ],
   "source": [
    "X_train.info()"
   ]
  },
  {
   "cell_type": "code",
   "execution_count": 43,
   "id": "606ae5c2",
   "metadata": {
    "id": "9ceccaf7-f84c-408e-8caa-9c11595f4779"
   },
   "outputs": [],
   "source": [
    "X_train = X_train[['fl_date','op_unique_carrier','op_carrier_fl_num','origin_airport_id','crs_dep_time','dest_airport_id','crs_arr_time','distance','arr_delay']]"
   ]
  },
  {
   "cell_type": "code",
   "execution_count": 76,
   "id": "4547801f",
   "metadata": {},
   "outputs": [
    {
     "data": {
      "text/html": [
       "<div>\n",
       "<style scoped>\n",
       "    .dataframe tbody tr th:only-of-type {\n",
       "        vertical-align: middle;\n",
       "    }\n",
       "\n",
       "    .dataframe tbody tr th {\n",
       "        vertical-align: top;\n",
       "    }\n",
       "\n",
       "    .dataframe thead th {\n",
       "        text-align: right;\n",
       "    }\n",
       "</style>\n",
       "<table border=\"1\" class=\"dataframe\">\n",
       "  <thead>\n",
       "    <tr style=\"text-align: right;\">\n",
       "      <th></th>\n",
       "      <th>distance</th>\n",
       "      <th>uni_fl</th>\n",
       "      <th>arr_airport_hour</th>\n",
       "      <th>dep_airport_hour</th>\n",
       "      <th>is_holiday</th>\n",
       "      <th>month_01</th>\n",
       "      <th>month_02</th>\n",
       "      <th>month_03</th>\n",
       "      <th>month_04</th>\n",
       "      <th>month_05</th>\n",
       "      <th>...</th>\n",
       "      <th>month_10</th>\n",
       "      <th>month_11</th>\n",
       "      <th>month_12</th>\n",
       "      <th>day_of_week_0</th>\n",
       "      <th>day_of_week_1</th>\n",
       "      <th>day_of_week_2</th>\n",
       "      <th>day_of_week_3</th>\n",
       "      <th>day_of_week_4</th>\n",
       "      <th>day_of_week_5</th>\n",
       "      <th>day_of_week_6</th>\n",
       "    </tr>\n",
       "  </thead>\n",
       "  <tbody>\n",
       "    <tr>\n",
       "      <th>0</th>\n",
       "      <td>594.0</td>\n",
       "      <td>11.047445</td>\n",
       "      <td>4.317572</td>\n",
       "      <td>12.011971</td>\n",
       "      <td>0</td>\n",
       "      <td>0</td>\n",
       "      <td>0</td>\n",
       "      <td>0</td>\n",
       "      <td>0</td>\n",
       "      <td>0</td>\n",
       "      <td>...</td>\n",
       "      <td>1</td>\n",
       "      <td>0</td>\n",
       "      <td>0</td>\n",
       "      <td>0</td>\n",
       "      <td>0</td>\n",
       "      <td>0</td>\n",
       "      <td>0</td>\n",
       "      <td>1</td>\n",
       "      <td>0</td>\n",
       "      <td>0</td>\n",
       "    </tr>\n",
       "    <tr>\n",
       "      <th>1</th>\n",
       "      <td>644.0</td>\n",
       "      <td>18.049091</td>\n",
       "      <td>20.375983</td>\n",
       "      <td>7.351504</td>\n",
       "      <td>0</td>\n",
       "      <td>0</td>\n",
       "      <td>0</td>\n",
       "      <td>0</td>\n",
       "      <td>0</td>\n",
       "      <td>0</td>\n",
       "      <td>...</td>\n",
       "      <td>0</td>\n",
       "      <td>0</td>\n",
       "      <td>0</td>\n",
       "      <td>0</td>\n",
       "      <td>0</td>\n",
       "      <td>0</td>\n",
       "      <td>0</td>\n",
       "      <td>0</td>\n",
       "      <td>0</td>\n",
       "      <td>1</td>\n",
       "    </tr>\n",
       "    <tr>\n",
       "      <th>2</th>\n",
       "      <td>930.0</td>\n",
       "      <td>6.080851</td>\n",
       "      <td>-0.549418</td>\n",
       "      <td>8.711279</td>\n",
       "      <td>0</td>\n",
       "      <td>0</td>\n",
       "      <td>0</td>\n",
       "      <td>0</td>\n",
       "      <td>0</td>\n",
       "      <td>0</td>\n",
       "      <td>...</td>\n",
       "      <td>1</td>\n",
       "      <td>0</td>\n",
       "      <td>0</td>\n",
       "      <td>0</td>\n",
       "      <td>0</td>\n",
       "      <td>0</td>\n",
       "      <td>0</td>\n",
       "      <td>0</td>\n",
       "      <td>1</td>\n",
       "      <td>0</td>\n",
       "    </tr>\n",
       "    <tr>\n",
       "      <th>3</th>\n",
       "      <td>453.0</td>\n",
       "      <td>-2.385633</td>\n",
       "      <td>-2.763755</td>\n",
       "      <td>-1.809239</td>\n",
       "      <td>0</td>\n",
       "      <td>0</td>\n",
       "      <td>0</td>\n",
       "      <td>0</td>\n",
       "      <td>0</td>\n",
       "      <td>0</td>\n",
       "      <td>...</td>\n",
       "      <td>0</td>\n",
       "      <td>0</td>\n",
       "      <td>0</td>\n",
       "      <td>0</td>\n",
       "      <td>0</td>\n",
       "      <td>0</td>\n",
       "      <td>0</td>\n",
       "      <td>1</td>\n",
       "      <td>0</td>\n",
       "      <td>0</td>\n",
       "    </tr>\n",
       "    <tr>\n",
       "      <th>4</th>\n",
       "      <td>342.0</td>\n",
       "      <td>3.357506</td>\n",
       "      <td>9.322371</td>\n",
       "      <td>9.268407</td>\n",
       "      <td>0</td>\n",
       "      <td>0</td>\n",
       "      <td>0</td>\n",
       "      <td>1</td>\n",
       "      <td>0</td>\n",
       "      <td>0</td>\n",
       "      <td>...</td>\n",
       "      <td>0</td>\n",
       "      <td>0</td>\n",
       "      <td>0</td>\n",
       "      <td>0</td>\n",
       "      <td>0</td>\n",
       "      <td>0</td>\n",
       "      <td>0</td>\n",
       "      <td>1</td>\n",
       "      <td>0</td>\n",
       "      <td>0</td>\n",
       "    </tr>\n",
       "  </tbody>\n",
       "</table>\n",
       "<p>5 rows × 24 columns</p>\n",
       "</div>"
      ],
      "text/plain": [
       "   distance     uni_fl  arr_airport_hour  dep_airport_hour  is_holiday  \\\n",
       "0     594.0  11.047445          4.317572         12.011971           0   \n",
       "1     644.0  18.049091         20.375983          7.351504           0   \n",
       "2     930.0   6.080851         -0.549418          8.711279           0   \n",
       "3     453.0  -2.385633         -2.763755         -1.809239           0   \n",
       "4     342.0   3.357506          9.322371          9.268407           0   \n",
       "\n",
       "   month_01  month_02  month_03  month_04  month_05  ...  month_10  month_11  \\\n",
       "0         0         0         0         0         0  ...         1         0   \n",
       "1         0         0         0         0         0  ...         0         0   \n",
       "2         0         0         0         0         0  ...         1         0   \n",
       "3         0         0         0         0         0  ...         0         0   \n",
       "4         0         0         1         0         0  ...         0         0   \n",
       "\n",
       "   month_12  day_of_week_0  day_of_week_1  day_of_week_2  day_of_week_3  \\\n",
       "0         0              0              0              0              0   \n",
       "1         0              0              0              0              0   \n",
       "2         0              0              0              0              0   \n",
       "3         0              0              0              0              0   \n",
       "4         0              0              0              0              0   \n",
       "\n",
       "   day_of_week_4  day_of_week_5  day_of_week_6  \n",
       "0              1              0              0  \n",
       "1              0              0              1  \n",
       "2              0              1              0  \n",
       "3              1              0              0  \n",
       "4              1              0              0  \n",
       "\n",
       "[5 rows x 24 columns]"
      ]
     },
     "execution_count": 76,
     "metadata": {},
     "output_type": "execute_result"
    }
   ],
   "source": [
    "X_train.head()"
   ]
  },
  {
   "cell_type": "code",
   "execution_count": 49,
   "id": "646474ac",
   "metadata": {
    "id": "e849635b-4b09-44d0-a009-d2bf371e8d20"
   },
   "outputs": [
    {
     "name": "stderr",
     "output_type": "stream",
     "text": [
      "/home/ec2-user/anaconda3/envs/amazonei_pytorch_latest_p37/lib/python3.7/site-packages/pandas/core/frame.py:3607: SettingWithCopyWarning: \n",
      "A value is trying to be set on a copy of a slice from a DataFrame.\n",
      "Try using .loc[row_indexer,col_indexer] = value instead\n",
      "\n",
      "See the caveats in the documentation: https://pandas.pydata.org/pandas-docs/stable/user_guide/indexing.html#returning-a-view-versus-a-copy\n",
      "  self._set_item(key, value)\n",
      "/home/ec2-user/anaconda3/envs/amazonei_pytorch_latest_p37/lib/python3.7/site-packages/pandas/core/frame.py:4908: SettingWithCopyWarning: \n",
      "A value is trying to be set on a copy of a slice from a DataFrame\n",
      "\n",
      "See the caveats in the documentation: https://pandas.pydata.org/pandas-docs/stable/user_guide/indexing.html#returning-a-view-versus-a-copy\n",
      "  errors=errors,\n"
     ]
    }
   ],
   "source": [
    "# after test data, arr_delay should be 0. \n",
    "X_train['arr_delay'].fillna(0,inplace=True)\n",
    "\n",
    "#remove outliner\n",
    "X_train = X_train[(X_train['arr_delay'] > -80) & (X_train['arr_delay'] <= 480)] \n",
    "\n",
    "#combine features\n",
    "def combine_str_num(x,y):\n",
    "    return x + str(y)\n",
    "X_train['uni_fl'] = np.vectorize(combine_str_num)(X_train['op_unique_carrier'],X_train['op_carrier_fl_num'])\n",
    "X_train.drop(columns=['op_unique_carrier','op_carrier_fl_num'],inplace=True)\n",
    "\n",
    "# feature coding\n",
    "unifl_target_mean = X_train.groupby(['uni_fl'])['arr_delay'].mean()\n",
    "X_train['uni_fl'] =X_train['uni_fl'].map(unifl_target_mean)"
   ]
  },
  {
   "cell_type": "code",
   "execution_count": 54,
   "id": "18e418f6",
   "metadata": {},
   "outputs": [
    {
     "name": "stderr",
     "output_type": "stream",
     "text": [
      "/home/ec2-user/anaconda3/envs/amazonei_pytorch_latest_p37/lib/python3.7/site-packages/pandas/core/frame.py:3607: SettingWithCopyWarning: \n",
      "A value is trying to be set on a copy of a slice from a DataFrame.\n",
      "Try using .loc[row_indexer,col_indexer] = value instead\n",
      "\n",
      "See the caveats in the documentation: https://pandas.pydata.org/pandas-docs/stable/user_guide/indexing.html#returning-a-view-versus-a-copy\n",
      "  self._set_item(key, value)\n"
     ]
    }
   ],
   "source": [
    "## Combine the airportid and related hour\n",
    "def airport_hour(id,t):\n",
    "    '''\n",
    "    combine airport and hour to a new field\n",
    "    '''\n",
    "    h = str(t)[:-2]\n",
    "    if len(h) < 1:\n",
    "        return str(id) + '24'\n",
    "    elif len(h) < 2:\n",
    "        return str(id) + '0' + h\n",
    "    else:\n",
    "        return str(id) + h\n",
    "    \n",
    "X_train['arr_airport_hour'] = np.vectorize(airport_hour)(X_train['dest_airport_id'],X_train['crs_arr_time'])\n",
    "X_train['dep_airport_hour'] = np.vectorize(airport_hour)(X_train['origin_airport_id'],X_train['crs_dep_time'])\n",
    "\n",
    "# feature coding\n",
    "dep_hour_target_mean = X_train.groupby(['dep_airport_hour'])['arr_delay'].mean()\n",
    "X_train['dep_airport_hour'] =X_train['dep_airport_hour'].map(dep_hour_target_mean)\n",
    "arr_hour_target_mean = X_train.groupby(['arr_airport_hour'])['arr_delay'].mean()\n",
    "X_train['arr_airport_hour'] =X_train['arr_airport_hour'].map(arr_hour_target_mean)\n",
    "\n",
    "X_train.drop(columns=['dest_airport_id','crs_arr_time','origin_airport_id','crs_dep_time'],inplace=True)"
   ]
  },
  {
   "cell_type": "code",
   "execution_count": 75,
   "id": "12be9b38",
   "metadata": {
    "id": "5b5e18d7-de3c-4053-8c68-bc250dcb9b97"
   },
   "outputs": [
    {
     "name": "stderr",
     "output_type": "stream",
     "text": [
      "/home/ec2-user/anaconda3/envs/amazonei_pytorch_latest_p37/lib/python3.7/site-packages/pandas/core/frame.py:3607: SettingWithCopyWarning: \n",
      "A value is trying to be set on a copy of a slice from a DataFrame.\n",
      "Try using .loc[row_indexer,col_indexer] = value instead\n",
      "\n",
      "See the caveats in the documentation: https://pandas.pydata.org/pandas-docs/stable/user_guide/indexing.html#returning-a-view-versus-a-copy\n",
      "  self._set_item(key, value)\n"
     ]
    }
   ],
   "source": [
    "#transform fl_date\n",
    "def getmonth(x):\n",
    "    return x.split(sep='-')[1]\n",
    "X_train['month'] = X_train['fl_date'].apply(getmonth)\n",
    "\n",
    "def getdayofweek(x):\n",
    "    year_s, mon_s, day_s = x.split('-')\n",
    "    fl_d = datetime(int(year_s), int(mon_s), int(day_s))\n",
    "    return fl_d.weekday()\n",
    "X_train['day_of_week'] = X_train['fl_date'].apply(getdayofweek)\n",
    "\n",
    "us_holidays = holidays.UnitedStates()\n",
    "def isholiday(x):\n",
    "    year_s, mon_s, day_s = x.split('-')\n",
    "    if datetime(int(year_s), int(mon_s), int(day_s)) in us_holidays:\n",
    "        return 1\n",
    "    else:\n",
    "        return 0\n",
    "X_train['is_holiday'] = X_train['fl_date'].apply(isholiday)\n",
    "\n",
    "y_train = X_train['arr_delay']\n",
    "\n",
    "X_train = X_train.drop(columns=['fl_date','arr_delay'])\n",
    "\n",
    "X_train = pd.get_dummies(X_train,columns=['month','day_of_week'])"
   ]
  },
  {
   "cell_type": "code",
   "execution_count": 18,
   "id": "038b9896",
   "metadata": {
    "id": "86f88a4d-8db0-4d15-82bf-f83747c52265"
   },
   "outputs": [],
   "source": [
    "#scaler = StandardScaler()\n",
    "#X = scaler.fit_transform(X_train)"
   ]
  },
  {
   "cell_type": "code",
   "execution_count": null,
   "id": "671c377d",
   "metadata": {
    "id": "c249cef2-421b-493c-be1d-3ad3ad891db8"
   },
   "outputs": [],
   "source": [
    "#x_small = X[:100000]\n",
    "#y_small = y_train[:100000]"
   ]
  },
  {
   "cell_type": "markdown",
   "id": "b22e07d3",
   "metadata": {
    "id": "83b52da6-73f3-408f-ad3a-a9b61387ca9b"
   },
   "source": [
    "### Build X_test"
   ]
  },
  {
   "cell_type": "code",
   "execution_count": 66,
   "id": "d72c2897",
   "metadata": {
    "id": "fda72711-48ba-4bb2-bc74-bb85e3ffee12"
   },
   "outputs": [],
   "source": [
    "X_test = pd.read_csv('fl_test')"
   ]
  },
  {
   "cell_type": "code",
   "execution_count": 74,
   "id": "71686fa8",
   "metadata": {},
   "outputs": [
    {
     "data": {
      "text/html": [
       "<div>\n",
       "<style scoped>\n",
       "    .dataframe tbody tr th:only-of-type {\n",
       "        vertical-align: middle;\n",
       "    }\n",
       "\n",
       "    .dataframe tbody tr th {\n",
       "        vertical-align: top;\n",
       "    }\n",
       "\n",
       "    .dataframe thead th {\n",
       "        text-align: right;\n",
       "    }\n",
       "</style>\n",
       "<table border=\"1\" class=\"dataframe\">\n",
       "  <thead>\n",
       "    <tr style=\"text-align: right;\">\n",
       "      <th></th>\n",
       "      <th>distance</th>\n",
       "      <th>uni_fl</th>\n",
       "      <th>arr_airport_hour</th>\n",
       "      <th>dep_airport_hour</th>\n",
       "      <th>is_holiday</th>\n",
       "      <th>month_01</th>\n",
       "      <th>month_02</th>\n",
       "      <th>month_03</th>\n",
       "      <th>month_04</th>\n",
       "      <th>month_05</th>\n",
       "      <th>...</th>\n",
       "      <th>month_10</th>\n",
       "      <th>month_11</th>\n",
       "      <th>month_12</th>\n",
       "      <th>day_of_week_0</th>\n",
       "      <th>day_of_week_1</th>\n",
       "      <th>day_of_week_2</th>\n",
       "      <th>day_of_week_3</th>\n",
       "      <th>day_of_week_4</th>\n",
       "      <th>day_of_week_5</th>\n",
       "      <th>day_of_week_6</th>\n",
       "    </tr>\n",
       "  </thead>\n",
       "  <tbody>\n",
       "    <tr>\n",
       "      <th>0</th>\n",
       "      <td>55.0</td>\n",
       "      <td>2.786466</td>\n",
       "      <td>-1.767890</td>\n",
       "      <td>0.127554</td>\n",
       "      <td>0</td>\n",
       "      <td>0</td>\n",
       "      <td>0</td>\n",
       "      <td>0</td>\n",
       "      <td>0</td>\n",
       "      <td>0</td>\n",
       "      <td>...</td>\n",
       "      <td>0</td>\n",
       "      <td>0</td>\n",
       "      <td>0</td>\n",
       "      <td>0</td>\n",
       "      <td>0</td>\n",
       "      <td>0</td>\n",
       "      <td>0</td>\n",
       "      <td>0</td>\n",
       "      <td>0</td>\n",
       "      <td>1</td>\n",
       "    </tr>\n",
       "    <tr>\n",
       "      <th>1</th>\n",
       "      <td>430.0</td>\n",
       "      <td>5.369181</td>\n",
       "      <td>7.144641</td>\n",
       "      <td>11.648000</td>\n",
       "      <td>0</td>\n",
       "      <td>0</td>\n",
       "      <td>0</td>\n",
       "      <td>0</td>\n",
       "      <td>1</td>\n",
       "      <td>0</td>\n",
       "      <td>...</td>\n",
       "      <td>0</td>\n",
       "      <td>0</td>\n",
       "      <td>0</td>\n",
       "      <td>0</td>\n",
       "      <td>0</td>\n",
       "      <td>1</td>\n",
       "      <td>0</td>\n",
       "      <td>0</td>\n",
       "      <td>0</td>\n",
       "      <td>0</td>\n",
       "    </tr>\n",
       "    <tr>\n",
       "      <th>2</th>\n",
       "      <td>213.0</td>\n",
       "      <td>2.822811</td>\n",
       "      <td>3.456682</td>\n",
       "      <td>0.872361</td>\n",
       "      <td>0</td>\n",
       "      <td>0</td>\n",
       "      <td>0</td>\n",
       "      <td>0</td>\n",
       "      <td>0</td>\n",
       "      <td>1</td>\n",
       "      <td>...</td>\n",
       "      <td>0</td>\n",
       "      <td>0</td>\n",
       "      <td>0</td>\n",
       "      <td>0</td>\n",
       "      <td>0</td>\n",
       "      <td>0</td>\n",
       "      <td>0</td>\n",
       "      <td>1</td>\n",
       "      <td>0</td>\n",
       "      <td>0</td>\n",
       "    </tr>\n",
       "    <tr>\n",
       "      <th>3</th>\n",
       "      <td>342.0</td>\n",
       "      <td>0.000000</td>\n",
       "      <td>2.734760</td>\n",
       "      <td>4.133200</td>\n",
       "      <td>0</td>\n",
       "      <td>0</td>\n",
       "      <td>0</td>\n",
       "      <td>0</td>\n",
       "      <td>1</td>\n",
       "      <td>0</td>\n",
       "      <td>...</td>\n",
       "      <td>0</td>\n",
       "      <td>0</td>\n",
       "      <td>0</td>\n",
       "      <td>0</td>\n",
       "      <td>1</td>\n",
       "      <td>0</td>\n",
       "      <td>0</td>\n",
       "      <td>0</td>\n",
       "      <td>0</td>\n",
       "      <td>0</td>\n",
       "    </tr>\n",
       "    <tr>\n",
       "      <th>4</th>\n",
       "      <td>764.0</td>\n",
       "      <td>6.137931</td>\n",
       "      <td>19.311009</td>\n",
       "      <td>9.921022</td>\n",
       "      <td>1</td>\n",
       "      <td>0</td>\n",
       "      <td>0</td>\n",
       "      <td>0</td>\n",
       "      <td>0</td>\n",
       "      <td>0</td>\n",
       "      <td>...</td>\n",
       "      <td>0</td>\n",
       "      <td>1</td>\n",
       "      <td>0</td>\n",
       "      <td>1</td>\n",
       "      <td>0</td>\n",
       "      <td>0</td>\n",
       "      <td>0</td>\n",
       "      <td>0</td>\n",
       "      <td>0</td>\n",
       "      <td>0</td>\n",
       "    </tr>\n",
       "  </tbody>\n",
       "</table>\n",
       "<p>5 rows × 24 columns</p>\n",
       "</div>"
      ],
      "text/plain": [
       "   distance    uni_fl  arr_airport_hour  dep_airport_hour  is_holiday  \\\n",
       "0      55.0  2.786466         -1.767890          0.127554           0   \n",
       "1     430.0  5.369181          7.144641         11.648000           0   \n",
       "2     213.0  2.822811          3.456682          0.872361           0   \n",
       "3     342.0  0.000000          2.734760          4.133200           0   \n",
       "4     764.0  6.137931         19.311009          9.921022           1   \n",
       "\n",
       "   month_01  month_02  month_03  month_04  month_05  ...  month_10  month_11  \\\n",
       "0         0         0         0         0         0  ...         0         0   \n",
       "1         0         0         0         1         0  ...         0         0   \n",
       "2         0         0         0         0         1  ...         0         0   \n",
       "3         0         0         0         1         0  ...         0         0   \n",
       "4         0         0         0         0         0  ...         0         1   \n",
       "\n",
       "   month_12  day_of_week_0  day_of_week_1  day_of_week_2  day_of_week_3  \\\n",
       "0         0              0              0              0              0   \n",
       "1         0              0              0              1              0   \n",
       "2         0              0              0              0              0   \n",
       "3         0              0              1              0              0   \n",
       "4         0              1              0              0              0   \n",
       "\n",
       "   day_of_week_4  day_of_week_5  day_of_week_6  \n",
       "0              0              0              1  \n",
       "1              0              0              0  \n",
       "2              1              0              0  \n",
       "3              0              0              0  \n",
       "4              0              0              0  \n",
       "\n",
       "[5 rows x 24 columns]"
      ]
     },
     "execution_count": 74,
     "metadata": {},
     "output_type": "execute_result"
    }
   ],
   "source": [
    "X_test.head()"
   ]
  },
  {
   "cell_type": "code",
   "execution_count": 67,
   "id": "236867ed",
   "metadata": {
    "id": "5037196b-82ad-46b5-9949-d3fcffffb6ce"
   },
   "outputs": [],
   "source": [
    "X_test = X_test[['fl_date','op_unique_carrier','op_carrier_fl_num','origin_airport_id','crs_dep_time','dest_airport_id','crs_arr_time','distance','arr_delay']]"
   ]
  },
  {
   "cell_type": "code",
   "execution_count": 69,
   "id": "500978dc",
   "metadata": {
    "id": "7c958fab-6d0e-45e4-b8be-402408ab0825"
   },
   "outputs": [],
   "source": [
    "# after test data, arr_delay should be 0. \n",
    "X_test['arr_delay'].fillna(0,inplace=True)\n",
    "\n",
    "#remove outliner\n",
    "#X_train = X_train[(X_train['arr_delay'] > -80) & (X_train['arr_delay'] < 180)] \n",
    "\n",
    "#combine features\n",
    "def combine_str_num(x,y):\n",
    "    return x + str(y)\n",
    "X_test['uni_fl'] = np.vectorize(combine_str_num)(X_test['op_unique_carrier'],X_test['op_carrier_fl_num'])\n",
    "X_test.drop(columns=['op_unique_carrier','op_carrier_fl_num'],inplace=True)\n",
    "\n",
    "# feature coding\n",
    "#unifl_target_mean = X_test.groupby(['uni_fl'])['arr_delay'].mean()\n",
    "X_test['uni_fl'] =X_test['uni_fl'].map(unifl_target_mean)"
   ]
  },
  {
   "cell_type": "code",
   "execution_count": null,
   "id": "0ebea05d",
   "metadata": {},
   "outputs": [],
   "source": [
    "## Combine the airportid and related hour\n",
    "def airport_hour(id,t):\n",
    "    '''\n",
    "    combine airport and hour to a new field\n",
    "    '''\n",
    "    h = str(t)[:-2]\n",
    "    if len(h) < 1:\n",
    "        return str(id) + '24'\n",
    "    elif len(h) < 2:\n",
    "        return str(id) + '0' + h\n",
    "    else:\n",
    "        return str(id) + h\n",
    "    \n",
    "X_test['arr_airport_hour'] = np.vectorize(airport_hour)(X_test['dest_airport_id'],X_test['crs_arr_time'])\n",
    "X_test['dep_airport_hour'] = np.vectorize(airport_hour)(X_test['origin_airport_id'],X_test['crs_dep_time'])\n",
    "\n",
    "# feature coding\n",
    "#dep_hour_target_mean = X_train.groupby(['dep_airport_hour'])['arr_delay'].mean()\n",
    "X_test['dep_airport_hour'] =X_test['dep_airport_hour'].map(dep_hour_target_mean)\n",
    "#arr_hour_target_mean = X_train.groupby(['arr_airport_hour'])['arr_delay'].mean()\n",
    "X_test['arr_airport_hour'] =X_test['arr_airport_hour'].map(arr_hour_target_mean)\n",
    "\n",
    "X_test.drop(columns=['dest_airport_id','crs_arr_time','origin_airport_id','crs_dep_time'],inplace=True)"
   ]
  },
  {
   "cell_type": "code",
   "execution_count": 72,
   "id": "06f81cef",
   "metadata": {
    "id": "91074fc0-666f-4ce1-98fd-6db8f14567c9"
   },
   "outputs": [],
   "source": [
    "#transform fl_date\n",
    "def getmonth(x):\n",
    "    return x.split(sep='-')[1]\n",
    "X_test['month'] = X_test['fl_date'].apply(getmonth)\n",
    "\n",
    "def getdayofweek(x):\n",
    "    year_s, mon_s, day_s = x.split('-')\n",
    "    fl_d = datetime(int(year_s), int(mon_s), int(day_s))\n",
    "    return fl_d.weekday()\n",
    "X_test['day_of_week'] = X_test['fl_date'].apply(getdayofweek)\n",
    "\n",
    "us_holidays = holidays.UnitedStates()\n",
    "def isholiday(x):\n",
    "    year_s, mon_s, day_s = x.split('-')\n",
    "    if datetime(int(year_s), int(mon_s), int(day_s)) in us_holidays:\n",
    "        return 1\n",
    "    else:\n",
    "        return 0\n",
    "X_test['is_holiday'] = X_test['fl_date'].apply(isholiday)\n",
    "\n",
    "y_test = X_test['arr_delay']\n",
    "\n"
   ]
  },
  {
   "cell_type": "code",
   "execution_count": 73,
   "id": "7bb41a0f",
   "metadata": {
    "id": "e825a156-999d-4e66-95b7-aced207cd477"
   },
   "outputs": [],
   "source": [
    "X_test = X_test.drop(columns=['fl_date','arr_delay'])\n",
    "\n",
    "X_test = pd.get_dummies(X_test,columns=['month','day_of_week'])\n",
    "\n",
    "#X_test = scaler.transform(X_test)"
   ]
  },
  {
   "cell_type": "markdown",
   "id": "11beb0d2",
   "metadata": {
    "id": "AFLyQ9fnMA0V"
   },
   "source": []
  },
  {
   "cell_type": "code",
   "execution_count": 14,
   "id": "098191a0",
   "metadata": {
    "id": "wrqH53hG1rsI"
   },
   "outputs": [],
   "source": [
    "###  XGBoost Modeling"
   ]
  },
  {
   "cell_type": "code",
   "execution_count": 77,
   "id": "b2a952df",
   "metadata": {
    "id": "d3h-Z4YS1we8"
   },
   "outputs": [],
   "source": [
    "dtrain = xgb.DMatrix(X_train, label=y_train)\n",
    "dtest = xgb.DMatrix(X_test, label=y_test)"
   ]
  },
  {
   "cell_type": "code",
   "execution_count": 90,
   "id": "5a34418e",
   "metadata": {
    "id": "HqmjQ3Vt3i-z"
   },
   "outputs": [],
   "source": [
    "params = {\n",
    "    # Parameters that we are going to tune.\n",
    "    'max_depth':11,\n",
    "    'min_child_weight': 5,\n",
    "    'eta':.3,\n",
    "    'subsample': 0.7,\n",
    "    'colsample_bytree': 1,\n",
    "    # Other parameters\n",
    "    'objective':'reg:squarederror',\n",
    "}"
   ]
  },
  {
   "cell_type": "code",
   "execution_count": 95,
   "id": "94e0d0ca",
   "metadata": {
    "id": "fPh_yhhc4BUd"
   },
   "outputs": [],
   "source": [
    "num_boost_round = 30"
   ]
  },
  {
   "cell_type": "code",
   "execution_count": 92,
   "id": "d7e3acce",
   "metadata": {
    "colab": {
     "base_uri": "https://localhost:8080/"
    },
    "id": "14a09f24-70ca-4b4f-908e-c714d3505d81",
    "outputId": "ac2d431a-4f32-4ad0-c10c-bc27858f3c46"
   },
   "outputs": [
    {
     "name": "stdout",
     "output_type": "stream",
     "text": [
      "[0]\tTest-rmse:49.19681\n",
      "[1]\tTest-rmse:48.94568\n",
      "[2]\tTest-rmse:48.81043\n",
      "[3]\tTest-rmse:48.73124\n",
      "[4]\tTest-rmse:48.68348\n",
      "[5]\tTest-rmse:48.65303\n",
      "[6]\tTest-rmse:48.63278\n",
      "[7]\tTest-rmse:48.61763\n",
      "[8]\tTest-rmse:48.60550\n",
      "[9]\tTest-rmse:48.59861\n",
      "[10]\tTest-rmse:48.59085\n",
      "[11]\tTest-rmse:48.58531\n",
      "[12]\tTest-rmse:48.58006\n",
      "[13]\tTest-rmse:48.57711\n",
      "[14]\tTest-rmse:48.57379\n",
      "[15]\tTest-rmse:48.57136\n",
      "[16]\tTest-rmse:48.56950\n",
      "[17]\tTest-rmse:48.56732\n",
      "[18]\tTest-rmse:48.56549\n",
      "[19]\tTest-rmse:48.56374\n"
     ]
    }
   ],
   "source": [
    "model = xgb.train(\n",
    "    params,\n",
    "    dtrain,\n",
    "    num_boost_round=num_boost_round,\n",
    "    evals=[(dtest, \"Test\")],\n",
    "    early_stopping_rounds=2\n",
    ")"
   ]
  },
  {
   "cell_type": "code",
   "execution_count": 93,
   "id": "d4cf58af",
   "metadata": {
    "id": "_rJPxGTWHVwk"
   },
   "outputs": [],
   "source": [
    "y_pred = model.predict(dtest)"
   ]
  },
  {
   "cell_type": "code",
   "execution_count": 94,
   "id": "20ca25dc",
   "metadata": {},
   "outputs": [
    {
     "data": {
      "text/plain": [
       "0.03500066824855497"
      ]
     },
     "execution_count": 94,
     "metadata": {},
     "output_type": "execute_result"
    }
   ],
   "source": [
    "## third round  48.67\n",
    "r2_score(y_test,y_pred)"
   ]
  },
  {
   "cell_type": "code",
   "execution_count": 21,
   "id": "772bac58",
   "metadata": {
    "colab": {
     "base_uri": "https://localhost:8080/"
    },
    "id": "f8yRtaY6Ex2v",
    "outputId": "929ba4d5-538a-452c-c09e-51e2369ab379"
   },
   "outputs": [
    {
     "data": {
      "text/plain": [
       "0.02144653066658464"
      ]
     },
     "execution_count": 21,
     "metadata": {},
     "output_type": "execute_result"
    }
   ],
   "source": [
    "## second round with arr_delay <480\n",
    "#r2_score(y_test, y_pred)"
   ]
  },
  {
   "cell_type": "code",
   "execution_count": 27,
   "id": "87255dc0",
   "metadata": {
    "colab": {
     "base_uri": "https://localhost:8080/"
    },
    "id": "yDDBGFlLGqW9",
    "outputId": "e03b69c0-cf2d-4108-e099-577638215d1a"
   },
   "outputs": [
    {
     "data": {
      "text/plain": [
       "0.013895135285908466"
      ]
     },
     "execution_count": 27,
     "metadata": {},
     "output_type": "execute_result"
    }
   ],
   "source": [
    "## first round with arr_delay < 180\n",
    "#"
   ]
  },
  {
   "cell_type": "code",
   "execution_count": 96,
   "id": "a38e4959",
   "metadata": {
    "id": "yNnjAjc3aMZT"
   },
   "outputs": [],
   "source": [
    "gridsearch_params = [\n",
    "    (subsample, colsample)\n",
    "    for subsample in [i/10. for i in range(6,11)]\n",
    "    for colsample in [i/10. for i in range(8,11)]\n",
    "]"
   ]
  },
  {
   "cell_type": "code",
   "execution_count": null,
   "id": "a97fc567",
   "metadata": {
    "colab": {
     "base_uri": "https://localhost:8080/"
    },
    "id": "rJzgW2RDjVHY",
    "outputId": "9ff389a6-5a1c-4014-92d5-9b1f346b8e94"
   },
   "outputs": [
    {
     "name": "stdout",
     "output_type": "stream",
     "text": [
      "CV with subsample=1.0, colsample=1.0\n",
      "\tMAE 21.3599238 for 0 rounds\n",
      "CV with subsample=1.0, colsample=0.9\n",
      "\tMAE 21.4174592 for 0 rounds\n",
      "CV with subsample=1.0, colsample=0.8\n"
     ]
    }
   ],
   "source": [
    "min_mae = float(\"Inf\")\n",
    "best_params = None\n",
    "# We start by the largest values and go down to the smallest\n",
    "for subsample, colsample in reversed(gridsearch_params):\n",
    "    print(\"CV with subsample={}, colsample={}\".format(\n",
    "                             subsample,\n",
    "                             colsample))\n",
    "    # We update our parameters\n",
    "    params['subsample'] = subsample\n",
    "    params['colsample_bytree'] = colsample\n",
    "    # Run CV\n",
    "    cv_results = xgb.cv(\n",
    "        params,\n",
    "        dtrain,\n",
    "        num_boost_round=num_boost_round,\n",
    "        seed=42,\n",
    "        nfold=5,\n",
    "        metrics={'mae'},\n",
    "        early_stopping_rounds=3\n",
    "    )\n",
    "    # Update best score\n",
    "    mean_mae = cv_results['test-mae-mean'].min()\n",
    "    boost_rounds = cv_results['test-mae-mean'].argmin()\n",
    "    print(\"\\tMAE {} for {} rounds\".format(mean_mae, boost_rounds))\n",
    "    if mean_mae < min_mae:\n",
    "        min_mae = mean_mae\n",
    "        best_params = (subsample,colsample)\n",
    "print(\"Best params: {}, {}, MAE: {}\".format(best_params[0], best_params[1], min_mae))"
   ]
  },
  {
   "cell_type": "code",
   "execution_count": null,
   "id": "faa19b10",
   "metadata": {
    "id": "b2d6400c-ddf7-49a6-bc61-5ab1996fdf9f",
    "outputId": "250a38db-04bd-47d8-e41c-77e7b31cf44c"
   },
   "outputs": [
    {
     "data": {
      "text/plain": [
       "-0.0005833909885790689"
      ]
     },
     "execution_count": 43,
     "metadata": {},
     "output_type": "execute_result"
    }
   ],
   "source": [
    "## first try on XGBoost \n",
    "#r2_score(y_test,y_pred)"
   ]
  },
  {
   "cell_type": "code",
   "execution_count": null,
   "id": "ba0b8f4d",
   "metadata": {
    "id": "scFYw3vqNf43"
   },
   "outputs": [],
   "source": [
    "randm_src = RandomizedSearchCV(estimator=model, param_distributions = parameters,\n",
    "                               cv = 2, n_iter = 10, n_jobs=-1)"
   ]
  },
  {
   "cell_type": "code",
   "execution_count": null,
   "id": "9e8a1f5e",
   "metadata": {
    "id": "8156602b-0319-43ce-8a95-a1e4cfb6ae14"
   },
   "outputs": [],
   "source": []
  }
 ],
 "metadata": {
  "colab": {
   "collapsed_sections": [],
   "name": "h_XGboost.ipynb",
   "provenance": [],
   "toc_visible": true
  },
  "kernelspec": {
   "display_name": "conda_amazonei_pytorch_latest_p37",
   "language": "python",
   "name": "conda_amazonei_pytorch_latest_p37"
  },
  "language_info": {
   "codemirror_mode": {
    "name": "ipython",
    "version": 3
   },
   "file_extension": ".py",
   "mimetype": "text/x-python",
   "name": "python",
   "nbconvert_exporter": "python",
   "pygments_lexer": "ipython3",
   "version": "3.7.10"
  }
 },
 "nbformat": 4,
 "nbformat_minor": 5
}
