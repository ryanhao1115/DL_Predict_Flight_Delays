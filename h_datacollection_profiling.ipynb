{
 "cells": [
  {
   "cell_type": "markdown",
   "id": "3b15cff4-4c72-4af7-923c-8932dd298f8f",
   "metadata": {},
   "source": [
    "### Import flight table"
   ]
  },
  {
   "cell_type": "code",
   "execution_count": 97,
   "id": "d7d7a892-125f-46f4-8c26-13771cda9bb9",
   "metadata": {},
   "outputs": [],
   "source": [
    "import psycopg2\n",
    "import pandas as pd\n",
    "import APIkey\n",
    "import matplotlib.pyplot as plt\n",
    "from sklearn.model_selection import train_test_split"
   ]
  },
  {
   "cell_type": "code",
   "execution_count": 35,
   "id": "8925f464-d5a8-45d6-aaf0-77f7957160b6",
   "metadata": {},
   "outputs": [],
   "source": [
    "pwd = APIkey.progre_key[\"password\"]"
   ]
  },
  {
   "cell_type": "code",
   "execution_count": 36,
   "id": "1c31619f-8721-4ab7-9d59-f14f3c02c884",
   "metadata": {},
   "outputs": [],
   "source": [
    "con = psycopg2.connect(database=\"mid_term_project\", user=\"lhl_student\", password=pwd, host=\"mid-term-project.ca2jkepgjpne.us-east-2.rds.amazonaws.com\", port=\"5432\")"
   ]
  },
  {
   "cell_type": "code",
   "execution_count": 37,
   "id": "f625e261-477a-483a-a7e7-2fb5dbd0e746",
   "metadata": {},
   "outputs": [],
   "source": [
    "sql = 'select fl_date,op_unique_carrier,tail_num,op_carrier_fl_num,origin_airport_id,dest_airport_id,crs_dep_time,dep_delay,crs_arr_time,arr_delay,cancelled,cancellation_code,crs_elapsed_time,distance,carrier_delay,weather_delay,nas_delay,security_delay,late_aircraft_delay from flights'"
   ]
  },
  {
   "cell_type": "code",
   "execution_count": 38,
   "id": "4dc45fe8-ce7c-4cb9-a37c-6f66731872f1",
   "metadata": {},
   "outputs": [],
   "source": [
    "#df_flight = pd.read_sql_query(sql,con) "
   ]
  },
  {
   "cell_type": "code",
   "execution_count": 57,
   "id": "7b12f661-b256-4a6a-8e5c-abb8baafb205",
   "metadata": {},
   "outputs": [],
   "source": [
    "#df_flight.info()"
   ]
  },
  {
   "cell_type": "code",
   "execution_count": 31,
   "id": "9a8a46f7-d42f-4d1a-99e9-4dbf6b8b8d61",
   "metadata": {},
   "outputs": [],
   "source": [
    "columns = ['fl_date','op_unique_carrier','tail_num','op_carrier_fl_num','origin_airport_id','dest_airport_id','crs_dep_time','dep_delay','crs_arr_time','arr_delay','cancelled','cancellation_code','crs_elapsed_time','distance','carrier_delay','weather_delay','nas_delay','security_delay','late_aircraft_delay']"
   ]
  },
  {
   "cell_type": "markdown",
   "id": "7d09dde6-19c1-4854-892a-63923a581162",
   "metadata": {},
   "source": [
    "### Facts about flights table\n",
    "total records : 15927485 \n",
    "\n",
    "total columns: 42\n",
    "tail_num  is null:     49269\n",
    "delay : 3009148 \n"
   ]
  },
  {
   "cell_type": "code",
   "execution_count": null,
   "id": "7042692a-d913-4f9f-8893-361a6db62dcc",
   "metadata": {},
   "outputs": [],
   "source": []
  },
  {
   "cell_type": "markdown",
   "id": "80eceb35-fd8e-4686-bf6a-e3bc73687a22",
   "metadata": {},
   "source": [
    "### separate train data with needed features. data preparation. "
   ]
  },
  {
   "cell_type": "code",
   "execution_count": 42,
   "id": "08e9f643-8e82-472e-9cdc-8b9899b57a04",
   "metadata": {},
   "outputs": [],
   "source": [
    "\n",
    "df_train = df_flight[['fl_date','op_unique_carrier','tail_num','op_carrier_fl_num','origin_airport_id','dest_airport_id','crs_dep_time','crs_arr_time','crs_elapsed_time','distance']]"
   ]
  },
  {
   "cell_type": "code",
   "execution_count": 58,
   "id": "eab31b30-ee8f-46ba-b612-2678eb74844c",
   "metadata": {},
   "outputs": [
    {
     "data": {
      "text/plain": [
       "fl_date                  0\n",
       "op_unique_carrier        0\n",
       "tail_num             49269\n",
       "op_carrier_fl_num        0\n",
       "origin_airport_id        0\n",
       "dest_airport_id          0\n",
       "crs_dep_time             0\n",
       "crs_arr_time             0\n",
       "crs_elapsed_time        20\n",
       "distance                 0\n",
       "dtype: int64"
      ]
     },
     "execution_count": 58,
     "metadata": {},
     "output_type": "execute_result"
    }
   ],
   "source": [
    "df_train.isnull().sum()"
   ]
  },
  {
   "cell_type": "code",
   "execution_count": 94,
   "id": "48fb3ed4-f955-4d46-acdb-4846cfeaabd2",
   "metadata": {},
   "outputs": [
    {
     "data": {
      "text/html": [
       "<div>\n",
       "<style scoped>\n",
       "    .dataframe tbody tr th:only-of-type {\n",
       "        vertical-align: middle;\n",
       "    }\n",
       "\n",
       "    .dataframe tbody tr th {\n",
       "        vertical-align: top;\n",
       "    }\n",
       "\n",
       "    .dataframe thead th {\n",
       "        text-align: right;\n",
       "    }\n",
       "</style>\n",
       "<table border=\"1\" class=\"dataframe\">\n",
       "  <thead>\n",
       "    <tr style=\"text-align: right;\">\n",
       "      <th></th>\n",
       "      <th>fl_date</th>\n",
       "      <th>op_unique_carrier</th>\n",
       "      <th>tail_num</th>\n",
       "      <th>op_carrier_fl_num</th>\n",
       "      <th>origin_airport_id</th>\n",
       "      <th>dest_airport_id</th>\n",
       "      <th>crs_dep_time</th>\n",
       "      <th>crs_arr_time</th>\n",
       "      <th>crs_elapsed_time</th>\n",
       "      <th>distance</th>\n",
       "    </tr>\n",
       "  </thead>\n",
       "  <tbody>\n",
       "    <tr>\n",
       "      <th>15927480</th>\n",
       "      <td>2018-04-02</td>\n",
       "      <td>WN</td>\n",
       "      <td>N8632A</td>\n",
       "      <td>1833</td>\n",
       "      <td>12892</td>\n",
       "      <td>10821</td>\n",
       "      <td>1320</td>\n",
       "      <td>2130</td>\n",
       "      <td>310.0</td>\n",
       "      <td>2329.0</td>\n",
       "    </tr>\n",
       "    <tr>\n",
       "      <th>15927481</th>\n",
       "      <td>2018-04-02</td>\n",
       "      <td>WN</td>\n",
       "      <td>N8329B</td>\n",
       "      <td>1839</td>\n",
       "      <td>12892</td>\n",
       "      <td>10821</td>\n",
       "      <td>1025</td>\n",
       "      <td>1835</td>\n",
       "      <td>310.0</td>\n",
       "      <td>2329.0</td>\n",
       "    </tr>\n",
       "    <tr>\n",
       "      <th>15927482</th>\n",
       "      <td>2018-04-02</td>\n",
       "      <td>WN</td>\n",
       "      <td>N255WN</td>\n",
       "      <td>31</td>\n",
       "      <td>12892</td>\n",
       "      <td>11259</td>\n",
       "      <td>825</td>\n",
       "      <td>1325</td>\n",
       "      <td>180.0</td>\n",
       "      <td>1246.0</td>\n",
       "    </tr>\n",
       "    <tr>\n",
       "      <th>15927483</th>\n",
       "      <td>2018-04-02</td>\n",
       "      <td>WN</td>\n",
       "      <td>N786SW</td>\n",
       "      <td>1336</td>\n",
       "      <td>12892</td>\n",
       "      <td>11259</td>\n",
       "      <td>1815</td>\n",
       "      <td>2315</td>\n",
       "      <td>180.0</td>\n",
       "      <td>1246.0</td>\n",
       "    </tr>\n",
       "    <tr>\n",
       "      <th>15927484</th>\n",
       "      <td>2018-04-02</td>\n",
       "      <td>WN</td>\n",
       "      <td>N962WN</td>\n",
       "      <td>1436</td>\n",
       "      <td>12892</td>\n",
       "      <td>11259</td>\n",
       "      <td>510</td>\n",
       "      <td>1010</td>\n",
       "      <td>180.0</td>\n",
       "      <td>1246.0</td>\n",
       "    </tr>\n",
       "  </tbody>\n",
       "</table>\n",
       "</div>"
      ],
      "text/plain": [
       "             fl_date op_unique_carrier tail_num  op_carrier_fl_num  \\\n",
       "15927480  2018-04-02                WN   N8632A               1833   \n",
       "15927481  2018-04-02                WN   N8329B               1839   \n",
       "15927482  2018-04-02                WN   N255WN                 31   \n",
       "15927483  2018-04-02                WN   N786SW               1336   \n",
       "15927484  2018-04-02                WN   N962WN               1436   \n",
       "\n",
       "          origin_airport_id  dest_airport_id  crs_dep_time  crs_arr_time  \\\n",
       "15927480              12892            10821          1320          2130   \n",
       "15927481              12892            10821          1025          1835   \n",
       "15927482              12892            11259           825          1325   \n",
       "15927483              12892            11259          1815          2315   \n",
       "15927484              12892            11259           510          1010   \n",
       "\n",
       "          crs_elapsed_time  distance  \n",
       "15927480             310.0    2329.0  \n",
       "15927481             310.0    2329.0  \n",
       "15927482             180.0    1246.0  \n",
       "15927483             180.0    1246.0  \n",
       "15927484             180.0    1246.0  "
      ]
     },
     "execution_count": 94,
     "metadata": {},
     "output_type": "execute_result"
    }
   ],
   "source": [
    "df_train.tail()"
   ]
  },
  {
   "cell_type": "code",
   "execution_count": 96,
   "id": "e199c5ee-0ad5-4d88-a436-a03fd9c12921",
   "metadata": {},
   "outputs": [
    {
     "data": {
      "text/html": [
       "<div>\n",
       "<style scoped>\n",
       "    .dataframe tbody tr th:only-of-type {\n",
       "        vertical-align: middle;\n",
       "    }\n",
       "\n",
       "    .dataframe tbody tr th {\n",
       "        vertical-align: top;\n",
       "    }\n",
       "\n",
       "    .dataframe thead th {\n",
       "        text-align: right;\n",
       "    }\n",
       "</style>\n",
       "<table border=\"1\" class=\"dataframe\">\n",
       "  <thead>\n",
       "    <tr style=\"text-align: right;\">\n",
       "      <th></th>\n",
       "      <th>fl_date</th>\n",
       "      <th>op_unique_carrier</th>\n",
       "      <th>tail_num</th>\n",
       "      <th>op_carrier_fl_num</th>\n",
       "      <th>origin_airport_id</th>\n",
       "      <th>dest_airport_id</th>\n",
       "      <th>crs_dep_time</th>\n",
       "      <th>crs_arr_time</th>\n",
       "      <th>crs_elapsed_time</th>\n",
       "      <th>distance</th>\n",
       "    </tr>\n",
       "  </thead>\n",
       "  <tbody>\n",
       "    <tr>\n",
       "      <th>20240</th>\n",
       "      <td>2018-04-03</td>\n",
       "      <td>WN</td>\n",
       "      <td>N8306H</td>\n",
       "      <td>1833</td>\n",
       "      <td>12892</td>\n",
       "      <td>10821</td>\n",
       "      <td>1320</td>\n",
       "      <td>2130</td>\n",
       "      <td>310.0</td>\n",
       "      <td>2329.0</td>\n",
       "    </tr>\n",
       "    <tr>\n",
       "      <th>35656</th>\n",
       "      <td>2018-04-04</td>\n",
       "      <td>WN</td>\n",
       "      <td>N8563Z</td>\n",
       "      <td>1833</td>\n",
       "      <td>12892</td>\n",
       "      <td>10821</td>\n",
       "      <td>1320</td>\n",
       "      <td>2130</td>\n",
       "      <td>310.0</td>\n",
       "      <td>2329.0</td>\n",
       "    </tr>\n",
       "    <tr>\n",
       "      <th>61654</th>\n",
       "      <td>2018-04-05</td>\n",
       "      <td>WN</td>\n",
       "      <td>N8647A</td>\n",
       "      <td>1833</td>\n",
       "      <td>12892</td>\n",
       "      <td>10821</td>\n",
       "      <td>1320</td>\n",
       "      <td>2130</td>\n",
       "      <td>310.0</td>\n",
       "      <td>2329.0</td>\n",
       "    </tr>\n",
       "    <tr>\n",
       "      <th>80084</th>\n",
       "      <td>2018-04-06</td>\n",
       "      <td>WN</td>\n",
       "      <td>N8683D</td>\n",
       "      <td>1833</td>\n",
       "      <td>12892</td>\n",
       "      <td>10821</td>\n",
       "      <td>1320</td>\n",
       "      <td>2130</td>\n",
       "      <td>310.0</td>\n",
       "      <td>2329.0</td>\n",
       "    </tr>\n",
       "    <tr>\n",
       "      <th>148279</th>\n",
       "      <td>2018-04-09</td>\n",
       "      <td>WN</td>\n",
       "      <td>N8526W</td>\n",
       "      <td>1833</td>\n",
       "      <td>13198</td>\n",
       "      <td>10397</td>\n",
       "      <td>940</td>\n",
       "      <td>1240</td>\n",
       "      <td>120.0</td>\n",
       "      <td>692.0</td>\n",
       "    </tr>\n",
       "    <tr>\n",
       "      <th>...</th>\n",
       "      <td>...</td>\n",
       "      <td>...</td>\n",
       "      <td>...</td>\n",
       "      <td>...</td>\n",
       "      <td>...</td>\n",
       "      <td>...</td>\n",
       "      <td>...</td>\n",
       "      <td>...</td>\n",
       "      <td>...</td>\n",
       "      <td>...</td>\n",
       "    </tr>\n",
       "    <tr>\n",
       "      <th>15826566</th>\n",
       "      <td>2018-09-27</td>\n",
       "      <td>WN</td>\n",
       "      <td>N441WN</td>\n",
       "      <td>1833</td>\n",
       "      <td>12889</td>\n",
       "      <td>10140</td>\n",
       "      <td>850</td>\n",
       "      <td>1120</td>\n",
       "      <td>90.0</td>\n",
       "      <td>486.0</td>\n",
       "    </tr>\n",
       "    <tr>\n",
       "      <th>15838195</th>\n",
       "      <td>2018-09-28</td>\n",
       "      <td>WN</td>\n",
       "      <td>N943WN</td>\n",
       "      <td>1833</td>\n",
       "      <td>12889</td>\n",
       "      <td>10140</td>\n",
       "      <td>850</td>\n",
       "      <td>1120</td>\n",
       "      <td>90.0</td>\n",
       "      <td>486.0</td>\n",
       "    </tr>\n",
       "    <tr>\n",
       "      <th>15849389</th>\n",
       "      <td>2018-09-28</td>\n",
       "      <td>WN</td>\n",
       "      <td>N419WN</td>\n",
       "      <td>1833</td>\n",
       "      <td>11066</td>\n",
       "      <td>12889</td>\n",
       "      <td>655</td>\n",
       "      <td>810</td>\n",
       "      <td>255.0</td>\n",
       "      <td>1771.0</td>\n",
       "    </tr>\n",
       "    <tr>\n",
       "      <th>15907659</th>\n",
       "      <td>2018-04-01</td>\n",
       "      <td>WN</td>\n",
       "      <td>N8677A</td>\n",
       "      <td>1833</td>\n",
       "      <td>12892</td>\n",
       "      <td>10821</td>\n",
       "      <td>1320</td>\n",
       "      <td>2130</td>\n",
       "      <td>310.0</td>\n",
       "      <td>2329.0</td>\n",
       "    </tr>\n",
       "    <tr>\n",
       "      <th>15927480</th>\n",
       "      <td>2018-04-02</td>\n",
       "      <td>WN</td>\n",
       "      <td>N8632A</td>\n",
       "      <td>1833</td>\n",
       "      <td>12892</td>\n",
       "      <td>10821</td>\n",
       "      <td>1320</td>\n",
       "      <td>2130</td>\n",
       "      <td>310.0</td>\n",
       "      <td>2329.0</td>\n",
       "    </tr>\n",
       "  </tbody>\n",
       "</table>\n",
       "<p>858 rows × 10 columns</p>\n",
       "</div>"
      ],
      "text/plain": [
       "             fl_date op_unique_carrier tail_num  op_carrier_fl_num  \\\n",
       "20240     2018-04-03                WN   N8306H               1833   \n",
       "35656     2018-04-04                WN   N8563Z               1833   \n",
       "61654     2018-04-05                WN   N8647A               1833   \n",
       "80084     2018-04-06                WN   N8683D               1833   \n",
       "148279    2018-04-09                WN   N8526W               1833   \n",
       "...              ...               ...      ...                ...   \n",
       "15826566  2018-09-27                WN   N441WN               1833   \n",
       "15838195  2018-09-28                WN   N943WN               1833   \n",
       "15849389  2018-09-28                WN   N419WN               1833   \n",
       "15907659  2018-04-01                WN   N8677A               1833   \n",
       "15927480  2018-04-02                WN   N8632A               1833   \n",
       "\n",
       "          origin_airport_id  dest_airport_id  crs_dep_time  crs_arr_time  \\\n",
       "20240                 12892            10821          1320          2130   \n",
       "35656                 12892            10821          1320          2130   \n",
       "61654                 12892            10821          1320          2130   \n",
       "80084                 12892            10821          1320          2130   \n",
       "148279                13198            10397           940          1240   \n",
       "...                     ...              ...           ...           ...   \n",
       "15826566              12889            10140           850          1120   \n",
       "15838195              12889            10140           850          1120   \n",
       "15849389              11066            12889           655           810   \n",
       "15907659              12892            10821          1320          2130   \n",
       "15927480              12892            10821          1320          2130   \n",
       "\n",
       "          crs_elapsed_time  distance  \n",
       "20240                310.0    2329.0  \n",
       "35656                310.0    2329.0  \n",
       "61654                310.0    2329.0  \n",
       "80084                310.0    2329.0  \n",
       "148279               120.0     692.0  \n",
       "...                    ...       ...  \n",
       "15826566              90.0     486.0  \n",
       "15838195              90.0     486.0  \n",
       "15849389             255.0    1771.0  \n",
       "15907659             310.0    2329.0  \n",
       "15927480             310.0    2329.0  \n",
       "\n",
       "[858 rows x 10 columns]"
      ]
     },
     "execution_count": 96,
     "metadata": {},
     "output_type": "execute_result"
    }
   ],
   "source": [
    "# 'op_carrier_fl_num' and 'op_unique_carrier' identified unique flight\n",
    "df_train[(df_train['op_carrier_fl_num'] == 1833) & (df_train['op_unique_carrier']=='WN')]"
   ]
  },
  {
   "cell_type": "code",
   "execution_count": 71,
   "id": "93f3e380-f33c-49ef-bf15-1504e6592af0",
   "metadata": {},
   "outputs": [
    {
     "data": {
      "text/plain": [
       "fl_date               730\n",
       "op_unique_carrier      28\n",
       "tail_num             6487\n",
       "op_carrier_fl_num    7252\n",
       "origin_airport_id     376\n",
       "dest_airport_id       376\n",
       "crs_dep_time         1412\n",
       "crs_arr_time         1437\n",
       "crs_elapsed_time      693\n",
       "distance             1623\n",
       "dtype: int64"
      ]
     },
     "execution_count": 71,
     "metadata": {},
     "output_type": "execute_result"
    }
   ],
   "source": [
    "df_train.nunique()"
   ]
  },
  {
   "cell_type": "code",
   "execution_count": 90,
   "id": "dd4c6831-f654-4943-b748-ca70632d5dd1",
   "metadata": {},
   "outputs": [
    {
     "name": "stdout",
     "output_type": "stream",
     "text": [
      "<class 'pandas.core.frame.DataFrame'>\n",
      "RangeIndex: 15927485 entries, 0 to 15927484\n",
      "Data columns (total 10 columns):\n",
      " #   Column             Dtype  \n",
      "---  ------             -----  \n",
      " 0   fl_date            object \n",
      " 1   op_unique_carrier  object \n",
      " 2   tail_num           object \n",
      " 3   op_carrier_fl_num  int64  \n",
      " 4   origin_airport_id  int64  \n",
      " 5   dest_airport_id    int64  \n",
      " 6   crs_dep_time       int64  \n",
      " 7   crs_arr_time       int64  \n",
      " 8   crs_elapsed_time   float64\n",
      " 9   distance           float64\n",
      "dtypes: float64(2), int64(5), object(3)\n",
      "memory usage: 1.2+ GB\n"
     ]
    }
   ],
   "source": [
    "df_train.info()"
   ]
  },
  {
   "cell_type": "code",
   "execution_count": 100,
   "id": "389d0ded-1a93-41e2-a6b6-0b444301bd2e",
   "metadata": {},
   "outputs": [],
   "source": [
    "df_train2 = df_train.iloc[:1000000,:]"
   ]
  },
  {
   "cell_type": "code",
   "execution_count": 101,
   "id": "b39d5f55-383e-445b-8fd6-e23ee232485d",
   "metadata": {},
   "outputs": [
    {
     "name": "stdout",
     "output_type": "stream",
     "text": [
      "<class 'pandas.core.frame.DataFrame'>\n",
      "RangeIndex: 1000000 entries, 0 to 999999\n",
      "Data columns (total 19 columns):\n",
      " #   Column               Non-Null Count    Dtype  \n",
      "---  ------               --------------    -----  \n",
      " 0   fl_date              1000000 non-null  object \n",
      " 1   op_unique_carrier    1000000 non-null  object \n",
      " 2   tail_num             998428 non-null   object \n",
      " 3   op_carrier_fl_num    1000000 non-null  int64  \n",
      " 4   origin_airport_id    1000000 non-null  int64  \n",
      " 5   dest_airport_id      1000000 non-null  int64  \n",
      " 6   crs_dep_time         1000000 non-null  int64  \n",
      " 7   dep_delay            986911 non-null   float64\n",
      " 8   crs_arr_time         1000000 non-null  int64  \n",
      " 9   arr_delay            984307 non-null   float64\n",
      " 10  cancelled            1000000 non-null  float64\n",
      " 11  cancellation_code    12748 non-null    object \n",
      " 12  crs_elapsed_time     1000000 non-null  float64\n",
      " 13  distance             1000000 non-null  float64\n",
      " 14  carrier_delay        180344 non-null   float64\n",
      " 15  weather_delay        180344 non-null   float64\n",
      " 16  nas_delay            180344 non-null   float64\n",
      " 17  security_delay       180344 non-null   float64\n",
      " 18  late_aircraft_delay  180344 non-null   float64\n",
      "dtypes: float64(10), int64(5), object(4)\n",
      "memory usage: 145.0+ MB\n"
     ]
    }
   ],
   "source": [
    "df_train2.info()"
   ]
  },
  {
   "cell_type": "code",
   "execution_count": 102,
   "id": "6ad31471-15e7-48d7-aede-eb98a87e6262",
   "metadata": {},
   "outputs": [],
   "source": [
    "X_train, X_test = train_test_split(df, test_size=0.2) "
   ]
  },
  {
   "cell_type": "code",
   "execution_count": null,
   "id": "f923969b-e2c0-43f7-b9d4-d850241b827f",
   "metadata": {},
   "outputs": [],
   "source": [
    "y_test.to_csv('y_test')"
   ]
  },
  {
   "cell_type": "markdown",
   "id": "2fa280c4-af53-488a-91b2-9d4bfa7acea1",
   "metadata": {},
   "source": [
    "## Lable data with all delays, data preparation."
   ]
  },
  {
   "cell_type": "code",
   "execution_count": 66,
   "id": "939810b7-2ccd-4d8f-af0e-930052572839",
   "metadata": {},
   "outputs": [],
   "source": [
    "#df_lable['total_delay'] = df_lable['carrier_delay'] + df_lable['weather_delay'] + df_lable['nas_delay'] + df_lable['security_delay'] + df_lable['late_aircraft_delay'] + df_lable['arr_delay'] + df_lable['dep_delay']"
   ]
  },
  {
   "cell_type": "code",
   "execution_count": 59,
   "id": "97006b5a-ddbb-47d3-a2a4-4f612b00cdb5",
   "metadata": {},
   "outputs": [],
   "source": [
    "def is_delay(x):\n",
    "    '''\n",
    "    Generate a column to identify delay.\n",
    "    input : total_delay\n",
    "    output : bool 1 is delay, 0 is not.\n",
    "    '''\n",
    "    if x > 0:\n",
    "        return 1\n",
    "    else: \n",
    "        return 0"
   ]
  },
  {
   "cell_type": "code",
   "execution_count": 65,
   "id": "82dd09c8-fe01-4d7d-aaf2-0e6afd9e6167",
   "metadata": {},
   "outputs": [],
   "source": [
    "#df_lable['isdelay'] = df_lable['total_delay'].apply(is_delay)"
   ]
  },
  {
   "cell_type": "code",
   "execution_count": 64,
   "id": "cb94efc3-ee59-45da-8645-25a11d6f394c",
   "metadata": {},
   "outputs": [
    {
     "data": {
      "text/plain": [
       "0    12918338\n",
       "1     3009148\n",
       "Name: isdelay, dtype: int64"
      ]
     },
     "execution_count": 64,
     "metadata": {},
     "output_type": "execute_result"
    }
   ],
   "source": [
    "df_lable['isdelay'].value_counts()"
   ]
  },
  {
   "cell_type": "markdown",
   "id": "5f815983-3409-4311-be69-ec622fe2f92a",
   "metadata": {},
   "source": [
    "### Analyze outliners of arr_delay"
   ]
  },
  {
   "cell_type": "code",
   "execution_count": 69,
   "id": "85f79509-6dc8-464a-9555-a45d5006148f",
   "metadata": {},
   "outputs": [
    {
     "data": {
      "text/html": [
       "<div>\n",
       "<style scoped>\n",
       "    .dataframe tbody tr th:only-of-type {\n",
       "        vertical-align: middle;\n",
       "    }\n",
       "\n",
       "    .dataframe tbody tr th {\n",
       "        vertical-align: top;\n",
       "    }\n",
       "\n",
       "    .dataframe thead th {\n",
       "        text-align: right;\n",
       "    }\n",
       "</style>\n",
       "<table border=\"1\" class=\"dataframe\">\n",
       "  <thead>\n",
       "    <tr style=\"text-align: right;\">\n",
       "      <th></th>\n",
       "      <th>dep_delay</th>\n",
       "      <th>arr_delay</th>\n",
       "      <th>cancelled</th>\n",
       "      <th>carrier_delay</th>\n",
       "      <th>weather_delay</th>\n",
       "      <th>nas_delay</th>\n",
       "      <th>security_delay</th>\n",
       "      <th>late_aircraft_delay</th>\n",
       "      <th>total_delay</th>\n",
       "      <th>isdelay</th>\n",
       "    </tr>\n",
       "  </thead>\n",
       "  <tbody>\n",
       "    <tr>\n",
       "      <th>count</th>\n",
       "      <td>1.566373e+07</td>\n",
       "      <td>1.561574e+07</td>\n",
       "      <td>1.592748e+07</td>\n",
       "      <td>3.009484e+06</td>\n",
       "      <td>3.009484e+06</td>\n",
       "      <td>3.009484e+06</td>\n",
       "      <td>3.009484e+06</td>\n",
       "      <td>3.009484e+06</td>\n",
       "      <td>3.009149e+06</td>\n",
       "      <td>1.592749e+07</td>\n",
       "    </tr>\n",
       "    <tr>\n",
       "      <th>mean</th>\n",
       "      <td>1.054971e+01</td>\n",
       "      <td>5.475932e+00</td>\n",
       "      <td>1.690210e-02</td>\n",
       "      <td>2.037512e+01</td>\n",
       "      <td>3.674443e+00</td>\n",
       "      <td>1.623685e+01</td>\n",
       "      <td>8.853279e-02</td>\n",
       "      <td>2.729212e+01</td>\n",
       "      <td>1.983783e+02</td>\n",
       "      <td>1.889280e-01</td>\n",
       "    </tr>\n",
       "    <tr>\n",
       "      <th>std</th>\n",
       "      <td>4.780636e+01</td>\n",
       "      <td>4.987401e+01</td>\n",
       "      <td>1.289047e-01</td>\n",
       "      <td>6.320810e+01</td>\n",
       "      <td>3.111776e+01</td>\n",
       "      <td>3.775392e+01</td>\n",
       "      <td>3.135871e+00</td>\n",
       "      <td>5.334582e+01</td>\n",
       "      <td>2.627431e+02</td>\n",
       "      <td>3.914514e-01</td>\n",
       "    </tr>\n",
       "    <tr>\n",
       "      <th>min</th>\n",
       "      <td>-1.280000e+03</td>\n",
       "      <td>-1.290000e+03</td>\n",
       "      <td>0.000000e+00</td>\n",
       "      <td>0.000000e+00</td>\n",
       "      <td>0.000000e+00</td>\n",
       "      <td>0.000000e+00</td>\n",
       "      <td>0.000000e+00</td>\n",
       "      <td>0.000000e+00</td>\n",
       "      <td>-1.700000e+01</td>\n",
       "      <td>0.000000e+00</td>\n",
       "    </tr>\n",
       "    <tr>\n",
       "      <th>25%</th>\n",
       "      <td>-6.000000e+00</td>\n",
       "      <td>-1.500000e+01</td>\n",
       "      <td>0.000000e+00</td>\n",
       "      <td>0.000000e+00</td>\n",
       "      <td>0.000000e+00</td>\n",
       "      <td>0.000000e+00</td>\n",
       "      <td>0.000000e+00</td>\n",
       "      <td>0.000000e+00</td>\n",
       "      <td>6.700000e+01</td>\n",
       "      <td>0.000000e+00</td>\n",
       "    </tr>\n",
       "    <tr>\n",
       "      <th>50%</th>\n",
       "      <td>-2.000000e+00</td>\n",
       "      <td>-6.000000e+00</td>\n",
       "      <td>0.000000e+00</td>\n",
       "      <td>0.000000e+00</td>\n",
       "      <td>0.000000e+00</td>\n",
       "      <td>3.000000e+00</td>\n",
       "      <td>0.000000e+00</td>\n",
       "      <td>3.000000e+00</td>\n",
       "      <td>1.180000e+02</td>\n",
       "      <td>0.000000e+00</td>\n",
       "    </tr>\n",
       "    <tr>\n",
       "      <th>75%</th>\n",
       "      <td>7.000000e+00</td>\n",
       "      <td>8.000000e+00</td>\n",
       "      <td>0.000000e+00</td>\n",
       "      <td>1.700000e+01</td>\n",
       "      <td>0.000000e+00</td>\n",
       "      <td>2.000000e+01</td>\n",
       "      <td>0.000000e+00</td>\n",
       "      <td>3.300000e+01</td>\n",
       "      <td>2.330000e+02</td>\n",
       "      <td>0.000000e+00</td>\n",
       "    </tr>\n",
       "    <tr>\n",
       "      <th>max</th>\n",
       "      <td>2.976000e+03</td>\n",
       "      <td>2.973000e+03</td>\n",
       "      <td>1.000000e+00</td>\n",
       "      <td>2.973000e+03</td>\n",
       "      <td>2.900000e+03</td>\n",
       "      <td>1.848000e+03</td>\n",
       "      <td>1.078000e+03</td>\n",
       "      <td>2.962000e+03</td>\n",
       "      <td>8.922000e+03</td>\n",
       "      <td>1.000000e+00</td>\n",
       "    </tr>\n",
       "  </tbody>\n",
       "</table>\n",
       "</div>"
      ],
      "text/plain": [
       "          dep_delay     arr_delay     cancelled  carrier_delay  weather_delay  \\\n",
       "count  1.566373e+07  1.561574e+07  1.592748e+07   3.009484e+06   3.009484e+06   \n",
       "mean   1.054971e+01  5.475932e+00  1.690210e-02   2.037512e+01   3.674443e+00   \n",
       "std    4.780636e+01  4.987401e+01  1.289047e-01   6.320810e+01   3.111776e+01   \n",
       "min   -1.280000e+03 -1.290000e+03  0.000000e+00   0.000000e+00   0.000000e+00   \n",
       "25%   -6.000000e+00 -1.500000e+01  0.000000e+00   0.000000e+00   0.000000e+00   \n",
       "50%   -2.000000e+00 -6.000000e+00  0.000000e+00   0.000000e+00   0.000000e+00   \n",
       "75%    7.000000e+00  8.000000e+00  0.000000e+00   1.700000e+01   0.000000e+00   \n",
       "max    2.976000e+03  2.973000e+03  1.000000e+00   2.973000e+03   2.900000e+03   \n",
       "\n",
       "          nas_delay  security_delay  late_aircraft_delay   total_delay  \\\n",
       "count  3.009484e+06    3.009484e+06         3.009484e+06  3.009149e+06   \n",
       "mean   1.623685e+01    8.853279e-02         2.729212e+01  1.983783e+02   \n",
       "std    3.775392e+01    3.135871e+00         5.334582e+01  2.627431e+02   \n",
       "min    0.000000e+00    0.000000e+00         0.000000e+00 -1.700000e+01   \n",
       "25%    0.000000e+00    0.000000e+00         0.000000e+00  6.700000e+01   \n",
       "50%    3.000000e+00    0.000000e+00         3.000000e+00  1.180000e+02   \n",
       "75%    2.000000e+01    0.000000e+00         3.300000e+01  2.330000e+02   \n",
       "max    1.848000e+03    1.078000e+03         2.962000e+03  8.922000e+03   \n",
       "\n",
       "            isdelay  \n",
       "count  1.592749e+07  \n",
       "mean   1.889280e-01  \n",
       "std    3.914514e-01  \n",
       "min    0.000000e+00  \n",
       "25%    0.000000e+00  \n",
       "50%    0.000000e+00  \n",
       "75%    0.000000e+00  \n",
       "max    1.000000e+00  "
      ]
     },
     "execution_count": 69,
     "metadata": {},
     "output_type": "execute_result"
    }
   ],
   "source": [
    "df_lable.describe()"
   ]
  },
  {
   "cell_type": "code",
   "execution_count": 78,
   "id": "12be0cd1-d211-4bd5-8610-21a5000efd1d",
   "metadata": {},
   "outputs": [
    {
     "name": "stdout",
     "output_type": "stream",
     "text": [
      "-144.14610000000002 -84 155.0979 77\n"
     ]
    }
   ],
   "source": [
    "low_3st = 5.4759 - 49.874 * 3\n",
    "high_3st = 5.4759 + 49.874 * 3\n",
    "IQR = 8-(-15)\n",
    "low_15IQR = -15-IQR*3\n",
    "high_15IQR = 8 + IQR *3\n",
    "print(low_3st,low_15IQR,high_3st,high_15IQR)"
   ]
  },
  {
   "cell_type": "code",
   "execution_count": 79,
   "id": "76d830f1-273c-4904-bf9f-e7908d1958f7",
   "metadata": {},
   "outputs": [],
   "source": [
    "y = df_lable['arr_delay']"
   ]
  },
  {
   "cell_type": "code",
   "execution_count": 83,
   "id": "ee78b29f-22bf-4b1b-97af-c62fbbbba93a",
   "metadata": {},
   "outputs": [
    {
     "name": "stdout",
     "output_type": "stream",
     "text": [
      "253077 54 117\n"
     ]
    }
   ],
   "source": [
    "print(sum(y > high_3st),sum(y < low_3st), sum(y < low_15IQR))"
   ]
  },
  {
   "cell_type": "code",
   "execution_count": 89,
   "id": "44830005-ae3c-41c7-acd0-e79310d5239e",
   "metadata": {},
   "outputs": [
    {
     "data": {
      "text/plain": [
       "185328"
      ]
     },
     "execution_count": 89,
     "metadata": {},
     "output_type": "execute_result"
    }
   ],
   "source": [
    "sum(y>180)"
   ]
  },
  {
   "cell_type": "code",
   "execution_count": 85,
   "id": "f3611f95-cb03-4df9-bed3-f8d6b1f4ff96",
   "metadata": {},
   "outputs": [
    {
     "data": {
      "text/plain": [
       "(array([3.000000e+00, 5.000000e+00, 3.000000e+00, 7.000000e+00,\n",
       "        7.000000e+00, 2.500000e+01, 3.400000e+01, 4.700000e+01,\n",
       "        7.400000e+01, 8.800000e+01, 2.130000e+02, 3.600000e+02,\n",
       "        5.970000e+02, 6.410000e+02, 1.362000e+03, 2.346000e+03,\n",
       "        3.854000e+03, 6.594000e+03, 6.899000e+03, 1.628100e+04,\n",
       "        2.824600e+04, 4.861000e+04, 4.989000e+04, 1.162770e+05,\n",
       "        1.894140e+05, 3.021140e+05, 4.648000e+05, 4.259900e+05,\n",
       "        8.422520e+05, 1.095522e+06, 1.298239e+06, 9.209080e+05,\n",
       "        1.374668e+06, 1.255119e+06, 1.073661e+06, 8.848170e+05,\n",
       "        4.851640e+05, 6.047350e+05, 4.868690e+05, 3.955990e+05,\n",
       "        2.238200e+05, 2.877510e+05, 2.425310e+05, 2.067980e+05,\n",
       "        1.788400e+05, 1.054410e+05, 1.432280e+05, 1.261540e+05,\n",
       "        1.130550e+05, 6.869800e+04, 9.489000e+04, 8.588100e+04,\n",
       "        7.874200e+04, 7.171400e+04, 4.458500e+04, 6.266800e+04,\n",
       "        5.798700e+04, 5.371500e+04, 5.010400e+04, 3.137700e+04,\n",
       "        4.457600e+04, 4.184100e+04, 3.913500e+04, 2.475300e+04,\n",
       "        3.512800e+04, 3.295100e+04, 3.122000e+04, 2.915700e+04,\n",
       "        1.887000e+04, 2.684700e+04, 2.532300e+04, 2.384700e+04,\n",
       "        1.528800e+04, 2.211800e+04, 2.084400e+04, 2.014100e+04,\n",
       "        1.901300e+04, 1.209500e+04, 1.753400e+04, 1.672700e+04,\n",
       "        1.581500e+04, 1.006900e+04, 1.428800e+04, 1.389700e+04,\n",
       "        1.337000e+04, 1.258200e+04, 8.018000e+03, 1.166500e+04,\n",
       "        1.124200e+04, 1.058700e+04, 6.708000e+03, 9.855000e+03,\n",
       "        9.444000e+03, 9.002000e+03, 8.455000e+03, 5.514000e+03,\n",
       "        8.029000e+03, 7.493000e+03, 7.296000e+03, 6.939000e+03]),\n",
       " array([-99.  , -96.22, -93.44, -90.66, -87.88, -85.1 , -82.32, -79.54,\n",
       "        -76.76, -73.98, -71.2 , -68.42, -65.64, -62.86, -60.08, -57.3 ,\n",
       "        -54.52, -51.74, -48.96, -46.18, -43.4 , -40.62, -37.84, -35.06,\n",
       "        -32.28, -29.5 , -26.72, -23.94, -21.16, -18.38, -15.6 , -12.82,\n",
       "        -10.04,  -7.26,  -4.48,  -1.7 ,   1.08,   3.86,   6.64,   9.42,\n",
       "         12.2 ,  14.98,  17.76,  20.54,  23.32,  26.1 ,  28.88,  31.66,\n",
       "         34.44,  37.22,  40.  ,  42.78,  45.56,  48.34,  51.12,  53.9 ,\n",
       "         56.68,  59.46,  62.24,  65.02,  67.8 ,  70.58,  73.36,  76.14,\n",
       "         78.92,  81.7 ,  84.48,  87.26,  90.04,  92.82,  95.6 ,  98.38,\n",
       "        101.16, 103.94, 106.72, 109.5 , 112.28, 115.06, 117.84, 120.62,\n",
       "        123.4 , 126.18, 128.96, 131.74, 134.52, 137.3 , 140.08, 142.86,\n",
       "        145.64, 148.42, 151.2 , 153.98, 156.76, 159.54, 162.32, 165.1 ,\n",
       "        167.88, 170.66, 173.44, 176.22, 179.  ]),\n",
       " <BarContainer object of 100 artists>)"
      ]
     },
     "execution_count": 85,
     "metadata": {},
     "output_type": "execute_result"
    },
    {
     "data": {
      "image/png": "[encoded data removed]",
      "text/plain": [
       "<Figure size 432x288 with 1 Axes>"
      ]
     },
     "metadata": {
      "needs_background": "light"
     },
     "output_type": "display_data"
    }
   ],
   "source": [
    "plt.hist(y[(y<180) & (y>-100)],bins=100)"
   ]
  },
  {
   "cell_type": "markdown",
   "id": "56062879-2d0f-4f69-8392-4cd9fdd72a01",
   "metadata": {},
   "source": [
    "### Table **flights_test**\n",
    "\n",
    "total number of records: 660556\n",
    "total columns: 20\n",
    "fl_date: 2020-1-1 to 2020-01-31\n",
    "crs_elapsed_time mean : 144.95\n",
    "distance mean: 795\n"
   ]
  },
  {
   "cell_type": "code",
   "execution_count": 27,
   "id": "b091e1c8-2a02-48c1-ac0f-55cff87218fc",
   "metadata": {},
   "outputs": [],
   "source": [
    "sql = 'select * from flights_test limit 100'"
   ]
  },
  {
   "cell_type": "code",
   "execution_count": null,
   "id": "902d9766-c784-4e49-9794-5f435b943576",
   "metadata": {},
   "outputs": [],
   "source": []
  },
  {
   "cell_type": "code",
   "execution_count": 28,
   "id": "c5512b8d-e20a-4163-9133-f7da031180f7",
   "metadata": {},
   "outputs": [],
   "source": [
    "df_test = pd.read_sql(sql,con)"
   ]
  },
  {
   "cell_type": "code",
   "execution_count": 29,
   "id": "b75d1487-5a1f-43da-af58-a494afbdcf43",
   "metadata": {},
   "outputs": [
    {
     "name": "stdout",
     "output_type": "stream",
     "text": [
      "<class 'pandas.core.frame.DataFrame'>\n",
      "RangeIndex: 100 entries, 0 to 99\n",
      "Data columns (total 20 columns):\n",
      " #   Column              Non-Null Count  Dtype         \n",
      "---  ------              --------------  -----         \n",
      " 0   fl_date             100 non-null    datetime64[ns]\n",
      " 1   mkt_unique_carrier  100 non-null    object        \n",
      " 2   branded_code_share  100 non-null    object        \n",
      " 3   mkt_carrier         100 non-null    object        \n",
      " 4   mkt_carrier_fl_num  100 non-null    int64         \n",
      " 5   op_unique_carrier   100 non-null    object        \n",
      " 6   tail_num            100 non-null    object        \n",
      " 7   op_carrier_fl_num   100 non-null    int64         \n",
      " 8   origin_airport_id   100 non-null    int64         \n",
      " 9   origin              100 non-null    object        \n",
      " 10  origin_city_name    100 non-null    object        \n",
      " 11  dest_airport_id     100 non-null    int64         \n",
      " 12  dest                100 non-null    object        \n",
      " 13  dest_city_name      100 non-null    object        \n",
      " 14  crs_dep_time        100 non-null    int64         \n",
      " 15  crs_arr_time        100 non-null    int64         \n",
      " 16  dup                 100 non-null    object        \n",
      " 17  crs_elapsed_time    100 non-null    int64         \n",
      " 18  flights             100 non-null    int64         \n",
      " 19  distance            100 non-null    int64         \n",
      "dtypes: datetime64[ns](1), int64(9), object(10)\n",
      "memory usage: 15.8+ KB\n"
     ]
    }
   ],
   "source": [
    "df_test.info()"
   ]
  },
  {
   "cell_type": "code",
   "execution_count": 30,
   "id": "68c0b1b5-fa97-4ec1-a9e3-afefbf194773",
   "metadata": {},
   "outputs": [
    {
     "data": {
      "text/html": [
       "<div>\n",
       "<style scoped>\n",
       "    .dataframe tbody tr th:only-of-type {\n",
       "        vertical-align: middle;\n",
       "    }\n",
       "\n",
       "    .dataframe tbody tr th {\n",
       "        vertical-align: top;\n",
       "    }\n",
       "\n",
       "    .dataframe thead th {\n",
       "        text-align: right;\n",
       "    }\n",
       "</style>\n",
       "<table border=\"1\" class=\"dataframe\">\n",
       "  <thead>\n",
       "    <tr style=\"text-align: right;\">\n",
       "      <th></th>\n",
       "      <th>fl_date</th>\n",
       "      <th>mkt_unique_carrier</th>\n",
       "      <th>branded_code_share</th>\n",
       "      <th>mkt_carrier</th>\n",
       "      <th>mkt_carrier_fl_num</th>\n",
       "      <th>op_unique_carrier</th>\n",
       "      <th>tail_num</th>\n",
       "      <th>op_carrier_fl_num</th>\n",
       "      <th>origin_airport_id</th>\n",
       "      <th>origin</th>\n",
       "      <th>origin_city_name</th>\n",
       "      <th>dest_airport_id</th>\n",
       "      <th>dest</th>\n",
       "      <th>dest_city_name</th>\n",
       "      <th>crs_dep_time</th>\n",
       "      <th>crs_arr_time</th>\n",
       "      <th>dup</th>\n",
       "      <th>crs_elapsed_time</th>\n",
       "      <th>flights</th>\n",
       "      <th>distance</th>\n",
       "    </tr>\n",
       "  </thead>\n",
       "  <tbody>\n",
       "    <tr>\n",
       "      <th>0</th>\n",
       "      <td>2020-01-01</td>\n",
       "      <td>WN</td>\n",
       "      <td>WN</td>\n",
       "      <td>WN</td>\n",
       "      <td>5888</td>\n",
       "      <td>WN</td>\n",
       "      <td>N951WN</td>\n",
       "      <td>5888</td>\n",
       "      <td>13891</td>\n",
       "      <td>ONT</td>\n",
       "      <td>Ontario, CA</td>\n",
       "      <td>14771</td>\n",
       "      <td>SFO</td>\n",
       "      <td>San Francisco, CA</td>\n",
       "      <td>1810</td>\n",
       "      <td>1945</td>\n",
       "      <td>N</td>\n",
       "      <td>95</td>\n",
       "      <td>1</td>\n",
       "      <td>363</td>\n",
       "    </tr>\n",
       "    <tr>\n",
       "      <th>1</th>\n",
       "      <td>2020-01-01</td>\n",
       "      <td>WN</td>\n",
       "      <td>WN</td>\n",
       "      <td>WN</td>\n",
       "      <td>6276</td>\n",
       "      <td>WN</td>\n",
       "      <td>N467WN</td>\n",
       "      <td>6276</td>\n",
       "      <td>13891</td>\n",
       "      <td>ONT</td>\n",
       "      <td>Ontario, CA</td>\n",
       "      <td>14771</td>\n",
       "      <td>SFO</td>\n",
       "      <td>San Francisco, CA</td>\n",
       "      <td>1150</td>\n",
       "      <td>1320</td>\n",
       "      <td>N</td>\n",
       "      <td>90</td>\n",
       "      <td>1</td>\n",
       "      <td>363</td>\n",
       "    </tr>\n",
       "    <tr>\n",
       "      <th>2</th>\n",
       "      <td>2020-01-01</td>\n",
       "      <td>WN</td>\n",
       "      <td>WN</td>\n",
       "      <td>WN</td>\n",
       "      <td>4598</td>\n",
       "      <td>WN</td>\n",
       "      <td>N7885A</td>\n",
       "      <td>4598</td>\n",
       "      <td>13891</td>\n",
       "      <td>ONT</td>\n",
       "      <td>Ontario, CA</td>\n",
       "      <td>14831</td>\n",
       "      <td>SJC</td>\n",
       "      <td>San Jose, CA</td>\n",
       "      <td>2020</td>\n",
       "      <td>2130</td>\n",
       "      <td>N</td>\n",
       "      <td>70</td>\n",
       "      <td>1</td>\n",
       "      <td>333</td>\n",
       "    </tr>\n",
       "    <tr>\n",
       "      <th>3</th>\n",
       "      <td>2020-01-01</td>\n",
       "      <td>WN</td>\n",
       "      <td>WN</td>\n",
       "      <td>WN</td>\n",
       "      <td>4761</td>\n",
       "      <td>WN</td>\n",
       "      <td>N551WN</td>\n",
       "      <td>4761</td>\n",
       "      <td>13891</td>\n",
       "      <td>ONT</td>\n",
       "      <td>Ontario, CA</td>\n",
       "      <td>14831</td>\n",
       "      <td>SJC</td>\n",
       "      <td>San Jose, CA</td>\n",
       "      <td>1340</td>\n",
       "      <td>1455</td>\n",
       "      <td>N</td>\n",
       "      <td>75</td>\n",
       "      <td>1</td>\n",
       "      <td>333</td>\n",
       "    </tr>\n",
       "    <tr>\n",
       "      <th>4</th>\n",
       "      <td>2020-01-01</td>\n",
       "      <td>WN</td>\n",
       "      <td>WN</td>\n",
       "      <td>WN</td>\n",
       "      <td>5162</td>\n",
       "      <td>WN</td>\n",
       "      <td>N968WN</td>\n",
       "      <td>5162</td>\n",
       "      <td>13891</td>\n",
       "      <td>ONT</td>\n",
       "      <td>Ontario, CA</td>\n",
       "      <td>14831</td>\n",
       "      <td>SJC</td>\n",
       "      <td>San Jose, CA</td>\n",
       "      <td>915</td>\n",
       "      <td>1035</td>\n",
       "      <td>N</td>\n",
       "      <td>80</td>\n",
       "      <td>1</td>\n",
       "      <td>333</td>\n",
       "    </tr>\n",
       "  </tbody>\n",
       "</table>\n",
       "</div>"
      ],
      "text/plain": [
       "     fl_date mkt_unique_carrier branded_code_share mkt_carrier  \\\n",
       "0 2020-01-01                 WN                 WN          WN   \n",
       "1 2020-01-01                 WN                 WN          WN   \n",
       "2 2020-01-01                 WN                 WN          WN   \n",
       "3 2020-01-01                 WN                 WN          WN   \n",
       "4 2020-01-01                 WN                 WN          WN   \n",
       "\n",
       "   mkt_carrier_fl_num op_unique_carrier tail_num  op_carrier_fl_num  \\\n",
       "0                5888                WN   N951WN               5888   \n",
       "1                6276                WN   N467WN               6276   \n",
       "2                4598                WN   N7885A               4598   \n",
       "3                4761                WN   N551WN               4761   \n",
       "4                5162                WN   N968WN               5162   \n",
       "\n",
       "   origin_airport_id origin origin_city_name  dest_airport_id dest  \\\n",
       "0              13891    ONT      Ontario, CA            14771  SFO   \n",
       "1              13891    ONT      Ontario, CA            14771  SFO   \n",
       "2              13891    ONT      Ontario, CA            14831  SJC   \n",
       "3              13891    ONT      Ontario, CA            14831  SJC   \n",
       "4              13891    ONT      Ontario, CA            14831  SJC   \n",
       "\n",
       "      dest_city_name  crs_dep_time  crs_arr_time dup  crs_elapsed_time  \\\n",
       "0  San Francisco, CA          1810          1945   N                95   \n",
       "1  San Francisco, CA          1150          1320   N                90   \n",
       "2       San Jose, CA          2020          2130   N                70   \n",
       "3       San Jose, CA          1340          1455   N                75   \n",
       "4       San Jose, CA           915          1035   N                80   \n",
       "\n",
       "   flights  distance  \n",
       "0        1       363  \n",
       "1        1       363  \n",
       "2        1       333  \n",
       "3        1       333  \n",
       "4        1       333  "
      ]
     },
     "execution_count": 30,
     "metadata": {},
     "output_type": "execute_result"
    }
   ],
   "source": [
    "df_test"
   ]
  }
 ],
 "metadata": {
  "kernelspec": {
   "display_name": "Python 3 (ipykernel)",
   "language": "python",
   "name": "python3"
  },
  "language_info": {
   "codemirror_mode": {
    "name": "ipython",
    "version": 3
   },
   "file_extension": ".py",
   "mimetype": "text/x-python",
   "name": "python",
   "nbconvert_exporter": "python",
   "pygments_lexer": "ipython3",
   "version": "3.8.10"
  }
 },
 "nbformat": 4,
 "nbformat_minor": 5
}
