{
 "cells": [
  {
   "cell_type": "markdown",
   "id": "3b15cff4-4c72-4af7-923c-8932dd298f8f",
   "metadata": {},
   "source": [
    "!pip install psycopg2"
   ]
  },
  {
   "cell_type": "code",
   "execution_count": 14,
   "id": "d7d7a892-125f-46f4-8c26-13771cda9bb9",
   "metadata": {},
   "outputs": [],
   "source": [
    "import psycopg2\n",
    "import pandas as pd\n",
    "import APIkey"
   ]
  },
  {
   "cell_type": "code",
   "execution_count": 16,
   "id": "8925f464-d5a8-45d6-aaf0-77f7957160b6",
   "metadata": {},
   "outputs": [],
   "source": [
    "pwd = APIkey.progre_key[\"password\"]"
   ]
  },
  {
   "cell_type": "code",
   "execution_count": 17,
   "id": "1c31619f-8721-4ab7-9d59-f14f3c02c884",
   "metadata": {},
   "outputs": [],
   "source": [
    "con = psycopg2.connect(database=\"mid_term_project\", user=\"lhl_student\", password=pwd, host=\"mid-term-project.ca2jkepgjpne.us-east-2.rds.amazonaws.com\", port=\"5432\")"
   ]
  },
  {
   "cell_type": "code",
   "execution_count": 21,
   "id": "f625e261-477a-483a-a7e7-2fb5dbd0e746",
   "metadata": {},
   "outputs": [],
   "source": [
    "sql = 'select count(1) from flights'"
   ]
  },
  {
   "cell_type": "markdown",
   "id": "7d09dde6-19c1-4854-892a-63923a581162",
   "metadata": {},
   "source": [
    "### Facts about flights table\n",
    "total records : 15927485 \n",
    "\n",
    "total columns: 42"
   ]
  },
  {
   "cell_type": "code",
   "execution_count": 24,
   "id": "9a8a46f7-d42f-4d1a-99e9-4dbf6b8b8d61",
   "metadata": {},
   "outputs": [
    {
     "data": {
      "text/html": [
       "<div>\n",
       "<style scoped>\n",
       "    .dataframe tbody tr th:only-of-type {\n",
       "        vertical-align: middle;\n",
       "    }\n",
       "\n",
       "    .dataframe tbody tr th {\n",
       "        vertical-align: top;\n",
       "    }\n",
       "\n",
       "    .dataframe thead th {\n",
       "        text-align: right;\n",
       "    }\n",
       "</style>\n",
       "<table border=\"1\" class=\"dataframe\">\n",
       "  <thead>\n",
       "    <tr style=\"text-align: right;\">\n",
       "      <th></th>\n",
       "      <th>count</th>\n",
       "    </tr>\n",
       "  </thead>\n",
       "  <tbody>\n",
       "    <tr>\n",
       "      <th>0</th>\n",
       "      <td>15927485</td>\n",
       "    </tr>\n",
       "  </tbody>\n",
       "</table>\n",
       "</div>"
      ],
      "text/plain": [
       "      count\n",
       "0  15927485"
      ]
     },
     "execution_count": 24,
     "metadata": {},
     "output_type": "execute_result"
    }
   ],
   "source": [
    "flight_count"
   ]
  },
  {
   "cell_type": "code",
   "execution_count": 12,
   "id": "4dc45fe8-ce7c-4cb9-a37c-6f66731872f1",
   "metadata": {},
   "outputs": [],
   "source": [
    "df_flight = pd.read_sql_query(sql,con) "
   ]
  },
  {
   "cell_type": "code",
   "execution_count": 25,
   "id": "7b12f661-b256-4a6a-8e5c-abb8baafb205",
   "metadata": {},
   "outputs": [
    {
     "name": "stdout",
     "output_type": "stream",
     "text": [
      "<class 'pandas.core.frame.DataFrame'>\n",
      "RangeIndex: 100 entries, 0 to 99\n",
      "Data columns (total 42 columns):\n",
      " #   Column               Non-Null Count  Dtype  \n",
      "---  ------               --------------  -----  \n",
      " 0   fl_date              100 non-null    object \n",
      " 1   mkt_unique_carrier   100 non-null    object \n",
      " 2   branded_code_share   100 non-null    object \n",
      " 3   mkt_carrier          100 non-null    object \n",
      " 4   mkt_carrier_fl_num   100 non-null    int64  \n",
      " 5   op_unique_carrier    100 non-null    object \n",
      " 6   tail_num             100 non-null    object \n",
      " 7   op_carrier_fl_num    100 non-null    int64  \n",
      " 8   origin_airport_id    100 non-null    int64  \n",
      " 9   origin               100 non-null    object \n",
      " 10  origin_city_name     100 non-null    object \n",
      " 11  dest_airport_id      100 non-null    int64  \n",
      " 12  dest                 100 non-null    object \n",
      " 13  dest_city_name       100 non-null    object \n",
      " 14  crs_dep_time         100 non-null    int64  \n",
      " 15  dep_time             100 non-null    float64\n",
      " 16  dep_delay            100 non-null    float64\n",
      " 17  taxi_out             100 non-null    float64\n",
      " 18  wheels_off           100 non-null    float64\n",
      " 19  wheels_on            100 non-null    float64\n",
      " 20  taxi_in              100 non-null    float64\n",
      " 21  crs_arr_time         100 non-null    int64  \n",
      " 22  arr_time             100 non-null    float64\n",
      " 23  arr_delay            100 non-null    float64\n",
      " 24  cancelled            100 non-null    float64\n",
      " 25  cancellation_code    0 non-null      object \n",
      " 26  diverted             100 non-null    float64\n",
      " 27  dup                  100 non-null    object \n",
      " 28  crs_elapsed_time     100 non-null    float64\n",
      " 29  actual_elapsed_time  100 non-null    float64\n",
      " 30  air_time             100 non-null    float64\n",
      " 31  flights              100 non-null    float64\n",
      " 32  distance             100 non-null    float64\n",
      " 33  carrier_delay        22 non-null     float64\n",
      " 34  weather_delay        22 non-null     float64\n",
      " 35  nas_delay            22 non-null     float64\n",
      " 36  security_delay       22 non-null     float64\n",
      " 37  late_aircraft_delay  22 non-null     float64\n",
      " 38  first_dep_time       1 non-null      object \n",
      " 39  total_add_gtime      1 non-null      float64\n",
      " 40  longest_add_gtime    1 non-null      float64\n",
      " 41  no_name              0 non-null      object \n",
      "dtypes: float64(22), int64(6), object(14)\n",
      "memory usage: 32.9+ KB\n"
     ]
    }
   ],
   "source": [
    "df_flight.info()"
   ]
  },
  {
   "cell_type": "markdown",
   "id": "56062879-2d0f-4f69-8392-4cd9fdd72a01",
   "metadata": {},
   "source": [
    "### Table **flights_test**\n",
    "\n",
    "total number of records: 660556\n",
    "total columns: 20\n",
    "fl_date: 2020-1-1 to 2020-01-31\n",
    "crs_elapsed_time mean : 144.95\n",
    "distance mean: 795\n"
   ]
  },
  {
   "cell_type": "code",
   "execution_count": 27,
   "id": "b091e1c8-2a02-48c1-ac0f-55cff87218fc",
   "metadata": {},
   "outputs": [],
   "source": [
    "sql = 'select * from flights_test limit 100'"
   ]
  },
  {
   "cell_type": "code",
   "execution_count": null,
   "id": "902d9766-c784-4e49-9794-5f435b943576",
   "metadata": {},
   "outputs": [],
   "source": []
  },
  {
   "cell_type": "code",
   "execution_count": 28,
   "id": "c5512b8d-e20a-4163-9133-f7da031180f7",
   "metadata": {},
   "outputs": [],
   "source": [
    "df_test = pd.read_sql(sql,con)"
   ]
  },
  {
   "cell_type": "code",
   "execution_count": 29,
   "id": "b75d1487-5a1f-43da-af58-a494afbdcf43",
   "metadata": {},
   "outputs": [
    {
     "name": "stdout",
     "output_type": "stream",
     "text": [
      "<class 'pandas.core.frame.DataFrame'>\n",
      "RangeIndex: 100 entries, 0 to 99\n",
      "Data columns (total 20 columns):\n",
      " #   Column              Non-Null Count  Dtype         \n",
      "---  ------              --------------  -----         \n",
      " 0   fl_date             100 non-null    datetime64[ns]\n",
      " 1   mkt_unique_carrier  100 non-null    object        \n",
      " 2   branded_code_share  100 non-null    object        \n",
      " 3   mkt_carrier         100 non-null    object        \n",
      " 4   mkt_carrier_fl_num  100 non-null    int64         \n",
      " 5   op_unique_carrier   100 non-null    object        \n",
      " 6   tail_num            100 non-null    object        \n",
      " 7   op_carrier_fl_num   100 non-null    int64         \n",
      " 8   origin_airport_id   100 non-null    int64         \n",
      " 9   origin              100 non-null    object        \n",
      " 10  origin_city_name    100 non-null    object        \n",
      " 11  dest_airport_id     100 non-null    int64         \n",
      " 12  dest                100 non-null    object        \n",
      " 13  dest_city_name      100 non-null    object        \n",
      " 14  crs_dep_time        100 non-null    int64         \n",
      " 15  crs_arr_time        100 non-null    int64         \n",
      " 16  dup                 100 non-null    object        \n",
      " 17  crs_elapsed_time    100 non-null    int64         \n",
      " 18  flights             100 non-null    int64         \n",
      " 19  distance            100 non-null    int64         \n",
      "dtypes: datetime64[ns](1), int64(9), object(10)\n",
      "memory usage: 15.8+ KB\n"
     ]
    }
   ],
   "source": [
    "df_test.info()"
   ]
  },
  {
   "cell_type": "code",
   "execution_count": 30,
   "id": "68c0b1b5-fa97-4ec1-a9e3-afefbf194773",
   "metadata": {},
   "outputs": [
    {
     "data": {
      "text/html": [
       "<div>\n",
       "<style scoped>\n",
       "    .dataframe tbody tr th:only-of-type {\n",
       "        vertical-align: middle;\n",
       "    }\n",
       "\n",
       "    .dataframe tbody tr th {\n",
       "        vertical-align: top;\n",
       "    }\n",
       "\n",
       "    .dataframe thead th {\n",
       "        text-align: right;\n",
       "    }\n",
       "</style>\n",
       "<table border=\"1\" class=\"dataframe\">\n",
       "  <thead>\n",
       "    <tr style=\"text-align: right;\">\n",
       "      <th></th>\n",
       "      <th>fl_date</th>\n",
       "      <th>mkt_unique_carrier</th>\n",
       "      <th>branded_code_share</th>\n",
       "      <th>mkt_carrier</th>\n",
       "      <th>mkt_carrier_fl_num</th>\n",
       "      <th>op_unique_carrier</th>\n",
       "      <th>tail_num</th>\n",
       "      <th>op_carrier_fl_num</th>\n",
       "      <th>origin_airport_id</th>\n",
       "      <th>origin</th>\n",
       "      <th>origin_city_name</th>\n",
       "      <th>dest_airport_id</th>\n",
       "      <th>dest</th>\n",
       "      <th>dest_city_name</th>\n",
       "      <th>crs_dep_time</th>\n",
       "      <th>crs_arr_time</th>\n",
       "      <th>dup</th>\n",
       "      <th>crs_elapsed_time</th>\n",
       "      <th>flights</th>\n",
       "      <th>distance</th>\n",
       "    </tr>\n",
       "  </thead>\n",
       "  <tbody>\n",
       "    <tr>\n",
       "      <th>0</th>\n",
       "      <td>2020-01-01</td>\n",
       "      <td>WN</td>\n",
       "      <td>WN</td>\n",
       "      <td>WN</td>\n",
       "      <td>5888</td>\n",
       "      <td>WN</td>\n",
       "      <td>N951WN</td>\n",
       "      <td>5888</td>\n",
       "      <td>13891</td>\n",
       "      <td>ONT</td>\n",
       "      <td>Ontario, CA</td>\n",
       "      <td>14771</td>\n",
       "      <td>SFO</td>\n",
       "      <td>San Francisco, CA</td>\n",
       "      <td>1810</td>\n",
       "      <td>1945</td>\n",
       "      <td>N</td>\n",
       "      <td>95</td>\n",
       "      <td>1</td>\n",
       "      <td>363</td>\n",
       "    </tr>\n",
       "    <tr>\n",
       "      <th>1</th>\n",
       "      <td>2020-01-01</td>\n",
       "      <td>WN</td>\n",
       "      <td>WN</td>\n",
       "      <td>WN</td>\n",
       "      <td>6276</td>\n",
       "      <td>WN</td>\n",
       "      <td>N467WN</td>\n",
       "      <td>6276</td>\n",
       "      <td>13891</td>\n",
       "      <td>ONT</td>\n",
       "      <td>Ontario, CA</td>\n",
       "      <td>14771</td>\n",
       "      <td>SFO</td>\n",
       "      <td>San Francisco, CA</td>\n",
       "      <td>1150</td>\n",
       "      <td>1320</td>\n",
       "      <td>N</td>\n",
       "      <td>90</td>\n",
       "      <td>1</td>\n",
       "      <td>363</td>\n",
       "    </tr>\n",
       "    <tr>\n",
       "      <th>2</th>\n",
       "      <td>2020-01-01</td>\n",
       "      <td>WN</td>\n",
       "      <td>WN</td>\n",
       "      <td>WN</td>\n",
       "      <td>4598</td>\n",
       "      <td>WN</td>\n",
       "      <td>N7885A</td>\n",
       "      <td>4598</td>\n",
       "      <td>13891</td>\n",
       "      <td>ONT</td>\n",
       "      <td>Ontario, CA</td>\n",
       "      <td>14831</td>\n",
       "      <td>SJC</td>\n",
       "      <td>San Jose, CA</td>\n",
       "      <td>2020</td>\n",
       "      <td>2130</td>\n",
       "      <td>N</td>\n",
       "      <td>70</td>\n",
       "      <td>1</td>\n",
       "      <td>333</td>\n",
       "    </tr>\n",
       "    <tr>\n",
       "      <th>3</th>\n",
       "      <td>2020-01-01</td>\n",
       "      <td>WN</td>\n",
       "      <td>WN</td>\n",
       "      <td>WN</td>\n",
       "      <td>4761</td>\n",
       "      <td>WN</td>\n",
       "      <td>N551WN</td>\n",
       "      <td>4761</td>\n",
       "      <td>13891</td>\n",
       "      <td>ONT</td>\n",
       "      <td>Ontario, CA</td>\n",
       "      <td>14831</td>\n",
       "      <td>SJC</td>\n",
       "      <td>San Jose, CA</td>\n",
       "      <td>1340</td>\n",
       "      <td>1455</td>\n",
       "      <td>N</td>\n",
       "      <td>75</td>\n",
       "      <td>1</td>\n",
       "      <td>333</td>\n",
       "    </tr>\n",
       "    <tr>\n",
       "      <th>4</th>\n",
       "      <td>2020-01-01</td>\n",
       "      <td>WN</td>\n",
       "      <td>WN</td>\n",
       "      <td>WN</td>\n",
       "      <td>5162</td>\n",
       "      <td>WN</td>\n",
       "      <td>N968WN</td>\n",
       "      <td>5162</td>\n",
       "      <td>13891</td>\n",
       "      <td>ONT</td>\n",
       "      <td>Ontario, CA</td>\n",
       "      <td>14831</td>\n",
       "      <td>SJC</td>\n",
       "      <td>San Jose, CA</td>\n",
       "      <td>915</td>\n",
       "      <td>1035</td>\n",
       "      <td>N</td>\n",
       "      <td>80</td>\n",
       "      <td>1</td>\n",
       "      <td>333</td>\n",
       "    </tr>\n",
       "  </tbody>\n",
       "</table>\n",
       "</div>"
      ],
      "text/plain": [
       "     fl_date mkt_unique_carrier branded_code_share mkt_carrier  \\\n",
       "0 2020-01-01                 WN                 WN          WN   \n",
       "1 2020-01-01                 WN                 WN          WN   \n",
       "2 2020-01-01                 WN                 WN          WN   \n",
       "3 2020-01-01                 WN                 WN          WN   \n",
       "4 2020-01-01                 WN                 WN          WN   \n",
       "\n",
       "   mkt_carrier_fl_num op_unique_carrier tail_num  op_carrier_fl_num  \\\n",
       "0                5888                WN   N951WN               5888   \n",
       "1                6276                WN   N467WN               6276   \n",
       "2                4598                WN   N7885A               4598   \n",
       "3                4761                WN   N551WN               4761   \n",
       "4                5162                WN   N968WN               5162   \n",
       "\n",
       "   origin_airport_id origin origin_city_name  dest_airport_id dest  \\\n",
       "0              13891    ONT      Ontario, CA            14771  SFO   \n",
       "1              13891    ONT      Ontario, CA            14771  SFO   \n",
       "2              13891    ONT      Ontario, CA            14831  SJC   \n",
       "3              13891    ONT      Ontario, CA            14831  SJC   \n",
       "4              13891    ONT      Ontario, CA            14831  SJC   \n",
       "\n",
       "      dest_city_name  crs_dep_time  crs_arr_time dup  crs_elapsed_time  \\\n",
       "0  San Francisco, CA          1810          1945   N                95   \n",
       "1  San Francisco, CA          1150          1320   N                90   \n",
       "2       San Jose, CA          2020          2130   N                70   \n",
       "3       San Jose, CA          1340          1455   N                75   \n",
       "4       San Jose, CA           915          1035   N                80   \n",
       "\n",
       "   flights  distance  \n",
       "0        1       363  \n",
       "1        1       363  \n",
       "2        1       333  \n",
       "3        1       333  \n",
       "4        1       333  "
      ]
     },
     "execution_count": 30,
     "metadata": {},
     "output_type": "execute_result"
    }
   ],
   "source": [
    "df_test"
   ]
  }
 ],
 "metadata": {
  "kernelspec": {
   "display_name": "Python 3 (ipykernel)",
   "language": "python",
   "name": "python3"
  },
  "language_info": {
   "codemirror_mode": {
    "name": "ipython",
    "version": 3
   },
   "file_extension": ".py",
   "mimetype": "text/x-python",
   "name": "python",
   "nbconvert_exporter": "python",
   "pygments_lexer": "ipython3",
   "version": "3.8.10"
  }
 },
 "nbformat": 4,
 "nbformat_minor": 5
}
