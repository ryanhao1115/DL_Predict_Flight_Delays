{
 "cells": [
  {
   "cell_type": "markdown",
   "id": "3b15cff4-4c72-4af7-923c-8932dd298f8f",
   "metadata": {},
   "source": [
    "!pip install psycopg2"
   ]
  },
  {
   "cell_type": "code",
   "execution_count": 14,
   "id": "d7d7a892-125f-46f4-8c26-13771cda9bb9",
   "metadata": {},
   "outputs": [],
   "source": [
    "import psycopg2\n",
    "import pandas as pd\n",
    "import APIkey"
   ]
  },
  {
   "cell_type": "code",
   "execution_count": 16,
   "id": "8925f464-d5a8-45d6-aaf0-77f7957160b6",
   "metadata": {},
   "outputs": [],
   "source": [
    "pwd = APIkey.progre_key[\"password\"]"
   ]
  },
  {
   "cell_type": "code",
   "execution_count": 17,
   "id": "1c31619f-8721-4ab7-9d59-f14f3c02c884",
   "metadata": {},
   "outputs": [],
   "source": [
    "con = psycopg2.connect(database=\"mid_term_project\", user=\"lhl_student\", password=pwd, host=\"mid-term-project.ca2jkepgjpne.us-east-2.rds.amazonaws.com\", port=\"5432\")"
   ]
  },
  {
   "cell_type": "code",
   "execution_count": 21,
   "id": "f625e261-477a-483a-a7e7-2fb5dbd0e746",
   "metadata": {},
   "outputs": [],
   "source": [
    "sql = 'select count(1) from flights'"
   ]
  },
  {
   "cell_type": "code",
   "execution_count": 22,
   "id": "e8b64adf-3ee7-4f5c-947f-d9ad8c3a79b9",
   "metadata": {},
   "outputs": [],
   "source": [
    "flight_count = pd.read_sql_query(sql,con) "
   ]
  },
  {
   "cell_type": "code",
   "execution_count": 24,
   "id": "9a8a46f7-d42f-4d1a-99e9-4dbf6b8b8d61",
   "metadata": {},
   "outputs": [
    {
     "data": {
      "text/html": [
       "<div>\n",
       "<style scoped>\n",
       "    .dataframe tbody tr th:only-of-type {\n",
       "        vertical-align: middle;\n",
       "    }\n",
       "\n",
       "    .dataframe tbody tr th {\n",
       "        vertical-align: top;\n",
       "    }\n",
       "\n",
       "    .dataframe thead th {\n",
       "        text-align: right;\n",
       "    }\n",
       "</style>\n",
       "<table border=\"1\" class=\"dataframe\">\n",
       "  <thead>\n",
       "    <tr style=\"text-align: right;\">\n",
       "      <th></th>\n",
       "      <th>count</th>\n",
       "    </tr>\n",
       "  </thead>\n",
       "  <tbody>\n",
       "    <tr>\n",
       "      <th>0</th>\n",
       "      <td>15927485</td>\n",
       "    </tr>\n",
       "  </tbody>\n",
       "</table>\n",
       "</div>"
      ],
      "text/plain": [
       "      count\n",
       "0  15927485"
      ]
     },
     "execution_count": 24,
     "metadata": {},
     "output_type": "execute_result"
    }
   ],
   "source": [
    "flight_count"
   ]
  },
  {
   "cell_type": "code",
   "execution_count": 12,
   "id": "4dc45fe8-ce7c-4cb9-a37c-6f66731872f1",
   "metadata": {},
   "outputs": [],
   "source": [
    "df_flight = pd.read_sql_query(sql,con) "
   ]
  },
  {
   "cell_type": "code",
   "execution_count": 25,
   "id": "7b12f661-b256-4a6a-8e5c-abb8baafb205",
   "metadata": {},
   "outputs": [
    {
     "name": "stdout",
     "output_type": "stream",
     "text": [
      "<class 'pandas.core.frame.DataFrame'>\n",
      "RangeIndex: 100 entries, 0 to 99\n",
      "Data columns (total 42 columns):\n",
      " #   Column               Non-Null Count  Dtype  \n",
      "---  ------               --------------  -----  \n",
      " 0   fl_date              100 non-null    object \n",
      " 1   mkt_unique_carrier   100 non-null    object \n",
      " 2   branded_code_share   100 non-null    object \n",
      " 3   mkt_carrier          100 non-null    object \n",
      " 4   mkt_carrier_fl_num   100 non-null    int64  \n",
      " 5   op_unique_carrier    100 non-null    object \n",
      " 6   tail_num             100 non-null    object \n",
      " 7   op_carrier_fl_num    100 non-null    int64  \n",
      " 8   origin_airport_id    100 non-null    int64  \n",
      " 9   origin               100 non-null    object \n",
      " 10  origin_city_name     100 non-null    object \n",
      " 11  dest_airport_id      100 non-null    int64  \n",
      " 12  dest                 100 non-null    object \n",
      " 13  dest_city_name       100 non-null    object \n",
      " 14  crs_dep_time         100 non-null    int64  \n",
      " 15  dep_time             100 non-null    float64\n",
      " 16  dep_delay            100 non-null    float64\n",
      " 17  taxi_out             100 non-null    float64\n",
      " 18  wheels_off           100 non-null    float64\n",
      " 19  wheels_on            100 non-null    float64\n",
      " 20  taxi_in              100 non-null    float64\n",
      " 21  crs_arr_time         100 non-null    int64  \n",
      " 22  arr_time             100 non-null    float64\n",
      " 23  arr_delay            100 non-null    float64\n",
      " 24  cancelled            100 non-null    float64\n",
      " 25  cancellation_code    0 non-null      object \n",
      " 26  diverted             100 non-null    float64\n",
      " 27  dup                  100 non-null    object \n",
      " 28  crs_elapsed_time     100 non-null    float64\n",
      " 29  actual_elapsed_time  100 non-null    float64\n",
      " 30  air_time             100 non-null    float64\n",
      " 31  flights              100 non-null    float64\n",
      " 32  distance             100 non-null    float64\n",
      " 33  carrier_delay        22 non-null     float64\n",
      " 34  weather_delay        22 non-null     float64\n",
      " 35  nas_delay            22 non-null     float64\n",
      " 36  security_delay       22 non-null     float64\n",
      " 37  late_aircraft_delay  22 non-null     float64\n",
      " 38  first_dep_time       1 non-null      object \n",
      " 39  total_add_gtime      1 non-null      float64\n",
      " 40  longest_add_gtime    1 non-null      float64\n",
      " 41  no_name              0 non-null      object \n",
      "dtypes: float64(22), int64(6), object(14)\n",
      "memory usage: 32.9+ KB\n"
     ]
    }
   ],
   "source": [
    "df_flight.info()"
   ]
  }
 ],
 "metadata": {
  "kernelspec": {
   "display_name": "Python 3 (ipykernel)",
   "language": "python",
   "name": "python3"
  },
  "language_info": {
   "codemirror_mode": {
    "name": "ipython",
    "version": 3
   },
   "file_extension": ".py",
   "mimetype": "text/x-python",
   "name": "python",
   "nbconvert_exporter": "python",
   "pygments_lexer": "ipython3",
   "version": "3.8.10"
  }
 },
 "nbformat": 4,
 "nbformat_minor": 5
}
