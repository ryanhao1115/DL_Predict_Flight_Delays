{
 "cells": [
  {
   "cell_type": "code",
   "execution_count": 206,
   "id": "c5dcdeed-98af-473e-b0e0-96e77506bcff",
   "metadata": {},
   "outputs": [],
   "source": [
    "import pandas as pd\n",
    "import numpy as np\n",
    "from datetime import datetime\n",
    "import holidays\n",
    "from sklearn.model_selection import train_test_split\n",
    "from sklearn.model_selection import GridSearchCV\n",
    "from sklearn.linear_model import LinearRegression,ElasticNet\n",
    "from sklearn.preprocessing import StandardScaler"
   ]
  },
  {
   "cell_type": "code",
   "execution_count": 70,
   "id": "c43f3d9a-05b2-4fae-b481-c379e0c31e18",
   "metadata": {},
   "outputs": [
    {
     "name": "stderr",
     "output_type": "stream",
     "text": [
      "D:\\big data\\anaconda3\\envs\\LH\\lib\\site-packages\\IPython\\core\\interactiveshell.py:3441: DtypeWarning: Columns (12) have mixed types.Specify dtype option on import or set low_memory=False.\n",
      "  exec(code_obj, self.user_global_ns, self.user_ns)\n"
     ]
    }
   ],
   "source": [
    "df = pd.read_csv('flights')"
   ]
  },
  {
   "cell_type": "code",
   "execution_count": 149,
   "id": "8b3e0402-56c7-4aa0-a2f0-1d93f99b4edd",
   "metadata": {},
   "outputs": [
    {
     "data": {
      "text/plain": [
       "Unnamed: 0                    0\n",
       "fl_date                       0\n",
       "op_unique_carrier             0\n",
       "tail_num                  49269\n",
       "op_carrier_fl_num             0\n",
       "origin_airport_id             0\n",
       "dest_airport_id               0\n",
       "crs_dep_time                  0\n",
       "dep_delay                263754\n",
       "crs_arr_time                  0\n",
       "arr_delay                311744\n",
       "cancelled                     0\n",
       "cancellation_code      15658277\n",
       "crs_elapsed_time             20\n",
       "distance                      0\n",
       "carrier_delay          12918001\n",
       "weather_delay          12918001\n",
       "nas_delay              12918001\n",
       "security_delay         12918001\n",
       "late_aircraft_delay    12918001\n",
       "dtype: int64"
      ]
     },
     "execution_count": 149,
     "metadata": {},
     "output_type": "execute_result"
    }
   ],
   "source": [
    "df.isnull().sum()"
   ]
  },
  {
   "cell_type": "code",
   "execution_count": 114,
   "id": "fa1a4c87-8866-4675-b0c0-52a6e438fb46",
   "metadata": {},
   "outputs": [
    {
     "data": {
      "text/plain": [
       "156"
      ]
     },
     "execution_count": 114,
     "metadata": {},
     "output_type": "execute_result"
    }
   ],
   "source": [
    "sum(df['arr_delay'] < -80)"
   ]
  },
  {
   "cell_type": "code",
   "execution_count": 91,
   "id": "2172eb71-ed83-4e7a-a8d0-5c4b7e1886d4",
   "metadata": {},
   "outputs": [
    {
     "name": "stdout",
     "output_type": "stream",
     "text": [
      "<class 'pandas.core.frame.DataFrame'>\n",
      "Index: 0 entries\n",
      "Data columns (total 1 columns):\n",
      " #   Column  Non-Null Count  Dtype \n",
      "---  ------  --------------  ----- \n",
      " 0   target  0 non-null      object\n",
      "dtypes: object(1)\n",
      "memory usage: 0.0+ bytes\n"
     ]
    }
   ],
   "source": [
    "y.info()"
   ]
  },
  {
   "cell_type": "code",
   "execution_count": 73,
   "id": "83ede440-5c94-4098-bda8-86c49f5c2cf2",
   "metadata": {},
   "outputs": [],
   "source": [
    "df_train = df[['fl_date','op_unique_carrier','tail_num','op_carrier_fl_num','origin_airport_id','dest_airport_id','crs_dep_time','crs_arr_time','crs_elapsed_time','distance']]"
   ]
  },
  {
   "cell_type": "code",
   "execution_count": 92,
   "id": "bfad6e56-a4a7-464b-8f5d-8b21b275d945",
   "metadata": {},
   "outputs": [],
   "source": [
    "y = df['arr_delay']"
   ]
  },
  {
   "cell_type": "code",
   "execution_count": 140,
   "id": "8ef50cd6-f514-472d-b488-21f6dd575e80",
   "metadata": {},
   "outputs": [],
   "source": [
    "X_train, X_test = train_test_split(df, test_size=0.2) "
   ]
  },
  {
   "cell_type": "code",
   "execution_count": 145,
   "id": "66edfbf0-b989-4204-8c04-118f4070e6b7",
   "metadata": {},
   "outputs": [],
   "source": [
    "df_train = X_train[['fl_date','op_unique_carrier','op_carrier_fl_num','arr_delay']]"
   ]
  },
  {
   "cell_type": "code",
   "execution_count": 178,
   "id": "0db535dc-e23a-416d-97cd-d2922f9f2032",
   "metadata": {},
   "outputs": [
    {
     "name": "stdout",
     "output_type": "stream",
     "text": [
      "<class 'pandas.core.frame.DataFrame'>\n",
      "Int64Index: 12591836 entries, 11774876 to 5066841\n",
      "Data columns (total 3 columns):\n",
      " #   Column     Dtype  \n",
      "---  ------     -----  \n",
      " 0   fl_date    object \n",
      " 1   arr_delay  float64\n",
      " 2   uni_fl     float64\n",
      "dtypes: float64(2), object(1)\n",
      "memory usage: 384.3+ MB\n"
     ]
    }
   ],
   "source": [
    "df_train.info()"
   ]
  },
  {
   "cell_type": "code",
   "execution_count": 187,
   "id": "80ed6e49-172a-49ca-8ba2-6e203143d407",
   "metadata": {},
   "outputs": [
    {
     "name": "stdout",
     "output_type": "stream",
     "text": [
      "<class 'pandas.core.frame.DataFrame'>\n",
      "Int64Index: 12591836 entries, 11774876 to 5066841\n",
      "Data columns (total 4 columns):\n",
      " #   Column       Dtype  \n",
      "---  ------       -----  \n",
      " 0   uni_fl       float64\n",
      " 1   month        object \n",
      " 2   day_of_week  int64  \n",
      " 3   is_holiday   int64  \n",
      "dtypes: float64(1), int64(2), object(1)\n",
      "memory usage: 480.3+ MB\n"
     ]
    }
   ],
   "source": [
    "df_train.info()"
   ]
  },
  {
   "cell_type": "code",
   "execution_count": 184,
   "id": "7c171223-a439-468e-8bbb-ee97ce8befdd",
   "metadata": {},
   "outputs": [
    {
     "data": {
      "text/plain": [
       "is_holiday\n",
       "0    1.740948\n",
       "1    1.362521\n",
       "Name: arr_delay, dtype: float64"
      ]
     },
     "execution_count": 184,
     "metadata": {},
     "output_type": "execute_result"
    }
   ],
   "source": [
    "df_train.groupby('is_holiday')['arr_delay'].mean()"
   ]
  },
  {
   "cell_type": "code",
   "execution_count": 177,
   "id": "84bda9ba-fd16-478e-bb32-9c314edb3047",
   "metadata": {},
   "outputs": [],
   "source": [
    "unifl_target_mean.to_csv('unifl_target_mean')"
   ]
  },
  {
   "cell_type": "code",
   "execution_count": 188,
   "id": "40509b4c-df0d-429f-a5ad-eb485a0a6483",
   "metadata": {},
   "outputs": [
    {
     "name": "stderr",
     "output_type": "stream",
     "text": [
      "D:\\big data\\anaconda3\\envs\\LH\\lib\\site-packages\\pandas\\core\\generic.py:6392: SettingWithCopyWarning: \n",
      "A value is trying to be set on a copy of a slice from a DataFrame\n",
      "\n",
      "See the caveats in the documentation: https://pandas.pydata.org/pandas-docs/stable/user_guide/indexing.html#returning-a-view-versus-a-copy\n",
      "  return self._update_inplace(result)\n"
     ]
    }
   ],
   "source": [
    "#choose set of features\n",
    "df_train = X_train[['fl_date','op_unique_carrier','op_carrier_fl_num','arr_delay']]\n",
    "\n",
    "# after test data, arr_delay should be 0. \n",
    "df_train['arr_delay'].fillna(0,inplace=True)\n",
    "\n",
    "#remove outliner\n",
    "df_train = df_train[(df_train['arr_delay'] > -80) & (df_train['arr_delay'] < 180)] \n",
    "\n",
    "#combine features\n",
    "def combine_str_num(x,y):\n",
    "    return x + str(y)\n",
    "df_train['uni_fl'] = np.vectorize(combine_str_num)(df_train['op_unique_carrier'],df_train['op_carrier_fl_num'])\n",
    "df_train.drop(columns=['op_unique_carrier','op_carrier_fl_num'],inplace=True)\n",
    "\n",
    "# feature coding\n",
    "unifl_target_mean = df_train.groupby(['uni_fl'])['arr_delay'].mean()\n",
    "df_train['uni_fl'] = df_train['uni_fl'].map(unifl_target_mean)"
   ]
  },
  {
   "cell_type": "code",
   "execution_count": 189,
   "id": "80a50424-3d80-44a1-9fd7-71895e4bbf3c",
   "metadata": {},
   "outputs": [],
   "source": [
    "#transform fl_date\n",
    "def getmonth(x):\n",
    "    return x.split(sep='-')[1]\n",
    "df_train['month'] = df_train['fl_date'].apply(getmonth)\n",
    "\n",
    "def getdayofweek(x):\n",
    "    year_s, mon_s, day_s = x.split('-')\n",
    "    fl_d = datetime(int(year_s), int(mon_s), int(day_s))\n",
    "    return fl_d.weekday()\n",
    "df_train['day_of_week'] = df_train['fl_date'].apply(getdayofweek)\n",
    "\n",
    "us_holidays = holidays.UnitedStates()\n",
    "def isholiday(x):\n",
    "    year_s, mon_s, day_s = x.split('-')\n",
    "    if datetime(int(year_s), int(mon_s), int(day_s)) in us_holidays:\n",
    "        return 1\n",
    "    else:\n",
    "        return 0\n",
    "df_train['is_holiday'] = df_train['fl_date'].apply(isholiday)\n",
    "\n",
    "y_train = df_train['arr_delay']\n",
    "\n",
    "df_train = df_train.drop(columns=['fl_date','arr_delay'])\n",
    "\n",
    "df_train = pd.get_dummies(df_train,columns=['month','day_of_week'])"
   ]
  },
  {
   "cell_type": "code",
   "execution_count": 208,
   "id": "2f32a931-0a71-409e-89bb-fc2aeafe67e5",
   "metadata": {},
   "outputs": [],
   "source": [
    "scaler = StandardScaler()"
   ]
  },
  {
   "cell_type": "code",
   "execution_count": 209,
   "id": "f6c57fde-550a-46cd-9f23-e7cb6ebc5eee",
   "metadata": {},
   "outputs": [],
   "source": [
    "X = scaler.fit_transform(df_train)"
   ]
  },
  {
   "cell_type": "code",
   "execution_count": 1,
   "id": "93c61b7c-29f9-42dc-8abb-e12ca2a2284a",
   "metadata": {},
   "outputs": [
    {
     "ename": "NameError",
     "evalue": "name 'X' is not defined",
     "output_type": "error",
     "traceback": [
      "\u001b[1;31m---------------------------------------------------------------------------\u001b[0m",
      "\u001b[1;31mNameError\u001b[0m                                 Traceback (most recent call last)",
      "\u001b[1;32m~\\AppData\\Local\\Temp/ipykernel_14488/2016476978.py\u001b[0m in \u001b[0;36m<module>\u001b[1;34m\u001b[0m\n\u001b[1;32m----> 1\u001b[1;33m \u001b[0mX\u001b[0m\u001b[1;33m.\u001b[0m\u001b[0mshape\u001b[0m\u001b[1;33m\u001b[0m\u001b[1;33m\u001b[0m\u001b[0m\n\u001b[0m",
      "\u001b[1;31mNameError\u001b[0m: name 'X' is not defined"
     ]
    }
   ],
   "source": [
    "X.shape"
   ]
  },
  {
   "cell_type": "code",
   "execution_count": 190,
   "id": "5e8b85f4-f943-49b3-9411-b60fdb22a477",
   "metadata": {},
   "outputs": [],
   "source": [
    "y_train = df_train['arr_delay']"
   ]
  },
  {
   "cell_type": "code",
   "execution_count": 207,
   "id": "6c5f3e7f-fa94-4f98-8c4d-fcc5397db696",
   "metadata": {},
   "outputs": [
    {
     "name": "stdout",
     "output_type": "stream",
     "text": [
      "<class 'pandas.core.frame.DataFrame'>\n",
      "Int64Index: 12591836 entries, 11774876 to 5066841\n",
      "Data columns (total 21 columns):\n",
      " #   Column         Dtype  \n",
      "---  ------         -----  \n",
      " 0   uni_fl         float64\n",
      " 1   is_holiday     int64  \n",
      " 2   month_01       uint8  \n",
      " 3   month_02       uint8  \n",
      " 4   month_03       uint8  \n",
      " 5   month_04       uint8  \n",
      " 6   month_05       uint8  \n",
      " 7   month_06       uint8  \n",
      " 8   month_07       uint8  \n",
      " 9   month_08       uint8  \n",
      " 10  month_09       uint8  \n",
      " 11  month_10       uint8  \n",
      " 12  month_11       uint8  \n",
      " 13  month_12       uint8  \n",
      " 14  day_of_week_0  uint8  \n",
      " 15  day_of_week_1  uint8  \n",
      " 16  day_of_week_2  uint8  \n",
      " 17  day_of_week_3  uint8  \n",
      " 18  day_of_week_4  uint8  \n",
      " 19  day_of_week_5  uint8  \n",
      " 20  day_of_week_6  uint8  \n",
      "dtypes: float64(1), int64(1), uint8(19)\n",
      "memory usage: 516.4 MB\n"
     ]
    }
   ],
   "source": [
    "df_train.info()"
   ]
  },
  {
   "cell_type": "code",
   "execution_count": 197,
   "id": "3bf7f542-4f7b-4729-a520-2694ac2c2276",
   "metadata": {},
   "outputs": [
    {
     "data": {
      "text/html": [
       "<div>\n",
       "<style scoped>\n",
       "    .dataframe tbody tr th:only-of-type {\n",
       "        vertical-align: middle;\n",
       "    }\n",
       "\n",
       "    .dataframe tbody tr th {\n",
       "        vertical-align: top;\n",
       "    }\n",
       "\n",
       "    .dataframe thead th {\n",
       "        text-align: right;\n",
       "    }\n",
       "</style>\n",
       "<table border=\"1\" class=\"dataframe\">\n",
       "  <thead>\n",
       "    <tr style=\"text-align: right;\">\n",
       "      <th></th>\n",
       "      <th>uni_fl</th>\n",
       "      <th>is_holiday</th>\n",
       "      <th>month_01</th>\n",
       "      <th>month_02</th>\n",
       "      <th>month_03</th>\n",
       "      <th>month_04</th>\n",
       "      <th>month_05</th>\n",
       "      <th>month_06</th>\n",
       "      <th>month_07</th>\n",
       "      <th>month_08</th>\n",
       "      <th>...</th>\n",
       "      <th>month_10</th>\n",
       "      <th>month_11</th>\n",
       "      <th>month_12</th>\n",
       "      <th>day_of_week_0</th>\n",
       "      <th>day_of_week_1</th>\n",
       "      <th>day_of_week_2</th>\n",
       "      <th>day_of_week_3</th>\n",
       "      <th>day_of_week_4</th>\n",
       "      <th>day_of_week_5</th>\n",
       "      <th>day_of_week_6</th>\n",
       "    </tr>\n",
       "  </thead>\n",
       "  <tbody>\n",
       "    <tr>\n",
       "      <th>11774876</th>\n",
       "      <td>4.592269</td>\n",
       "      <td>0</td>\n",
       "      <td>0</td>\n",
       "      <td>0</td>\n",
       "      <td>0</td>\n",
       "      <td>0</td>\n",
       "      <td>0</td>\n",
       "      <td>0</td>\n",
       "      <td>0</td>\n",
       "      <td>0</td>\n",
       "      <td>...</td>\n",
       "      <td>1</td>\n",
       "      <td>0</td>\n",
       "      <td>0</td>\n",
       "      <td>0</td>\n",
       "      <td>0</td>\n",
       "      <td>0</td>\n",
       "      <td>0</td>\n",
       "      <td>1</td>\n",
       "      <td>0</td>\n",
       "      <td>0</td>\n",
       "    </tr>\n",
       "    <tr>\n",
       "      <th>8648414</th>\n",
       "      <td>13.292593</td>\n",
       "      <td>0</td>\n",
       "      <td>0</td>\n",
       "      <td>0</td>\n",
       "      <td>0</td>\n",
       "      <td>0</td>\n",
       "      <td>0</td>\n",
       "      <td>0</td>\n",
       "      <td>0</td>\n",
       "      <td>1</td>\n",
       "      <td>...</td>\n",
       "      <td>0</td>\n",
       "      <td>0</td>\n",
       "      <td>0</td>\n",
       "      <td>0</td>\n",
       "      <td>0</td>\n",
       "      <td>0</td>\n",
       "      <td>0</td>\n",
       "      <td>0</td>\n",
       "      <td>0</td>\n",
       "      <td>1</td>\n",
       "    </tr>\n",
       "    <tr>\n",
       "      <th>11648639</th>\n",
       "      <td>5.556188</td>\n",
       "      <td>0</td>\n",
       "      <td>0</td>\n",
       "      <td>0</td>\n",
       "      <td>0</td>\n",
       "      <td>0</td>\n",
       "      <td>0</td>\n",
       "      <td>0</td>\n",
       "      <td>0</td>\n",
       "      <td>0</td>\n",
       "      <td>...</td>\n",
       "      <td>1</td>\n",
       "      <td>0</td>\n",
       "      <td>0</td>\n",
       "      <td>0</td>\n",
       "      <td>0</td>\n",
       "      <td>0</td>\n",
       "      <td>0</td>\n",
       "      <td>0</td>\n",
       "      <td>1</td>\n",
       "      <td>0</td>\n",
       "    </tr>\n",
       "    <tr>\n",
       "      <th>724728</th>\n",
       "      <td>-5.047619</td>\n",
       "      <td>0</td>\n",
       "      <td>0</td>\n",
       "      <td>0</td>\n",
       "      <td>0</td>\n",
       "      <td>0</td>\n",
       "      <td>0</td>\n",
       "      <td>0</td>\n",
       "      <td>1</td>\n",
       "      <td>0</td>\n",
       "      <td>...</td>\n",
       "      <td>0</td>\n",
       "      <td>0</td>\n",
       "      <td>0</td>\n",
       "      <td>0</td>\n",
       "      <td>0</td>\n",
       "      <td>0</td>\n",
       "      <td>0</td>\n",
       "      <td>1</td>\n",
       "      <td>0</td>\n",
       "      <td>0</td>\n",
       "    </tr>\n",
       "    <tr>\n",
       "      <th>3151471</th>\n",
       "      <td>2.464879</td>\n",
       "      <td>0</td>\n",
       "      <td>0</td>\n",
       "      <td>0</td>\n",
       "      <td>1</td>\n",
       "      <td>0</td>\n",
       "      <td>0</td>\n",
       "      <td>0</td>\n",
       "      <td>0</td>\n",
       "      <td>0</td>\n",
       "      <td>...</td>\n",
       "      <td>0</td>\n",
       "      <td>0</td>\n",
       "      <td>0</td>\n",
       "      <td>0</td>\n",
       "      <td>0</td>\n",
       "      <td>0</td>\n",
       "      <td>0</td>\n",
       "      <td>1</td>\n",
       "      <td>0</td>\n",
       "      <td>0</td>\n",
       "    </tr>\n",
       "  </tbody>\n",
       "</table>\n",
       "<p>5 rows × 21 columns</p>\n",
       "</div>"
      ],
      "text/plain": [
       "             uni_fl  is_holiday  month_01  month_02  month_03  month_04  \\\n",
       "11774876   4.592269           0         0         0         0         0   \n",
       "8648414   13.292593           0         0         0         0         0   \n",
       "11648639   5.556188           0         0         0         0         0   \n",
       "724728    -5.047619           0         0         0         0         0   \n",
       "3151471    2.464879           0         0         0         1         0   \n",
       "\n",
       "          month_05  month_06  month_07  month_08  ...  month_10  month_11  \\\n",
       "11774876         0         0         0         0  ...         1         0   \n",
       "8648414          0         0         0         1  ...         0         0   \n",
       "11648639         0         0         0         0  ...         1         0   \n",
       "724728           0         0         1         0  ...         0         0   \n",
       "3151471          0         0         0         0  ...         0         0   \n",
       "\n",
       "          month_12  day_of_week_0  day_of_week_1  day_of_week_2  \\\n",
       "11774876         0              0              0              0   \n",
       "8648414          0              0              0              0   \n",
       "11648639         0              0              0              0   \n",
       "724728           0              0              0              0   \n",
       "3151471          0              0              0              0   \n",
       "\n",
       "          day_of_week_3  day_of_week_4  day_of_week_5  day_of_week_6  \n",
       "11774876              0              1              0              0  \n",
       "8648414               0              0              0              1  \n",
       "11648639              0              0              1              0  \n",
       "724728                0              1              0              0  \n",
       "3151471               0              1              0              0  \n",
       "\n",
       "[5 rows x 21 columns]"
      ]
     },
     "execution_count": 197,
     "metadata": {},
     "output_type": "execute_result"
    }
   ],
   "source": [
    "df_train.head()"
   ]
  },
  {
   "cell_type": "code",
   "execution_count": 210,
   "id": "e389af30-385c-420b-999e-ede4659bee9f",
   "metadata": {},
   "outputs": [],
   "source": [
    "parametersGrid = {    \"alpha\": [0.0001, 0.001, 0.01, 0.1, 1, 10, 100],\n",
    "                      \"l1_ratio\": np.arange(0.0, 1.0, 0.1)}"
   ]
  },
  {
   "cell_type": "code",
   "execution_count": 211,
   "id": "3a48156a-565a-4a71-a4d3-18e391c23a7f",
   "metadata": {},
   "outputs": [],
   "source": [
    "ent = ElasticNet()"
   ]
  },
  {
   "cell_type": "code",
   "execution_count": null,
   "id": "f42d7311-680b-45d3-af14-dc18511a8aa4",
   "metadata": {},
   "outputs": [
    {
     "name": "stderr",
     "output_type": "stream",
     "text": [
      "D:\\big data\\anaconda3\\envs\\LH\\lib\\site-packages\\sklearn\\linear_model\\_coordinate_descent.py:530: ConvergenceWarning: Objective did not converge. You might want to increase the number of iterations. Duality gap: 4336675303.313212, tolerance: 903289.7600536259\n",
      "  model = cd_fast.enet_coordinate_descent(\n"
     ]
    }
   ],
   "source": [
    "grid = GridSearchCV(ent, parametersGrid, scoring='r2', cv=5)\n",
    "grid.fit(X, y_train)\n",
    "#Y_pred = grid.predict(X_test)"
   ]
  }
 ],
 "metadata": {
  "kernelspec": {
   "display_name": "Python 3 (ipykernel)",
   "language": "python",
   "name": "python3"
  },
  "language_info": {
   "codemirror_mode": {
    "name": "ipython",
    "version": 3
   },
   "file_extension": ".py",
   "mimetype": "text/x-python",
   "name": "python",
   "nbconvert_exporter": "python",
   "pygments_lexer": "ipython3",
   "version": "3.8.10"
  }
 },
 "nbformat": 4,
 "nbformat_minor": 5
}
