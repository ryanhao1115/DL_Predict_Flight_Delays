{
 "cells": [
  {
   "cell_type": "code",
   "execution_count": 2,
   "id": "c5dcdeed-98af-473e-b0e0-96e77506bcff",
   "metadata": {},
   "outputs": [],
   "source": [
    "import pandas as pd\n",
    "import numpy as np\n",
    "from datetime import datetime\n",
    "import holidays\n",
    "from sklearn.model_selection import train_test_split\n",
    "from sklearn.model_selection import GridSearchCV\n",
    "from sklearn.linear_model import LinearRegression,ElasticNet\n",
    "from sklearn.preprocessing import StandardScaler"
   ]
  },
  {
   "cell_type": "code",
   "execution_count": 3,
   "id": "c43f3d9a-05b2-4fae-b481-c379e0c31e18",
   "metadata": {},
   "outputs": [
    {
     "name": "stderr",
     "output_type": "stream",
     "text": [
      "D:\\big data\\anaconda3\\envs\\LH\\lib\\site-packages\\IPython\\core\\interactiveshell.py:3441: DtypeWarning: Columns (12) have mixed types.Specify dtype option on import or set low_memory=False.\n",
      "  exec(code_obj, self.user_global_ns, self.user_ns)\n"
     ]
    }
   ],
   "source": [
    "df = pd.read_csv('flights')"
   ]
  },
  {
   "cell_type": "code",
   "execution_count": 21,
   "id": "8b3e0402-56c7-4aa0-a2f0-1d93f99b4edd",
   "metadata": {},
   "outputs": [
    {
     "data": {
      "text/plain": [
       "count    1.561574e+07\n",
       "mean     5.475932e+00\n",
       "std      4.987401e+01\n",
       "min     -1.290000e+03\n",
       "25%     -1.500000e+01\n",
       "50%     -6.000000e+00\n",
       "75%      8.000000e+00\n",
       "max      2.973000e+03\n",
       "Name: arr_delay, dtype: float64"
      ]
     },
     "execution_count": 21,
     "metadata": {},
     "output_type": "execute_result"
    }
   ],
   "source": [
    "df['arr_delay'].describe()"
   ]
  },
  {
   "cell_type": "code",
   "execution_count": 6,
   "id": "fa1a4c87-8866-4675-b0c0-52a6e438fb46",
   "metadata": {},
   "outputs": [],
   "source": [
    "def getmonth(x):\n",
    "    return x.split(sep='-')[1]\n",
    "df['month'] = df['fl_date'].apply(getmonth)"
   ]
  },
  {
   "cell_type": "code",
   "execution_count": 23,
   "id": "a4e3c31b-577a-4fe9-8b03-e08ede9aeaf1",
   "metadata": {},
   "outputs": [
    {
     "data": {
      "text/plain": [
       "month\n",
       "01     3.958788\n",
       "02     6.745096\n",
       "03     2.818773\n",
       "04     4.159131\n",
       "05     6.511144\n",
       "06    10.414444\n",
       "07     8.977515\n",
       "08     8.898890\n",
       "09     1.708452\n",
       "10     2.853585\n",
       "11     2.993607\n",
       "12     5.110636\n",
       "Name: arr_delay, dtype: float64"
      ]
     },
     "execution_count": 23,
     "metadata": {},
     "output_type": "execute_result"
    }
   ],
   "source": [
    "df.groupby(['month'])['arr_delay'].mean()"
   ]
  },
  {
   "cell_type": "code",
   "execution_count": 20,
   "id": "8089e277-b032-4f36-b51f-51902554524f",
   "metadata": {},
   "outputs": [
    {
     "data": {
      "text/html": [
       "<div>\n",
       "<style scoped>\n",
       "    .dataframe tbody tr th:only-of-type {\n",
       "        vertical-align: middle;\n",
       "    }\n",
       "\n",
       "    .dataframe tbody tr th {\n",
       "        vertical-align: top;\n",
       "    }\n",
       "\n",
       "    .dataframe thead th {\n",
       "        text-align: right;\n",
       "    }\n",
       "</style>\n",
       "<table border=\"1\" class=\"dataframe\">\n",
       "  <thead>\n",
       "    <tr style=\"text-align: right;\">\n",
       "      <th></th>\n",
       "      <th>Unnamed: 0</th>\n",
       "      <th>op_carrier_fl_num</th>\n",
       "      <th>origin_airport_id</th>\n",
       "      <th>dest_airport_id</th>\n",
       "      <th>crs_dep_time</th>\n",
       "      <th>dep_delay</th>\n",
       "      <th>crs_arr_time</th>\n",
       "      <th>arr_delay</th>\n",
       "      <th>cancelled</th>\n",
       "      <th>crs_elapsed_time</th>\n",
       "      <th>distance</th>\n",
       "      <th>carrier_delay</th>\n",
       "      <th>weather_delay</th>\n",
       "      <th>nas_delay</th>\n",
       "      <th>security_delay</th>\n",
       "      <th>late_aircraft_delay</th>\n",
       "    </tr>\n",
       "  </thead>\n",
       "  <tbody>\n",
       "    <tr>\n",
       "      <th>count</th>\n",
       "      <td>1.239868e+06</td>\n",
       "      <td>1.239868e+06</td>\n",
       "      <td>1.239868e+06</td>\n",
       "      <td>1.239868e+06</td>\n",
       "      <td>1.239868e+06</td>\n",
       "      <td>1.220267e+06</td>\n",
       "      <td>1.239868e+06</td>\n",
       "      <td>1.217645e+06</td>\n",
       "      <td>1.239868e+06</td>\n",
       "      <td>1.239860e+06</td>\n",
       "      <td>1.239868e+06</td>\n",
       "      <td>224852.000000</td>\n",
       "      <td>224852.000000</td>\n",
       "      <td>224852.000000</td>\n",
       "      <td>224852.000000</td>\n",
       "      <td>224852.000000</td>\n",
       "    </tr>\n",
       "    <tr>\n",
       "      <th>mean</th>\n",
       "      <td>9.183284e+06</td>\n",
       "      <td>2.706668e+03</td>\n",
       "      <td>1.268984e+04</td>\n",
       "      <td>1.268994e+04</td>\n",
       "      <td>1.326527e+03</td>\n",
       "      <td>9.830395e+00</td>\n",
       "      <td>1.497141e+03</td>\n",
       "      <td>3.958788e+00</td>\n",
       "      <td>1.577507e-02</td>\n",
       "      <td>1.398926e+02</td>\n",
       "      <td>7.654198e+02</td>\n",
       "      <td>20.933281</td>\n",
       "      <td>4.550922</td>\n",
       "      <td>16.304369</td>\n",
       "      <td>0.083775</td>\n",
       "      <td>26.351742</td>\n",
       "    </tr>\n",
       "    <tr>\n",
       "      <th>std</th>\n",
       "      <td>4.656840e+06</td>\n",
       "      <td>1.885516e+03</td>\n",
       "      <td>1.520026e+03</td>\n",
       "      <td>1.520074e+03</td>\n",
       "      <td>4.826623e+02</td>\n",
       "      <td>4.847698e+01</td>\n",
       "      <td>5.048587e+02</td>\n",
       "      <td>5.091909e+01</td>\n",
       "      <td>1.246043e-01</td>\n",
       "      <td>7.298561e+01</td>\n",
       "      <td>5.819673e+02</td>\n",
       "      <td>66.119720</td>\n",
       "      <td>37.320588</td>\n",
       "      <td>37.154554</td>\n",
       "      <td>3.157289</td>\n",
       "      <td>53.091941</td>\n",
       "    </tr>\n",
       "    <tr>\n",
       "      <th>min</th>\n",
       "      <td>4.086620e+06</td>\n",
       "      <td>1.000000e+00</td>\n",
       "      <td>1.013500e+04</td>\n",
       "      <td>1.013500e+04</td>\n",
       "      <td>1.000000e+00</td>\n",
       "      <td>-1.280000e+03</td>\n",
       "      <td>1.000000e+00</td>\n",
       "      <td>-1.290000e+03</td>\n",
       "      <td>0.000000e+00</td>\n",
       "      <td>-9.000000e+01</td>\n",
       "      <td>3.100000e+01</td>\n",
       "      <td>0.000000</td>\n",
       "      <td>0.000000</td>\n",
       "      <td>0.000000</td>\n",
       "      <td>0.000000</td>\n",
       "      <td>0.000000</td>\n",
       "    </tr>\n",
       "    <tr>\n",
       "      <th>25%</th>\n",
       "      <td>4.396587e+06</td>\n",
       "      <td>1.068000e+03</td>\n",
       "      <td>1.129200e+04</td>\n",
       "      <td>1.129200e+04</td>\n",
       "      <td>9.200000e+02</td>\n",
       "      <td>-6.000000e+00</td>\n",
       "      <td>1.112000e+03</td>\n",
       "      <td>-1.600000e+01</td>\n",
       "      <td>0.000000e+00</td>\n",
       "      <td>8.800000e+01</td>\n",
       "      <td>3.370000e+02</td>\n",
       "      <td>0.000000</td>\n",
       "      <td>0.000000</td>\n",
       "      <td>0.000000</td>\n",
       "      <td>0.000000</td>\n",
       "      <td>0.000000</td>\n",
       "    </tr>\n",
       "    <tr>\n",
       "      <th>50%</th>\n",
       "      <td>1.339764e+07</td>\n",
       "      <td>2.246000e+03</td>\n",
       "      <td>1.288900e+04</td>\n",
       "      <td>1.288900e+04</td>\n",
       "      <td>1.320000e+03</td>\n",
       "      <td>-3.000000e+00</td>\n",
       "      <td>1.520000e+03</td>\n",
       "      <td>-7.000000e+00</td>\n",
       "      <td>0.000000e+00</td>\n",
       "      <td>1.200000e+02</td>\n",
       "      <td>6.030000e+02</td>\n",
       "      <td>0.000000</td>\n",
       "      <td>0.000000</td>\n",
       "      <td>4.000000</td>\n",
       "      <td>0.000000</td>\n",
       "      <td>0.000000</td>\n",
       "    </tr>\n",
       "    <tr>\n",
       "      <th>75%</th>\n",
       "      <td>1.370761e+07</td>\n",
       "      <td>4.317000e+03</td>\n",
       "      <td>1.405700e+04</td>\n",
       "      <td>1.405700e+04</td>\n",
       "      <td>1.730000e+03</td>\n",
       "      <td>6.000000e+00</td>\n",
       "      <td>1.918000e+03</td>\n",
       "      <td>7.000000e+00</td>\n",
       "      <td>0.000000e+00</td>\n",
       "      <td>1.700000e+02</td>\n",
       "      <td>1.008000e+03</td>\n",
       "      <td>18.000000</td>\n",
       "      <td>0.000000</td>\n",
       "      <td>20.000000</td>\n",
       "      <td>0.000000</td>\n",
       "      <td>31.000000</td>\n",
       "    </tr>\n",
       "    <tr>\n",
       "      <th>max</th>\n",
       "      <td>1.401758e+07</td>\n",
       "      <td>9.401000e+03</td>\n",
       "      <td>1.621800e+04</td>\n",
       "      <td>1.621800e+04</td>\n",
       "      <td>2.359000e+03</td>\n",
       "      <td>2.007000e+03</td>\n",
       "      <td>2.400000e+03</td>\n",
       "      <td>2.023000e+03</td>\n",
       "      <td>1.000000e+00</td>\n",
       "      <td>1.645000e+03</td>\n",
       "      <td>4.983000e+03</td>\n",
       "      <td>2007.000000</td>\n",
       "      <td>1682.000000</td>\n",
       "      <td>1447.000000</td>\n",
       "      <td>816.000000</td>\n",
       "      <td>1648.000000</td>\n",
       "    </tr>\n",
       "  </tbody>\n",
       "</table>\n",
       "</div>"
      ],
      "text/plain": [
       "         Unnamed: 0  op_carrier_fl_num  origin_airport_id  dest_airport_id  \\\n",
       "count  1.239868e+06       1.239868e+06       1.239868e+06     1.239868e+06   \n",
       "mean   9.183284e+06       2.706668e+03       1.268984e+04     1.268994e+04   \n",
       "std    4.656840e+06       1.885516e+03       1.520026e+03     1.520074e+03   \n",
       "min    4.086620e+06       1.000000e+00       1.013500e+04     1.013500e+04   \n",
       "25%    4.396587e+06       1.068000e+03       1.129200e+04     1.129200e+04   \n",
       "50%    1.339764e+07       2.246000e+03       1.288900e+04     1.288900e+04   \n",
       "75%    1.370761e+07       4.317000e+03       1.405700e+04     1.405700e+04   \n",
       "max    1.401758e+07       9.401000e+03       1.621800e+04     1.621800e+04   \n",
       "\n",
       "       crs_dep_time     dep_delay  crs_arr_time     arr_delay     cancelled  \\\n",
       "count  1.239868e+06  1.220267e+06  1.239868e+06  1.217645e+06  1.239868e+06   \n",
       "mean   1.326527e+03  9.830395e+00  1.497141e+03  3.958788e+00  1.577507e-02   \n",
       "std    4.826623e+02  4.847698e+01  5.048587e+02  5.091909e+01  1.246043e-01   \n",
       "min    1.000000e+00 -1.280000e+03  1.000000e+00 -1.290000e+03  0.000000e+00   \n",
       "25%    9.200000e+02 -6.000000e+00  1.112000e+03 -1.600000e+01  0.000000e+00   \n",
       "50%    1.320000e+03 -3.000000e+00  1.520000e+03 -7.000000e+00  0.000000e+00   \n",
       "75%    1.730000e+03  6.000000e+00  1.918000e+03  7.000000e+00  0.000000e+00   \n",
       "max    2.359000e+03  2.007000e+03  2.400000e+03  2.023000e+03  1.000000e+00   \n",
       "\n",
       "       crs_elapsed_time      distance  carrier_delay  weather_delay  \\\n",
       "count      1.239860e+06  1.239868e+06  224852.000000  224852.000000   \n",
       "mean       1.398926e+02  7.654198e+02      20.933281       4.550922   \n",
       "std        7.298561e+01  5.819673e+02      66.119720      37.320588   \n",
       "min       -9.000000e+01  3.100000e+01       0.000000       0.000000   \n",
       "25%        8.800000e+01  3.370000e+02       0.000000       0.000000   \n",
       "50%        1.200000e+02  6.030000e+02       0.000000       0.000000   \n",
       "75%        1.700000e+02  1.008000e+03      18.000000       0.000000   \n",
       "max        1.645000e+03  4.983000e+03    2007.000000    1682.000000   \n",
       "\n",
       "           nas_delay  security_delay  late_aircraft_delay  \n",
       "count  224852.000000   224852.000000        224852.000000  \n",
       "mean       16.304369        0.083775            26.351742  \n",
       "std        37.154554        3.157289            53.091941  \n",
       "min         0.000000        0.000000             0.000000  \n",
       "25%         0.000000        0.000000             0.000000  \n",
       "50%         4.000000        0.000000             0.000000  \n",
       "75%        20.000000        0.000000            31.000000  \n",
       "max      1447.000000      816.000000          1648.000000  "
      ]
     },
     "execution_count": 20,
     "metadata": {},
     "output_type": "execute_result"
    }
   ],
   "source": [
    "df_01.describe()"
   ]
  },
  {
   "cell_type": "code",
   "execution_count": 73,
   "id": "83ede440-5c94-4098-bda8-86c49f5c2cf2",
   "metadata": {},
   "outputs": [],
   "source": [
    "df_train = df[['fl_date','op_unique_carrier','tail_num','op_carrier_fl_num','origin_airport_id','dest_airport_id','crs_dep_time','crs_arr_time','crs_elapsed_time','distance']]"
   ]
  },
  {
   "cell_type": "code",
   "execution_count": 17,
   "id": "bfad6e56-a4a7-464b-8f5d-8b21b275d945",
   "metadata": {},
   "outputs": [],
   "source": [
    "X01_test.to_csv('fl01_test')"
   ]
  },
  {
   "cell_type": "code",
   "execution_count": 12,
   "id": "8ef50cd6-f514-472d-b488-21f6dd575e80",
   "metadata": {},
   "outputs": [],
   "source": [
    "X01_train, X01_test = train_test_split(df_01, test_size=0.2) "
   ]
  },
  {
   "cell_type": "code",
   "execution_count": 145,
   "id": "66edfbf0-b989-4204-8c04-118f4070e6b7",
   "metadata": {},
   "outputs": [],
   "source": [
    "df_train = X_train[['fl_date','op_unique_carrier','op_carrier_fl_num','arr_delay']]"
   ]
  },
  {
   "cell_type": "code",
   "execution_count": 178,
   "id": "0db535dc-e23a-416d-97cd-d2922f9f2032",
   "metadata": {},
   "outputs": [
    {
     "name": "stdout",
     "output_type": "stream",
     "text": [
      "<class 'pandas.core.frame.DataFrame'>\n",
      "Int64Index: 12591836 entries, 11774876 to 5066841\n",
      "Data columns (total 3 columns):\n",
      " #   Column     Dtype  \n",
      "---  ------     -----  \n",
      " 0   fl_date    object \n",
      " 1   arr_delay  float64\n",
      " 2   uni_fl     float64\n",
      "dtypes: float64(2), object(1)\n",
      "memory usage: 384.3+ MB\n"
     ]
    }
   ],
   "source": [
    "df_train.info()"
   ]
  },
  {
   "cell_type": "code",
   "execution_count": 187,
   "id": "80ed6e49-172a-49ca-8ba2-6e203143d407",
   "metadata": {},
   "outputs": [
    {
     "name": "stdout",
     "output_type": "stream",
     "text": [
      "<class 'pandas.core.frame.DataFrame'>\n",
      "Int64Index: 12591836 entries, 11774876 to 5066841\n",
      "Data columns (total 4 columns):\n",
      " #   Column       Dtype  \n",
      "---  ------       -----  \n",
      " 0   uni_fl       float64\n",
      " 1   month        object \n",
      " 2   day_of_week  int64  \n",
      " 3   is_holiday   int64  \n",
      "dtypes: float64(1), int64(2), object(1)\n",
      "memory usage: 480.3+ MB\n"
     ]
    }
   ],
   "source": [
    "df_train.info()"
   ]
  },
  {
   "cell_type": "code",
   "execution_count": 184,
   "id": "7c171223-a439-468e-8bbb-ee97ce8befdd",
   "metadata": {},
   "outputs": [
    {
     "data": {
      "text/plain": [
       "is_holiday\n",
       "0    1.740948\n",
       "1    1.362521\n",
       "Name: arr_delay, dtype: float64"
      ]
     },
     "execution_count": 184,
     "metadata": {},
     "output_type": "execute_result"
    }
   ],
   "source": [
    "df_train.groupby('is_holiday')['arr_delay'].mean()"
   ]
  },
  {
   "cell_type": "code",
   "execution_count": 177,
   "id": "84bda9ba-fd16-478e-bb32-9c314edb3047",
   "metadata": {},
   "outputs": [],
   "source": [
    "unifl_target_mean.to_csv('unifl_target_mean')"
   ]
  },
  {
   "cell_type": "code",
   "execution_count": 188,
   "id": "40509b4c-df0d-429f-a5ad-eb485a0a6483",
   "metadata": {},
   "outputs": [
    {
     "name": "stderr",
     "output_type": "stream",
     "text": [
      "D:\\big data\\anaconda3\\envs\\LH\\lib\\site-packages\\pandas\\core\\generic.py:6392: SettingWithCopyWarning: \n",
      "A value is trying to be set on a copy of a slice from a DataFrame\n",
      "\n",
      "See the caveats in the documentation: https://pandas.pydata.org/pandas-docs/stable/user_guide/indexing.html#returning-a-view-versus-a-copy\n",
      "  return self._update_inplace(result)\n"
     ]
    }
   ],
   "source": [
    "#choose set of features\n",
    "df_train = X_train[['fl_date','op_unique_carrier','op_carrier_fl_num','arr_delay']]\n",
    "\n",
    "# after test data, arr_delay should be 0. \n",
    "df_train['arr_delay'].fillna(0,inplace=True)\n",
    "\n",
    "#remove outliner\n",
    "df_train = df_train[(df_train['arr_delay'] > -80) & (df_train['arr_delay'] < 180)] \n",
    "\n",
    "#combine features\n",
    "def combine_str_num(x,y):\n",
    "    return x + str(y)\n",
    "df_train['uni_fl'] = np.vectorize(combine_str_num)(df_train['op_unique_carrier'],df_train['op_carrier_fl_num'])\n",
    "df_train.drop(columns=['op_unique_carrier','op_carrier_fl_num'],inplace=True)\n",
    "\n",
    "# feature coding\n",
    "unifl_target_mean = df_train.groupby(['uni_fl'])['arr_delay'].mean()\n",
    "df_train['uni_fl'] = df_train['uni_fl'].map(unifl_target_mean)"
   ]
  },
  {
   "cell_type": "code",
   "execution_count": 189,
   "id": "80a50424-3d80-44a1-9fd7-71895e4bbf3c",
   "metadata": {},
   "outputs": [],
   "source": [
    "#transform fl_date\n",
    "def getmonth(x):\n",
    "    return x.split(sep='-')[1]\n",
    "df_train['month'] = df_train['fl_date'].apply(getmonth)\n",
    "\n",
    "def getdayofweek(x):\n",
    "    year_s, mon_s, day_s = x.split('-')\n",
    "    fl_d = datetime(int(year_s), int(mon_s), int(day_s))\n",
    "    return fl_d.weekday()\n",
    "df_train['day_of_week'] = df_train['fl_date'].apply(getdayofweek)\n",
    "\n",
    "us_holidays = holidays.UnitedStates()\n",
    "def isholiday(x):\n",
    "    year_s, mon_s, day_s = x.split('-')\n",
    "    if datetime(int(year_s), int(mon_s), int(day_s)) in us_holidays:\n",
    "        return 1\n",
    "    else:\n",
    "        return 0\n",
    "df_train['is_holiday'] = df_train['fl_date'].apply(isholiday)\n",
    "\n",
    "y_train = df_train['arr_delay']\n",
    "\n",
    "df_train = df_train.drop(columns=['fl_date','arr_delay'])\n",
    "\n",
    "df_train = pd.get_dummies(df_train,columns=['month','day_of_week'])"
   ]
  },
  {
   "cell_type": "code",
   "execution_count": 208,
   "id": "2f32a931-0a71-409e-89bb-fc2aeafe67e5",
   "metadata": {},
   "outputs": [],
   "source": [
    "scaler = StandardScaler()"
   ]
  },
  {
   "cell_type": "code",
   "execution_count": 209,
   "id": "f6c57fde-550a-46cd-9f23-e7cb6ebc5eee",
   "metadata": {},
   "outputs": [],
   "source": [
    "X = scaler.fit_transform(df_train)"
   ]
  },
  {
   "cell_type": "code",
   "execution_count": 1,
   "id": "93c61b7c-29f9-42dc-8abb-e12ca2a2284a",
   "metadata": {},
   "outputs": [
    {
     "ename": "NameError",
     "evalue": "name 'X' is not defined",
     "output_type": "error",
     "traceback": [
      "\u001b[1;31m---------------------------------------------------------------------------\u001b[0m",
      "\u001b[1;31mNameError\u001b[0m                                 Traceback (most recent call last)",
      "\u001b[1;32m~\\AppData\\Local\\Temp/ipykernel_14488/2016476978.py\u001b[0m in \u001b[0;36m<module>\u001b[1;34m\u001b[0m\n\u001b[1;32m----> 1\u001b[1;33m \u001b[0mX\u001b[0m\u001b[1;33m.\u001b[0m\u001b[0mshape\u001b[0m\u001b[1;33m\u001b[0m\u001b[1;33m\u001b[0m\u001b[0m\n\u001b[0m",
      "\u001b[1;31mNameError\u001b[0m: name 'X' is not defined"
     ]
    }
   ],
   "source": [
    "X.shape"
   ]
  },
  {
   "cell_type": "code",
   "execution_count": 190,
   "id": "5e8b85f4-f943-49b3-9411-b60fdb22a477",
   "metadata": {},
   "outputs": [],
   "source": [
    "y_train = df_train['arr_delay']"
   ]
  },
  {
   "cell_type": "code",
   "execution_count": 207,
   "id": "6c5f3e7f-fa94-4f98-8c4d-fcc5397db696",
   "metadata": {},
   "outputs": [
    {
     "name": "stdout",
     "output_type": "stream",
     "text": [
      "<class 'pandas.core.frame.DataFrame'>\n",
      "Int64Index: 12591836 entries, 11774876 to 5066841\n",
      "Data columns (total 21 columns):\n",
      " #   Column         Dtype  \n",
      "---  ------         -----  \n",
      " 0   uni_fl         float64\n",
      " 1   is_holiday     int64  \n",
      " 2   month_01       uint8  \n",
      " 3   month_02       uint8  \n",
      " 4   month_03       uint8  \n",
      " 5   month_04       uint8  \n",
      " 6   month_05       uint8  \n",
      " 7   month_06       uint8  \n",
      " 8   month_07       uint8  \n",
      " 9   month_08       uint8  \n",
      " 10  month_09       uint8  \n",
      " 11  month_10       uint8  \n",
      " 12  month_11       uint8  \n",
      " 13  month_12       uint8  \n",
      " 14  day_of_week_0  uint8  \n",
      " 15  day_of_week_1  uint8  \n",
      " 16  day_of_week_2  uint8  \n",
      " 17  day_of_week_3  uint8  \n",
      " 18  day_of_week_4  uint8  \n",
      " 19  day_of_week_5  uint8  \n",
      " 20  day_of_week_6  uint8  \n",
      "dtypes: float64(1), int64(1), uint8(19)\n",
      "memory usage: 516.4 MB\n"
     ]
    }
   ],
   "source": [
    "df_train.info()"
   ]
  },
  {
   "cell_type": "code",
   "execution_count": 197,
   "id": "3bf7f542-4f7b-4729-a520-2694ac2c2276",
   "metadata": {},
   "outputs": [
    {
     "data": {
      "text/html": [
       "<div>\n",
       "<style scoped>\n",
       "    .dataframe tbody tr th:only-of-type {\n",
       "        vertical-align: middle;\n",
       "    }\n",
       "\n",
       "    .dataframe tbody tr th {\n",
       "        vertical-align: top;\n",
       "    }\n",
       "\n",
       "    .dataframe thead th {\n",
       "        text-align: right;\n",
       "    }\n",
       "</style>\n",
       "<table border=\"1\" class=\"dataframe\">\n",
       "  <thead>\n",
       "    <tr style=\"text-align: right;\">\n",
       "      <th></th>\n",
       "      <th>uni_fl</th>\n",
       "      <th>is_holiday</th>\n",
       "      <th>month_01</th>\n",
       "      <th>month_02</th>\n",
       "      <th>month_03</th>\n",
       "      <th>month_04</th>\n",
       "      <th>month_05</th>\n",
       "      <th>month_06</th>\n",
       "      <th>month_07</th>\n",
       "      <th>month_08</th>\n",
       "      <th>...</th>\n",
       "      <th>month_10</th>\n",
       "      <th>month_11</th>\n",
       "      <th>month_12</th>\n",
       "      <th>day_of_week_0</th>\n",
       "      <th>day_of_week_1</th>\n",
       "      <th>day_of_week_2</th>\n",
       "      <th>day_of_week_3</th>\n",
       "      <th>day_of_week_4</th>\n",
       "      <th>day_of_week_5</th>\n",
       "      <th>day_of_week_6</th>\n",
       "    </tr>\n",
       "  </thead>\n",
       "  <tbody>\n",
       "    <tr>\n",
       "      <th>11774876</th>\n",
       "      <td>4.592269</td>\n",
       "      <td>0</td>\n",
       "      <td>0</td>\n",
       "      <td>0</td>\n",
       "      <td>0</td>\n",
       "      <td>0</td>\n",
       "      <td>0</td>\n",
       "      <td>0</td>\n",
       "      <td>0</td>\n",
       "      <td>0</td>\n",
       "      <td>...</td>\n",
       "      <td>1</td>\n",
       "      <td>0</td>\n",
       "      <td>0</td>\n",
       "      <td>0</td>\n",
       "      <td>0</td>\n",
       "      <td>0</td>\n",
       "      <td>0</td>\n",
       "      <td>1</td>\n",
       "      <td>0</td>\n",
       "      <td>0</td>\n",
       "    </tr>\n",
       "    <tr>\n",
       "      <th>8648414</th>\n",
       "      <td>13.292593</td>\n",
       "      <td>0</td>\n",
       "      <td>0</td>\n",
       "      <td>0</td>\n",
       "      <td>0</td>\n",
       "      <td>0</td>\n",
       "      <td>0</td>\n",
       "      <td>0</td>\n",
       "      <td>0</td>\n",
       "      <td>1</td>\n",
       "      <td>...</td>\n",
       "      <td>0</td>\n",
       "      <td>0</td>\n",
       "      <td>0</td>\n",
       "      <td>0</td>\n",
       "      <td>0</td>\n",
       "      <td>0</td>\n",
       "      <td>0</td>\n",
       "      <td>0</td>\n",
       "      <td>0</td>\n",
       "      <td>1</td>\n",
       "    </tr>\n",
       "    <tr>\n",
       "      <th>11648639</th>\n",
       "      <td>5.556188</td>\n",
       "      <td>0</td>\n",
       "      <td>0</td>\n",
       "      <td>0</td>\n",
       "      <td>0</td>\n",
       "      <td>0</td>\n",
       "      <td>0</td>\n",
       "      <td>0</td>\n",
       "      <td>0</td>\n",
       "      <td>0</td>\n",
       "      <td>...</td>\n",
       "      <td>1</td>\n",
       "      <td>0</td>\n",
       "      <td>0</td>\n",
       "      <td>0</td>\n",
       "      <td>0</td>\n",
       "      <td>0</td>\n",
       "      <td>0</td>\n",
       "      <td>0</td>\n",
       "      <td>1</td>\n",
       "      <td>0</td>\n",
       "    </tr>\n",
       "    <tr>\n",
       "      <th>724728</th>\n",
       "      <td>-5.047619</td>\n",
       "      <td>0</td>\n",
       "      <td>0</td>\n",
       "      <td>0</td>\n",
       "      <td>0</td>\n",
       "      <td>0</td>\n",
       "      <td>0</td>\n",
       "      <td>0</td>\n",
       "      <td>1</td>\n",
       "      <td>0</td>\n",
       "      <td>...</td>\n",
       "      <td>0</td>\n",
       "      <td>0</td>\n",
       "      <td>0</td>\n",
       "      <td>0</td>\n",
       "      <td>0</td>\n",
       "      <td>0</td>\n",
       "      <td>0</td>\n",
       "      <td>1</td>\n",
       "      <td>0</td>\n",
       "      <td>0</td>\n",
       "    </tr>\n",
       "    <tr>\n",
       "      <th>3151471</th>\n",
       "      <td>2.464879</td>\n",
       "      <td>0</td>\n",
       "      <td>0</td>\n",
       "      <td>0</td>\n",
       "      <td>1</td>\n",
       "      <td>0</td>\n",
       "      <td>0</td>\n",
       "      <td>0</td>\n",
       "      <td>0</td>\n",
       "      <td>0</td>\n",
       "      <td>...</td>\n",
       "      <td>0</td>\n",
       "      <td>0</td>\n",
       "      <td>0</td>\n",
       "      <td>0</td>\n",
       "      <td>0</td>\n",
       "      <td>0</td>\n",
       "      <td>0</td>\n",
       "      <td>1</td>\n",
       "      <td>0</td>\n",
       "      <td>0</td>\n",
       "    </tr>\n",
       "  </tbody>\n",
       "</table>\n",
       "<p>5 rows × 21 columns</p>\n",
       "</div>"
      ],
      "text/plain": [
       "             uni_fl  is_holiday  month_01  month_02  month_03  month_04  \\\n",
       "11774876   4.592269           0         0         0         0         0   \n",
       "8648414   13.292593           0         0         0         0         0   \n",
       "11648639   5.556188           0         0         0         0         0   \n",
       "724728    -5.047619           0         0         0         0         0   \n",
       "3151471    2.464879           0         0         0         1         0   \n",
       "\n",
       "          month_05  month_06  month_07  month_08  ...  month_10  month_11  \\\n",
       "11774876         0         0         0         0  ...         1         0   \n",
       "8648414          0         0         0         1  ...         0         0   \n",
       "11648639         0         0         0         0  ...         1         0   \n",
       "724728           0         0         1         0  ...         0         0   \n",
       "3151471          0         0         0         0  ...         0         0   \n",
       "\n",
       "          month_12  day_of_week_0  day_of_week_1  day_of_week_2  \\\n",
       "11774876         0              0              0              0   \n",
       "8648414          0              0              0              0   \n",
       "11648639         0              0              0              0   \n",
       "724728           0              0              0              0   \n",
       "3151471          0              0              0              0   \n",
       "\n",
       "          day_of_week_3  day_of_week_4  day_of_week_5  day_of_week_6  \n",
       "11774876              0              1              0              0  \n",
       "8648414               0              0              0              1  \n",
       "11648639              0              0              1              0  \n",
       "724728                0              1              0              0  \n",
       "3151471               0              1              0              0  \n",
       "\n",
       "[5 rows x 21 columns]"
      ]
     },
     "execution_count": 197,
     "metadata": {},
     "output_type": "execute_result"
    }
   ],
   "source": [
    "df_train.head()"
   ]
  },
  {
   "cell_type": "code",
   "execution_count": 210,
   "id": "e389af30-385c-420b-999e-ede4659bee9f",
   "metadata": {},
   "outputs": [],
   "source": [
    "parametersGrid = {    \"alpha\": [0.0001, 0.001, 0.01, 0.1, 1, 10],\n",
    "                      \"l1_ratio\": [0,0.2,0,5,0.8]}"
   ]
  },
  {
   "cell_type": "code",
   "execution_count": 211,
   "id": "3a48156a-565a-4a71-a4d3-18e391c23a7f",
   "metadata": {},
   "outputs": [],
   "source": [
    "ent = ElasticNet()"
   ]
  },
  {
   "cell_type": "code",
   "execution_count": null,
   "id": "f42d7311-680b-45d3-af14-dc18511a8aa4",
   "metadata": {},
   "outputs": [
    {
     "name": "stderr",
     "output_type": "stream",
     "text": [
      "D:\\big data\\anaconda3\\envs\\LH\\lib\\site-packages\\sklearn\\linear_model\\_coordinate_descent.py:530: ConvergenceWarning: Objective did not converge. You might want to increase the number of iterations. Duality gap: 4336675303.313212, tolerance: 903289.7600536259\n",
      "  model = cd_fast.enet_coordinate_descent(\n"
     ]
    }
   ],
   "source": [
    "grid = GridSearchCV(ent, parametersGrid, scoring='r2', cv=5)\n",
    "grid.fit(x_small, y_small)\n",
    "#Y_pred = grid.predict(X_test)"
   ]
  }
 ],
 "metadata": {
  "kernelspec": {
   "display_name": "Python 3 (ipykernel)",
   "language": "python",
   "name": "python3"
  },
  "language_info": {
   "codemirror_mode": {
    "name": "ipython",
    "version": 3
   },
   "file_extension": ".py",
   "mimetype": "text/x-python",
   "name": "python",
   "nbconvert_exporter": "python",
   "pygments_lexer": "ipython3",
   "version": "3.8.10"
  }
 },
 "nbformat": 4,
 "nbformat_minor": 5
}
