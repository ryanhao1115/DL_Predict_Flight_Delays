{
  "nbformat": 4,
  "nbformat_minor": 5,
  "metadata": {
    "kernelspec": {
      "display_name": "Python 3 (ipykernel)",
      "language": "python",
      "name": "python3"
    },
    "language_info": {
      "codemirror_mode": {
        "name": "ipython",
        "version": 3
      },
      "file_extension": ".py",
      "mimetype": "text/x-python",
      "name": "python",
      "nbconvert_exporter": "python",
      "pygments_lexer": "ipython3",
      "version": "3.8.10"
    },
    "colab": {
      "name": "h_ElasticNet.ipynb",
      "provenance": [],
      "collapsed_sections": []
    }
  },
  "cells": [
    {
      "cell_type": "code",
      "metadata": {
        "colab": {
          "base_uri": "https://localhost:8080/"
        },
        "id": "Gx6Js4F8VdBf",
        "outputId": "9d7d09d7-3171-438c-fa7f-293afba61bdc"
      },
      "source": [
        "from google.colab import drive\n",
        "drive.mount('/drive')"
      ],
      "id": "Gx6Js4F8VdBf",
      "execution_count": 1,
      "outputs": [
        {
          "output_type": "stream",
          "text": [
            "Drive already mounted at /drive; to attempt to forcibly remount, call drive.mount(\"/drive\", force_remount=True).\n"
          ],
          "name": "stdout"
        }
      ]
    },
    {
      "cell_type": "code",
      "metadata": {
        "id": "281d07c9-b978-4a43-980d-1a991c1cf0d1"
      },
      "source": [
        "import pandas as pd\n",
        "import numpy as np\n",
        "from datetime import datetime\n",
        "import holidays\n",
        "from sklearn.model_selection import train_test_split\n",
        "from sklearn.model_selection import GridSearchCV\n",
        "from sklearn.linear_model import LinearRegression,ElasticNet\n",
        "from sklearn.preprocessing import StandardScaler\n",
        "from sklearn.model_selection import RandomizedSearchCV\n",
        "from scipy.stats import  randint\n",
        "from scipy.stats import uniform"
      ],
      "id": "281d07c9-b978-4a43-980d-1a991c1cf0d1",
      "execution_count": 2,
      "outputs": []
    },
    {
      "cell_type": "markdown",
      "metadata": {
        "id": "8d5704a2-0584-4232-90cd-0eff389fb4aa"
      },
      "source": [
        "## Build X_train"
      ],
      "id": "8d5704a2-0584-4232-90cd-0eff389fb4aa"
    },
    {
      "cell_type": "code",
      "metadata": {
        "id": "4d18123c-d7b1-460d-95f7-5d277e6768b5"
      },
      "source": [
        "df_train = pd.read_csv('/drive/My Drive/Colab Notebooks/mid-term/fl_train')"
      ],
      "id": "4d18123c-d7b1-460d-95f7-5d277e6768b5",
      "execution_count": 3,
      "outputs": []
    },
    {
      "cell_type": "code",
      "metadata": {
        "id": "DnGNeVJt3wSU"
      },
      "source": [
        "del df_train"
      ],
      "id": "DnGNeVJt3wSU",
      "execution_count": 11,
      "outputs": []
    },
    {
      "cell_type": "code",
      "metadata": {
        "id": "9ceccaf7-f84c-408e-8caa-9c11595f4779"
      },
      "source": [
        "X_train = df_train[['fl_date','op_unique_carrier','op_carrier_fl_num','arr_delay']]"
      ],
      "id": "9ceccaf7-f84c-408e-8caa-9c11595f4779",
      "execution_count": 6,
      "outputs": []
    },
    {
      "cell_type": "code",
      "metadata": {
        "id": "e849635b-4b09-44d0-a009-d2bf371e8d20",
        "colab": {
          "base_uri": "https://localhost:8080/"
        },
        "outputId": "83e998f6-330f-49dc-9d91-c38639605075"
      },
      "source": [
        "# after test data, arr_delay should be 0. \n",
        "X_train['arr_delay'].fillna(0,inplace=True)\n",
        "\n",
        "#remove outliner\n",
        "X_train = X_train[(X_train['arr_delay'] > -80) & (X_train['arr_delay'] < 180)] \n",
        "\n",
        "#combine features\n",
        "def combine_str_num(x,y):\n",
        "    return x + str(y)\n",
        "X_train['uni_fl'] = np.vectorize(combine_str_num)(X_train['op_unique_carrier'],X_train['op_carrier_fl_num'])\n",
        "X_train.drop(columns=['op_unique_carrier','op_carrier_fl_num'],inplace=True)\n",
        "\n",
        "# feature coding\n",
        "unifl_target_mean = X_train.groupby(['uni_fl'])['arr_delay'].mean()\n",
        "X_train['uni_fl'] =X_train['uni_fl'].map(unifl_target_mean)"
      ],
      "id": "e849635b-4b09-44d0-a009-d2bf371e8d20",
      "execution_count": 7,
      "outputs": [
        {
          "output_type": "stream",
          "text": [
            "/usr/local/lib/python3.7/dist-packages/pandas/core/series.py:4536: SettingWithCopyWarning: \n",
            "A value is trying to be set on a copy of a slice from a DataFrame\n",
            "\n",
            "See the caveats in the documentation: https://pandas.pydata.org/pandas-docs/stable/user_guide/indexing.html#returning-a-view-versus-a-copy\n",
            "  downcast=downcast,\n"
          ],
          "name": "stderr"
        }
      ]
    },
    {
      "cell_type": "code",
      "metadata": {
        "id": "5b5e18d7-de3c-4053-8c68-bc250dcb9b97"
      },
      "source": [
        "#transform fl_date\n",
        "def getmonth(x):\n",
        "    return x.split(sep='-')[1]\n",
        "X_train['month'] = X_train['fl_date'].apply(getmonth)\n",
        "\n",
        "def getdayofweek(x):\n",
        "    year_s, mon_s, day_s = x.split('-')\n",
        "    fl_d = datetime(int(year_s), int(mon_s), int(day_s))\n",
        "    return fl_d.weekday()\n",
        "X_train['day_of_week'] = X_train['fl_date'].apply(getdayofweek)\n",
        "\n",
        "us_holidays = holidays.UnitedStates()\n",
        "def isholiday(x):\n",
        "    year_s, mon_s, day_s = x.split('-')\n",
        "    if datetime(int(year_s), int(mon_s), int(day_s)) in us_holidays:\n",
        "        return 1\n",
        "    else:\n",
        "        return 0\n",
        "X_train['is_holiday'] = X_train['fl_date'].apply(isholiday)\n",
        "\n",
        "y_train = X_train['arr_delay']\n",
        "\n",
        "X_train = X_train.drop(columns=['fl_date','arr_delay'])\n",
        "\n",
        "X_train = pd.get_dummies(X_train,columns=['month','day_of_week'])"
      ],
      "id": "5b5e18d7-de3c-4053-8c68-bc250dcb9b97",
      "execution_count": 8,
      "outputs": []
    },
    {
      "cell_type": "code",
      "metadata": {
        "id": "86f88a4d-8db0-4d15-82bf-f83747c52265"
      },
      "source": [
        "scaler = StandardScaler()\n",
        "X = scaler.fit_transform(X_train)"
      ],
      "id": "86f88a4d-8db0-4d15-82bf-f83747c52265",
      "execution_count": 9,
      "outputs": []
    },
    {
      "cell_type": "code",
      "metadata": {
        "id": "c249cef2-421b-493c-be1d-3ad3ad891db8"
      },
      "source": [
        "x_small = X[:100000]\n",
        "y_small = y_train[:100000]"
      ],
      "id": "c249cef2-421b-493c-be1d-3ad3ad891db8",
      "execution_count": null,
      "outputs": []
    },
    {
      "cell_type": "markdown",
      "metadata": {
        "id": "83b52da6-73f3-408f-ad3a-a9b61387ca9b"
      },
      "source": [
        "### Build X_test"
      ],
      "id": "83b52da6-73f3-408f-ad3a-a9b61387ca9b"
    },
    {
      "cell_type": "code",
      "metadata": {
        "id": "fda72711-48ba-4bb2-bc74-bb85e3ffee12"
      },
      "source": [
        "df_test = pd.read_csv('/drive/My Drive/Colab Notebooks/mid-term/fl_test')"
      ],
      "id": "fda72711-48ba-4bb2-bc74-bb85e3ffee12",
      "execution_count": 9,
      "outputs": []
    },
    {
      "cell_type": "code",
      "metadata": {
        "id": "5037196b-82ad-46b5-9949-d3fcffffb6ce"
      },
      "source": [
        "X_test = df_test[['fl_date','op_unique_carrier','op_carrier_fl_num','arr_delay']]"
      ],
      "id": "5037196b-82ad-46b5-9949-d3fcffffb6ce",
      "execution_count": 10,
      "outputs": []
    },
    {
      "cell_type": "code",
      "metadata": {
        "id": "7c958fab-6d0e-45e4-b8be-402408ab0825",
        "colab": {
          "base_uri": "https://localhost:8080/"
        },
        "outputId": "180208fe-01ef-46a8-e12f-8d520911d32b"
      },
      "source": [
        "# after test data, arr_delay should be 0. \n",
        "X_test['arr_delay'].fillna(0,inplace=True)\n",
        "\n",
        "#remove outliner\n",
        "#X_train = X_train[(X_train['arr_delay'] > -80) & (X_train['arr_delay'] < 180)] \n",
        "\n",
        "#combine features\n",
        "def combine_str_num(x,y):\n",
        "    return x + str(y)\n",
        "X_test['uni_fl'] = np.vectorize(combine_str_num)(X_test['op_unique_carrier'],X_test['op_carrier_fl_num'])\n",
        "X_test.drop(columns=['op_unique_carrier','op_carrier_fl_num'],inplace=True)\n",
        "\n",
        "# feature coding\n",
        "#unifl_target_mean = X_train.groupby(['uni_fl'])['arr_delay'].mean()\n",
        "X_test['uni_fl'] =X_test['uni_fl'].map(unifl_target_mean)"
      ],
      "id": "7c958fab-6d0e-45e4-b8be-402408ab0825",
      "execution_count": 12,
      "outputs": [
        {
          "output_type": "stream",
          "text": [
            "/usr/local/lib/python3.7/dist-packages/pandas/core/series.py:4536: SettingWithCopyWarning: \n",
            "A value is trying to be set on a copy of a slice from a DataFrame\n",
            "\n",
            "See the caveats in the documentation: https://pandas.pydata.org/pandas-docs/stable/user_guide/indexing.html#returning-a-view-versus-a-copy\n",
            "  downcast=downcast,\n",
            "/usr/local/lib/python3.7/dist-packages/ipykernel_launcher.py:10: SettingWithCopyWarning: \n",
            "A value is trying to be set on a copy of a slice from a DataFrame.\n",
            "Try using .loc[row_indexer,col_indexer] = value instead\n",
            "\n",
            "See the caveats in the documentation: https://pandas.pydata.org/pandas-docs/stable/user_guide/indexing.html#returning-a-view-versus-a-copy\n",
            "  # Remove the CWD from sys.path while we load stuff.\n",
            "/usr/local/lib/python3.7/dist-packages/pandas/core/frame.py:4174: SettingWithCopyWarning: \n",
            "A value is trying to be set on a copy of a slice from a DataFrame\n",
            "\n",
            "See the caveats in the documentation: https://pandas.pydata.org/pandas-docs/stable/user_guide/indexing.html#returning-a-view-versus-a-copy\n",
            "  errors=errors,\n",
            "/usr/local/lib/python3.7/dist-packages/ipykernel_launcher.py:15: SettingWithCopyWarning: \n",
            "A value is trying to be set on a copy of a slice from a DataFrame.\n",
            "Try using .loc[row_indexer,col_indexer] = value instead\n",
            "\n",
            "See the caveats in the documentation: https://pandas.pydata.org/pandas-docs/stable/user_guide/indexing.html#returning-a-view-versus-a-copy\n",
            "  from ipykernel import kernelapp as app\n"
          ],
          "name": "stderr"
        }
      ]
    },
    {
      "cell_type": "code",
      "metadata": {
        "id": "91074fc0-666f-4ce1-98fd-6db8f14567c9",
        "colab": {
          "base_uri": "https://localhost:8080/"
        },
        "outputId": "8d70d0d4-ce4e-47d6-81ad-aacc0496241b"
      },
      "source": [
        "#transform fl_date\n",
        "def getmonth(x):\n",
        "    return x.split(sep='-')[1]\n",
        "X_test['month'] = X_test['fl_date'].apply(getmonth)\n",
        "\n",
        "def getdayofweek(x):\n",
        "    year_s, mon_s, day_s = x.split('-')\n",
        "    fl_d = datetime(int(year_s), int(mon_s), int(day_s))\n",
        "    return fl_d.weekday()\n",
        "X_test['day_of_week'] = X_test['fl_date'].apply(getdayofweek)\n",
        "\n",
        "us_holidays = holidays.UnitedStates()\n",
        "def isholiday(x):\n",
        "    year_s, mon_s, day_s = x.split('-')\n",
        "    if datetime(int(year_s), int(mon_s), int(day_s)) in us_holidays:\n",
        "        return 1\n",
        "    else:\n",
        "        return 0\n",
        "X_test['is_holiday'] = X_test['fl_date'].apply(isholiday)\n",
        "\n",
        "y_test = X_test['arr_delay']\n",
        "\n"
      ],
      "id": "91074fc0-666f-4ce1-98fd-6db8f14567c9",
      "execution_count": 13,
      "outputs": [
        {
          "output_type": "stream",
          "text": [
            "/usr/local/lib/python3.7/dist-packages/ipykernel_launcher.py:4: SettingWithCopyWarning: \n",
            "A value is trying to be set on a copy of a slice from a DataFrame.\n",
            "Try using .loc[row_indexer,col_indexer] = value instead\n",
            "\n",
            "See the caveats in the documentation: https://pandas.pydata.org/pandas-docs/stable/user_guide/indexing.html#returning-a-view-versus-a-copy\n",
            "  after removing the cwd from sys.path.\n",
            "/usr/local/lib/python3.7/dist-packages/ipykernel_launcher.py:10: SettingWithCopyWarning: \n",
            "A value is trying to be set on a copy of a slice from a DataFrame.\n",
            "Try using .loc[row_indexer,col_indexer] = value instead\n",
            "\n",
            "See the caveats in the documentation: https://pandas.pydata.org/pandas-docs/stable/user_guide/indexing.html#returning-a-view-versus-a-copy\n",
            "  # Remove the CWD from sys.path while we load stuff.\n",
            "/usr/local/lib/python3.7/dist-packages/ipykernel_launcher.py:19: SettingWithCopyWarning: \n",
            "A value is trying to be set on a copy of a slice from a DataFrame.\n",
            "Try using .loc[row_indexer,col_indexer] = value instead\n",
            "\n",
            "See the caveats in the documentation: https://pandas.pydata.org/pandas-docs/stable/user_guide/indexing.html#returning-a-view-versus-a-copy\n"
          ],
          "name": "stderr"
        }
      ]
    },
    {
      "cell_type": "code",
      "metadata": {
        "id": "e825a156-999d-4e66-95b7-aced207cd477"
      },
      "source": [
        "X_test = X_test.drop(columns=['fl_date','arr_delay'])\n",
        "\n",
        "X_test = pd.get_dummies(X_test,columns=['month','day_of_week'])\n",
        "\n",
        "X_test = scaler.transform(X_test)"
      ],
      "id": "e825a156-999d-4e66-95b7-aced207cd477",
      "execution_count": 14,
      "outputs": []
    },
    {
      "cell_type": "markdown",
      "metadata": {
        "id": "e67cf253-b544-41c0-9052-67d53e958cac"
      },
      "source": [
        "## ElasticNet"
      ],
      "id": "e67cf253-b544-41c0-9052-67d53e958cac"
    },
    {
      "cell_type": "code",
      "metadata": {
        "id": "6Qd41-WgzK5-"
      },
      "source": [
        "ent = ElasticNet()"
      ],
      "id": "6Qd41-WgzK5-",
      "execution_count": 12,
      "outputs": []
    },
    {
      "cell_type": "code",
      "metadata": {
        "id": "1HN2AAmZxMkn"
      },
      "source": [
        "parameters = {'alpha': [0.01,0.1,1,1.5],\n",
        "              'l1_ratio'    : [0.2,0.4,0.6,0.8,1]\n",
        "                 }"
      ],
      "id": "1HN2AAmZxMkn",
      "execution_count": 13,
      "outputs": []
    },
    {
      "cell_type": "code",
      "metadata": {
        "id": "G0QE224II2xV"
      },
      "source": [
        "#randm_src = RandomizedSearchCV(estimator=ent, param_distributions = parameters,\n",
        "                               cv = 5, n_iter = 10)"
      ],
      "id": "G0QE224II2xV",
      "execution_count": 30,
      "outputs": []
    },
    {
      "cell_type": "code",
      "metadata": {
        "id": "KCIhoPBG3icT"
      },
      "source": [
        "#randm_src.fit(X,y_train)"
      ],
      "id": "KCIhoPBG3icT",
      "execution_count": null,
      "outputs": []
    },
    {
      "cell_type": "markdown",
      "metadata": {
        "id": "AFLyQ9fnMA0V"
      },
      "source": [
        ""
      ],
      "id": "AFLyQ9fnMA0V"
    },
    {
      "cell_type": "code",
      "metadata": {
        "id": "609e001c-d121-4e8f-961e-5dec7a66f349"
      },
      "source": [
        "ent = ElasticNet()\n",
        "grid = GridSearchCV(ent, parameters, scoring='r2', cv=5)\n",
        "grid.fit(X, y_train)\n",
        "#Y_pred = grid.predict(X_test)"
      ],
      "id": "609e001c-d121-4e8f-961e-5dec7a66f349",
      "execution_count": null,
      "outputs": []
    },
    {
      "cell_type": "code",
      "metadata": {
        "id": "14a09f24-70ca-4b4f-908e-c714d3505d81"
      },
      "source": [
        "9 + 4"
      ],
      "id": "14a09f24-70ca-4b4f-908e-c714d3505d81",
      "execution_count": null,
      "outputs": []
    },
    {
      "cell_type": "code",
      "metadata": {
        "id": "e0e4cfe1-641f-4548-b898-71a5c84285c0",
        "outputId": "96e3b221-b8ef-4f23-f196-0a456cb1ec36"
      },
      "source": [
        "#first tried\n",
        "grid.best_score_"
      ],
      "id": "e0e4cfe1-641f-4548-b898-71a5c84285c0",
      "execution_count": null,
      "outputs": [
        {
          "data": {
            "text/plain": [
              "0.037004696025849104"
            ]
          },
          "execution_count": 49,
          "metadata": {},
          "output_type": "execute_result"
        }
      ]
    },
    {
      "cell_type": "code",
      "metadata": {
        "id": "f072caa3-c486-4c25-a106-328198dd0fce"
      },
      "source": [
        "import xgboost as xgb\n",
        "from sklearn.metrics import mean_squared_error\n",
        "from sklearn.metrics import r2_score"
      ],
      "id": "f072caa3-c486-4c25-a106-328198dd0fce",
      "execution_count": null,
      "outputs": []
    },
    {
      "cell_type": "code",
      "metadata": {
        "id": "b2d6400c-ddf7-49a6-bc61-5ab1996fdf9f",
        "outputId": "250a38db-04bd-47d8-e41c-77e7b31cf44c"
      },
      "source": [
        "r2_score(y_test,y_pred)"
      ],
      "id": "b2d6400c-ddf7-49a6-bc61-5ab1996fdf9f",
      "execution_count": null,
      "outputs": [
        {
          "data": {
            "text/plain": [
              "-0.0005833909885790689"
            ]
          },
          "execution_count": 43,
          "metadata": {},
          "output_type": "execute_result"
        }
      ]
    },
    {
      "cell_type": "code",
      "metadata": {
        "id": "8156602b-0319-43ce-8a95-a1e4cfb6ae14"
      },
      "source": [
        "parameters = {'learning_rate': sp_randFloat(),\n",
        "                  'subsample'    : sp_randFloat(),\n",
        "                  'n_estimators' : sp_randInt(100, 1000),\n",
        "                  'max_depth'    : sp_randInt(4, 10)\n",
        "                 }"
      ],
      "id": "8156602b-0319-43ce-8a95-a1e4cfb6ae14",
      "execution_count": null,
      "outputs": []
    },
    {
      "cell_type": "code",
      "metadata": {
        "id": "teU_z3UB5unc"
      },
      "source": [
        "randm_src = RandomizedSearchCV(estimator=model, param_distributions = parameters,\n",
        "                               cv = 2, n_iter = 10, n_jobs=-1)"
      ],
      "id": "teU_z3UB5unc",
      "execution_count": null,
      "outputs": []
    }
  ]
}