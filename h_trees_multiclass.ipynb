{
 "cells": [
  {
   "cell_type": "code",
   "execution_count": 2,
   "id": "db418cdf",
   "metadata": {
    "colab": {
     "base_uri": "https://localhost:8080/"
    },
    "id": "Gx6Js4F8VdBf",
    "outputId": "300d454d-5e5f-4c00-b419-febd89d44dd9"
   },
   "outputs": [
    {
     "name": "stdout",
     "output_type": "stream",
     "text": [
      "Drive already mounted at /drive; to attempt to forcibly remount, call drive.mount(\"/drive\", force_remount=True).\n"
     ]
    }
   ],
   "source": [
    "from google.colab import drive\n",
    "drive.mount('/drive')"
   ]
  },
  {
   "cell_type": "code",
   "execution_count": 85,
   "id": "501fd347",
   "metadata": {
    "id": "281d07c9-b978-4a43-980d-1a991c1cf0d1"
   },
   "outputs": [],
   "source": [
    "import pandas as pd\n",
    "import numpy as np\n",
    "from datetime import datetime\n",
    "import holidays\n",
    "from sklearn.model_selection import train_test_split\n",
    "from sklearn.model_selection import GridSearchCV\n",
    "from sklearn.preprocessing import StandardScaler\n",
    "from sklearn.metrics import accuracy_score, roc_auc_score,classification_report,confusion_matrix\n",
    "import matplotlib.pyplot as plt\n",
    "from scipy.stats import  randint\n",
    "import math\n",
    "from sklearn.tree import DecisionTreeClassifier\n",
    "from sklearn.ensemble import RandomForestClassifier\n",
    "import pickle"
   ]
  },
  {
   "cell_type": "markdown",
   "id": "7df43dbb",
   "metadata": {
    "id": "8d5704a2-0584-4232-90cd-0eff389fb4aa"
   },
   "source": [
    "## Build X_train"
   ]
  },
  {
   "cell_type": "code",
   "execution_count": 35,
   "id": "99d7c7ec",
   "metadata": {
    "id": "4d18123c-d7b1-460d-95f7-5d277e6768b5"
   },
   "outputs": [],
   "source": [
    "X_train = pd.read_csv('fl01_train')"
   ]
  },
  {
   "cell_type": "code",
   "execution_count": 4,
   "id": "aef5965c",
   "metadata": {
    "colab": {
     "base_uri": "https://localhost:8080/",
     "height": 165
    },
    "id": "Rx_vwvNL6wno",
    "outputId": "13002839-153b-40f8-a9df-bce831d27b0b"
   },
   "outputs": [
    {
     "name": "stdout",
     "output_type": "stream",
     "text": [
      "<class 'pandas.core.frame.DataFrame'>\n",
      "RangeIndex: 991894 entries, 0 to 991893\n",
      "Data columns (total 22 columns):\n",
      " #   Column               Non-Null Count   Dtype  \n",
      "---  ------               --------------   -----  \n",
      " 0   Unnamed: 0           991894 non-null  int64  \n",
      " 1   Unnamed: 0.1         991894 non-null  int64  \n",
      " 2   fl_date              991894 non-null  object \n",
      " 3   op_unique_carrier    991894 non-null  object \n",
      " 4   tail_num             988128 non-null  object \n",
      " 5   op_carrier_fl_num    991894 non-null  int64  \n",
      " 6   origin_airport_id    991894 non-null  int64  \n",
      " 7   dest_airport_id      991894 non-null  int64  \n",
      " 8   crs_dep_time         991894 non-null  int64  \n",
      " 9   dep_delay            976157 non-null  float64\n",
      " 10  crs_arr_time         991894 non-null  int64  \n",
      " 11  arr_delay            974040 non-null  float64\n",
      " 12  cancelled            991894 non-null  float64\n",
      " 13  cancellation_code    15724 non-null   object \n",
      " 14  crs_elapsed_time     991888 non-null  float64\n",
      " 15  distance             991894 non-null  float64\n",
      " 16  carrier_delay        179618 non-null  float64\n",
      " 17  weather_delay        179618 non-null  float64\n",
      " 18  nas_delay            179618 non-null  float64\n",
      " 19  security_delay       179618 non-null  float64\n",
      " 20  late_aircraft_delay  179618 non-null  float64\n",
      " 21  month                991894 non-null  int64  \n",
      "dtypes: float64(10), int64(8), object(4)\n",
      "memory usage: 166.5+ MB\n"
     ]
    }
   ],
   "source": [
    "X_train.info()"
   ]
  },
  {
   "cell_type": "code",
   "execution_count": 36,
   "id": "719f7b74",
   "metadata": {
    "id": "9ceccaf7-f84c-408e-8caa-9c11595f4779"
   },
   "outputs": [],
   "source": [
    "X_train = X_train[['fl_date','op_unique_carrier','op_carrier_fl_num','origin_airport_id','crs_dep_time','dest_airport_id','crs_arr_time','distance','arr_delay','carrier_delay','weather_delay','nas_delay','security_delay','late_aircraft_delay']]"
   ]
  },
  {
   "cell_type": "code",
   "execution_count": 51,
   "id": "e668c4bf",
   "metadata": {},
   "outputs": [
    {
     "data": {
      "text/html": [
       "<div>\n",
       "<style scoped>\n",
       "    .dataframe tbody tr th:only-of-type {\n",
       "        vertical-align: middle;\n",
       "    }\n",
       "\n",
       "    .dataframe tbody tr th {\n",
       "        vertical-align: top;\n",
       "    }\n",
       "\n",
       "    .dataframe thead th {\n",
       "        text-align: right;\n",
       "    }\n",
       "</style>\n",
       "<table border=\"1\" class=\"dataframe\">\n",
       "  <thead>\n",
       "    <tr style=\"text-align: right;\">\n",
       "      <th></th>\n",
       "      <th>distance</th>\n",
       "      <th>uni_fl</th>\n",
       "      <th>arr_airport_hour</th>\n",
       "      <th>dep_airport_hour</th>\n",
       "      <th>is_holiday</th>\n",
       "      <th>dow_sin</th>\n",
       "      <th>dow_cos</th>\n",
       "    </tr>\n",
       "  </thead>\n",
       "  <tbody>\n",
       "    <tr>\n",
       "      <th>0</th>\n",
       "      <td>2106.0</td>\n",
       "      <td>-8.642857</td>\n",
       "      <td>-6.284264</td>\n",
       "      <td>0.133843</td>\n",
       "      <td>0</td>\n",
       "      <td>-0.974927</td>\n",
       "      <td>-0.222525</td>\n",
       "    </tr>\n",
       "    <tr>\n",
       "      <th>1</th>\n",
       "      <td>1243.0</td>\n",
       "      <td>-1.666667</td>\n",
       "      <td>-4.724080</td>\n",
       "      <td>8.300518</td>\n",
       "      <td>0</td>\n",
       "      <td>-0.781834</td>\n",
       "      <td>0.623486</td>\n",
       "    </tr>\n",
       "    <tr>\n",
       "      <th>2</th>\n",
       "      <td>612.0</td>\n",
       "      <td>-1.461538</td>\n",
       "      <td>10.879245</td>\n",
       "      <td>15.880258</td>\n",
       "      <td>0</td>\n",
       "      <td>-0.000005</td>\n",
       "      <td>1.000000</td>\n",
       "    </tr>\n",
       "    <tr>\n",
       "      <th>3</th>\n",
       "      <td>515.0</td>\n",
       "      <td>-5.575758</td>\n",
       "      <td>2.895881</td>\n",
       "      <td>14.562380</td>\n",
       "      <td>0</td>\n",
       "      <td>-0.974927</td>\n",
       "      <td>-0.222525</td>\n",
       "    </tr>\n",
       "    <tr>\n",
       "      <th>4</th>\n",
       "      <td>1561.0</td>\n",
       "      <td>-7.333333</td>\n",
       "      <td>2.227273</td>\n",
       "      <td>-0.149701</td>\n",
       "      <td>0</td>\n",
       "      <td>-0.000005</td>\n",
       "      <td>1.000000</td>\n",
       "    </tr>\n",
       "  </tbody>\n",
       "</table>\n",
       "</div>"
      ],
      "text/plain": [
       "   distance    uni_fl  arr_airport_hour  dep_airport_hour  is_holiday  \\\n",
       "0    2106.0 -8.642857         -6.284264          0.133843           0   \n",
       "1    1243.0 -1.666667         -4.724080          8.300518           0   \n",
       "2     612.0 -1.461538         10.879245         15.880258           0   \n",
       "3     515.0 -5.575758          2.895881         14.562380           0   \n",
       "4    1561.0 -7.333333          2.227273         -0.149701           0   \n",
       "\n",
       "    dow_sin   dow_cos  \n",
       "0 -0.974927 -0.222525  \n",
       "1 -0.781834  0.623486  \n",
       "2 -0.000005  1.000000  \n",
       "3 -0.974927 -0.222525  \n",
       "4 -0.000005  1.000000  "
      ]
     },
     "execution_count": 51,
     "metadata": {},
     "output_type": "execute_result"
    }
   ],
   "source": [
    "X_train.head()"
   ]
  },
  {
   "cell_type": "code",
   "execution_count": 40,
   "id": "d0cd2f5f",
   "metadata": {},
   "outputs": [],
   "source": [
    "y_del_class = X_train['delay_class']"
   ]
  },
  {
   "cell_type": "code",
   "execution_count": 42,
   "id": "d9752967",
   "metadata": {},
   "outputs": [],
   "source": [
    "X_train['delay_class'].to_csv('train_y_del_cls')"
   ]
  },
  {
   "cell_type": "code",
   "execution_count": 38,
   "id": "73f7c468",
   "metadata": {},
   "outputs": [],
   "source": [
    "def delay_cla(a,b,c,d,e):\n",
    "    l = pd.Series([a,b,c,d,e]).fillna(0)\n",
    "    if l.sum() == 0:\n",
    "        return 0\n",
    "    else: \n",
    "        return l.idxmax() + 1\n",
    "\n",
    "#print(delay_cla(None,1,None,3,None))\n",
    "X_train['delay_class'] = X_train[['carrier_delay','weather_delay','nas_delay','security_delay','late_aircraft_delay']].apply(lambda X_train: delay_cla(X_train['carrier_delay'],X_train['weather_delay'],X_train['nas_delay'],X_train['security_delay'],X_train['late_aircraft_delay']),axis=1)\n",
    "#X_train['delay_class'] = np.vectorize(delay_cla)(X_train[['carrier_delay','weather_delay','nas_delay','security_delay','late_aircraft_delay']])\n",
    "#X_train['delay_class'] = np.vectorize(delay_cla)(X_train['carrier_delay'],X_train['weather_delay'],X_train['nas_delay'],X_train['security_delay'],X_train['late_aircraft_delay'])"
   ]
  },
  {
   "cell_type": "code",
   "execution_count": 50,
   "id": "a6ee565a",
   "metadata": {},
   "outputs": [],
   "source": [
    "X_train.drop(columns=['carrier_delay','weather_delay','nas_delay','security_delay','late_aircraft_delay'],inplace=True)"
   ]
  },
  {
   "cell_type": "code",
   "execution_count": 16,
   "id": "8b667ab6",
   "metadata": {},
   "outputs": [],
   "source": [
    "arr_d_match = X_train.groupby(['delay_cls'])['arr_delay'].mean()"
   ]
  },
  {
   "cell_type": "code",
   "execution_count": 17,
   "id": "11f2e144",
   "metadata": {},
   "outputs": [
    {
     "data": {
      "text/plain": [
       "delay_cls\n",
       "0    -84.188470\n",
       "1    -31.147642\n",
       "2    -11.231984\n",
       "3      8.376291\n",
       "4     35.723876\n",
       "5    100.855927\n",
       "6    320.689599\n",
       "Name: arr_delay, dtype: float64"
      ]
     },
     "execution_count": 17,
     "metadata": {},
     "output_type": "execute_result"
    }
   ],
   "source": [
    "arr_d_match"
   ]
  },
  {
   "cell_type": "code",
   "execution_count": 43,
   "id": "ae6283a5",
   "metadata": {
    "id": "e849635b-4b09-44d0-a009-d2bf371e8d20"
   },
   "outputs": [],
   "source": [
    "# after test data, arr_delay should be 0. \n",
    "X_train['arr_delay'].fillna(0,inplace=True)\n",
    "\n",
    "#remove outliner\n",
    "#X_train = X_train[(X_train['arr_delay'] > -80) & (X_train['arr_delay'] <= 480)] \n",
    "\n",
    "#combine features\n",
    "def combine_str_num(x,y):\n",
    "    return x + str(y)\n",
    "X_train['uni_fl'] = np.vectorize(combine_str_num)(X_train['op_unique_carrier'],X_train['op_carrier_fl_num'])\n",
    "X_train.drop(columns=['op_unique_carrier','op_carrier_fl_num'],inplace=True)\n",
    "\n",
    "# feature coding\n",
    "total_target_mean = np.mean(X_train['arr_delay'])\n",
    "unifl_target_mean = X_train.groupby(['uni_fl'])['arr_delay'].mean()\n",
    "X_train['uni_fl'] =X_train['uni_fl'].map(unifl_target_mean)"
   ]
  },
  {
   "cell_type": "code",
   "execution_count": 44,
   "id": "174f655b",
   "metadata": {},
   "outputs": [],
   "source": [
    "## Combine the airportid and related hour\n",
    "def airport_hour(id,t):\n",
    "    '''\n",
    "    combine airport and hour to a new field\n",
    "    '''\n",
    "    h = str(t)[:-2]\n",
    "    if len(h) < 1:\n",
    "        return str(id) + '24'\n",
    "    elif len(h) < 2:\n",
    "        return str(id) + '0' + h\n",
    "    else:\n",
    "        return str(id) + h\n",
    "    \n",
    "X_train['arr_airport_hour'] = np.vectorize(airport_hour)(X_train['dest_airport_id'],X_train['crs_arr_time'])\n",
    "X_train['dep_airport_hour'] = np.vectorize(airport_hour)(X_train['origin_airport_id'],X_train['crs_dep_time'])\n",
    "\n",
    "# feature coding\n",
    "dep_hour_target_mean = X_train.groupby(['dep_airport_hour'])['arr_delay'].mean()\n",
    "X_train['dep_airport_hour'] =X_train['dep_airport_hour'].map(dep_hour_target_mean)\n",
    "arr_hour_target_mean = X_train.groupby(['arr_airport_hour'])['arr_delay'].mean()\n",
    "X_train['arr_airport_hour'] =X_train['arr_airport_hour'].map(arr_hour_target_mean)\n",
    "\n",
    "X_train.drop(columns=['dest_airport_id','crs_arr_time','origin_airport_id','crs_dep_time'],inplace=True)"
   ]
  },
  {
   "cell_type": "code",
   "execution_count": 45,
   "id": "0b64ba4e",
   "metadata": {
    "id": "5b5e18d7-de3c-4053-8c68-bc250dcb9b97"
   },
   "outputs": [],
   "source": [
    "#transform fl_date\n",
    "#def getmonth(x):\n",
    "#    return x.split(sep='-')[1]\n",
    "#X_train['month'] = X_train['fl_date'].apply(getmonth)\n",
    "\n",
    "def getdayofweek(x):\n",
    "    year_s, mon_s, day_s = x.split('-')\n",
    "    fl_d = datetime(int(year_s), int(mon_s), int(day_s))\n",
    "    return fl_d.weekday() + 1\n",
    "X_train['day_of_week'] = X_train['fl_date'].apply(getdayofweek)\n",
    "\n",
    "us_holidays = holidays.UnitedStates()\n",
    "def isholiday(x):\n",
    "    year_s, mon_s, day_s = x.split('-')\n",
    "    if datetime(int(year_s), int(mon_s), int(day_s)) in us_holidays:\n",
    "        return 1\n",
    "    else:\n",
    "        return 0\n",
    "X_train['is_holiday'] = X_train['fl_date'].apply(isholiday)\n",
    "\n",
    "\n",
    "pi=3.14159\n",
    "def transformation(column):\n",
    "  max_value = column.max()\n",
    "  sin_values = [math.sin((2*pi*x)/max_value) for x in list(column)]\n",
    "  cos_values = [math.cos((2*pi*x)/max_value) for x in list(column)]\n",
    "  return sin_values, cos_values\n",
    "\n",
    "sin_l, cos_l = transformation(X_train['day_of_week'])\n",
    "\n",
    "X_train['dow_sin'] = sin_l\n",
    "X_train['dow_cos'] = cos_l"
   ]
  },
  {
   "cell_type": "code",
   "execution_count": 47,
   "id": "ff1bad71",
   "metadata": {},
   "outputs": [],
   "source": [
    "y_train = X_train['delay_class']\n",
    "\n",
    "X_train = X_train.drop(columns=['fl_date','arr_delay','day_of_week','delay_class'])\n",
    "\n",
    "#X_train = pd.get_dummies(X_train,columns=['month','day_of_week'])"
   ]
  },
  {
   "cell_type": "code",
   "execution_count": 18,
   "id": "27df6027",
   "metadata": {
    "id": "86f88a4d-8db0-4d15-82bf-f83747c52265"
   },
   "outputs": [],
   "source": [
    "#scaler = StandardScaler()\n",
    "#X = scaler.fit_transform(X_train)"
   ]
  },
  {
   "cell_type": "code",
   "execution_count": null,
   "id": "6bd7aa9c",
   "metadata": {
    "id": "c249cef2-421b-493c-be1d-3ad3ad891db8"
   },
   "outputs": [],
   "source": [
    "#x_small = X[:100000]\n",
    "#y_small = y_train[:100000]"
   ]
  },
  {
   "cell_type": "markdown",
   "id": "addfc6b0",
   "metadata": {
    "id": "83b52da6-73f3-408f-ad3a-a9b61387ca9b"
   },
   "source": [
    "### Build X_test"
   ]
  },
  {
   "cell_type": "code",
   "execution_count": 57,
   "id": "e7717f6e",
   "metadata": {
    "id": "fda72711-48ba-4bb2-bc74-bb85e3ffee12"
   },
   "outputs": [],
   "source": [
    "X_test = pd.read_csv('fl01_test')"
   ]
  },
  {
   "cell_type": "code",
   "execution_count": 58,
   "id": "c6438e13",
   "metadata": {
    "id": "5037196b-82ad-46b5-9949-d3fcffffb6ce"
   },
   "outputs": [],
   "source": [
    "X_test = X_test[['fl_date','op_unique_carrier','op_carrier_fl_num','origin_airport_id','crs_dep_time','dest_airport_id','crs_arr_time','distance','arr_delay','carrier_delay','weather_delay','nas_delay','security_delay','late_aircraft_delay']]"
   ]
  },
  {
   "cell_type": "code",
   "execution_count": 61,
   "id": "216eed7f",
   "metadata": {},
   "outputs": [
    {
     "data": {
      "text/html": [
       "<div>\n",
       "<style scoped>\n",
       "    .dataframe tbody tr th:only-of-type {\n",
       "        vertical-align: middle;\n",
       "    }\n",
       "\n",
       "    .dataframe tbody tr th {\n",
       "        vertical-align: top;\n",
       "    }\n",
       "\n",
       "    .dataframe thead th {\n",
       "        text-align: right;\n",
       "    }\n",
       "</style>\n",
       "<table border=\"1\" class=\"dataframe\">\n",
       "  <thead>\n",
       "    <tr style=\"text-align: right;\">\n",
       "      <th></th>\n",
       "      <th>fl_date</th>\n",
       "      <th>op_unique_carrier</th>\n",
       "      <th>op_carrier_fl_num</th>\n",
       "      <th>origin_airport_id</th>\n",
       "      <th>crs_dep_time</th>\n",
       "      <th>dest_airport_id</th>\n",
       "      <th>crs_arr_time</th>\n",
       "      <th>distance</th>\n",
       "      <th>arr_delay</th>\n",
       "      <th>carrier_delay</th>\n",
       "      <th>weather_delay</th>\n",
       "      <th>nas_delay</th>\n",
       "      <th>security_delay</th>\n",
       "      <th>late_aircraft_delay</th>\n",
       "      <th>delay_class</th>\n",
       "    </tr>\n",
       "  </thead>\n",
       "  <tbody>\n",
       "    <tr>\n",
       "      <th>0</th>\n",
       "      <td>2018-01-21</td>\n",
       "      <td>AA</td>\n",
       "      <td>9</td>\n",
       "      <td>12478</td>\n",
       "      <td>700</td>\n",
       "      <td>14771</td>\n",
       "      <td>1049</td>\n",
       "      <td>2586.0</td>\n",
       "      <td>-36.0</td>\n",
       "      <td>NaN</td>\n",
       "      <td>NaN</td>\n",
       "      <td>NaN</td>\n",
       "      <td>NaN</td>\n",
       "      <td>NaN</td>\n",
       "      <td>0</td>\n",
       "    </tr>\n",
       "    <tr>\n",
       "      <th>1</th>\n",
       "      <td>2018-01-12</td>\n",
       "      <td>WN</td>\n",
       "      <td>1832</td>\n",
       "      <td>11278</td>\n",
       "      <td>600</td>\n",
       "      <td>13204</td>\n",
       "      <td>825</td>\n",
       "      <td>759.0</td>\n",
       "      <td>82.0</td>\n",
       "      <td>81.0</td>\n",
       "      <td>0.0</td>\n",
       "      <td>1.0</td>\n",
       "      <td>0.0</td>\n",
       "      <td>0.0</td>\n",
       "      <td>1</td>\n",
       "    </tr>\n",
       "    <tr>\n",
       "      <th>2</th>\n",
       "      <td>2019-01-27</td>\n",
       "      <td>WN</td>\n",
       "      <td>1699</td>\n",
       "      <td>14893</td>\n",
       "      <td>825</td>\n",
       "      <td>10423</td>\n",
       "      <td>1345</td>\n",
       "      <td>1481.0</td>\n",
       "      <td>-24.0</td>\n",
       "      <td>NaN</td>\n",
       "      <td>NaN</td>\n",
       "      <td>NaN</td>\n",
       "      <td>NaN</td>\n",
       "      <td>NaN</td>\n",
       "      <td>0</td>\n",
       "    </tr>\n",
       "    <tr>\n",
       "      <th>3</th>\n",
       "      <td>2018-01-01</td>\n",
       "      <td>EV</td>\n",
       "      <td>3978</td>\n",
       "      <td>13930</td>\n",
       "      <td>715</td>\n",
       "      <td>14524</td>\n",
       "      <td>1018</td>\n",
       "      <td>642.0</td>\n",
       "      <td>6.0</td>\n",
       "      <td>NaN</td>\n",
       "      <td>NaN</td>\n",
       "      <td>NaN</td>\n",
       "      <td>NaN</td>\n",
       "      <td>NaN</td>\n",
       "      <td>0</td>\n",
       "    </tr>\n",
       "    <tr>\n",
       "      <th>4</th>\n",
       "      <td>2018-01-22</td>\n",
       "      <td>F9</td>\n",
       "      <td>649</td>\n",
       "      <td>12953</td>\n",
       "      <td>920</td>\n",
       "      <td>11193</td>\n",
       "      <td>1133</td>\n",
       "      <td>585.0</td>\n",
       "      <td>19.0</td>\n",
       "      <td>0.0</td>\n",
       "      <td>0.0</td>\n",
       "      <td>19.0</td>\n",
       "      <td>0.0</td>\n",
       "      <td>0.0</td>\n",
       "      <td>3</td>\n",
       "    </tr>\n",
       "  </tbody>\n",
       "</table>\n",
       "</div>"
      ],
      "text/plain": [
       "      fl_date op_unique_carrier  op_carrier_fl_num  origin_airport_id  \\\n",
       "0  2018-01-21                AA                  9              12478   \n",
       "1  2018-01-12                WN               1832              11278   \n",
       "2  2019-01-27                WN               1699              14893   \n",
       "3  2018-01-01                EV               3978              13930   \n",
       "4  2018-01-22                F9                649              12953   \n",
       "\n",
       "   crs_dep_time  dest_airport_id  crs_arr_time  distance  arr_delay  \\\n",
       "0           700            14771          1049    2586.0      -36.0   \n",
       "1           600            13204           825     759.0       82.0   \n",
       "2           825            10423          1345    1481.0      -24.0   \n",
       "3           715            14524          1018     642.0        6.0   \n",
       "4           920            11193          1133     585.0       19.0   \n",
       "\n",
       "   carrier_delay  weather_delay  nas_delay  security_delay  \\\n",
       "0            NaN            NaN        NaN             NaN   \n",
       "1           81.0            0.0        1.0             0.0   \n",
       "2            NaN            NaN        NaN             NaN   \n",
       "3            NaN            NaN        NaN             NaN   \n",
       "4            0.0            0.0       19.0             0.0   \n",
       "\n",
       "   late_aircraft_delay  delay_class  \n",
       "0                  NaN            0  \n",
       "1                  0.0            1  \n",
       "2                  NaN            0  \n",
       "3                  NaN            0  \n",
       "4                  0.0            3  "
      ]
     },
     "execution_count": 61,
     "metadata": {},
     "output_type": "execute_result"
    }
   ],
   "source": [
    "X_test.head()"
   ]
  },
  {
   "cell_type": "code",
   "execution_count": 71,
   "id": "c4dd11f1",
   "metadata": {},
   "outputs": [
    {
     "data": {
      "text/plain": [
       "distance                    0\n",
       "carrier_delay          202740\n",
       "weather_delay          202740\n",
       "nas_delay              202740\n",
       "security_delay         202740\n",
       "late_aircraft_delay    202740\n",
       "uni_fl                      0\n",
       "arr_airport_hour            0\n",
       "dep_airport_hour            0\n",
       "is_holiday                  0\n",
       "dow_sin                     0\n",
       "dow_cos                     0\n",
       "dtype: int64"
      ]
     },
     "execution_count": 71,
     "metadata": {},
     "output_type": "execute_result"
    }
   ],
   "source": [
    "X_test.isnull().sum()"
   ]
  },
  {
   "cell_type": "code",
   "execution_count": 60,
   "id": "3726b516",
   "metadata": {},
   "outputs": [],
   "source": [
    "X_test['delay_class'] = np.vectorize(delay_cla)(X_test['carrier_delay'],X_test['weather_delay'],X_test['nas_delay'],X_test['security_delay'],X_test['late_aircraft_delay'])"
   ]
  },
  {
   "cell_type": "code",
   "execution_count": 64,
   "id": "e5d0b80a",
   "metadata": {},
   "outputs": [],
   "source": [
    "y_test_del_class = X_test['delay_class']\n",
    "X_test['delay_class'].to_csv('test_y_del_cls')"
   ]
  },
  {
   "cell_type": "code",
   "execution_count": 72,
   "id": "36591393",
   "metadata": {},
   "outputs": [],
   "source": [
    "X_test.drop(columns=['carrier_delay','weather_delay','nas_delay','security_delay','late_aircraft_delay'],inplace=True)"
   ]
  },
  {
   "cell_type": "code",
   "execution_count": 65,
   "id": "a01cdccc",
   "metadata": {
    "id": "7c958fab-6d0e-45e4-b8be-402408ab0825"
   },
   "outputs": [],
   "source": [
    "# after test data, arr_delay should be 0. \n",
    "X_test['arr_delay'].fillna(0,inplace=True)\n",
    "\n",
    "#remove outliner\n",
    "#X_train = X_train[(X_train['arr_delay'] > -80) & (X_train['arr_delay'] < 180)] \n",
    "\n",
    "#combine features\n",
    "def combine_str_num(x,y):\n",
    "    return x + str(y)\n",
    "X_test['uni_fl'] = np.vectorize(combine_str_num)(X_test['op_unique_carrier'],X_test['op_carrier_fl_num'])\n",
    "X_test.drop(columns=['op_unique_carrier','op_carrier_fl_num'],inplace=True)\n",
    "\n",
    "# feature coding\n",
    "#unifl_target_mean = X_test.groupby(['uni_fl'])['arr_delay'].mean()\n",
    "X_test['uni_fl'] =X_test['uni_fl'].map(unifl_target_mean)\n",
    "X_test['uni_fl'].fillna(total_target_mean,inplace=True)"
   ]
  },
  {
   "cell_type": "code",
   "execution_count": null,
   "id": "3016ad7e",
   "metadata": {},
   "outputs": [],
   "source": [
    "#Transform arr delay\n",
    "#X_test['delay_cls'] = X_test['arr_delay'].apply(tran_delay)"
   ]
  },
  {
   "cell_type": "code",
   "execution_count": 67,
   "id": "d41c1148",
   "metadata": {},
   "outputs": [],
   "source": [
    "## Combine the airportid and related hour\n",
    "def airport_hour(id,t):\n",
    "    '''\n",
    "    combine airport and hour to a new field\n",
    "    '''\n",
    "    h = str(t)[:-2]\n",
    "    if len(h) < 1:\n",
    "        return str(id) + '24'\n",
    "    elif len(h) < 2:\n",
    "        return str(id) + '0' + h\n",
    "    else:\n",
    "        return str(id) + h\n",
    "    \n",
    "X_test['arr_airport_hour'] = np.vectorize(airport_hour)(X_test['dest_airport_id'],X_test['crs_arr_time'])\n",
    "X_test['dep_airport_hour'] = np.vectorize(airport_hour)(X_test['origin_airport_id'],X_test['crs_dep_time'])\n",
    "\n",
    "# feature coding\n",
    "#dep_hour_target_mean = X_train.groupby(['dep_airport_hour'])['arr_delay'].mean()\n",
    "X_test['dep_airport_hour'] =X_test['dep_airport_hour'].map(dep_hour_target_mean)\n",
    "#arr_hour_target_mean = X_train.groupby(['arr_airport_hour'])['arr_delay'].mean()\n",
    "X_test['arr_airport_hour'] =X_test['arr_airport_hour'].map(arr_hour_target_mean)\n",
    "\n",
    "X_test['arr_airport_hour'].fillna(total_target_mean,inplace=True)\n",
    "X_test['dep_airport_hour'].fillna(total_target_mean,inplace=True)\n",
    "\n",
    "X_test.drop(columns=['dest_airport_id','crs_arr_time','origin_airport_id','crs_dep_time'],inplace=True)"
   ]
  },
  {
   "cell_type": "code",
   "execution_count": 68,
   "id": "e155edb5",
   "metadata": {
    "id": "91074fc0-666f-4ce1-98fd-6db8f14567c9"
   },
   "outputs": [],
   "source": [
    "#transform fl_date\n",
    "#def getmonth(x):\n",
    "#    return x.split(sep='-')[1]\n",
    "#X_test['month'] = X_test['fl_date'].apply(getmonth)\n",
    "\n",
    "def getdayofweek(x):\n",
    "    year_s, mon_s, day_s = x.split('-')\n",
    "    fl_d = datetime(int(year_s), int(mon_s), int(day_s))\n",
    "    return fl_d.weekday() + 1\n",
    "X_test['day_of_week'] = X_test['fl_date'].apply(getdayofweek)\n",
    "\n",
    "us_holidays = holidays.UnitedStates()\n",
    "def isholiday(x):\n",
    "    year_s, mon_s, day_s = x.split('-')\n",
    "    if datetime(int(year_s), int(mon_s), int(day_s)) in us_holidays:\n",
    "        return 1\n",
    "    else:\n",
    "        return 0\n",
    "X_test['is_holiday'] = X_test['fl_date'].apply(isholiday)\n",
    "\n",
    "\n",
    "\n",
    "pi=3.14159\n",
    "def transformation(column):\n",
    "  max_value = column.max()\n",
    "  sin_values = [math.sin((2*pi*x)/max_value) for x in list(column)]\n",
    "  cos_values = [math.cos((2*pi*x)/max_value) for x in list(column)]\n",
    "  return sin_values, cos_values\n",
    "\n",
    "sin_l, cos_l = transformation(X_test['day_of_week'])\n",
    "\n",
    "X_test['dow_sin'] = sin_l\n",
    "X_test['dow_cos'] = cos_l\n",
    "\n"
   ]
  },
  {
   "cell_type": "code",
   "execution_count": 69,
   "id": "687a2cf4",
   "metadata": {
    "id": "e825a156-999d-4e66-95b7-aced207cd477"
   },
   "outputs": [],
   "source": [
    "y_test = X_test['delay_class']\n",
    "\n",
    "X_test = X_test.drop(columns=['fl_date','arr_delay','day_of_week','delay_class'])\n",
    "\n",
    "#X_test = pd.get_dummies(X_test,columns=['month','day_of_week'])\n",
    "\n",
    "#X_test = scaler.transform(X_test)"
   ]
  },
  {
   "cell_type": "markdown",
   "id": "fe0774d8",
   "metadata": {
    "id": "AFLyQ9fnMA0V"
   },
   "source": []
  },
  {
   "cell_type": "code",
   "execution_count": 14,
   "id": "5f8c82c3",
   "metadata": {
    "id": "wrqH53hG1rsI"
   },
   "outputs": [],
   "source": [
    "###  Decision Tree"
   ]
  },
  {
   "cell_type": "code",
   "execution_count": null,
   "id": "68fee7c6",
   "metadata": {},
   "outputs": [],
   "source": [
    "# Create Decision Tree classifer object\n",
    "clf = DecisionTreeClassifier()\n",
    "\n",
    "# Train Decision Tree Classifer\n",
    "clf = clf.fit(X_train,y_train)\n",
    "\n",
    "#Predict the response for test dataset\n",
    "y_pred = clf.predict(X_test)"
   ]
  },
  {
   "cell_type": "code",
   "execution_count": 73,
   "id": "b93083a2",
   "metadata": {},
   "outputs": [],
   "source": [
    "y_pred = clf.predict(X_test)"
   ]
  },
  {
   "cell_type": "code",
   "execution_count": 74,
   "id": "74e571b2",
   "metadata": {},
   "outputs": [
    {
     "name": "stdout",
     "output_type": "stream",
     "text": [
      "Accuracy: 0.7696694008242799\n"
     ]
    }
   ],
   "source": [
    "# Model Accuracy, how often is the classifier correct?\n",
    "print(\"Accuracy:\",accuracy_score(y_test, y_pred))\n",
    "#print(\"ROC score\", roc_auc_score(y_test,y_pred,multi_class='ovr'))"
   ]
  },
  {
   "cell_type": "code",
   "execution_count": 77,
   "id": "41886b18",
   "metadata": {},
   "outputs": [
    {
     "name": "stdout",
     "output_type": "stream",
     "text": [
      "              precision    recall  f1-score   support\n",
      "\n",
      "           0       0.83      0.93      0.87    202740\n",
      "           1       0.08      0.04      0.05     12054\n",
      "           2       0.03      0.01      0.01      1756\n",
      "           3       0.16      0.07      0.10     14254\n",
      "           4       0.00      0.00      0.00        66\n",
      "           5       0.16      0.07      0.10     17104\n",
      "\n",
      "    accuracy                           0.77    247974\n",
      "   macro avg       0.21      0.19      0.19    247974\n",
      "weighted avg       0.70      0.77      0.73    247974\n",
      "\n"
     ]
    }
   ],
   "source": [
    "print(classification_report(y_test,y_pred))"
   ]
  },
  {
   "cell_type": "code",
   "execution_count": 72,
   "id": "3b8fabfd",
   "metadata": {},
   "outputs": [],
   "source": [
    "#Random Forest"
   ]
  },
  {
   "cell_type": "code",
   "execution_count": 47,
   "id": "be2ff5d5",
   "metadata": {},
   "outputs": [],
   "source": [
    "#Create a Gaussian Classifier\n",
    "clf=RandomForestClassifier(n_estimators=100)\n",
    "\n",
    "#Train the model using the training sets y_pred=clf.predict(X_test)\n",
    "clf.fit(X_train,y_train)\n",
    "\n",
    "y_pred_r=clf.predict(X_test)"
   ]
  },
  {
   "cell_type": "code",
   "execution_count": 52,
   "id": "b9f3134e",
   "metadata": {},
   "outputs": [
    {
     "data": {
      "text/plain": [
       "array([0.20215096, 0.26113699, 0.21012088, 0.21025372, 0.00632843,\n",
       "       0.05484196, 0.05516707])"
      ]
     },
     "execution_count": 52,
     "metadata": {},
     "output_type": "execute_result"
    }
   ],
   "source": [
    "clf.feature_importances_"
   ]
  },
  {
   "cell_type": "code",
   "execution_count": 78,
   "id": "b41ca5cd",
   "metadata": {},
   "outputs": [],
   "source": [
    "param_grid = {'n_estimators':[50], 'max_depth':[6,8,10],'min_samples_leaf':[2,6,10]}\n",
    "rg = GridSearchCV(estimator=RandomForestClassifier(), param_grid=param_grid, cv=5, n_jobs=-1)"
   ]
  },
  {
   "cell_type": "code",
   "execution_count": 79,
   "id": "bc54bf2d",
   "metadata": {},
   "outputs": [
    {
     "data": {
      "text/plain": [
       "GridSearchCV(cv=5, estimator=RandomForestClassifier(), n_jobs=-1,\n",
       "             param_grid={'max_depth': [6, 8, 10],\n",
       "                         'min_samples_leaf': [2, 6, 10], 'n_estimators': [50]})"
      ]
     },
     "execution_count": 79,
     "metadata": {},
     "output_type": "execute_result"
    }
   ],
   "source": [
    "rg.fit(X_train,y_train)"
   ]
  },
  {
   "cell_type": "code",
   "execution_count": 81,
   "id": "efb9ad0e",
   "metadata": {},
   "outputs": [
    {
     "data": {
      "text/plain": [
       "RandomForestClassifier(max_depth=10, min_samples_leaf=2, n_estimators=50)"
      ]
     },
     "execution_count": 81,
     "metadata": {},
     "output_type": "execute_result"
    }
   ],
   "source": [
    "rg.best_estimator_"
   ]
  },
  {
   "cell_type": "code",
   "execution_count": 80,
   "id": "1e78f8e9",
   "metadata": {},
   "outputs": [],
   "source": [
    "y_pred_r = rg.predict(X_test)"
   ]
  },
  {
   "cell_type": "code",
   "execution_count": 82,
   "id": "1ecc5f01",
   "metadata": {},
   "outputs": [
    {
     "name": "stdout",
     "output_type": "stream",
     "text": [
      "Accuracy: 0.8176139433972917\n"
     ]
    }
   ],
   "source": [
    "# Model Accuracy, how often is the classifier correct?\n",
    "print(\"Accuracy:\",accuracy_score(y_test, y_pred_r))"
   ]
  },
  {
   "cell_type": "code",
   "execution_count": 84,
   "id": "552a0409",
   "metadata": {},
   "outputs": [
    {
     "name": "stdout",
     "output_type": "stream",
     "text": [
      "              precision    recall  f1-score   support\n",
      "\n",
      "           0       0.82      1.00      0.90    202740\n",
      "           1       0.00      0.00      0.00     12054\n",
      "           2       0.00      0.00      0.00      1756\n",
      "           3       0.53      0.00      0.00     14254\n",
      "           4       0.00      0.00      0.00        66\n",
      "           5       0.50      0.00      0.00     17104\n",
      "\n",
      "    accuracy                           0.82    247974\n",
      "   macro avg       0.31      0.17      0.15    247974\n",
      "weighted avg       0.73      0.82      0.74    247974\n",
      "\n"
     ]
    },
    {
     "name": "stderr",
     "output_type": "stream",
     "text": [
      "/home/ec2-user/anaconda3/envs/pytorch_latest_p37/lib/python3.7/site-packages/sklearn/metrics/_classification.py:1221: UndefinedMetricWarning: Precision and F-score are ill-defined and being set to 0.0 in labels with no predicted samples. Use `zero_division` parameter to control this behavior.\n",
      "  _warn_prf(average, modifier, msg_start, len(result))\n"
     ]
    }
   ],
   "source": [
    "print(classification_report(y_test,y_pred_r,zero_division=))"
   ]
  },
  {
   "cell_type": "code",
   "execution_count": 86,
   "id": "fe8973d2",
   "metadata": {},
   "outputs": [
    {
     "data": {
      "text/plain": [
       "array([[202734,      0,      0,      5,      0,      1],\n",
       "       [ 12054,      0,      0,      0,      0,      0],\n",
       "       [  1756,      0,      0,      0,      0,      0],\n",
       "       [ 14242,      0,      0,     10,      0,      2],\n",
       "       [    66,      0,      0,      0,      0,      0],\n",
       "       [ 17097,      0,      0,      4,      0,      3]])"
      ]
     },
     "execution_count": 86,
     "metadata": {},
     "output_type": "execute_result"
    }
   ],
   "source": [
    "confusion_matrix(y_test,y_pred_r)"
   ]
  },
  {
   "cell_type": "code",
   "execution_count": 105,
   "id": "3e87d024",
   "metadata": {},
   "outputs": [],
   "source": [
    "pickle.dump(rg,open('Grid_RandomForest_1.sav','wb'))"
   ]
  },
  {
   "cell_type": "code",
   "execution_count": 30,
   "id": "010c7b47",
   "metadata": {},
   "outputs": [],
   "source": [
    "y_pred = loaded_model.predict(X_test)"
   ]
  },
  {
   "cell_type": "code",
   "execution_count": 54,
   "id": "44c2569d",
   "metadata": {},
   "outputs": [
    {
     "name": "stdout",
     "output_type": "stream",
     "text": [
      "Accuracy: 0.4876559639317025\n"
     ]
    }
   ],
   "source": [
    "print(\"Accuracy:\",accuracy_score(y_test, y_pred_r))"
   ]
  },
  {
   "cell_type": "code",
   "execution_count": 62,
   "id": "928589bb",
   "metadata": {},
   "outputs": [
    {
     "data": {
      "text/plain": [
       "array([1, 2, 2, ..., 2, 2, 2])"
      ]
     },
     "execution_count": 62,
     "metadata": {},
     "output_type": "execute_result"
    }
   ],
   "source": [
    "y_pred_r"
   ]
  },
  {
   "cell_type": "code",
   "execution_count": 56,
   "id": "fc26ed23",
   "metadata": {},
   "outputs": [
    {
     "name": "stdout",
     "output_type": "stream",
     "text": [
      "[0 1 2 3 4 5 6] [    62  16688 180105  30318  12613   6798   1390]\n"
     ]
    }
   ],
   "source": [
    "print(unique,counts)"
   ]
  },
  {
   "cell_type": "code",
   "execution_count": 55,
   "id": "223daf46",
   "metadata": {},
   "outputs": [],
   "source": [
    "unique, counts = np.unique(y_pred_r, return_counts=True)"
   ]
  },
  {
   "cell_type": "code",
   "execution_count": 60,
   "id": "fdbb70e2",
   "metadata": {},
   "outputs": [],
   "source": [
    "y_arr = np.array([arr_d_match[i] for i in y_pred_r])"
   ]
  },
  {
   "cell_type": "code",
   "execution_count": 61,
   "id": "04e5f276",
   "metadata": {},
   "outputs": [
    {
     "data": {
      "text/plain": [
       "array([-31.1476422 , -11.23198414, -11.23198414, ..., -11.23198414,\n",
       "       -11.23198414, -11.23198414])"
      ]
     },
     "execution_count": 61,
     "metadata": {},
     "output_type": "execute_result"
    }
   ],
   "source": [
    "y_arr"
   ]
  },
  {
   "cell_type": "code",
   "execution_count": 63,
   "id": "e9a57a99",
   "metadata": {},
   "outputs": [
    {
     "data": {
      "text/plain": [
       "delay_cls\n",
       "0    -84.188470\n",
       "1    -31.147642\n",
       "2    -11.231984\n",
       "3      8.376291\n",
       "4     35.723876\n",
       "5    100.855927\n",
       "6    320.689599\n",
       "Name: arr_delay, dtype: float64"
      ]
     },
     "execution_count": 63,
     "metadata": {},
     "output_type": "execute_result"
    }
   ],
   "source": [
    "arr_d_match"
   ]
  },
  {
   "cell_type": "code",
   "execution_count": 67,
   "id": "30442649",
   "metadata": {},
   "outputs": [
    {
     "data": {
      "text/plain": [
       "-0.09276152459671638"
      ]
     },
     "execution_count": 67,
     "metadata": {},
     "output_type": "execute_result"
    }
   ],
   "source": [
    "y_arr = np.array([arr_d_match[i] for i in y_pred])\n",
    "r2_score(Y_compare,y_arr)"
   ]
  },
  {
   "cell_type": "code",
   "execution_count": 64,
   "id": "cb506189",
   "metadata": {},
   "outputs": [
    {
     "data": {
      "text/plain": [
       "0.025932099879509285"
      ]
     },
     "execution_count": 64,
     "metadata": {},
     "output_type": "execute_result"
    }
   ],
   "source": [
    "## four round  48.09246\n",
    "r2_score(y_test,y_pred)"
   ]
  },
  {
   "cell_type": "code",
   "execution_count": 94,
   "id": "e1d70da7",
   "metadata": {},
   "outputs": [
    {
     "data": {
      "text/plain": [
       "0.03500066824855497"
      ]
     },
     "execution_count": 94,
     "metadata": {},
     "output_type": "execute_result"
    }
   ],
   "source": [
    "## third round  48.67\n",
    "r2_score(y_test,y_pred)"
   ]
  },
  {
   "cell_type": "code",
   "execution_count": 21,
   "id": "d690b999",
   "metadata": {
    "colab": {
     "base_uri": "https://localhost:8080/"
    },
    "id": "f8yRtaY6Ex2v",
    "outputId": "929ba4d5-538a-452c-c09e-51e2369ab379"
   },
   "outputs": [
    {
     "data": {
      "text/plain": [
       "0.02144653066658464"
      ]
     },
     "execution_count": 21,
     "metadata": {},
     "output_type": "execute_result"
    }
   ],
   "source": [
    "## second round with arr_delay <480\n",
    "#r2_score(y_test, y_pred)"
   ]
  },
  {
   "cell_type": "code",
   "execution_count": 27,
   "id": "7d7d135c",
   "metadata": {
    "colab": {
     "base_uri": "https://localhost:8080/"
    },
    "id": "yDDBGFlLGqW9",
    "outputId": "e03b69c0-cf2d-4108-e099-577638215d1a"
   },
   "outputs": [
    {
     "data": {
      "text/plain": [
       "0.013895135285908466"
      ]
     },
     "execution_count": 27,
     "metadata": {},
     "output_type": "execute_result"
    }
   ],
   "source": [
    "## first round with arr_delay < 180\n",
    "#"
   ]
  },
  {
   "cell_type": "code",
   "execution_count": null,
   "id": "26d3f1ed",
   "metadata": {
    "id": "b2d6400c-ddf7-49a6-bc61-5ab1996fdf9f",
    "outputId": "250a38db-04bd-47d8-e41c-77e7b31cf44c"
   },
   "outputs": [
    {
     "data": {
      "text/plain": [
       "-0.0005833909885790689"
      ]
     },
     "execution_count": 43,
     "metadata": {},
     "output_type": "execute_result"
    }
   ],
   "source": [
    "## first try on XGBoost \n",
    "#r2_score(y_test,y_pred)"
   ]
  },
  {
   "cell_type": "code",
   "execution_count": null,
   "id": "33af15f2",
   "metadata": {
    "id": "8156602b-0319-43ce-8a95-a1e4cfb6ae14"
   },
   "outputs": [],
   "source": []
  }
 ],
 "metadata": {
  "colab": {
   "collapsed_sections": [],
   "name": "h_XGboost.ipynb",
   "provenance": [],
   "toc_visible": true
  },
  "kernelspec": {
   "display_name": "conda_pytorch_latest_p37",
   "language": "python",
   "name": "conda_pytorch_latest_p37"
  },
  "language_info": {
   "codemirror_mode": {
    "name": "ipython",
    "version": 3
   },
   "file_extension": ".py",
   "mimetype": "text/x-python",
   "name": "python",
   "nbconvert_exporter": "python",
   "pygments_lexer": "ipython3",
   "version": "3.7.10"
  }
 },
 "nbformat": 4,
 "nbformat_minor": 5
}
