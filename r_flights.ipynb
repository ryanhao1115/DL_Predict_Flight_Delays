{
 "cells": [
  {
   "cell_type": "markdown",
   "metadata": {},
   "source": [
    "# flights data analysis (all preprocessing steps)"
   ]
  },
  {
   "cell_type": "markdown",
   "metadata": {
    "gradient": {
     "editing": false
    },
    "id": "8bxfgkGMus25"
   },
   "source": [
    "# import packages, read original data and pick a subset of columns"
   ]
  },
  {
   "cell_type": "code",
   "execution_count": 2,
   "metadata": {
    "executionInfo": {
     "elapsed": 2600,
     "status": "ok",
     "timestamp": 1629748978539,
     "user": {
      "displayName": "Ramakrishna Tadavarty",
      "photoUrl": "https://lh3.googleusercontent.com/a-/AOh14GhCIcJnxEtCSOfhgpDnni4BpfdAodUFHzPPZhS2LQ=s64",
      "userId": "14674522226091808145"
     },
     "user_tz": 240
    },
    "gradient": {
     "editing": false
    },
    "id": "FIv9oziJQfdE"
   },
   "outputs": [],
   "source": [
    "# import base packages\n",
    "# import modin.pandas as pd\n",
    "\n",
    "import numpy as np\n",
    "import pandas as pd\n",
    "pd.set_option('max_columns', None)\n",
    "pd.set_option('max_rows', None)\n",
    "\n",
    "import matplotlib.pyplot as plt\n",
    "import seaborn as sns\n",
    "sns.set_style('darkgrid')\n",
    "\n",
    "# import ray\n",
    "# # Modin will connect to the existing Ray environment\n",
    "# import modin.pandas as pd\n"
   ]
  },
  {
   "cell_type": "code",
   "execution_count": 3,
   "metadata": {
    "colab": {
     "base_uri": "https://localhost:8080/"
    },
    "executionInfo": {
     "elapsed": 93881,
     "status": "ok",
     "timestamp": 1629749072410,
     "user": {
      "displayName": "Ramakrishna Tadavarty",
      "photoUrl": "https://lh3.googleusercontent.com/a-/AOh14GhCIcJnxEtCSOfhgpDnni4BpfdAodUFHzPPZhS2LQ=s64",
      "userId": "14674522226091808145"
     },
     "user_tz": 240
    },
    "gradient": {
     "editing": false
    },
    "id": "QJSSDmmINEVC",
    "outputId": "50aa3b67-2554-43c6-a94e-bf5be4d5532c"
   },
   "outputs": [],
   "source": [
    "master_data = pd.read_csv('flights.csv', low_memory=False)"
   ]
  },
  {
   "cell_type": "code",
   "execution_count": 4,
   "metadata": {
    "colab": {
     "base_uri": "https://localhost:8080/"
    },
    "executionInfo": {
     "elapsed": 248,
     "status": "ok",
     "timestamp": 1629749072415,
     "user": {
      "displayName": "Ramakrishna Tadavarty",
      "photoUrl": "https://lh3.googleusercontent.com/a-/AOh14GhCIcJnxEtCSOfhgpDnni4BpfdAodUFHzPPZhS2LQ=s64",
      "userId": "14674522226091808145"
     },
     "user_tz": 240
    },
    "gradient": {
     "editing": false
    },
    "id": "NRVBzpUnOCdH",
    "outputId": "5eba94c7-c923-409c-bf29-7e7e05bd4338"
   },
   "outputs": [
    {
     "data": {
      "text/plain": [
       "Index(['fl_date', 'mkt_unique_carrier', 'branded_code_share', 'mkt_carrier',\n",
       "       'mkt_carrier_fl_num', 'op_unique_carrier', 'tail_num',\n",
       "       'op_carrier_fl_num', 'origin_airport_id', 'origin', 'origin_city_name',\n",
       "       'dest_airport_id', 'dest', 'dest_city_name', 'crs_dep_time', 'dep_time',\n",
       "       'dep_delay', 'taxi_out', 'wheels_off', 'wheels_on', 'taxi_in',\n",
       "       'crs_arr_time', 'arr_time', 'arr_delay', 'cancelled',\n",
       "       'cancellation_code', 'diverted', 'dup', 'crs_elapsed_time',\n",
       "       'actual_elapsed_time', 'air_time', 'flights', 'distance',\n",
       "       'carrier_delay', 'weather_delay', 'nas_delay', 'security_delay',\n",
       "       'late_aircraft_delay', 'first_dep_time', 'total_add_gtime',\n",
       "       'longest_add_gtime', 'no_name'],\n",
       "      dtype='object')"
      ]
     },
     "execution_count": 4,
     "metadata": {},
     "output_type": "execute_result"
    }
   ],
   "source": [
    "master_data.columns"
   ]
  },
  {
   "cell_type": "code",
   "execution_count": 5,
   "metadata": {
    "colab": {
     "base_uri": "https://localhost:8080/"
    },
    "executionInfo": {
     "elapsed": 176,
     "status": "ok",
     "timestamp": 1629749072417,
     "user": {
      "displayName": "Ramakrishna Tadavarty",
      "photoUrl": "https://lh3.googleusercontent.com/a-/AOh14GhCIcJnxEtCSOfhgpDnni4BpfdAodUFHzPPZhS2LQ=s64",
      "userId": "14674522226091808145"
     },
     "user_tz": 240
    },
    "gradient": {
     "editing": false
    },
    "id": "O4gKIyJSOMLI",
    "outputId": "14fc5e17-7fc3-4103-a4df-ac0fdf9f43e1"
   },
   "outputs": [
    {
     "data": {
      "text/plain": [
       "array([  nan,    0.,   25., ..., 1256., 1331., 1306.])"
      ]
     },
     "execution_count": 5,
     "metadata": {},
     "output_type": "execute_result"
    }
   ],
   "source": [
    "master_data.weather_delay.unique()"
   ]
  },
  {
   "cell_type": "code",
   "execution_count": 6,
   "metadata": {
    "colab": {
     "base_uri": "https://localhost:8080/"
    },
    "executionInfo": {
     "elapsed": 135,
     "status": "ok",
     "timestamp": 1629749072420,
     "user": {
      "displayName": "Ramakrishna Tadavarty",
      "photoUrl": "https://lh3.googleusercontent.com/a-/AOh14GhCIcJnxEtCSOfhgpDnni4BpfdAodUFHzPPZhS2LQ=s64",
      "userId": "14674522226091808145"
     },
     "user_tz": 240
    },
    "gradient": {
     "editing": false
    },
    "id": "7DqPv9tJOpFL",
    "outputId": "14dc5422-34ea-4e13-c45e-4d6bdce3d384"
   },
   "outputs": [
    {
     "data": {
      "text/plain": [
       "origin\n",
       "IMT    26.456853\n",
       "DRT    28.705882\n",
       "PIR    29.524752\n",
       "EKO    29.698630\n",
       "APN    39.904255\n",
       "Name: weather_delay, dtype: float64"
      ]
     },
     "execution_count": 6,
     "metadata": {},
     "output_type": "execute_result"
    }
   ],
   "source": [
    "master_data.groupby('origin')['weather_delay'].mean().sort_values().tail()"
   ]
  },
  {
   "cell_type": "code",
   "execution_count": 7,
   "metadata": {
    "colab": {
     "base_uri": "https://localhost:8080/"
    },
    "executionInfo": {
     "elapsed": 779,
     "status": "ok",
     "timestamp": 1629749073158,
     "user": {
      "displayName": "Ramakrishna Tadavarty",
      "photoUrl": "https://lh3.googleusercontent.com/a-/AOh14GhCIcJnxEtCSOfhgpDnni4BpfdAodUFHzPPZhS2LQ=s64",
      "userId": "14674522226091808145"
     },
     "user_tz": 240
    },
    "gradient": {
     "editing": false
    },
    "id": "38U4UIm4PewC",
    "outputId": "22f35f3d-5cf6-46fc-d6a6-fe914a838b35"
   },
   "outputs": [
    {
     "data": {
      "text/plain": [
       "origin\n",
       "ATY    54.505495\n",
       "CYS    54.690476\n",
       "JMS    58.299363\n",
       "SHD    64.247863\n",
       "DVL    76.062500\n",
       "Name: carrier_delay, dtype: float64"
      ]
     },
     "execution_count": 7,
     "metadata": {},
     "output_type": "execute_result"
    }
   ],
   "source": [
    "master_data.groupby('origin')['carrier_delay'].mean().sort_values().tail()"
   ]
  },
  {
   "cell_type": "code",
   "execution_count": 8,
   "metadata": {
    "colab": {
     "base_uri": "https://localhost:8080/"
    },
    "executionInfo": {
     "elapsed": 825,
     "status": "ok",
     "timestamp": 1629749073976,
     "user": {
      "displayName": "Ramakrishna Tadavarty",
      "photoUrl": "https://lh3.googleusercontent.com/a-/AOh14GhCIcJnxEtCSOfhgpDnni4BpfdAodUFHzPPZhS2LQ=s64",
      "userId": "14674522226091808145"
     },
     "user_tz": 240
    },
    "gradient": {
     "editing": false
    },
    "id": "nHUXLqsGPwS8",
    "outputId": "f51217a5-d176-439e-d69d-347c4ba769f9"
   },
   "outputs": [
    {
     "data": {
      "text/plain": [
       "origin\n",
       "DLG     2.923077\n",
       "OME     3.282258\n",
       "BET     7.101382\n",
       "AKN    19.166667\n",
       "ADK    28.093750\n",
       "Name: security_delay, dtype: float64"
      ]
     },
     "execution_count": 8,
     "metadata": {},
     "output_type": "execute_result"
    }
   ],
   "source": [
    "master_data.groupby('origin')['security_delay'].mean().sort_values().tail()"
   ]
  },
  {
   "cell_type": "code",
   "execution_count": 9,
   "metadata": {
    "colab": {
     "base_uri": "https://localhost:8080/"
    },
    "executionInfo": {
     "elapsed": 1022,
     "status": "ok",
     "timestamp": 1629749074994,
     "user": {
      "displayName": "Ramakrishna Tadavarty",
      "photoUrl": "https://lh3.googleusercontent.com/a-/AOh14GhCIcJnxEtCSOfhgpDnni4BpfdAodUFHzPPZhS2LQ=s64",
      "userId": "14674522226091808145"
     },
     "user_tz": 240
    },
    "gradient": {
     "editing": false
    },
    "id": "fCBbFhKrQUQe",
    "outputId": "0350aa95-9d5d-4f89-83c1-dbd2703181ea"
   },
   "outputs": [
    {
     "data": {
      "text/plain": [
       "origin\n",
       "ACY    37.753309\n",
       "RDD    39.344765\n",
       "HOB    41.676329\n",
       "HYA    46.425532\n",
       "PQI    59.389961\n",
       "Name: nas_delay, dtype: float64"
      ]
     },
     "execution_count": 9,
     "metadata": {},
     "output_type": "execute_result"
    }
   ],
   "source": [
    "master_data.groupby('origin')['nas_delay'].mean().sort_values().tail()"
   ]
  },
  {
   "cell_type": "code",
   "execution_count": 10,
   "metadata": {
    "colab": {
     "base_uri": "https://localhost:8080/"
    },
    "executionInfo": {
     "elapsed": 23,
     "status": "ok",
     "timestamp": 1629749074997,
     "user": {
      "displayName": "Ramakrishna Tadavarty",
      "photoUrl": "https://lh3.googleusercontent.com/a-/AOh14GhCIcJnxEtCSOfhgpDnni4BpfdAodUFHzPPZhS2LQ=s64",
      "userId": "14674522226091808145"
     },
     "user_tz": 240
    },
    "gradient": {
     "editing": false
    },
    "id": "v0mTuufQOMpG",
    "outputId": "89dc34c0-06e3-474a-9f61-269acd775f78"
   },
   "outputs": [
    {
     "data": {
      "text/plain": [
       "Index(['fl_date', 'mkt_unique_carrier', 'branded_code_share', 'mkt_carrier',\n",
       "       'mkt_carrier_fl_num', 'op_unique_carrier', 'tail_num',\n",
       "       'op_carrier_fl_num', 'origin_airport_id', 'origin', 'origin_city_name',\n",
       "       'dest_airport_id', 'dest', 'dest_city_name', 'crs_dep_time', 'dep_time',\n",
       "       'dep_delay', 'taxi_out', 'wheels_off', 'wheels_on', 'taxi_in',\n",
       "       'crs_arr_time', 'arr_time', 'arr_delay', 'cancelled',\n",
       "       'cancellation_code', 'diverted', 'dup', 'crs_elapsed_time',\n",
       "       'actual_elapsed_time', 'air_time', 'flights', 'distance',\n",
       "       'carrier_delay', 'weather_delay', 'nas_delay', 'security_delay',\n",
       "       'late_aircraft_delay', 'first_dep_time', 'total_add_gtime',\n",
       "       'longest_add_gtime', 'no_name'],\n",
       "      dtype='object')"
      ]
     },
     "execution_count": 10,
     "metadata": {},
     "output_type": "execute_result"
    }
   ],
   "source": [
    "master_data.columns"
   ]
  },
  {
   "cell_type": "code",
   "execution_count": 11,
   "metadata": {},
   "outputs": [
    {
     "data": {
      "text/html": [
       "<div>\n",
       "<style scoped>\n",
       "    .dataframe tbody tr th:only-of-type {\n",
       "        vertical-align: middle;\n",
       "    }\n",
       "\n",
       "    .dataframe tbody tr th {\n",
       "        vertical-align: top;\n",
       "    }\n",
       "\n",
       "    .dataframe thead th {\n",
       "        text-align: right;\n",
       "    }\n",
       "</style>\n",
       "<table border=\"1\" class=\"dataframe\">\n",
       "  <thead>\n",
       "    <tr style=\"text-align: right;\">\n",
       "      <th></th>\n",
       "      <th>fl_date</th>\n",
       "      <th>mkt_unique_carrier</th>\n",
       "      <th>branded_code_share</th>\n",
       "      <th>mkt_carrier</th>\n",
       "      <th>mkt_carrier_fl_num</th>\n",
       "      <th>op_unique_carrier</th>\n",
       "      <th>tail_num</th>\n",
       "      <th>op_carrier_fl_num</th>\n",
       "      <th>origin_airport_id</th>\n",
       "      <th>origin</th>\n",
       "      <th>origin_city_name</th>\n",
       "      <th>dest_airport_id</th>\n",
       "      <th>dest</th>\n",
       "      <th>dest_city_name</th>\n",
       "      <th>crs_dep_time</th>\n",
       "      <th>dep_time</th>\n",
       "      <th>dep_delay</th>\n",
       "      <th>taxi_out</th>\n",
       "      <th>wheels_off</th>\n",
       "      <th>wheels_on</th>\n",
       "      <th>taxi_in</th>\n",
       "      <th>crs_arr_time</th>\n",
       "      <th>arr_time</th>\n",
       "      <th>arr_delay</th>\n",
       "      <th>cancelled</th>\n",
       "      <th>cancellation_code</th>\n",
       "      <th>diverted</th>\n",
       "      <th>dup</th>\n",
       "      <th>crs_elapsed_time</th>\n",
       "      <th>actual_elapsed_time</th>\n",
       "      <th>air_time</th>\n",
       "      <th>flights</th>\n",
       "      <th>distance</th>\n",
       "      <th>carrier_delay</th>\n",
       "      <th>weather_delay</th>\n",
       "      <th>nas_delay</th>\n",
       "      <th>security_delay</th>\n",
       "      <th>late_aircraft_delay</th>\n",
       "      <th>first_dep_time</th>\n",
       "      <th>total_add_gtime</th>\n",
       "      <th>longest_add_gtime</th>\n",
       "      <th>no_name</th>\n",
       "    </tr>\n",
       "  </thead>\n",
       "  <tbody>\n",
       "    <tr>\n",
       "      <th>0</th>\n",
       "      <td>2019-11-30</td>\n",
       "      <td>AA</td>\n",
       "      <td>AA</td>\n",
       "      <td>AA</td>\n",
       "      <td>2367</td>\n",
       "      <td>AA</td>\n",
       "      <td>N957NN</td>\n",
       "      <td>2367</td>\n",
       "      <td>14869</td>\n",
       "      <td>SLC</td>\n",
       "      <td>Salt Lake City, UT</td>\n",
       "      <td>11298</td>\n",
       "      <td>DFW</td>\n",
       "      <td>Dallas/Fort Worth, TX</td>\n",
       "      <td>1159</td>\n",
       "      <td>1159.0</td>\n",
       "      <td>0.0</td>\n",
       "      <td>11.0</td>\n",
       "      <td>1210.0</td>\n",
       "      <td>1504.0</td>\n",
       "      <td>6.0</td>\n",
       "      <td>1535</td>\n",
       "      <td>1510.0</td>\n",
       "      <td>-25.0</td>\n",
       "      <td>0</td>\n",
       "      <td>NaN</td>\n",
       "      <td>0</td>\n",
       "      <td>N</td>\n",
       "      <td>156.0</td>\n",
       "      <td>131.0</td>\n",
       "      <td>114.0</td>\n",
       "      <td>1</td>\n",
       "      <td>989</td>\n",
       "      <td>NaN</td>\n",
       "      <td>NaN</td>\n",
       "      <td>NaN</td>\n",
       "      <td>NaN</td>\n",
       "      <td>NaN</td>\n",
       "      <td>NaN</td>\n",
       "      <td>NaN</td>\n",
       "      <td>NaN</td>\n",
       "      <td>NaN</td>\n",
       "    </tr>\n",
       "    <tr>\n",
       "      <th>1</th>\n",
       "      <td>2019-11-30</td>\n",
       "      <td>AA</td>\n",
       "      <td>AA</td>\n",
       "      <td>AA</td>\n",
       "      <td>2368</td>\n",
       "      <td>AA</td>\n",
       "      <td>N898NN</td>\n",
       "      <td>2368</td>\n",
       "      <td>10821</td>\n",
       "      <td>BWI</td>\n",
       "      <td>Baltimore, MD</td>\n",
       "      <td>11298</td>\n",
       "      <td>DFW</td>\n",
       "      <td>Dallas/Fort Worth, TX</td>\n",
       "      <td>1525</td>\n",
       "      <td>1520.0</td>\n",
       "      <td>-5.0</td>\n",
       "      <td>19.0</td>\n",
       "      <td>1539.0</td>\n",
       "      <td>1752.0</td>\n",
       "      <td>8.0</td>\n",
       "      <td>1803</td>\n",
       "      <td>1800.0</td>\n",
       "      <td>-3.0</td>\n",
       "      <td>0</td>\n",
       "      <td>NaN</td>\n",
       "      <td>0</td>\n",
       "      <td>N</td>\n",
       "      <td>218.0</td>\n",
       "      <td>220.0</td>\n",
       "      <td>193.0</td>\n",
       "      <td>1</td>\n",
       "      <td>1217</td>\n",
       "      <td>NaN</td>\n",
       "      <td>NaN</td>\n",
       "      <td>NaN</td>\n",
       "      <td>NaN</td>\n",
       "      <td>NaN</td>\n",
       "      <td>NaN</td>\n",
       "      <td>NaN</td>\n",
       "      <td>NaN</td>\n",
       "      <td>NaN</td>\n",
       "    </tr>\n",
       "    <tr>\n",
       "      <th>2</th>\n",
       "      <td>2019-11-30</td>\n",
       "      <td>AA</td>\n",
       "      <td>AA</td>\n",
       "      <td>AA</td>\n",
       "      <td>2368</td>\n",
       "      <td>AA</td>\n",
       "      <td>N898NN</td>\n",
       "      <td>2368</td>\n",
       "      <td>11298</td>\n",
       "      <td>DFW</td>\n",
       "      <td>Dallas/Fort Worth, TX</td>\n",
       "      <td>10821</td>\n",
       "      <td>BWI</td>\n",
       "      <td>Baltimore, MD</td>\n",
       "      <td>1045</td>\n",
       "      <td>1044.0</td>\n",
       "      <td>-1.0</td>\n",
       "      <td>16.0</td>\n",
       "      <td>1100.0</td>\n",
       "      <td>1425.0</td>\n",
       "      <td>7.0</td>\n",
       "      <td>1438</td>\n",
       "      <td>1432.0</td>\n",
       "      <td>-6.0</td>\n",
       "      <td>0</td>\n",
       "      <td>NaN</td>\n",
       "      <td>0</td>\n",
       "      <td>N</td>\n",
       "      <td>173.0</td>\n",
       "      <td>168.0</td>\n",
       "      <td>145.0</td>\n",
       "      <td>1</td>\n",
       "      <td>1217</td>\n",
       "      <td>NaN</td>\n",
       "      <td>NaN</td>\n",
       "      <td>NaN</td>\n",
       "      <td>NaN</td>\n",
       "      <td>NaN</td>\n",
       "      <td>NaN</td>\n",
       "      <td>NaN</td>\n",
       "      <td>NaN</td>\n",
       "      <td>NaN</td>\n",
       "    </tr>\n",
       "    <tr>\n",
       "      <th>3</th>\n",
       "      <td>2019-11-30</td>\n",
       "      <td>AA</td>\n",
       "      <td>AA</td>\n",
       "      <td>AA</td>\n",
       "      <td>2371</td>\n",
       "      <td>AA</td>\n",
       "      <td>N771XF</td>\n",
       "      <td>2371</td>\n",
       "      <td>11618</td>\n",
       "      <td>EWR</td>\n",
       "      <td>Newark, NJ</td>\n",
       "      <td>14107</td>\n",
       "      <td>PHX</td>\n",
       "      <td>Phoenix, AZ</td>\n",
       "      <td>929</td>\n",
       "      <td>922.0</td>\n",
       "      <td>-7.0</td>\n",
       "      <td>32.0</td>\n",
       "      <td>954.0</td>\n",
       "      <td>1322.0</td>\n",
       "      <td>8.0</td>\n",
       "      <td>1320</td>\n",
       "      <td>1330.0</td>\n",
       "      <td>10.0</td>\n",
       "      <td>0</td>\n",
       "      <td>NaN</td>\n",
       "      <td>0</td>\n",
       "      <td>N</td>\n",
       "      <td>351.0</td>\n",
       "      <td>368.0</td>\n",
       "      <td>328.0</td>\n",
       "      <td>1</td>\n",
       "      <td>2133</td>\n",
       "      <td>NaN</td>\n",
       "      <td>NaN</td>\n",
       "      <td>NaN</td>\n",
       "      <td>NaN</td>\n",
       "      <td>NaN</td>\n",
       "      <td>NaN</td>\n",
       "      <td>NaN</td>\n",
       "      <td>NaN</td>\n",
       "      <td>NaN</td>\n",
       "    </tr>\n",
       "    <tr>\n",
       "      <th>4</th>\n",
       "      <td>2019-11-30</td>\n",
       "      <td>AA</td>\n",
       "      <td>AA</td>\n",
       "      <td>AA</td>\n",
       "      <td>2372</td>\n",
       "      <td>AA</td>\n",
       "      <td>N883NN</td>\n",
       "      <td>2372</td>\n",
       "      <td>11298</td>\n",
       "      <td>DFW</td>\n",
       "      <td>Dallas/Fort Worth, TX</td>\n",
       "      <td>14683</td>\n",
       "      <td>SAT</td>\n",
       "      <td>San Antonio, TX</td>\n",
       "      <td>1748</td>\n",
       "      <td>1745.0</td>\n",
       "      <td>-3.0</td>\n",
       "      <td>16.0</td>\n",
       "      <td>1801.0</td>\n",
       "      <td>1846.0</td>\n",
       "      <td>9.0</td>\n",
       "      <td>1858</td>\n",
       "      <td>1855.0</td>\n",
       "      <td>-3.0</td>\n",
       "      <td>0</td>\n",
       "      <td>NaN</td>\n",
       "      <td>0</td>\n",
       "      <td>N</td>\n",
       "      <td>70.0</td>\n",
       "      <td>70.0</td>\n",
       "      <td>45.0</td>\n",
       "      <td>1</td>\n",
       "      <td>247</td>\n",
       "      <td>NaN</td>\n",
       "      <td>NaN</td>\n",
       "      <td>NaN</td>\n",
       "      <td>NaN</td>\n",
       "      <td>NaN</td>\n",
       "      <td>NaN</td>\n",
       "      <td>NaN</td>\n",
       "      <td>NaN</td>\n",
       "      <td>NaN</td>\n",
       "    </tr>\n",
       "  </tbody>\n",
       "</table>\n",
       "</div>"
      ],
      "text/plain": [
       "      fl_date mkt_unique_carrier branded_code_share mkt_carrier  \\\n",
       "0  2019-11-30                 AA                 AA          AA   \n",
       "1  2019-11-30                 AA                 AA          AA   \n",
       "2  2019-11-30                 AA                 AA          AA   \n",
       "3  2019-11-30                 AA                 AA          AA   \n",
       "4  2019-11-30                 AA                 AA          AA   \n",
       "\n",
       "   mkt_carrier_fl_num op_unique_carrier tail_num  op_carrier_fl_num  \\\n",
       "0                2367                AA   N957NN               2367   \n",
       "1                2368                AA   N898NN               2368   \n",
       "2                2368                AA   N898NN               2368   \n",
       "3                2371                AA   N771XF               2371   \n",
       "4                2372                AA   N883NN               2372   \n",
       "\n",
       "   origin_airport_id origin       origin_city_name  dest_airport_id dest  \\\n",
       "0              14869    SLC     Salt Lake City, UT            11298  DFW   \n",
       "1              10821    BWI          Baltimore, MD            11298  DFW   \n",
       "2              11298    DFW  Dallas/Fort Worth, TX            10821  BWI   \n",
       "3              11618    EWR             Newark, NJ            14107  PHX   \n",
       "4              11298    DFW  Dallas/Fort Worth, TX            14683  SAT   \n",
       "\n",
       "          dest_city_name  crs_dep_time  dep_time  dep_delay  taxi_out  \\\n",
       "0  Dallas/Fort Worth, TX          1159    1159.0        0.0      11.0   \n",
       "1  Dallas/Fort Worth, TX          1525    1520.0       -5.0      19.0   \n",
       "2          Baltimore, MD          1045    1044.0       -1.0      16.0   \n",
       "3            Phoenix, AZ           929     922.0       -7.0      32.0   \n",
       "4        San Antonio, TX          1748    1745.0       -3.0      16.0   \n",
       "\n",
       "   wheels_off  wheels_on  taxi_in  crs_arr_time  arr_time  arr_delay  \\\n",
       "0      1210.0     1504.0      6.0          1535    1510.0      -25.0   \n",
       "1      1539.0     1752.0      8.0          1803    1800.0       -3.0   \n",
       "2      1100.0     1425.0      7.0          1438    1432.0       -6.0   \n",
       "3       954.0     1322.0      8.0          1320    1330.0       10.0   \n",
       "4      1801.0     1846.0      9.0          1858    1855.0       -3.0   \n",
       "\n",
       "   cancelled cancellation_code  diverted dup  crs_elapsed_time  \\\n",
       "0          0               NaN         0   N             156.0   \n",
       "1          0               NaN         0   N             218.0   \n",
       "2          0               NaN         0   N             173.0   \n",
       "3          0               NaN         0   N             351.0   \n",
       "4          0               NaN         0   N              70.0   \n",
       "\n",
       "   actual_elapsed_time  air_time  flights  distance  carrier_delay  \\\n",
       "0                131.0     114.0        1       989            NaN   \n",
       "1                220.0     193.0        1      1217            NaN   \n",
       "2                168.0     145.0        1      1217            NaN   \n",
       "3                368.0     328.0        1      2133            NaN   \n",
       "4                 70.0      45.0        1       247            NaN   \n",
       "\n",
       "   weather_delay  nas_delay  security_delay  late_aircraft_delay  \\\n",
       "0            NaN        NaN             NaN                  NaN   \n",
       "1            NaN        NaN             NaN                  NaN   \n",
       "2            NaN        NaN             NaN                  NaN   \n",
       "3            NaN        NaN             NaN                  NaN   \n",
       "4            NaN        NaN             NaN                  NaN   \n",
       "\n",
       "   first_dep_time  total_add_gtime  longest_add_gtime  no_name  \n",
       "0             NaN              NaN                NaN      NaN  \n",
       "1             NaN              NaN                NaN      NaN  \n",
       "2             NaN              NaN                NaN      NaN  \n",
       "3             NaN              NaN                NaN      NaN  \n",
       "4             NaN              NaN                NaN      NaN  "
      ]
     },
     "execution_count": 11,
     "metadata": {},
     "output_type": "execute_result"
    }
   ],
   "source": [
    "master_data.head()"
   ]
  },
  {
   "cell_type": "code",
   "execution_count": 12,
   "metadata": {
    "executionInfo": {
     "elapsed": 81405,
     "status": "ok",
     "timestamp": 1629749156394,
     "user": {
      "displayName": "Ramakrishna Tadavarty",
      "photoUrl": "https://lh3.googleusercontent.com/a-/AOh14GhCIcJnxEtCSOfhgpDnni4BpfdAodUFHzPPZhS2LQ=s64",
      "userId": "14674522226091808145"
     },
     "user_tz": 240
    },
    "gradient": {
     "editing": false
    },
    "id": "RWQeyKosQv6q"
   },
   "outputs": [],
   "source": [
    "# read flights data (note that only columns in flights_test were picked)\n",
    "\n",
    "data = pd.read_csv('flights.csv', usecols=['arr_delay', 'arr_time', 'crs_arr_time', 'crs_dep_time', 'dep_delay', 'dep_time', 'dest', 'dest_airport_id', 'fl_date', 'origin', 'origin_airport_id', 'tail_num', 'op_unique_carrier', \n",
    "                                          'op_carrier_fl_num', 'distance', 'cancellation_code', 'air_time'], low_memory=False)  "
   ]
  },
  {
   "cell_type": "code",
   "execution_count": 13,
   "metadata": {
    "colab": {
     "base_uri": "https://localhost:8080/"
    },
    "executionInfo": {
     "elapsed": 63,
     "status": "ok",
     "timestamp": 1629748227080,
     "user": {
      "displayName": "Ramakrishna Tadavarty",
      "photoUrl": "https://lh3.googleusercontent.com/a-/AOh14GhCIcJnxEtCSOfhgpDnni4BpfdAodUFHzPPZhS2LQ=s64",
      "userId": "14674522226091808145"
     },
     "user_tz": 240
    },
    "gradient": {
     "editing": false
    },
    "id": "8lhj0ElzjmKL",
    "outputId": "84abdc55-ec4e-4243-ce59-3bf24d0100fd"
   },
   "outputs": [
    {
     "data": {
      "text/plain": [
       "(15927485, 17)"
      ]
     },
     "execution_count": 13,
     "metadata": {},
     "output_type": "execute_result"
    }
   ],
   "source": [
    "data.shape"
   ]
  },
  {
   "cell_type": "code",
   "execution_count": 14,
   "metadata": {
    "colab": {
     "base_uri": "https://localhost:8080/"
    },
    "executionInfo": {
     "elapsed": 6334,
     "status": "ok",
     "timestamp": 1629748233395,
     "user": {
      "displayName": "Ramakrishna Tadavarty",
      "photoUrl": "https://lh3.googleusercontent.com/a-/AOh14GhCIcJnxEtCSOfhgpDnni4BpfdAodUFHzPPZhS2LQ=s64",
      "userId": "14674522226091808145"
     },
     "user_tz": 240
    },
    "gradient": {
     "editing": false
    },
    "id": "pW910YYGvL9B",
    "outputId": "c2f24d24-5dc1-4d2f-d207-a942a8761ef6"
   },
   "outputs": [
    {
     "data": {
      "text/plain": [
       "{'fl_date': 730,\n",
       " 'op_unique_carrier': 28,\n",
       " 'tail_num': 6488,\n",
       " 'op_carrier_fl_num': 7252,\n",
       " 'origin_airport_id': 376,\n",
       " 'origin': 376,\n",
       " 'dest_airport_id': 376,\n",
       " 'dest': 376,\n",
       " 'crs_dep_time': 1412,\n",
       " 'dep_time': 1441,\n",
       " 'dep_delay': 1750,\n",
       " 'crs_arr_time': 1437,\n",
       " 'arr_time': 1441,\n",
       " 'arr_delay': 1782,\n",
       " 'cancellation_code': 6,\n",
       " 'air_time': 698,\n",
       " 'distance': 1623}"
      ]
     },
     "execution_count": 14,
     "metadata": {},
     "output_type": "execute_result"
    }
   ],
   "source": [
    "# create a dictionary to read unique counts in each column\n",
    "\n",
    "{column: len(data[column].unique()) for column in data.columns}"
   ]
  },
  {
   "cell_type": "code",
   "execution_count": 15,
   "metadata": {
    "gradient": {
     "editing": false
    }
   },
   "outputs": [
    {
     "data": {
      "text/html": [
       "<div>\n",
       "<style scoped>\n",
       "    .dataframe tbody tr th:only-of-type {\n",
       "        vertical-align: middle;\n",
       "    }\n",
       "\n",
       "    .dataframe tbody tr th {\n",
       "        vertical-align: top;\n",
       "    }\n",
       "\n",
       "    .dataframe thead th {\n",
       "        text-align: right;\n",
       "    }\n",
       "</style>\n",
       "<table border=\"1\" class=\"dataframe\">\n",
       "  <thead>\n",
       "    <tr style=\"text-align: right;\">\n",
       "      <th></th>\n",
       "      <th>fl_date</th>\n",
       "      <th>op_unique_carrier</th>\n",
       "      <th>tail_num</th>\n",
       "      <th>op_carrier_fl_num</th>\n",
       "      <th>origin_airport_id</th>\n",
       "      <th>origin</th>\n",
       "      <th>dest_airport_id</th>\n",
       "      <th>dest</th>\n",
       "      <th>crs_dep_time</th>\n",
       "      <th>dep_time</th>\n",
       "      <th>dep_delay</th>\n",
       "      <th>crs_arr_time</th>\n",
       "      <th>arr_time</th>\n",
       "      <th>arr_delay</th>\n",
       "      <th>cancellation_code</th>\n",
       "      <th>air_time</th>\n",
       "      <th>distance</th>\n",
       "    </tr>\n",
       "  </thead>\n",
       "  <tbody>\n",
       "    <tr>\n",
       "      <th>0</th>\n",
       "      <td>2019-11-30</td>\n",
       "      <td>AA</td>\n",
       "      <td>N957NN</td>\n",
       "      <td>2367</td>\n",
       "      <td>14869</td>\n",
       "      <td>SLC</td>\n",
       "      <td>11298</td>\n",
       "      <td>DFW</td>\n",
       "      <td>1159</td>\n",
       "      <td>1159.0</td>\n",
       "      <td>0.0</td>\n",
       "      <td>1535</td>\n",
       "      <td>1510.0</td>\n",
       "      <td>-25.0</td>\n",
       "      <td>NaN</td>\n",
       "      <td>114.0</td>\n",
       "      <td>989</td>\n",
       "    </tr>\n",
       "    <tr>\n",
       "      <th>1</th>\n",
       "      <td>2019-11-30</td>\n",
       "      <td>AA</td>\n",
       "      <td>N898NN</td>\n",
       "      <td>2368</td>\n",
       "      <td>10821</td>\n",
       "      <td>BWI</td>\n",
       "      <td>11298</td>\n",
       "      <td>DFW</td>\n",
       "      <td>1525</td>\n",
       "      <td>1520.0</td>\n",
       "      <td>-5.0</td>\n",
       "      <td>1803</td>\n",
       "      <td>1800.0</td>\n",
       "      <td>-3.0</td>\n",
       "      <td>NaN</td>\n",
       "      <td>193.0</td>\n",
       "      <td>1217</td>\n",
       "    </tr>\n",
       "    <tr>\n",
       "      <th>2</th>\n",
       "      <td>2019-11-30</td>\n",
       "      <td>AA</td>\n",
       "      <td>N898NN</td>\n",
       "      <td>2368</td>\n",
       "      <td>11298</td>\n",
       "      <td>DFW</td>\n",
       "      <td>10821</td>\n",
       "      <td>BWI</td>\n",
       "      <td>1045</td>\n",
       "      <td>1044.0</td>\n",
       "      <td>-1.0</td>\n",
       "      <td>1438</td>\n",
       "      <td>1432.0</td>\n",
       "      <td>-6.0</td>\n",
       "      <td>NaN</td>\n",
       "      <td>145.0</td>\n",
       "      <td>1217</td>\n",
       "    </tr>\n",
       "    <tr>\n",
       "      <th>3</th>\n",
       "      <td>2019-11-30</td>\n",
       "      <td>AA</td>\n",
       "      <td>N771XF</td>\n",
       "      <td>2371</td>\n",
       "      <td>11618</td>\n",
       "      <td>EWR</td>\n",
       "      <td>14107</td>\n",
       "      <td>PHX</td>\n",
       "      <td>929</td>\n",
       "      <td>922.0</td>\n",
       "      <td>-7.0</td>\n",
       "      <td>1320</td>\n",
       "      <td>1330.0</td>\n",
       "      <td>10.0</td>\n",
       "      <td>NaN</td>\n",
       "      <td>328.0</td>\n",
       "      <td>2133</td>\n",
       "    </tr>\n",
       "    <tr>\n",
       "      <th>4</th>\n",
       "      <td>2019-11-30</td>\n",
       "      <td>AA</td>\n",
       "      <td>N883NN</td>\n",
       "      <td>2372</td>\n",
       "      <td>11298</td>\n",
       "      <td>DFW</td>\n",
       "      <td>14683</td>\n",
       "      <td>SAT</td>\n",
       "      <td>1748</td>\n",
       "      <td>1745.0</td>\n",
       "      <td>-3.0</td>\n",
       "      <td>1858</td>\n",
       "      <td>1855.0</td>\n",
       "      <td>-3.0</td>\n",
       "      <td>NaN</td>\n",
       "      <td>45.0</td>\n",
       "      <td>247</td>\n",
       "    </tr>\n",
       "  </tbody>\n",
       "</table>\n",
       "</div>"
      ],
      "text/plain": [
       "      fl_date op_unique_carrier tail_num  op_carrier_fl_num  \\\n",
       "0  2019-11-30                AA   N957NN               2367   \n",
       "1  2019-11-30                AA   N898NN               2368   \n",
       "2  2019-11-30                AA   N898NN               2368   \n",
       "3  2019-11-30                AA   N771XF               2371   \n",
       "4  2019-11-30                AA   N883NN               2372   \n",
       "\n",
       "   origin_airport_id origin  dest_airport_id dest  crs_dep_time  dep_time  \\\n",
       "0              14869    SLC            11298  DFW          1159    1159.0   \n",
       "1              10821    BWI            11298  DFW          1525    1520.0   \n",
       "2              11298    DFW            10821  BWI          1045    1044.0   \n",
       "3              11618    EWR            14107  PHX           929     922.0   \n",
       "4              11298    DFW            14683  SAT          1748    1745.0   \n",
       "\n",
       "   dep_delay  crs_arr_time  arr_time  arr_delay cancellation_code  air_time  \\\n",
       "0        0.0          1535    1510.0      -25.0               NaN     114.0   \n",
       "1       -5.0          1803    1800.0       -3.0               NaN     193.0   \n",
       "2       -1.0          1438    1432.0       -6.0               NaN     145.0   \n",
       "3       -7.0          1320    1330.0       10.0               NaN     328.0   \n",
       "4       -3.0          1858    1855.0       -3.0               NaN      45.0   \n",
       "\n",
       "   distance  \n",
       "0       989  \n",
       "1      1217  \n",
       "2      1217  \n",
       "3      2133  \n",
       "4       247  "
      ]
     },
     "execution_count": 15,
     "metadata": {},
     "output_type": "execute_result"
    }
   ],
   "source": [
    "data.head()"
   ]
  },
  {
   "cell_type": "code",
   "execution_count": 16,
   "metadata": {
    "gradient": {
     "editing": false
    }
   },
   "outputs": [],
   "source": [
    "#planes = pd.read_csv('planes.csv')"
   ]
  },
  {
   "cell_type": "code",
   "execution_count": 17,
   "metadata": {
    "gradient": {
     "editing": false
    }
   },
   "outputs": [],
   "source": [
    "#planes = planes.rename(columns = {'tailnum':'tail_num'})"
   ]
  },
  {
   "cell_type": "code",
   "execution_count": 18,
   "metadata": {
    "gradient": {
     "editing": false
    }
   },
   "outputs": [],
   "source": [
    "#planes = planes[['tail_num', 'model']]"
   ]
  },
  {
   "cell_type": "code",
   "execution_count": 19,
   "metadata": {
    "gradient": {
     "editing": false
    }
   },
   "outputs": [],
   "source": [
    "#type(planes)"
   ]
  },
  {
   "cell_type": "markdown",
   "metadata": {
    "gradient": {
     "editing": false
    },
    "id": "ZUEHd5XJjthK"
   },
   "source": [
    "# sampling flights data"
   ]
  },
  {
   "cell_type": "code",
   "execution_count": 20,
   "metadata": {
    "executionInfo": {
     "elapsed": 2361,
     "status": "ok",
     "timestamp": 1629748580861,
     "user": {
      "displayName": "Ramakrishna Tadavarty",
      "photoUrl": "https://lh3.googleusercontent.com/a-/AOh14GhCIcJnxEtCSOfhgpDnni4BpfdAodUFHzPPZhS2LQ=s64",
      "userId": "14674522226091808145"
     },
     "user_tz": 240
    },
    "gradient": {
     "editing": false
    },
    "id": "9XQVFwtZjiF1"
   },
   "outputs": [],
   "source": [
    "flights_sample = data.sample(frac=1, random_state=143)"
   ]
  },
  {
   "cell_type": "code",
   "execution_count": 21,
   "metadata": {
    "gradient": {
     "editing": false
    }
   },
   "outputs": [],
   "source": [
    "#flights_sample = pd.merge(flights_sample, planes, on=\"tail_num\", how='left')"
   ]
  },
  {
   "cell_type": "code",
   "execution_count": 22,
   "metadata": {
    "colab": {
     "base_uri": "https://localhost:8080/"
    },
    "executionInfo": {
     "elapsed": 144,
     "status": "ok",
     "timestamp": 1629748582672,
     "user": {
      "displayName": "Ramakrishna Tadavarty",
      "photoUrl": "https://lh3.googleusercontent.com/a-/AOh14GhCIcJnxEtCSOfhgpDnni4BpfdAodUFHzPPZhS2LQ=s64",
      "userId": "14674522226091808145"
     },
     "user_tz": 240
    },
    "gradient": {
     "editing": false
    },
    "id": "e1XU4THFkJEa",
    "outputId": "88b971e0-fc81-4ba5-ea98-c67c5dd06e6e"
   },
   "outputs": [
    {
     "data": {
      "text/plain": [
       "(15927485, 17)"
      ]
     },
     "execution_count": 22,
     "metadata": {},
     "output_type": "execute_result"
    }
   ],
   "source": [
    "flights_sample.shape"
   ]
  },
  {
   "cell_type": "code",
   "execution_count": 23,
   "metadata": {
    "colab": {
     "base_uri": "https://localhost:8080/"
    },
    "executionInfo": {
     "elapsed": 556,
     "status": "ok",
     "timestamp": 1629748584541,
     "user": {
      "displayName": "Ramakrishna Tadavarty",
      "photoUrl": "https://lh3.googleusercontent.com/a-/AOh14GhCIcJnxEtCSOfhgpDnni4BpfdAodUFHzPPZhS2LQ=s64",
      "userId": "14674522226091808145"
     },
     "user_tz": 240
    },
    "gradient": {
     "editing": false
    },
    "id": "yVwbgSaiken4",
    "outputId": "4951e523-21a9-46ac-b083-3263312d1b2b"
   },
   "outputs": [
    {
     "name": "stdout",
     "output_type": "stream",
     "text": [
      "<class 'pandas.core.frame.DataFrame'>\n",
      "Int64Index: 15927485 entries, 7153908 to 14516814\n",
      "Data columns (total 17 columns):\n",
      " #   Column             Dtype  \n",
      "---  ------             -----  \n",
      " 0   fl_date            object \n",
      " 1   op_unique_carrier  object \n",
      " 2   tail_num           object \n",
      " 3   op_carrier_fl_num  int64  \n",
      " 4   origin_airport_id  int64  \n",
      " 5   origin             object \n",
      " 6   dest_airport_id    int64  \n",
      " 7   dest               object \n",
      " 8   crs_dep_time       int64  \n",
      " 9   dep_time           float64\n",
      " 10  dep_delay          float64\n",
      " 11  crs_arr_time       int64  \n",
      " 12  arr_time           float64\n",
      " 13  arr_delay          float64\n",
      " 14  cancellation_code  object \n",
      " 15  air_time           float64\n",
      " 16  distance           int64  \n",
      "dtypes: float64(5), int64(6), object(6)\n",
      "memory usage: 2.1+ GB\n"
     ]
    }
   ],
   "source": [
    "flights_sample.info()"
   ]
  },
  {
   "cell_type": "code",
   "execution_count": 24,
   "metadata": {
    "colab": {
     "base_uri": "https://localhost:8080/",
     "height": 297
    },
    "executionInfo": {
     "elapsed": 142,
     "status": "ok",
     "timestamp": 1629748586538,
     "user": {
      "displayName": "Ramakrishna Tadavarty",
      "photoUrl": "https://lh3.googleusercontent.com/a-/AOh14GhCIcJnxEtCSOfhgpDnni4BpfdAodUFHzPPZhS2LQ=s64",
      "userId": "14674522226091808145"
     },
     "user_tz": 240
    },
    "gradient": {
     "editing": false
    },
    "id": "fb3cnsqwkMHf",
    "outputId": "f2e955c4-0393-4cdd-a761-f56a1e56027a",
    "tags": []
   },
   "outputs": [],
   "source": [
    "# flights_sample.describe()"
   ]
  },
  {
   "cell_type": "code",
   "execution_count": 25,
   "metadata": {
    "colab": {
     "base_uri": "https://localhost:8080/"
    },
    "executionInfo": {
     "elapsed": 309,
     "status": "ok",
     "timestamp": 1629748590074,
     "user": {
      "displayName": "Ramakrishna Tadavarty",
      "photoUrl": "https://lh3.googleusercontent.com/a-/AOh14GhCIcJnxEtCSOfhgpDnni4BpfdAodUFHzPPZhS2LQ=s64",
      "userId": "14674522226091808145"
     },
     "user_tz": 240
    },
    "gradient": {
     "editing": false
    },
    "id": "EkpItx9OlOcv",
    "outputId": "bc8d8030-b685-44be-9b6f-222053d0d173"
   },
   "outputs": [
    {
     "data": {
      "text/plain": [
       "fl_date              0.000000\n",
       "op_unique_carrier    0.000000\n",
       "tail_num             0.003093\n",
       "op_carrier_fl_num    0.000000\n",
       "origin_airport_id    0.000000\n",
       "origin               0.000000\n",
       "dest_airport_id      0.000000\n",
       "dest                 0.000000\n",
       "crs_dep_time         0.000000\n",
       "dep_time             0.016250\n",
       "dep_delay            0.016560\n",
       "crs_arr_time         0.000000\n",
       "arr_time             0.017271\n",
       "arr_delay            0.019573\n",
       "cancellation_code    0.983098\n",
       "air_time             0.019791\n",
       "distance             0.000000\n",
       "dtype: float64"
      ]
     },
     "execution_count": 25,
     "metadata": {},
     "output_type": "execute_result"
    }
   ],
   "source": [
    "# check for null values in the selected dataset\n",
    "\n",
    "flights_sample.isna().mean()"
   ]
  },
  {
   "cell_type": "markdown",
   "metadata": {
    "gradient": {
     "editing": false
    },
    "id": "Q6yrJeL6l-Yq"
   },
   "source": [
    "# feature pre-processing"
   ]
  },
  {
   "cell_type": "code",
   "execution_count": 26,
   "metadata": {
    "executionInfo": {
     "elapsed": 174,
     "status": "ok",
     "timestamp": 1629748596305,
     "user": {
      "displayName": "Ramakrishna Tadavarty",
      "photoUrl": "https://lh3.googleusercontent.com/a-/AOh14GhCIcJnxEtCSOfhgpDnni4BpfdAodUFHzPPZhS2LQ=s64",
      "userId": "14674522226091808145"
     },
     "user_tz": 240
    },
    "gradient": {
     "editing": false
    },
    "id": "KMnYzshfmBln"
   },
   "outputs": [],
   "source": [
    "# helper function to pre-process data\n",
    "\n",
    "#import datetime\n",
    "#import holidays\n",
    "\n",
    "def preprocess_data(df):\n",
    "    df = df.copy()\n",
    "    ## strip date to create new useful features\n",
    "    df['month'] = pd.to_datetime(df['fl_date']).dt.month # add month column\n",
    "    df['year'] = pd.to_datetime(df['fl_date']).dt.year # add year column\n",
    "    df['day_of_week'] = pd.to_datetime(df['fl_date']).dt.dayofweek # add week column. It is assumed the week starts on Monday, which is denoted by 0 and ends on Sunday which is denoted by 6.\n",
    "    df['day_of_month'] = pd.to_datetime(df['fl_date']).dt.day # add day of month\n",
    "    \n",
    "    ## create dep_hour from crs_dep_time\n",
    "    df['crs_dep_time'] = df.crs_dep_time[~df.crs_dep_time.isna()].astype(np.int64).apply('{:0>4}'.format)\n",
    "    df['crs_dep_time'] = pd.to_timedelta(df.crs_dep_time.str[:2]+':'+df.crs_dep_time.str[2:]+':00')\n",
    "    df['dep_hour'] = df.crs_dep_time.dt.components.hours\n",
    "    \n",
    "    ## create arr_hour from crs_arr_time    \n",
    "    df['crs_arr_time'] = df.crs_arr_time[~df.crs_arr_time.isna()].astype(np.int64).apply('{:0>4}'.format)\n",
    "    df['crs_arr_time'] = pd.to_timedelta(df.crs_arr_time.str[:2]+':'+df.crs_arr_time.str[2:]+':00')\n",
    "    df['arr_hour'] = df.crs_arr_time.dt.components.hours\n",
    "    \n",
    "    # create a column combining op_unique_carrier, origin and destination airports\n",
    "    df['unique_fl'] = df['op_unique_carrier'].astype(str) + df['origin'].astype(str) + df['dest'].astype(str)\n",
    "    \n",
    "    # create a column for speed\n",
    "    df['speed'] = df['distance']/(df['air_time']/60)\n",
    "    \n",
    "    # create a column with ontime, late or cancelled status for departure\n",
    "    df.loc[df.dep_delay.isna(), 'dep_status']='cancelled'\n",
    "    df.loc[df.dep_delay <= 0, 'dep_status']='ontime'\n",
    "    df.loc[df.dep_delay > 0, 'dep_status']='late'\n",
    "        \n",
    "    df.loc[df.arr_delay.isna(), 'arr_status']='canceled'\n",
    "    df.loc[df.arr_delay <= 0, 'arr_status']='ontime'\n",
    "    df.loc[df.arr_delay > 0, 'arr_status']='late'\n",
    "         \n",
    "    # fill NaN values in categorical data columns\n",
    "    df['cancellation_code'] = df['cancellation_code'].replace(np.nan, 'N') # 'N' technically means no-delay\n",
    "        \n",
    "    # fill null values in numerical data columns their mean\n",
    "    df['speed'] = df['speed'].fillna(df['speed'].mean())\n",
    "    df['air_time'] = df['air_time'].fillna(df['air_time'].mean())\n",
    "    df['dep_delay'] = df['dep_delay'].fillna(df['dep_delay'].mean())\n",
    "    df['arr_delay'] = df['arr_delay'].fillna(df['arr_delay'].mean())\n",
    "    \n",
    "    # clip negative values as dep_delay or arrival_delay of negative values is the same meaning as no-delay\n",
    "    df['dep_delay'] = df['dep_delay'].clip(lower=0)\n",
    "    df['arr_delay'] = df['arr_delay'].clip(lower=0)\n",
    "    \n",
    "  \n",
    "    # use proper datatypes\n",
    "    df[['op_unique_carrier', 'origin_airport_id', 'origin', 'dest_airport_id', 'dest', 'dep_status', 'arr_status', 'cancellation_code', 'unique_fl', 'op_carrier_fl_num', 'month', 'day_of_week', 'day_of_month', 'dep_hour', 'arr_hour']] = df[['op_unique_carrier', 'origin_airport_id', 'origin', 'dest_airport_id', 'dest', 'dep_status', 'arr_status', 'cancellation_code', 'unique_fl', 'op_carrier_fl_num', 'month', 'day_of_week', 'day_of_month', 'dep_hour', 'arr_hour']].apply(lambda x: x.astype('category'))\n",
    "    \n",
    "    # drop useless columns\n",
    "    df = df.drop(['fl_date', 'tail_num', 'crs_dep_time', 'crs_arr_time', 'dep_time', 'arr_time', 'year'], axis=1)  \n",
    "    \n",
    "    # drop any duplicate rows\n",
    "    df = df.drop_duplicates()\n",
    "        \n",
    "    # encode cyclical features using sin and cosine transformation\n",
    "    \n",
    "    return df"
   ]
  },
  {
   "cell_type": "code",
   "execution_count": 27,
   "metadata": {},
   "outputs": [],
   "source": [
    "# flights_sample.columns"
   ]
  },
  {
   "cell_type": "code",
   "execution_count": 28,
   "metadata": {
    "executionInfo": {
     "elapsed": 549,
     "status": "ok",
     "timestamp": 1629748598857,
     "user": {
      "displayName": "Ramakrishna Tadavarty",
      "photoUrl": "https://lh3.googleusercontent.com/a-/AOh14GhCIcJnxEtCSOfhgpDnni4BpfdAodUFHzPPZhS2LQ=s64",
      "userId": "14674522226091808145"
     },
     "user_tz": 240
    },
    "gradient": {
     "editing": false
    },
    "id": "FGPNb4LQl6si",
    "tags": []
   },
   "outputs": [],
   "source": [
    "X = preprocess_data(flights_sample) #run the pre-processing steps on flights_sample and pass the df to new variable X"
   ]
  },
  {
   "cell_type": "code",
   "execution_count": 29,
   "metadata": {},
   "outputs": [
    {
     "data": {
      "text/html": [
       "<div>\n",
       "<style scoped>\n",
       "    .dataframe tbody tr th:only-of-type {\n",
       "        vertical-align: middle;\n",
       "    }\n",
       "\n",
       "    .dataframe tbody tr th {\n",
       "        vertical-align: top;\n",
       "    }\n",
       "\n",
       "    .dataframe thead th {\n",
       "        text-align: right;\n",
       "    }\n",
       "</style>\n",
       "<table border=\"1\" class=\"dataframe\">\n",
       "  <thead>\n",
       "    <tr style=\"text-align: right;\">\n",
       "      <th></th>\n",
       "      <th>op_unique_carrier</th>\n",
       "      <th>op_carrier_fl_num</th>\n",
       "      <th>origin_airport_id</th>\n",
       "      <th>origin</th>\n",
       "      <th>dest_airport_id</th>\n",
       "      <th>dest</th>\n",
       "      <th>dep_delay</th>\n",
       "      <th>arr_delay</th>\n",
       "      <th>cancellation_code</th>\n",
       "      <th>air_time</th>\n",
       "      <th>distance</th>\n",
       "      <th>month</th>\n",
       "      <th>day_of_week</th>\n",
       "      <th>day_of_month</th>\n",
       "      <th>dep_hour</th>\n",
       "      <th>arr_hour</th>\n",
       "      <th>unique_fl</th>\n",
       "      <th>speed</th>\n",
       "      <th>dep_status</th>\n",
       "      <th>arr_status</th>\n",
       "    </tr>\n",
       "  </thead>\n",
       "  <tbody>\n",
       "    <tr>\n",
       "      <th>7153908</th>\n",
       "      <td>WN</td>\n",
       "      <td>628</td>\n",
       "      <td>14679</td>\n",
       "      <td>SAN</td>\n",
       "      <td>14107</td>\n",
       "      <td>PHX</td>\n",
       "      <td>26.0</td>\n",
       "      <td>11.0</td>\n",
       "      <td>N</td>\n",
       "      <td>52.0</td>\n",
       "      <td>304</td>\n",
       "      <td>5</td>\n",
       "      <td>2</td>\n",
       "      <td>29</td>\n",
       "      <td>18</td>\n",
       "      <td>19</td>\n",
       "      <td>WNSANPHX</td>\n",
       "      <td>350.769231</td>\n",
       "      <td>late</td>\n",
       "      <td>late</td>\n",
       "    </tr>\n",
       "    <tr>\n",
       "      <th>13164250</th>\n",
       "      <td>OO</td>\n",
       "      <td>5565</td>\n",
       "      <td>11292</td>\n",
       "      <td>DEN</td>\n",
       "      <td>11638</td>\n",
       "      <td>FAT</td>\n",
       "      <td>9.0</td>\n",
       "      <td>0.0</td>\n",
       "      <td>N</td>\n",
       "      <td>106.0</td>\n",
       "      <td>844</td>\n",
       "      <td>3</td>\n",
       "      <td>0</td>\n",
       "      <td>26</td>\n",
       "      <td>19</td>\n",
       "      <td>20</td>\n",
       "      <td>OODENFAT</td>\n",
       "      <td>477.735849</td>\n",
       "      <td>late</td>\n",
       "      <td>ontime</td>\n",
       "    </tr>\n",
       "  </tbody>\n",
       "</table>\n",
       "</div>"
      ],
      "text/plain": [
       "         op_unique_carrier op_carrier_fl_num origin_airport_id origin  \\\n",
       "7153908                 WN               628             14679    SAN   \n",
       "13164250                OO              5565             11292    DEN   \n",
       "\n",
       "         dest_airport_id dest  dep_delay  arr_delay cancellation_code  \\\n",
       "7153908            14107  PHX       26.0       11.0                 N   \n",
       "13164250           11638  FAT        9.0        0.0                 N   \n",
       "\n",
       "          air_time  distance month day_of_week day_of_month dep_hour arr_hour  \\\n",
       "7153908       52.0       304     5           2           29       18       19   \n",
       "13164250     106.0       844     3           0           26       19       20   \n",
       "\n",
       "         unique_fl       speed dep_status arr_status  \n",
       "7153908   WNSANPHX  350.769231       late       late  \n",
       "13164250  OODENFAT  477.735849       late     ontime  "
      ]
     },
     "execution_count": 29,
     "metadata": {},
     "output_type": "execute_result"
    }
   ],
   "source": [
    "X.head(2)"
   ]
  },
  {
   "cell_type": "code",
   "execution_count": 30,
   "metadata": {},
   "outputs": [
    {
     "name": "stdout",
     "output_type": "stream",
     "text": [
      "<class 'pandas.core.frame.DataFrame'>\n",
      "Int64Index: 15927485 entries, 7153908 to 14516814\n",
      "Data columns (total 20 columns):\n",
      " #   Column             Dtype   \n",
      "---  ------             -----   \n",
      " 0   op_unique_carrier  category\n",
      " 1   op_carrier_fl_num  category\n",
      " 2   origin_airport_id  category\n",
      " 3   origin             category\n",
      " 4   dest_airport_id    category\n",
      " 5   dest               category\n",
      " 6   dep_delay          float64 \n",
      " 7   arr_delay          float64 \n",
      " 8   cancellation_code  category\n",
      " 9   air_time           float64 \n",
      " 10  distance           int64   \n",
      " 11  month              category\n",
      " 12  day_of_week        category\n",
      " 13  day_of_month       category\n",
      " 14  dep_hour           category\n",
      " 15  arr_hour           category\n",
      " 16  unique_fl          category\n",
      " 17  speed              float64 \n",
      " 18  dep_status         category\n",
      " 19  arr_status         category\n",
      "dtypes: category(15), float64(4), int64(1)\n",
      "memory usage: 1.0 GB\n"
     ]
    }
   ],
   "source": [
    "X.info() #check dtypes if all features have correct types"
   ]
  },
  {
   "cell_type": "code",
   "execution_count": 31,
   "metadata": {},
   "outputs": [
    {
     "data": {
      "text/plain": [
       "op_unique_carrier    0.0\n",
       "op_carrier_fl_num    0.0\n",
       "origin_airport_id    0.0\n",
       "origin               0.0\n",
       "dest_airport_id      0.0\n",
       "dest                 0.0\n",
       "dep_delay            0.0\n",
       "arr_delay            0.0\n",
       "cancellation_code    0.0\n",
       "air_time             0.0\n",
       "distance             0.0\n",
       "month                0.0\n",
       "day_of_week          0.0\n",
       "day_of_month         0.0\n",
       "dep_hour             0.0\n",
       "arr_hour             0.0\n",
       "unique_fl            0.0\n",
       "speed                0.0\n",
       "dep_status           0.0\n",
       "arr_status           0.0\n",
       "dtype: float64"
      ]
     },
     "execution_count": 31,
     "metadata": {},
     "output_type": "execute_result"
    }
   ],
   "source": [
    "X.isna().mean() #check for the null values | can use sum() as well but mean() gives better insights"
   ]
  },
  {
   "cell_type": "code",
   "execution_count": 32,
   "metadata": {},
   "outputs": [
    {
     "data": {
      "text/plain": [
       "{'op_unique_carrier': 28,\n",
       " 'op_carrier_fl_num': 7252,\n",
       " 'origin_airport_id': 376,\n",
       " 'origin': 376,\n",
       " 'dest_airport_id': 376,\n",
       " 'dest': 376,\n",
       " 'dep_delay': 1619,\n",
       " 'arr_delay': 1616,\n",
       " 'cancellation_code': 6,\n",
       " 'air_time': 698,\n",
       " 'distance': 1623,\n",
       " 'month': 12,\n",
       " 'day_of_week': 7,\n",
       " 'day_of_month': 31,\n",
       " 'dep_hour': 24,\n",
       " 'arr_hour': 24,\n",
       " 'unique_fl': 17136,\n",
       " 'speed': 91773,\n",
       " 'dep_status': 3,\n",
       " 'arr_status': 3}"
      ]
     },
     "execution_count": 32,
     "metadata": {},
     "output_type": "execute_result"
    }
   ],
   "source": [
    "{column: len(X[column].unique()) for column in X.columns} #check for unique items in each feature and return counts as a dictionary"
   ]
  },
  {
   "cell_type": "code",
   "execution_count": 33,
   "metadata": {},
   "outputs": [
    {
     "data": {
      "text/plain": [
       "(15927485, 20)"
      ]
     },
     "execution_count": 33,
     "metadata": {},
     "output_type": "execute_result"
    }
   ],
   "source": [
    "X.shape"
   ]
  },
  {
   "cell_type": "code",
   "execution_count": 34,
   "metadata": {
    "gradient": {
     "editing": false
    }
   },
   "outputs": [
    {
     "data": {
      "text/plain": [
       "N    15658277\n",
       "B      142089\n",
       "A       70569\n",
       "C       56484\n",
       "D          64\n",
       "X           2\n",
       "Name: cancellation_code, dtype: int64"
      ]
     },
     "execution_count": 34,
     "metadata": {},
     "output_type": "execute_result"
    }
   ],
   "source": [
    "X['cancellation_code'].value_counts()"
   ]
  },
  {
   "cell_type": "code",
   "execution_count": 35,
   "metadata": {
    "tags": []
   },
   "outputs": [
    {
     "data": {
      "text/plain": [
       "HAOGGHNL    19620\n",
       "HAHNLOGG    19614\n",
       "HAKOAHNL    14166\n",
       "HAHNLKOA    13926\n",
       "HAHNLLIH    13549\n",
       "Name: unique_fl, dtype: int64"
      ]
     },
     "execution_count": 35,
     "metadata": {},
     "output_type": "execute_result"
    }
   ],
   "source": [
    "X['unique_fl'].value_counts().head()"
   ]
  },
  {
   "cell_type": "markdown",
   "metadata": {},
   "source": [
    "# feature transformation"
   ]
  },
  {
   "cell_type": "code",
   "execution_count": 36,
   "metadata": {},
   "outputs": [],
   "source": [
    "X1 = X.copy()"
   ]
  },
  {
   "cell_type": "markdown",
   "metadata": {},
   "source": [
    "## remove outliers (using IQR)"
   ]
  },
  {
   "cell_type": "code",
   "execution_count": 37,
   "metadata": {},
   "outputs": [],
   "source": [
    "# helper function to remove outliers in X (adjusted iqr to be between 0.25 and 0.70) based on arrival delay\n",
    "\n",
    "def fun(serie):\n",
    "    return pd.DataFrame([[serie.quantile(0.25), serie.quantile(0.75)]]\n",
    "                             *serie.shape[0], \n",
    "                        columns=['lower', 'upper'], \n",
    "                        index=serie.index)\n",
    "\n",
    "X1[['lower', 'upper']] = X1.groupby('unique_fl')['arr_delay'].apply(fun)\n",
    "X1 = X1.query('lower <= `arr_delay` <= upper').drop(columns=['lower', 'upper'])"
   ]
  },
  {
   "cell_type": "code",
   "execution_count": 38,
   "metadata": {},
   "outputs": [
    {
     "name": "stdout",
     "output_type": "stream",
     "text": [
      "(15927485, 20)\n",
      "(12071082, 20)\n"
     ]
    }
   ],
   "source": [
    "print(X.shape)\n",
    "print(X1.shape)"
   ]
  },
  {
   "cell_type": "code",
   "execution_count": 39,
   "metadata": {
    "tags": []
   },
   "outputs": [
    {
     "data": {
      "text/html": [
       "<div>\n",
       "<style scoped>\n",
       "    .dataframe tbody tr th:only-of-type {\n",
       "        vertical-align: middle;\n",
       "    }\n",
       "\n",
       "    .dataframe tbody tr th {\n",
       "        vertical-align: top;\n",
       "    }\n",
       "\n",
       "    .dataframe thead th {\n",
       "        text-align: right;\n",
       "    }\n",
       "</style>\n",
       "<table border=\"1\" class=\"dataframe\">\n",
       "  <thead>\n",
       "    <tr style=\"text-align: right;\">\n",
       "      <th></th>\n",
       "      <th>dep_delay</th>\n",
       "      <th>arr_delay</th>\n",
       "      <th>air_time</th>\n",
       "      <th>distance</th>\n",
       "      <th>speed</th>\n",
       "    </tr>\n",
       "  </thead>\n",
       "  <tbody>\n",
       "    <tr>\n",
       "      <th>count</th>\n",
       "      <td>1.592748e+07</td>\n",
       "      <td>1.592748e+07</td>\n",
       "      <td>1.592748e+07</td>\n",
       "      <td>1.592748e+07</td>\n",
       "      <td>1.592748e+07</td>\n",
       "    </tr>\n",
       "    <tr>\n",
       "      <th>mean</th>\n",
       "      <td>1.379819e+01</td>\n",
       "      <td>1.387899e+01</td>\n",
       "      <td>1.079393e+02</td>\n",
       "      <td>7.679726e+02</td>\n",
       "      <td>3.989259e+02</td>\n",
       "    </tr>\n",
       "    <tr>\n",
       "      <th>std</th>\n",
       "      <td>4.630228e+01</td>\n",
       "      <td>4.600573e+01</td>\n",
       "      <td>6.898247e+01</td>\n",
       "      <td>5.858934e+02</td>\n",
       "      <td>7.365428e+01</td>\n",
       "    </tr>\n",
       "    <tr>\n",
       "      <th>min</th>\n",
       "      <td>0.000000e+00</td>\n",
       "      <td>0.000000e+00</td>\n",
       "      <td>-1.384000e+03</td>\n",
       "      <td>1.600000e+01</td>\n",
       "      <td>-4.212632e+02</td>\n",
       "    </tr>\n",
       "    <tr>\n",
       "      <th>25%</th>\n",
       "      <td>0.000000e+00</td>\n",
       "      <td>0.000000e+00</td>\n",
       "      <td>5.800000e+01</td>\n",
       "      <td>3.380000e+02</td>\n",
       "      <td>3.547368e+02</td>\n",
       "    </tr>\n",
       "    <tr>\n",
       "      <th>50%</th>\n",
       "      <td>0.000000e+00</td>\n",
       "      <td>0.000000e+00</td>\n",
       "      <td>9.000000e+01</td>\n",
       "      <td>6.030000e+02</td>\n",
       "      <td>4.042623e+02</td>\n",
       "    </tr>\n",
       "    <tr>\n",
       "      <th>75%</th>\n",
       "      <td>8.000000e+00</td>\n",
       "      <td>7.000000e+00</td>\n",
       "      <td>1.360000e+02</td>\n",
       "      <td>1.005000e+03</td>\n",
       "      <td>4.493333e+02</td>\n",
       "    </tr>\n",
       "    <tr>\n",
       "      <th>max</th>\n",
       "      <td>2.976000e+03</td>\n",
       "      <td>2.973000e+03</td>\n",
       "      <td>1.557000e+03</td>\n",
       "      <td>5.095000e+03</td>\n",
       "      <td>3.696000e+03</td>\n",
       "    </tr>\n",
       "  </tbody>\n",
       "</table>\n",
       "</div>"
      ],
      "text/plain": [
       "          dep_delay     arr_delay      air_time      distance         speed\n",
       "count  1.592748e+07  1.592748e+07  1.592748e+07  1.592748e+07  1.592748e+07\n",
       "mean   1.379819e+01  1.387899e+01  1.079393e+02  7.679726e+02  3.989259e+02\n",
       "std    4.630228e+01  4.600573e+01  6.898247e+01  5.858934e+02  7.365428e+01\n",
       "min    0.000000e+00  0.000000e+00 -1.384000e+03  1.600000e+01 -4.212632e+02\n",
       "25%    0.000000e+00  0.000000e+00  5.800000e+01  3.380000e+02  3.547368e+02\n",
       "50%    0.000000e+00  0.000000e+00  9.000000e+01  6.030000e+02  4.042623e+02\n",
       "75%    8.000000e+00  7.000000e+00  1.360000e+02  1.005000e+03  4.493333e+02\n",
       "max    2.976000e+03  2.973000e+03  1.557000e+03  5.095000e+03  3.696000e+03"
      ]
     },
     "execution_count": 39,
     "metadata": {},
     "output_type": "execute_result"
    }
   ],
   "source": [
    "X.describe()"
   ]
  },
  {
   "cell_type": "code",
   "execution_count": 40,
   "metadata": {
    "tags": []
   },
   "outputs": [
    {
     "data": {
      "text/html": [
       "<div>\n",
       "<style scoped>\n",
       "    .dataframe tbody tr th:only-of-type {\n",
       "        vertical-align: middle;\n",
       "    }\n",
       "\n",
       "    .dataframe tbody tr th {\n",
       "        vertical-align: top;\n",
       "    }\n",
       "\n",
       "    .dataframe thead th {\n",
       "        text-align: right;\n",
       "    }\n",
       "</style>\n",
       "<table border=\"1\" class=\"dataframe\">\n",
       "  <thead>\n",
       "    <tr style=\"text-align: right;\">\n",
       "      <th></th>\n",
       "      <th>dep_delay</th>\n",
       "      <th>arr_delay</th>\n",
       "      <th>air_time</th>\n",
       "      <th>distance</th>\n",
       "      <th>speed</th>\n",
       "    </tr>\n",
       "  </thead>\n",
       "  <tbody>\n",
       "    <tr>\n",
       "      <th>count</th>\n",
       "      <td>1.207108e+07</td>\n",
       "      <td>1.207108e+07</td>\n",
       "      <td>1.207108e+07</td>\n",
       "      <td>1.207108e+07</td>\n",
       "      <td>1.207108e+07</td>\n",
       "    </tr>\n",
       "    <tr>\n",
       "      <th>mean</th>\n",
       "      <td>1.897141e+00</td>\n",
       "      <td>9.307772e-01</td>\n",
       "      <td>1.070145e+02</td>\n",
       "      <td>7.675787e+02</td>\n",
       "      <td>4.018700e+02</td>\n",
       "    </tr>\n",
       "    <tr>\n",
       "      <th>std</th>\n",
       "      <td>7.084063e+00</td>\n",
       "      <td>3.105215e+00</td>\n",
       "      <td>6.830826e+01</td>\n",
       "      <td>5.860167e+02</td>\n",
       "      <td>7.274390e+01</td>\n",
       "    </tr>\n",
       "    <tr>\n",
       "      <th>min</th>\n",
       "      <td>0.000000e+00</td>\n",
       "      <td>0.000000e+00</td>\n",
       "      <td>-1.244000e+03</td>\n",
       "      <td>1.600000e+01</td>\n",
       "      <td>-1.088525e+02</td>\n",
       "    </tr>\n",
       "    <tr>\n",
       "      <th>25%</th>\n",
       "      <td>0.000000e+00</td>\n",
       "      <td>0.000000e+00</td>\n",
       "      <td>5.800000e+01</td>\n",
       "      <td>3.380000e+02</td>\n",
       "      <td>3.584615e+02</td>\n",
       "    </tr>\n",
       "    <tr>\n",
       "      <th>50%</th>\n",
       "      <td>0.000000e+00</td>\n",
       "      <td>0.000000e+00</td>\n",
       "      <td>9.000000e+01</td>\n",
       "      <td>6.020000e+02</td>\n",
       "      <td>4.069565e+02</td>\n",
       "    </tr>\n",
       "    <tr>\n",
       "      <th>75%</th>\n",
       "      <td>0.000000e+00</td>\n",
       "      <td>0.000000e+00</td>\n",
       "      <td>1.340000e+02</td>\n",
       "      <td>1.001000e+03</td>\n",
       "      <td>4.514286e+02</td>\n",
       "    </tr>\n",
       "    <tr>\n",
       "      <th>max</th>\n",
       "      <td>1.921000e+03</td>\n",
       "      <td>1.916000e+03</td>\n",
       "      <td>6.920000e+02</td>\n",
       "      <td>5.095000e+03</td>\n",
       "      <td>3.696000e+03</td>\n",
       "    </tr>\n",
       "  </tbody>\n",
       "</table>\n",
       "</div>"
      ],
      "text/plain": [
       "          dep_delay     arr_delay      air_time      distance         speed\n",
       "count  1.207108e+07  1.207108e+07  1.207108e+07  1.207108e+07  1.207108e+07\n",
       "mean   1.897141e+00  9.307772e-01  1.070145e+02  7.675787e+02  4.018700e+02\n",
       "std    7.084063e+00  3.105215e+00  6.830826e+01  5.860167e+02  7.274390e+01\n",
       "min    0.000000e+00  0.000000e+00 -1.244000e+03  1.600000e+01 -1.088525e+02\n",
       "25%    0.000000e+00  0.000000e+00  5.800000e+01  3.380000e+02  3.584615e+02\n",
       "50%    0.000000e+00  0.000000e+00  9.000000e+01  6.020000e+02  4.069565e+02\n",
       "75%    0.000000e+00  0.000000e+00  1.340000e+02  1.001000e+03  4.514286e+02\n",
       "max    1.921000e+03  1.916000e+03  6.920000e+02  5.095000e+03  3.696000e+03"
      ]
     },
     "execution_count": 40,
     "metadata": {},
     "output_type": "execute_result"
    }
   ],
   "source": [
    "X1.describe()"
   ]
  },
  {
   "cell_type": "markdown",
   "metadata": {},
   "source": [
    "## check and correct for skew in numeric columns (stats library from scipy)"
   ]
  },
  {
   "cell_type": "code",
   "execution_count": 41,
   "metadata": {},
   "outputs": [],
   "source": [
    "X2 = X1.copy() #df for checking skew"
   ]
  },
  {
   "cell_type": "code",
   "execution_count": 42,
   "metadata": {},
   "outputs": [],
   "source": [
    "X2['mean_arr_delay'] = X2.groupby('unique_fl')['arr_delay'].transform('mean') # add another column for median_arr_delay"
   ]
  },
  {
   "cell_type": "code",
   "execution_count": 43,
   "metadata": {},
   "outputs": [
    {
     "data": {
      "text/html": [
       "<div>\n",
       "<style scoped>\n",
       "    .dataframe tbody tr th:only-of-type {\n",
       "        vertical-align: middle;\n",
       "    }\n",
       "\n",
       "    .dataframe tbody tr th {\n",
       "        vertical-align: top;\n",
       "    }\n",
       "\n",
       "    .dataframe thead th {\n",
       "        text-align: right;\n",
       "    }\n",
       "</style>\n",
       "<table border=\"1\" class=\"dataframe\">\n",
       "  <thead>\n",
       "    <tr style=\"text-align: right;\">\n",
       "      <th></th>\n",
       "      <th>op_unique_carrier</th>\n",
       "      <th>op_carrier_fl_num</th>\n",
       "      <th>origin_airport_id</th>\n",
       "      <th>origin</th>\n",
       "      <th>dest_airport_id</th>\n",
       "      <th>dest</th>\n",
       "      <th>dep_delay</th>\n",
       "      <th>arr_delay</th>\n",
       "      <th>cancellation_code</th>\n",
       "      <th>air_time</th>\n",
       "      <th>distance</th>\n",
       "      <th>month</th>\n",
       "      <th>day_of_week</th>\n",
       "      <th>day_of_month</th>\n",
       "      <th>dep_hour</th>\n",
       "      <th>arr_hour</th>\n",
       "      <th>unique_fl</th>\n",
       "      <th>speed</th>\n",
       "      <th>dep_status</th>\n",
       "      <th>arr_status</th>\n",
       "      <th>mean_arr_delay</th>\n",
       "    </tr>\n",
       "  </thead>\n",
       "  <tbody>\n",
       "    <tr>\n",
       "      <th>13164250</th>\n",
       "      <td>OO</td>\n",
       "      <td>5565</td>\n",
       "      <td>11292</td>\n",
       "      <td>DEN</td>\n",
       "      <td>11638</td>\n",
       "      <td>FAT</td>\n",
       "      <td>9.0</td>\n",
       "      <td>0.0</td>\n",
       "      <td>N</td>\n",
       "      <td>106.0</td>\n",
       "      <td>844</td>\n",
       "      <td>3</td>\n",
       "      <td>0</td>\n",
       "      <td>26</td>\n",
       "      <td>19</td>\n",
       "      <td>20</td>\n",
       "      <td>OODENFAT</td>\n",
       "      <td>477.735849</td>\n",
       "      <td>late</td>\n",
       "      <td>ontime</td>\n",
       "      <td>1.013912</td>\n",
       "    </tr>\n",
       "    <tr>\n",
       "      <th>6218269</th>\n",
       "      <td>B6</td>\n",
       "      <td>8</td>\n",
       "      <td>12889</td>\n",
       "      <td>LAS</td>\n",
       "      <td>11697</td>\n",
       "      <td>FLL</td>\n",
       "      <td>25.0</td>\n",
       "      <td>4.0</td>\n",
       "      <td>N</td>\n",
       "      <td>252.0</td>\n",
       "      <td>2173</td>\n",
       "      <td>7</td>\n",
       "      <td>2</td>\n",
       "      <td>18</td>\n",
       "      <td>21</td>\n",
       "      <td>5</td>\n",
       "      <td>B6LASFLL</td>\n",
       "      <td>517.380952</td>\n",
       "      <td>late</td>\n",
       "      <td>late</td>\n",
       "      <td>2.619379</td>\n",
       "    </tr>\n",
       "    <tr>\n",
       "      <th>12657684</th>\n",
       "      <td>DL</td>\n",
       "      <td>1389</td>\n",
       "      <td>10397</td>\n",
       "      <td>ATL</td>\n",
       "      <td>10994</td>\n",
       "      <td>CHS</td>\n",
       "      <td>0.0</td>\n",
       "      <td>0.0</td>\n",
       "      <td>N</td>\n",
       "      <td>43.0</td>\n",
       "      <td>259</td>\n",
       "      <td>3</td>\n",
       "      <td>4</td>\n",
       "      <td>2</td>\n",
       "      <td>12</td>\n",
       "      <td>13</td>\n",
       "      <td>DLATLCHS</td>\n",
       "      <td>361.395349</td>\n",
       "      <td>ontime</td>\n",
       "      <td>ontime</td>\n",
       "      <td>0.000000</td>\n",
       "    </tr>\n",
       "    <tr>\n",
       "      <th>12506608</th>\n",
       "      <td>MQ</td>\n",
       "      <td>4090</td>\n",
       "      <td>14108</td>\n",
       "      <td>PIA</td>\n",
       "      <td>13930</td>\n",
       "      <td>ORD</td>\n",
       "      <td>0.0</td>\n",
       "      <td>0.0</td>\n",
       "      <td>N</td>\n",
       "      <td>35.0</td>\n",
       "      <td>130</td>\n",
       "      <td>6</td>\n",
       "      <td>1</td>\n",
       "      <td>25</td>\n",
       "      <td>6</td>\n",
       "      <td>7</td>\n",
       "      <td>MQPIAORD</td>\n",
       "      <td>222.857143</td>\n",
       "      <td>ontime</td>\n",
       "      <td>ontime</td>\n",
       "      <td>0.620917</td>\n",
       "    </tr>\n",
       "    <tr>\n",
       "      <th>6859796</th>\n",
       "      <td>9E</td>\n",
       "      <td>3480</td>\n",
       "      <td>12339</td>\n",
       "      <td>IND</td>\n",
       "      <td>12478</td>\n",
       "      <td>JFK</td>\n",
       "      <td>0.0</td>\n",
       "      <td>0.0</td>\n",
       "      <td>N</td>\n",
       "      <td>99.0</td>\n",
       "      <td>665</td>\n",
       "      <td>5</td>\n",
       "      <td>2</td>\n",
       "      <td>15</td>\n",
       "      <td>6</td>\n",
       "      <td>9</td>\n",
       "      <td>9EINDJFK</td>\n",
       "      <td>403.030303</td>\n",
       "      <td>ontime</td>\n",
       "      <td>ontime</td>\n",
       "      <td>0.513103</td>\n",
       "    </tr>\n",
       "  </tbody>\n",
       "</table>\n",
       "</div>"
      ],
      "text/plain": [
       "         op_unique_carrier op_carrier_fl_num origin_airport_id origin  \\\n",
       "13164250                OO              5565             11292    DEN   \n",
       "6218269                 B6                 8             12889    LAS   \n",
       "12657684                DL              1389             10397    ATL   \n",
       "12506608                MQ              4090             14108    PIA   \n",
       "6859796                 9E              3480             12339    IND   \n",
       "\n",
       "         dest_airport_id dest  dep_delay  arr_delay cancellation_code  \\\n",
       "13164250           11638  FAT        9.0        0.0                 N   \n",
       "6218269            11697  FLL       25.0        4.0                 N   \n",
       "12657684           10994  CHS        0.0        0.0                 N   \n",
       "12506608           13930  ORD        0.0        0.0                 N   \n",
       "6859796            12478  JFK        0.0        0.0                 N   \n",
       "\n",
       "          air_time  distance month day_of_week day_of_month dep_hour arr_hour  \\\n",
       "13164250     106.0       844     3           0           26       19       20   \n",
       "6218269      252.0      2173     7           2           18       21        5   \n",
       "12657684      43.0       259     3           4            2       12       13   \n",
       "12506608      35.0       130     6           1           25        6        7   \n",
       "6859796       99.0       665     5           2           15        6        9   \n",
       "\n",
       "         unique_fl       speed dep_status arr_status  mean_arr_delay  \n",
       "13164250  OODENFAT  477.735849       late     ontime        1.013912  \n",
       "6218269   B6LASFLL  517.380952       late       late        2.619379  \n",
       "12657684  DLATLCHS  361.395349     ontime     ontime        0.000000  \n",
       "12506608  MQPIAORD  222.857143     ontime     ontime        0.620917  \n",
       "6859796   9EINDJFK  403.030303     ontime     ontime        0.513103  "
      ]
     },
     "execution_count": 43,
     "metadata": {},
     "output_type": "execute_result"
    }
   ],
   "source": [
    "X2.head()"
   ]
  },
  {
   "cell_type": "code",
   "execution_count": 44,
   "metadata": {},
   "outputs": [],
   "source": [
    "X2['mean_arr_delay'] = X2['mean_arr_delay'].clip(lower=0) # remove negative values as they mean no delay anyway"
   ]
  },
  {
   "cell_type": "code",
   "execution_count": 45,
   "metadata": {},
   "outputs": [],
   "source": [
    "#X2.head(50).sort_values(by='mean_arr_delay', ascending=False)"
   ]
  },
  {
   "cell_type": "code",
   "execution_count": 46,
   "metadata": {
    "tags": []
   },
   "outputs": [
    {
     "data": {
      "text/html": [
       "<div>\n",
       "<style scoped>\n",
       "    .dataframe tbody tr th:only-of-type {\n",
       "        vertical-align: middle;\n",
       "    }\n",
       "\n",
       "    .dataframe tbody tr th {\n",
       "        vertical-align: top;\n",
       "    }\n",
       "\n",
       "    .dataframe thead th {\n",
       "        text-align: right;\n",
       "    }\n",
       "</style>\n",
       "<table border=\"1\" class=\"dataframe\">\n",
       "  <thead>\n",
       "    <tr style=\"text-align: right;\">\n",
       "      <th></th>\n",
       "      <th>feature</th>\n",
       "      <th>skew</th>\n",
       "      <th>absolute skew</th>\n",
       "      <th>skewed</th>\n",
       "    </tr>\n",
       "  </thead>\n",
       "  <tbody>\n",
       "    <tr>\n",
       "      <th>0</th>\n",
       "      <td>dep_delay</td>\n",
       "      <td>40.040178</td>\n",
       "      <td>40.040178</td>\n",
       "      <td>True</td>\n",
       "    </tr>\n",
       "    <tr>\n",
       "      <th>1</th>\n",
       "      <td>arr_delay</td>\n",
       "      <td>45.309800</td>\n",
       "      <td>45.309800</td>\n",
       "      <td>True</td>\n",
       "    </tr>\n",
       "    <tr>\n",
       "      <th>2</th>\n",
       "      <td>air_time</td>\n",
       "      <td>1.529705</td>\n",
       "      <td>1.529705</td>\n",
       "      <td>True</td>\n",
       "    </tr>\n",
       "    <tr>\n",
       "      <th>3</th>\n",
       "      <td>distance</td>\n",
       "      <td>1.554059</td>\n",
       "      <td>1.554059</td>\n",
       "      <td>True</td>\n",
       "    </tr>\n",
       "    <tr>\n",
       "      <th>4</th>\n",
       "      <td>speed</td>\n",
       "      <td>-0.430253</td>\n",
       "      <td>0.430253</td>\n",
       "      <td>False</td>\n",
       "    </tr>\n",
       "    <tr>\n",
       "      <th>5</th>\n",
       "      <td>mean_arr_delay</td>\n",
       "      <td>339.930646</td>\n",
       "      <td>339.930646</td>\n",
       "      <td>True</td>\n",
       "    </tr>\n",
       "  </tbody>\n",
       "</table>\n",
       "</div>"
      ],
      "text/plain": [
       "          feature        skew  absolute skew  skewed\n",
       "0       dep_delay   40.040178      40.040178    True\n",
       "1       arr_delay   45.309800      45.309800    True\n",
       "2        air_time    1.529705       1.529705    True\n",
       "3        distance    1.554059       1.554059    True\n",
       "4           speed   -0.430253       0.430253   False\n",
       "5  mean_arr_delay  339.930646     339.930646    True"
      ]
     },
     "execution_count": 46,
     "metadata": {},
     "output_type": "execute_result"
    }
   ],
   "source": [
    "# check for skew in numeric columns\n",
    "import scipy.stats\n",
    "\n",
    "skew_df = pd.DataFrame(X2.select_dtypes(np.number).columns, columns=['feature'])\n",
    "skew_df['skew'] = skew_df['feature'].apply(lambda feature: scipy.stats.skew(X2[feature]))\n",
    "skew_df['absolute skew'] = skew_df['skew'].apply(abs)\n",
    "skew_df['skewed'] = skew_df['absolute skew'].apply(lambda x: True if x >= 0.5 else False)\n",
    "skew_df"
   ]
  },
  {
   "cell_type": "code",
   "execution_count": 47,
   "metadata": {},
   "outputs": [],
   "source": [
    "#X2.info()"
   ]
  },
  {
   "cell_type": "code",
   "execution_count": 48,
   "metadata": {},
   "outputs": [
    {
     "data": {
      "text/html": [
       "<div>\n",
       "<style scoped>\n",
       "    .dataframe tbody tr th:only-of-type {\n",
       "        vertical-align: middle;\n",
       "    }\n",
       "\n",
       "    .dataframe tbody tr th {\n",
       "        vertical-align: top;\n",
       "    }\n",
       "\n",
       "    .dataframe thead th {\n",
       "        text-align: right;\n",
       "    }\n",
       "</style>\n",
       "<table border=\"1\" class=\"dataframe\">\n",
       "  <thead>\n",
       "    <tr style=\"text-align: right;\">\n",
       "      <th></th>\n",
       "      <th>op_unique_carrier</th>\n",
       "      <th>op_carrier_fl_num</th>\n",
       "      <th>origin_airport_id</th>\n",
       "      <th>origin</th>\n",
       "      <th>dest_airport_id</th>\n",
       "      <th>dest</th>\n",
       "      <th>dep_delay</th>\n",
       "      <th>arr_delay</th>\n",
       "      <th>cancellation_code</th>\n",
       "      <th>air_time</th>\n",
       "      <th>distance</th>\n",
       "      <th>month</th>\n",
       "      <th>day_of_week</th>\n",
       "      <th>day_of_month</th>\n",
       "      <th>dep_hour</th>\n",
       "      <th>arr_hour</th>\n",
       "      <th>unique_fl</th>\n",
       "      <th>speed</th>\n",
       "      <th>dep_status</th>\n",
       "      <th>arr_status</th>\n",
       "      <th>mean_arr_delay</th>\n",
       "    </tr>\n",
       "  </thead>\n",
       "  <tbody>\n",
       "    <tr>\n",
       "      <th>13164250</th>\n",
       "      <td>OO</td>\n",
       "      <td>5565</td>\n",
       "      <td>11292</td>\n",
       "      <td>DEN</td>\n",
       "      <td>11638</td>\n",
       "      <td>FAT</td>\n",
       "      <td>9.0</td>\n",
       "      <td>0.0</td>\n",
       "      <td>N</td>\n",
       "      <td>106.0</td>\n",
       "      <td>844</td>\n",
       "      <td>3</td>\n",
       "      <td>0</td>\n",
       "      <td>26</td>\n",
       "      <td>19</td>\n",
       "      <td>20</td>\n",
       "      <td>OODENFAT</td>\n",
       "      <td>477.735849</td>\n",
       "      <td>late</td>\n",
       "      <td>ontime</td>\n",
       "      <td>1.013912</td>\n",
       "    </tr>\n",
       "    <tr>\n",
       "      <th>6218269</th>\n",
       "      <td>B6</td>\n",
       "      <td>8</td>\n",
       "      <td>12889</td>\n",
       "      <td>LAS</td>\n",
       "      <td>11697</td>\n",
       "      <td>FLL</td>\n",
       "      <td>25.0</td>\n",
       "      <td>4.0</td>\n",
       "      <td>N</td>\n",
       "      <td>252.0</td>\n",
       "      <td>2173</td>\n",
       "      <td>7</td>\n",
       "      <td>2</td>\n",
       "      <td>18</td>\n",
       "      <td>21</td>\n",
       "      <td>5</td>\n",
       "      <td>B6LASFLL</td>\n",
       "      <td>517.380952</td>\n",
       "      <td>late</td>\n",
       "      <td>late</td>\n",
       "      <td>2.619379</td>\n",
       "    </tr>\n",
       "    <tr>\n",
       "      <th>12657684</th>\n",
       "      <td>DL</td>\n",
       "      <td>1389</td>\n",
       "      <td>10397</td>\n",
       "      <td>ATL</td>\n",
       "      <td>10994</td>\n",
       "      <td>CHS</td>\n",
       "      <td>0.0</td>\n",
       "      <td>0.0</td>\n",
       "      <td>N</td>\n",
       "      <td>43.0</td>\n",
       "      <td>259</td>\n",
       "      <td>3</td>\n",
       "      <td>4</td>\n",
       "      <td>2</td>\n",
       "      <td>12</td>\n",
       "      <td>13</td>\n",
       "      <td>DLATLCHS</td>\n",
       "      <td>361.395349</td>\n",
       "      <td>ontime</td>\n",
       "      <td>ontime</td>\n",
       "      <td>0.000000</td>\n",
       "    </tr>\n",
       "    <tr>\n",
       "      <th>12506608</th>\n",
       "      <td>MQ</td>\n",
       "      <td>4090</td>\n",
       "      <td>14108</td>\n",
       "      <td>PIA</td>\n",
       "      <td>13930</td>\n",
       "      <td>ORD</td>\n",
       "      <td>0.0</td>\n",
       "      <td>0.0</td>\n",
       "      <td>N</td>\n",
       "      <td>35.0</td>\n",
       "      <td>130</td>\n",
       "      <td>6</td>\n",
       "      <td>1</td>\n",
       "      <td>25</td>\n",
       "      <td>6</td>\n",
       "      <td>7</td>\n",
       "      <td>MQPIAORD</td>\n",
       "      <td>222.857143</td>\n",
       "      <td>ontime</td>\n",
       "      <td>ontime</td>\n",
       "      <td>0.620917</td>\n",
       "    </tr>\n",
       "    <tr>\n",
       "      <th>6859796</th>\n",
       "      <td>9E</td>\n",
       "      <td>3480</td>\n",
       "      <td>12339</td>\n",
       "      <td>IND</td>\n",
       "      <td>12478</td>\n",
       "      <td>JFK</td>\n",
       "      <td>0.0</td>\n",
       "      <td>0.0</td>\n",
       "      <td>N</td>\n",
       "      <td>99.0</td>\n",
       "      <td>665</td>\n",
       "      <td>5</td>\n",
       "      <td>2</td>\n",
       "      <td>15</td>\n",
       "      <td>6</td>\n",
       "      <td>9</td>\n",
       "      <td>9EINDJFK</td>\n",
       "      <td>403.030303</td>\n",
       "      <td>ontime</td>\n",
       "      <td>ontime</td>\n",
       "      <td>0.513103</td>\n",
       "    </tr>\n",
       "  </tbody>\n",
       "</table>\n",
       "</div>"
      ],
      "text/plain": [
       "         op_unique_carrier op_carrier_fl_num origin_airport_id origin  \\\n",
       "13164250                OO              5565             11292    DEN   \n",
       "6218269                 B6                 8             12889    LAS   \n",
       "12657684                DL              1389             10397    ATL   \n",
       "12506608                MQ              4090             14108    PIA   \n",
       "6859796                 9E              3480             12339    IND   \n",
       "\n",
       "         dest_airport_id dest  dep_delay  arr_delay cancellation_code  \\\n",
       "13164250           11638  FAT        9.0        0.0                 N   \n",
       "6218269            11697  FLL       25.0        4.0                 N   \n",
       "12657684           10994  CHS        0.0        0.0                 N   \n",
       "12506608           13930  ORD        0.0        0.0                 N   \n",
       "6859796            12478  JFK        0.0        0.0                 N   \n",
       "\n",
       "          air_time  distance month day_of_week day_of_month dep_hour arr_hour  \\\n",
       "13164250     106.0       844     3           0           26       19       20   \n",
       "6218269      252.0      2173     7           2           18       21        5   \n",
       "12657684      43.0       259     3           4            2       12       13   \n",
       "12506608      35.0       130     6           1           25        6        7   \n",
       "6859796       99.0       665     5           2           15        6        9   \n",
       "\n",
       "         unique_fl       speed dep_status arr_status  mean_arr_delay  \n",
       "13164250  OODENFAT  477.735849       late     ontime        1.013912  \n",
       "6218269   B6LASFLL  517.380952       late       late        2.619379  \n",
       "12657684  DLATLCHS  361.395349     ontime     ontime        0.000000  \n",
       "12506608  MQPIAORD  222.857143     ontime     ontime        0.620917  \n",
       "6859796   9EINDJFK  403.030303     ontime     ontime        0.513103  "
      ]
     },
     "execution_count": 48,
     "metadata": {},
     "output_type": "execute_result"
    }
   ],
   "source": [
    "X2.head()"
   ]
  },
  {
   "cell_type": "code",
   "execution_count": 49,
   "metadata": {},
   "outputs": [],
   "source": [
    "X3 = X2.copy() #df for log transform of skewed columns"
   ]
  },
  {
   "cell_type": "code",
   "execution_count": 50,
   "metadata": {},
   "outputs": [
    {
     "name": "stderr",
     "output_type": "stream",
     "text": [
      "/home/callingtad/anaconda3/lib/python3.8/site-packages/pandas/core/arraylike.py:364: RuntimeWarning: invalid value encountered in log1p\n",
      "  result = getattr(ufunc, method)(*inputs, **kwargs)\n"
     ]
    }
   ],
   "source": [
    "# log transform skewed numeric columns\n",
    "\n",
    "for column in skew_df.query(\"skewed == True\")['feature'].values:\n",
    "    X3[column] = np.log1p(X3[column])"
   ]
  },
  {
   "cell_type": "code",
   "execution_count": 51,
   "metadata": {
    "gradient": {
     "editing": false
    }
   },
   "outputs": [
    {
     "data": {
      "text/html": [
       "<div>\n",
       "<style scoped>\n",
       "    .dataframe tbody tr th:only-of-type {\n",
       "        vertical-align: middle;\n",
       "    }\n",
       "\n",
       "    .dataframe tbody tr th {\n",
       "        vertical-align: top;\n",
       "    }\n",
       "\n",
       "    .dataframe thead th {\n",
       "        text-align: right;\n",
       "    }\n",
       "</style>\n",
       "<table border=\"1\" class=\"dataframe\">\n",
       "  <thead>\n",
       "    <tr style=\"text-align: right;\">\n",
       "      <th></th>\n",
       "      <th>op_unique_carrier</th>\n",
       "      <th>op_carrier_fl_num</th>\n",
       "      <th>origin_airport_id</th>\n",
       "      <th>origin</th>\n",
       "      <th>dest_airport_id</th>\n",
       "      <th>dest</th>\n",
       "      <th>dep_delay</th>\n",
       "      <th>arr_delay</th>\n",
       "      <th>cancellation_code</th>\n",
       "      <th>air_time</th>\n",
       "      <th>distance</th>\n",
       "      <th>month</th>\n",
       "      <th>day_of_week</th>\n",
       "      <th>day_of_month</th>\n",
       "      <th>dep_hour</th>\n",
       "      <th>arr_hour</th>\n",
       "      <th>unique_fl</th>\n",
       "      <th>speed</th>\n",
       "      <th>dep_status</th>\n",
       "      <th>arr_status</th>\n",
       "      <th>mean_arr_delay</th>\n",
       "    </tr>\n",
       "  </thead>\n",
       "  <tbody>\n",
       "    <tr>\n",
       "      <th>13164250</th>\n",
       "      <td>OO</td>\n",
       "      <td>5565</td>\n",
       "      <td>11292</td>\n",
       "      <td>DEN</td>\n",
       "      <td>11638</td>\n",
       "      <td>FAT</td>\n",
       "      <td>2.302585</td>\n",
       "      <td>0.000000</td>\n",
       "      <td>N</td>\n",
       "      <td>4.672829</td>\n",
       "      <td>6.739337</td>\n",
       "      <td>3</td>\n",
       "      <td>0</td>\n",
       "      <td>26</td>\n",
       "      <td>19</td>\n",
       "      <td>20</td>\n",
       "      <td>OODENFAT</td>\n",
       "      <td>477.735849</td>\n",
       "      <td>late</td>\n",
       "      <td>ontime</td>\n",
       "      <td>0.700079</td>\n",
       "    </tr>\n",
       "    <tr>\n",
       "      <th>6218269</th>\n",
       "      <td>B6</td>\n",
       "      <td>8</td>\n",
       "      <td>12889</td>\n",
       "      <td>LAS</td>\n",
       "      <td>11697</td>\n",
       "      <td>FLL</td>\n",
       "      <td>3.258097</td>\n",
       "      <td>1.609438</td>\n",
       "      <td>N</td>\n",
       "      <td>5.533389</td>\n",
       "      <td>7.684324</td>\n",
       "      <td>7</td>\n",
       "      <td>2</td>\n",
       "      <td>18</td>\n",
       "      <td>21</td>\n",
       "      <td>5</td>\n",
       "      <td>B6LASFLL</td>\n",
       "      <td>517.380952</td>\n",
       "      <td>late</td>\n",
       "      <td>late</td>\n",
       "      <td>1.286303</td>\n",
       "    </tr>\n",
       "    <tr>\n",
       "      <th>12657684</th>\n",
       "      <td>DL</td>\n",
       "      <td>1389</td>\n",
       "      <td>10397</td>\n",
       "      <td>ATL</td>\n",
       "      <td>10994</td>\n",
       "      <td>CHS</td>\n",
       "      <td>0.000000</td>\n",
       "      <td>0.000000</td>\n",
       "      <td>N</td>\n",
       "      <td>3.784190</td>\n",
       "      <td>5.560682</td>\n",
       "      <td>3</td>\n",
       "      <td>4</td>\n",
       "      <td>2</td>\n",
       "      <td>12</td>\n",
       "      <td>13</td>\n",
       "      <td>DLATLCHS</td>\n",
       "      <td>361.395349</td>\n",
       "      <td>ontime</td>\n",
       "      <td>ontime</td>\n",
       "      <td>0.000000</td>\n",
       "    </tr>\n",
       "    <tr>\n",
       "      <th>12506608</th>\n",
       "      <td>MQ</td>\n",
       "      <td>4090</td>\n",
       "      <td>14108</td>\n",
       "      <td>PIA</td>\n",
       "      <td>13930</td>\n",
       "      <td>ORD</td>\n",
       "      <td>0.000000</td>\n",
       "      <td>0.000000</td>\n",
       "      <td>N</td>\n",
       "      <td>3.583519</td>\n",
       "      <td>4.875197</td>\n",
       "      <td>6</td>\n",
       "      <td>1</td>\n",
       "      <td>25</td>\n",
       "      <td>6</td>\n",
       "      <td>7</td>\n",
       "      <td>MQPIAORD</td>\n",
       "      <td>222.857143</td>\n",
       "      <td>ontime</td>\n",
       "      <td>ontime</td>\n",
       "      <td>0.482992</td>\n",
       "    </tr>\n",
       "    <tr>\n",
       "      <th>6859796</th>\n",
       "      <td>9E</td>\n",
       "      <td>3480</td>\n",
       "      <td>12339</td>\n",
       "      <td>IND</td>\n",
       "      <td>12478</td>\n",
       "      <td>JFK</td>\n",
       "      <td>0.000000</td>\n",
       "      <td>0.000000</td>\n",
       "      <td>N</td>\n",
       "      <td>4.605170</td>\n",
       "      <td>6.501290</td>\n",
       "      <td>5</td>\n",
       "      <td>2</td>\n",
       "      <td>15</td>\n",
       "      <td>6</td>\n",
       "      <td>9</td>\n",
       "      <td>9EINDJFK</td>\n",
       "      <td>403.030303</td>\n",
       "      <td>ontime</td>\n",
       "      <td>ontime</td>\n",
       "      <td>0.414163</td>\n",
       "    </tr>\n",
       "  </tbody>\n",
       "</table>\n",
       "</div>"
      ],
      "text/plain": [
       "         op_unique_carrier op_carrier_fl_num origin_airport_id origin  \\\n",
       "13164250                OO              5565             11292    DEN   \n",
       "6218269                 B6                 8             12889    LAS   \n",
       "12657684                DL              1389             10397    ATL   \n",
       "12506608                MQ              4090             14108    PIA   \n",
       "6859796                 9E              3480             12339    IND   \n",
       "\n",
       "         dest_airport_id dest  dep_delay  arr_delay cancellation_code  \\\n",
       "13164250           11638  FAT   2.302585   0.000000                 N   \n",
       "6218269            11697  FLL   3.258097   1.609438                 N   \n",
       "12657684           10994  CHS   0.000000   0.000000                 N   \n",
       "12506608           13930  ORD   0.000000   0.000000                 N   \n",
       "6859796            12478  JFK   0.000000   0.000000                 N   \n",
       "\n",
       "          air_time  distance month day_of_week day_of_month dep_hour arr_hour  \\\n",
       "13164250  4.672829  6.739337     3           0           26       19       20   \n",
       "6218269   5.533389  7.684324     7           2           18       21        5   \n",
       "12657684  3.784190  5.560682     3           4            2       12       13   \n",
       "12506608  3.583519  4.875197     6           1           25        6        7   \n",
       "6859796   4.605170  6.501290     5           2           15        6        9   \n",
       "\n",
       "         unique_fl       speed dep_status arr_status  mean_arr_delay  \n",
       "13164250  OODENFAT  477.735849       late     ontime        0.700079  \n",
       "6218269   B6LASFLL  517.380952       late       late        1.286303  \n",
       "12657684  DLATLCHS  361.395349     ontime     ontime        0.000000  \n",
       "12506608  MQPIAORD  222.857143     ontime     ontime        0.482992  \n",
       "6859796   9EINDJFK  403.030303     ontime     ontime        0.414163  "
      ]
     },
     "execution_count": 51,
     "metadata": {},
     "output_type": "execute_result"
    }
   ],
   "source": [
    "X3.head()"
   ]
  },
  {
   "cell_type": "markdown",
   "metadata": {},
   "source": [
    "## encoding for cyclical categorical variables"
   ]
  },
  {
   "cell_type": "code",
   "execution_count": 52,
   "metadata": {},
   "outputs": [],
   "source": [
    "X4 = X3.copy() # make a new copy for cat variables transformation"
   ]
  },
  {
   "cell_type": "code",
   "execution_count": 53,
   "metadata": {},
   "outputs": [
    {
     "data": {
      "text/html": [
       "<div>\n",
       "<style scoped>\n",
       "    .dataframe tbody tr th:only-of-type {\n",
       "        vertical-align: middle;\n",
       "    }\n",
       "\n",
       "    .dataframe tbody tr th {\n",
       "        vertical-align: top;\n",
       "    }\n",
       "\n",
       "    .dataframe thead th {\n",
       "        text-align: right;\n",
       "    }\n",
       "</style>\n",
       "<table border=\"1\" class=\"dataframe\">\n",
       "  <thead>\n",
       "    <tr style=\"text-align: right;\">\n",
       "      <th></th>\n",
       "      <th>op_unique_carrier</th>\n",
       "      <th>op_carrier_fl_num</th>\n",
       "      <th>origin_airport_id</th>\n",
       "      <th>origin</th>\n",
       "      <th>dest_airport_id</th>\n",
       "      <th>dest</th>\n",
       "      <th>dep_delay</th>\n",
       "      <th>arr_delay</th>\n",
       "      <th>cancellation_code</th>\n",
       "      <th>air_time</th>\n",
       "      <th>distance</th>\n",
       "      <th>month</th>\n",
       "      <th>day_of_week</th>\n",
       "      <th>day_of_month</th>\n",
       "      <th>dep_hour</th>\n",
       "      <th>arr_hour</th>\n",
       "      <th>unique_fl</th>\n",
       "      <th>speed</th>\n",
       "      <th>dep_status</th>\n",
       "      <th>arr_status</th>\n",
       "      <th>mean_arr_delay</th>\n",
       "    </tr>\n",
       "  </thead>\n",
       "  <tbody>\n",
       "    <tr>\n",
       "      <th>13164250</th>\n",
       "      <td>OO</td>\n",
       "      <td>5565</td>\n",
       "      <td>11292</td>\n",
       "      <td>DEN</td>\n",
       "      <td>11638</td>\n",
       "      <td>FAT</td>\n",
       "      <td>2.302585</td>\n",
       "      <td>0.000000</td>\n",
       "      <td>N</td>\n",
       "      <td>4.672829</td>\n",
       "      <td>6.739337</td>\n",
       "      <td>3</td>\n",
       "      <td>0</td>\n",
       "      <td>26</td>\n",
       "      <td>19</td>\n",
       "      <td>20</td>\n",
       "      <td>OODENFAT</td>\n",
       "      <td>477.735849</td>\n",
       "      <td>late</td>\n",
       "      <td>ontime</td>\n",
       "      <td>0.700079</td>\n",
       "    </tr>\n",
       "    <tr>\n",
       "      <th>6218269</th>\n",
       "      <td>B6</td>\n",
       "      <td>8</td>\n",
       "      <td>12889</td>\n",
       "      <td>LAS</td>\n",
       "      <td>11697</td>\n",
       "      <td>FLL</td>\n",
       "      <td>3.258097</td>\n",
       "      <td>1.609438</td>\n",
       "      <td>N</td>\n",
       "      <td>5.533389</td>\n",
       "      <td>7.684324</td>\n",
       "      <td>7</td>\n",
       "      <td>2</td>\n",
       "      <td>18</td>\n",
       "      <td>21</td>\n",
       "      <td>5</td>\n",
       "      <td>B6LASFLL</td>\n",
       "      <td>517.380952</td>\n",
       "      <td>late</td>\n",
       "      <td>late</td>\n",
       "      <td>1.286303</td>\n",
       "    </tr>\n",
       "    <tr>\n",
       "      <th>12657684</th>\n",
       "      <td>DL</td>\n",
       "      <td>1389</td>\n",
       "      <td>10397</td>\n",
       "      <td>ATL</td>\n",
       "      <td>10994</td>\n",
       "      <td>CHS</td>\n",
       "      <td>0.000000</td>\n",
       "      <td>0.000000</td>\n",
       "      <td>N</td>\n",
       "      <td>3.784190</td>\n",
       "      <td>5.560682</td>\n",
       "      <td>3</td>\n",
       "      <td>4</td>\n",
       "      <td>2</td>\n",
       "      <td>12</td>\n",
       "      <td>13</td>\n",
       "      <td>DLATLCHS</td>\n",
       "      <td>361.395349</td>\n",
       "      <td>ontime</td>\n",
       "      <td>ontime</td>\n",
       "      <td>0.000000</td>\n",
       "    </tr>\n",
       "    <tr>\n",
       "      <th>12506608</th>\n",
       "      <td>MQ</td>\n",
       "      <td>4090</td>\n",
       "      <td>14108</td>\n",
       "      <td>PIA</td>\n",
       "      <td>13930</td>\n",
       "      <td>ORD</td>\n",
       "      <td>0.000000</td>\n",
       "      <td>0.000000</td>\n",
       "      <td>N</td>\n",
       "      <td>3.583519</td>\n",
       "      <td>4.875197</td>\n",
       "      <td>6</td>\n",
       "      <td>1</td>\n",
       "      <td>25</td>\n",
       "      <td>6</td>\n",
       "      <td>7</td>\n",
       "      <td>MQPIAORD</td>\n",
       "      <td>222.857143</td>\n",
       "      <td>ontime</td>\n",
       "      <td>ontime</td>\n",
       "      <td>0.482992</td>\n",
       "    </tr>\n",
       "    <tr>\n",
       "      <th>6859796</th>\n",
       "      <td>9E</td>\n",
       "      <td>3480</td>\n",
       "      <td>12339</td>\n",
       "      <td>IND</td>\n",
       "      <td>12478</td>\n",
       "      <td>JFK</td>\n",
       "      <td>0.000000</td>\n",
       "      <td>0.000000</td>\n",
       "      <td>N</td>\n",
       "      <td>4.605170</td>\n",
       "      <td>6.501290</td>\n",
       "      <td>5</td>\n",
       "      <td>2</td>\n",
       "      <td>15</td>\n",
       "      <td>6</td>\n",
       "      <td>9</td>\n",
       "      <td>9EINDJFK</td>\n",
       "      <td>403.030303</td>\n",
       "      <td>ontime</td>\n",
       "      <td>ontime</td>\n",
       "      <td>0.414163</td>\n",
       "    </tr>\n",
       "  </tbody>\n",
       "</table>\n",
       "</div>"
      ],
      "text/plain": [
       "         op_unique_carrier op_carrier_fl_num origin_airport_id origin  \\\n",
       "13164250                OO              5565             11292    DEN   \n",
       "6218269                 B6                 8             12889    LAS   \n",
       "12657684                DL              1389             10397    ATL   \n",
       "12506608                MQ              4090             14108    PIA   \n",
       "6859796                 9E              3480             12339    IND   \n",
       "\n",
       "         dest_airport_id dest  dep_delay  arr_delay cancellation_code  \\\n",
       "13164250           11638  FAT   2.302585   0.000000                 N   \n",
       "6218269            11697  FLL   3.258097   1.609438                 N   \n",
       "12657684           10994  CHS   0.000000   0.000000                 N   \n",
       "12506608           13930  ORD   0.000000   0.000000                 N   \n",
       "6859796            12478  JFK   0.000000   0.000000                 N   \n",
       "\n",
       "          air_time  distance month day_of_week day_of_month dep_hour arr_hour  \\\n",
       "13164250  4.672829  6.739337     3           0           26       19       20   \n",
       "6218269   5.533389  7.684324     7           2           18       21        5   \n",
       "12657684  3.784190  5.560682     3           4            2       12       13   \n",
       "12506608  3.583519  4.875197     6           1           25        6        7   \n",
       "6859796   4.605170  6.501290     5           2           15        6        9   \n",
       "\n",
       "         unique_fl       speed dep_status arr_status  mean_arr_delay  \n",
       "13164250  OODENFAT  477.735849       late     ontime        0.700079  \n",
       "6218269   B6LASFLL  517.380952       late       late        1.286303  \n",
       "12657684  DLATLCHS  361.395349     ontime     ontime        0.000000  \n",
       "12506608  MQPIAORD  222.857143     ontime     ontime        0.482992  \n",
       "6859796   9EINDJFK  403.030303     ontime     ontime        0.414163  "
      ]
     },
     "execution_count": 53,
     "metadata": {},
     "output_type": "execute_result"
    }
   ],
   "source": [
    "X4.head()"
   ]
  },
  {
   "cell_type": "code",
   "execution_count": 54,
   "metadata": {},
   "outputs": [],
   "source": [
    "#X4['dep_hour'].value_counts().sort_values()"
   ]
  },
  {
   "cell_type": "code",
   "execution_count": 55,
   "metadata": {},
   "outputs": [],
   "source": [
    "# sin-cos transformation for cyclical conditions\n",
    "\n",
    "X4['month_sin'] = np.sin(2 * np.pi * X4['month'].astype('int')/12.0)\n",
    "X4['month_cos'] = np.cos(2 * np.pi * X4['month'].astype('int')/12.0)\n",
    "\n",
    "X4['day_of_week_sin'] = np.sin(2 * np.pi * X4['day_of_week'].astype('int')/6.0)\n",
    "X4['day_of_week_cos'] = np.cos(2 * np.pi * X4['day_of_week'].astype('int')/6.0)\n",
    "   \n",
    "\n",
    "X4['day_of_month_sin'] = np.sin(2 * np.pi * X4['day_of_month'].astype('int')/31.0)\n",
    "X4['day_of_month_cos'] = np.cos(2 * np.pi * X4['day_of_month'].astype('int')/31.0)\n",
    "        \n",
    "\n",
    "X4['dep_hour_sin'] = np.sin(2 * np.pi * X4['dep_hour'].astype('int')/23.0)\n",
    "X4['dep_hour_cos'] = np.cos(2 * np.pi * X4['dep_hour'].astype('int')/23.0)\n",
    "         \n",
    "\n",
    "X4['arr_hour_sin'] = np.sin(2 * np.pi * X4['arr_hour'].astype('int')/23.0)\n",
    "X4['arr_hour_cos'] = np.cos(2 * np.pi * X4['arr_hour'].astype('int')/23.0)\n",
    "\n",
    "X4 = X4.drop(['month', 'day_of_week', 'day_of_month', 'dep_hour', 'arr_hour'], axis=1)\n",
    "       "
   ]
  },
  {
   "cell_type": "code",
   "execution_count": 56,
   "metadata": {},
   "outputs": [
    {
     "data": {
      "text/html": [
       "<div>\n",
       "<style scoped>\n",
       "    .dataframe tbody tr th:only-of-type {\n",
       "        vertical-align: middle;\n",
       "    }\n",
       "\n",
       "    .dataframe tbody tr th {\n",
       "        vertical-align: top;\n",
       "    }\n",
       "\n",
       "    .dataframe thead th {\n",
       "        text-align: right;\n",
       "    }\n",
       "</style>\n",
       "<table border=\"1\" class=\"dataframe\">\n",
       "  <thead>\n",
       "    <tr style=\"text-align: right;\">\n",
       "      <th></th>\n",
       "      <th>op_unique_carrier</th>\n",
       "      <th>op_carrier_fl_num</th>\n",
       "      <th>origin_airport_id</th>\n",
       "      <th>origin</th>\n",
       "      <th>dest_airport_id</th>\n",
       "      <th>dest</th>\n",
       "      <th>dep_delay</th>\n",
       "      <th>arr_delay</th>\n",
       "      <th>cancellation_code</th>\n",
       "      <th>air_time</th>\n",
       "      <th>distance</th>\n",
       "      <th>unique_fl</th>\n",
       "      <th>speed</th>\n",
       "      <th>dep_status</th>\n",
       "      <th>arr_status</th>\n",
       "      <th>mean_arr_delay</th>\n",
       "      <th>month_sin</th>\n",
       "      <th>month_cos</th>\n",
       "      <th>day_of_week_sin</th>\n",
       "      <th>day_of_week_cos</th>\n",
       "      <th>day_of_month_sin</th>\n",
       "      <th>day_of_month_cos</th>\n",
       "      <th>dep_hour_sin</th>\n",
       "      <th>dep_hour_cos</th>\n",
       "      <th>arr_hour_sin</th>\n",
       "      <th>arr_hour_cos</th>\n",
       "    </tr>\n",
       "  </thead>\n",
       "  <tbody>\n",
       "    <tr>\n",
       "      <th>13164250</th>\n",
       "      <td>OO</td>\n",
       "      <td>5565</td>\n",
       "      <td>11292</td>\n",
       "      <td>DEN</td>\n",
       "      <td>11638</td>\n",
       "      <td>FAT</td>\n",
       "      <td>2.302585</td>\n",
       "      <td>0.000000</td>\n",
       "      <td>N</td>\n",
       "      <td>4.672829</td>\n",
       "      <td>6.739337</td>\n",
       "      <td>OODENFAT</td>\n",
       "      <td>477.735849</td>\n",
       "      <td>late</td>\n",
       "      <td>ontime</td>\n",
       "      <td>0.700079</td>\n",
       "      <td>1.000000e+00</td>\n",
       "      <td>6.123234e-17</td>\n",
       "      <td>0.000000</td>\n",
       "      <td>1.0</td>\n",
       "      <td>-0.848644</td>\n",
       "      <td>0.528964</td>\n",
       "      <td>-0.887885</td>\n",
       "      <td>0.460065</td>\n",
       "      <td>-0.730836</td>\n",
       "      <td>0.682553</td>\n",
       "    </tr>\n",
       "    <tr>\n",
       "      <th>6218269</th>\n",
       "      <td>B6</td>\n",
       "      <td>8</td>\n",
       "      <td>12889</td>\n",
       "      <td>LAS</td>\n",
       "      <td>11697</td>\n",
       "      <td>FLL</td>\n",
       "      <td>3.258097</td>\n",
       "      <td>1.609438</td>\n",
       "      <td>N</td>\n",
       "      <td>5.533389</td>\n",
       "      <td>7.684324</td>\n",
       "      <td>B6LASFLL</td>\n",
       "      <td>517.380952</td>\n",
       "      <td>late</td>\n",
       "      <td>late</td>\n",
       "      <td>1.286303</td>\n",
       "      <td>-5.000000e-01</td>\n",
       "      <td>-8.660254e-01</td>\n",
       "      <td>0.866025</td>\n",
       "      <td>-0.5</td>\n",
       "      <td>-0.485302</td>\n",
       "      <td>-0.874347</td>\n",
       "      <td>-0.519584</td>\n",
       "      <td>0.854419</td>\n",
       "      <td>0.979084</td>\n",
       "      <td>0.203456</td>\n",
       "    </tr>\n",
       "    <tr>\n",
       "      <th>12657684</th>\n",
       "      <td>DL</td>\n",
       "      <td>1389</td>\n",
       "      <td>10397</td>\n",
       "      <td>ATL</td>\n",
       "      <td>10994</td>\n",
       "      <td>CHS</td>\n",
       "      <td>0.000000</td>\n",
       "      <td>0.000000</td>\n",
       "      <td>N</td>\n",
       "      <td>3.784190</td>\n",
       "      <td>5.560682</td>\n",
       "      <td>DLATLCHS</td>\n",
       "      <td>361.395349</td>\n",
       "      <td>ontime</td>\n",
       "      <td>ontime</td>\n",
       "      <td>0.000000</td>\n",
       "      <td>1.000000e+00</td>\n",
       "      <td>6.123234e-17</td>\n",
       "      <td>-0.866025</td>\n",
       "      <td>-0.5</td>\n",
       "      <td>0.394356</td>\n",
       "      <td>0.918958</td>\n",
       "      <td>-0.136167</td>\n",
       "      <td>-0.990686</td>\n",
       "      <td>-0.398401</td>\n",
       "      <td>-0.917211</td>\n",
       "    </tr>\n",
       "    <tr>\n",
       "      <th>12506608</th>\n",
       "      <td>MQ</td>\n",
       "      <td>4090</td>\n",
       "      <td>14108</td>\n",
       "      <td>PIA</td>\n",
       "      <td>13930</td>\n",
       "      <td>ORD</td>\n",
       "      <td>0.000000</td>\n",
       "      <td>0.000000</td>\n",
       "      <td>N</td>\n",
       "      <td>3.583519</td>\n",
       "      <td>4.875197</td>\n",
       "      <td>MQPIAORD</td>\n",
       "      <td>222.857143</td>\n",
       "      <td>ontime</td>\n",
       "      <td>ontime</td>\n",
       "      <td>0.482992</td>\n",
       "      <td>1.224647e-16</td>\n",
       "      <td>-1.000000e+00</td>\n",
       "      <td>0.866025</td>\n",
       "      <td>0.5</td>\n",
       "      <td>-0.937752</td>\n",
       "      <td>0.347305</td>\n",
       "      <td>0.997669</td>\n",
       "      <td>-0.068242</td>\n",
       "      <td>0.942261</td>\n",
       "      <td>-0.334880</td>\n",
       "    </tr>\n",
       "    <tr>\n",
       "      <th>6859796</th>\n",
       "      <td>9E</td>\n",
       "      <td>3480</td>\n",
       "      <td>12339</td>\n",
       "      <td>IND</td>\n",
       "      <td>12478</td>\n",
       "      <td>JFK</td>\n",
       "      <td>0.000000</td>\n",
       "      <td>0.000000</td>\n",
       "      <td>N</td>\n",
       "      <td>4.605170</td>\n",
       "      <td>6.501290</td>\n",
       "      <td>9EINDJFK</td>\n",
       "      <td>403.030303</td>\n",
       "      <td>ontime</td>\n",
       "      <td>ontime</td>\n",
       "      <td>0.414163</td>\n",
       "      <td>5.000000e-01</td>\n",
       "      <td>-8.660254e-01</td>\n",
       "      <td>0.866025</td>\n",
       "      <td>-0.5</td>\n",
       "      <td>0.101168</td>\n",
       "      <td>-0.994869</td>\n",
       "      <td>0.997669</td>\n",
       "      <td>-0.068242</td>\n",
       "      <td>0.631088</td>\n",
       "      <td>-0.775711</td>\n",
       "    </tr>\n",
       "  </tbody>\n",
       "</table>\n",
       "</div>"
      ],
      "text/plain": [
       "         op_unique_carrier op_carrier_fl_num origin_airport_id origin  \\\n",
       "13164250                OO              5565             11292    DEN   \n",
       "6218269                 B6                 8             12889    LAS   \n",
       "12657684                DL              1389             10397    ATL   \n",
       "12506608                MQ              4090             14108    PIA   \n",
       "6859796                 9E              3480             12339    IND   \n",
       "\n",
       "         dest_airport_id dest  dep_delay  arr_delay cancellation_code  \\\n",
       "13164250           11638  FAT   2.302585   0.000000                 N   \n",
       "6218269            11697  FLL   3.258097   1.609438                 N   \n",
       "12657684           10994  CHS   0.000000   0.000000                 N   \n",
       "12506608           13930  ORD   0.000000   0.000000                 N   \n",
       "6859796            12478  JFK   0.000000   0.000000                 N   \n",
       "\n",
       "          air_time  distance unique_fl       speed dep_status arr_status  \\\n",
       "13164250  4.672829  6.739337  OODENFAT  477.735849       late     ontime   \n",
       "6218269   5.533389  7.684324  B6LASFLL  517.380952       late       late   \n",
       "12657684  3.784190  5.560682  DLATLCHS  361.395349     ontime     ontime   \n",
       "12506608  3.583519  4.875197  MQPIAORD  222.857143     ontime     ontime   \n",
       "6859796   4.605170  6.501290  9EINDJFK  403.030303     ontime     ontime   \n",
       "\n",
       "          mean_arr_delay     month_sin     month_cos  day_of_week_sin  \\\n",
       "13164250        0.700079  1.000000e+00  6.123234e-17         0.000000   \n",
       "6218269         1.286303 -5.000000e-01 -8.660254e-01         0.866025   \n",
       "12657684        0.000000  1.000000e+00  6.123234e-17        -0.866025   \n",
       "12506608        0.482992  1.224647e-16 -1.000000e+00         0.866025   \n",
       "6859796         0.414163  5.000000e-01 -8.660254e-01         0.866025   \n",
       "\n",
       "          day_of_week_cos  day_of_month_sin  day_of_month_cos  dep_hour_sin  \\\n",
       "13164250              1.0         -0.848644          0.528964     -0.887885   \n",
       "6218269              -0.5         -0.485302         -0.874347     -0.519584   \n",
       "12657684             -0.5          0.394356          0.918958     -0.136167   \n",
       "12506608              0.5         -0.937752          0.347305      0.997669   \n",
       "6859796              -0.5          0.101168         -0.994869      0.997669   \n",
       "\n",
       "          dep_hour_cos  arr_hour_sin  arr_hour_cos  \n",
       "13164250      0.460065     -0.730836      0.682553  \n",
       "6218269       0.854419      0.979084      0.203456  \n",
       "12657684     -0.990686     -0.398401     -0.917211  \n",
       "12506608     -0.068242      0.942261     -0.334880  \n",
       "6859796      -0.068242      0.631088     -0.775711  "
      ]
     },
     "execution_count": 56,
     "metadata": {},
     "output_type": "execute_result"
    }
   ],
   "source": [
    "X4.head()"
   ]
  },
  {
   "cell_type": "markdown",
   "metadata": {},
   "source": [
    "## frequency encoding for categorical variables  "
   ]
  },
  {
   "cell_type": "code",
   "execution_count": 57,
   "metadata": {},
   "outputs": [],
   "source": [
    "X5 = X4.copy()"
   ]
  },
  {
   "cell_type": "code",
   "execution_count": 58,
   "metadata": {},
   "outputs": [],
   "source": [
    "# frequency encoding for op_unique_carrier, op_carrier_fl_num, origin_airport_id, origin, dest_airport_id, dest, cancellation_code, unique_fl, dep_status, arr_status \n",
    "\n",
    "#, 'op_carrier_fl_num', 'origin_airport_id', 'origin', 'dest_airport_id', 'dest', 'cancellation_code', 'unique_fl', 'dep_status', 'arr_status'\n",
    "\n",
    "# list = ['op_unique_carrier']\n",
    "\n",
    "# def catEncode(df):\n",
    "#     for item in list:\n",
    "#         encoding = df[item].value_counts(normalize=True)\n",
    "#         df[item] = df[item].apply(lambda x: encoding[x])\n",
    "#         return df\n",
    "\n",
    "# catEncode(X4)        \n",
    "\n",
    "enc_op_unique_carrier = X5['op_unique_carrier'].value_counts() #(normalize=True)\n",
    "X5['op_unique_carrier'] = X5['op_unique_carrier'].apply(lambda x : enc_op_unique_carrier[x])\n",
    "\n",
    "# enc_op_carrier_fl_num = X5['op_carrier_fl_num'].value_counts(normalize=True)\n",
    "# X5['op_carrier_fl_num'] = X5['op_carrier_fl_num'].apply(lambda x : enc_op_carrier_fl_num[x])\n",
    "\n",
    "# enc_origin_airport_id = X5['origin_airport_id'].value_counts(normalize=True)\n",
    "# X5['origin_airport_id'] = X5['origin_airport_id'].apply(lambda x : enc_origin_airport_id[x])\n",
    "\n",
    "enc_origin = X5['origin'].value_counts() #(normalize=True)\n",
    "X5['origin'] = X5['origin'].apply(lambda x : enc_origin[x])\n",
    "\n",
    "# enc_dest_airport_id = X5['dest_airport_id'].value_counts(normalize=True)\n",
    "# X5['dest_airport_id'] = X5['dest_airport_id'].apply(lambda x : enc_dest_airport_id[x])\n",
    "\n",
    "enc_dest = X5['dest'].value_counts() #(normalize=True)\n",
    "X5['dest'] = X5['dest'].apply(lambda x : enc_dest[x])\n",
    "\n",
    "enc_cancellation_code = X5['cancellation_code'].value_counts() #(normalize=True)\n",
    "X5['cancellation_code'] = X5['cancellation_code'].apply(lambda x : enc_cancellation_code[x])\n",
    "\n",
    "enc_unique_fl = X5['unique_fl'].value_counts() #(normalize=True)\n",
    "X5['unique_fl'] = X5['unique_fl'].apply(lambda x : enc_unique_fl[x])\n",
    "\n",
    "enc_dep_status = X5['dep_status'].value_counts() #(normalize=True)\n",
    "X5['dep_status'] = X5['dep_status'].apply(lambda x : enc_dep_status[x])\n",
    "\n",
    "enc_arr_status = X5['arr_status'].value_counts() #(normalize=True)\n",
    "X5['arr_status'] = X5['arr_status'].apply(lambda x : enc_arr_status[x])\n",
    "\n",
    "X5 = X5.drop(['op_carrier_fl_num', 'origin_airport_id', 'dest_airport_id'], axis=1)"
   ]
  },
  {
   "cell_type": "code",
   "execution_count": 59,
   "metadata": {},
   "outputs": [
    {
     "data": {
      "text/html": [
       "<div>\n",
       "<style scoped>\n",
       "    .dataframe tbody tr th:only-of-type {\n",
       "        vertical-align: middle;\n",
       "    }\n",
       "\n",
       "    .dataframe tbody tr th {\n",
       "        vertical-align: top;\n",
       "    }\n",
       "\n",
       "    .dataframe thead th {\n",
       "        text-align: right;\n",
       "    }\n",
       "</style>\n",
       "<table border=\"1\" class=\"dataframe\">\n",
       "  <thead>\n",
       "    <tr style=\"text-align: right;\">\n",
       "      <th></th>\n",
       "      <th>op_unique_carrier</th>\n",
       "      <th>origin</th>\n",
       "      <th>dest</th>\n",
       "      <th>dep_delay</th>\n",
       "      <th>arr_delay</th>\n",
       "      <th>cancellation_code</th>\n",
       "      <th>air_time</th>\n",
       "      <th>distance</th>\n",
       "      <th>unique_fl</th>\n",
       "      <th>speed</th>\n",
       "      <th>dep_status</th>\n",
       "      <th>arr_status</th>\n",
       "      <th>mean_arr_delay</th>\n",
       "      <th>month_sin</th>\n",
       "      <th>month_cos</th>\n",
       "      <th>day_of_week_sin</th>\n",
       "      <th>day_of_week_cos</th>\n",
       "      <th>day_of_month_sin</th>\n",
       "      <th>day_of_month_cos</th>\n",
       "      <th>dep_hour_sin</th>\n",
       "      <th>dep_hour_cos</th>\n",
       "      <th>arr_hour_sin</th>\n",
       "      <th>arr_hour_cos</th>\n",
       "    </tr>\n",
       "  </thead>\n",
       "  <tbody>\n",
       "    <tr>\n",
       "      <th>13164250</th>\n",
       "      <td>1222589</td>\n",
       "      <td>417043</td>\n",
       "      <td>18829</td>\n",
       "      <td>2.302585</td>\n",
       "      <td>0.000000</td>\n",
       "      <td>11836974</td>\n",
       "      <td>4.672829</td>\n",
       "      <td>6.739337</td>\n",
       "      <td>1865</td>\n",
       "      <td>477.735849</td>\n",
       "      <td>2269876</td>\n",
       "      <td>10138922</td>\n",
       "      <td>0.700079</td>\n",
       "      <td>1.000000e+00</td>\n",
       "      <td>6.123234e-17</td>\n",
       "      <td>0.000000</td>\n",
       "      <td>1.0</td>\n",
       "      <td>-0.848644</td>\n",
       "      <td>0.528964</td>\n",
       "      <td>-0.887885</td>\n",
       "      <td>0.460065</td>\n",
       "      <td>-0.730836</td>\n",
       "      <td>0.682553</td>\n",
       "    </tr>\n",
       "    <tr>\n",
       "      <th>6218269</th>\n",
       "      <td>452851</td>\n",
       "      <td>251909</td>\n",
       "      <td>147969</td>\n",
       "      <td>3.258097</td>\n",
       "      <td>1.609438</td>\n",
       "      <td>11836974</td>\n",
       "      <td>5.533389</td>\n",
       "      <td>7.684324</td>\n",
       "      <td>568</td>\n",
       "      <td>517.380952</td>\n",
       "      <td>2269876</td>\n",
       "      <td>1666388</td>\n",
       "      <td>1.286303</td>\n",
       "      <td>-5.000000e-01</td>\n",
       "      <td>-8.660254e-01</td>\n",
       "      <td>0.866025</td>\n",
       "      <td>-0.5</td>\n",
       "      <td>-0.485302</td>\n",
       "      <td>-0.874347</td>\n",
       "      <td>-0.519584</td>\n",
       "      <td>0.854419</td>\n",
       "      <td>0.979084</td>\n",
       "      <td>0.203456</td>\n",
       "    </tr>\n",
       "    <tr>\n",
       "      <th>12657684</th>\n",
       "      <td>1480677</td>\n",
       "      <td>595684</td>\n",
       "      <td>40093</td>\n",
       "      <td>0.000000</td>\n",
       "      <td>0.000000</td>\n",
       "      <td>11836974</td>\n",
       "      <td>3.784190</td>\n",
       "      <td>5.560682</td>\n",
       "      <td>5391</td>\n",
       "      <td>361.395349</td>\n",
       "      <td>9571927</td>\n",
       "      <td>10138922</td>\n",
       "      <td>0.000000</td>\n",
       "      <td>1.000000e+00</td>\n",
       "      <td>6.123234e-17</td>\n",
       "      <td>-0.866025</td>\n",
       "      <td>-0.5</td>\n",
       "      <td>0.394356</td>\n",
       "      <td>0.918958</td>\n",
       "      <td>-0.136167</td>\n",
       "      <td>-0.990686</td>\n",
       "      <td>-0.398401</td>\n",
       "      <td>-0.917211</td>\n",
       "    </tr>\n",
       "    <tr>\n",
       "      <th>12506608</th>\n",
       "      <td>471077</td>\n",
       "      <td>9251</td>\n",
       "      <td>597024</td>\n",
       "      <td>0.000000</td>\n",
       "      <td>0.000000</td>\n",
       "      <td>11836974</td>\n",
       "      <td>3.583519</td>\n",
       "      <td>4.875197</td>\n",
       "      <td>959</td>\n",
       "      <td>222.857143</td>\n",
       "      <td>9571927</td>\n",
       "      <td>10138922</td>\n",
       "      <td>0.482992</td>\n",
       "      <td>1.224647e-16</td>\n",
       "      <td>-1.000000e+00</td>\n",
       "      <td>0.866025</td>\n",
       "      <td>0.5</td>\n",
       "      <td>-0.937752</td>\n",
       "      <td>0.347305</td>\n",
       "      <td>0.997669</td>\n",
       "      <td>-0.068242</td>\n",
       "      <td>0.942261</td>\n",
       "      <td>-0.334880</td>\n",
       "    </tr>\n",
       "    <tr>\n",
       "      <th>6859796</th>\n",
       "      <td>381866</td>\n",
       "      <td>78884</td>\n",
       "      <td>194668</td>\n",
       "      <td>0.000000</td>\n",
       "      <td>0.000000</td>\n",
       "      <td>11836974</td>\n",
       "      <td>4.605170</td>\n",
       "      <td>6.501290</td>\n",
       "      <td>1127</td>\n",
       "      <td>403.030303</td>\n",
       "      <td>9571927</td>\n",
       "      <td>10138922</td>\n",
       "      <td>0.414163</td>\n",
       "      <td>5.000000e-01</td>\n",
       "      <td>-8.660254e-01</td>\n",
       "      <td>0.866025</td>\n",
       "      <td>-0.5</td>\n",
       "      <td>0.101168</td>\n",
       "      <td>-0.994869</td>\n",
       "      <td>0.997669</td>\n",
       "      <td>-0.068242</td>\n",
       "      <td>0.631088</td>\n",
       "      <td>-0.775711</td>\n",
       "    </tr>\n",
       "  </tbody>\n",
       "</table>\n",
       "</div>"
      ],
      "text/plain": [
       "         op_unique_carrier  origin    dest  dep_delay  arr_delay  \\\n",
       "13164250           1222589  417043   18829   2.302585   0.000000   \n",
       "6218269             452851  251909  147969   3.258097   1.609438   \n",
       "12657684           1480677  595684   40093   0.000000   0.000000   \n",
       "12506608            471077    9251  597024   0.000000   0.000000   \n",
       "6859796             381866   78884  194668   0.000000   0.000000   \n",
       "\n",
       "         cancellation_code  air_time  distance  unique_fl       speed  \\\n",
       "13164250          11836974  4.672829  6.739337       1865  477.735849   \n",
       "6218269           11836974  5.533389  7.684324        568  517.380952   \n",
       "12657684          11836974  3.784190  5.560682       5391  361.395349   \n",
       "12506608          11836974  3.583519  4.875197        959  222.857143   \n",
       "6859796           11836974  4.605170  6.501290       1127  403.030303   \n",
       "\n",
       "         dep_status arr_status  mean_arr_delay     month_sin     month_cos  \\\n",
       "13164250    2269876   10138922        0.700079  1.000000e+00  6.123234e-17   \n",
       "6218269     2269876    1666388        1.286303 -5.000000e-01 -8.660254e-01   \n",
       "12657684    9571927   10138922        0.000000  1.000000e+00  6.123234e-17   \n",
       "12506608    9571927   10138922        0.482992  1.224647e-16 -1.000000e+00   \n",
       "6859796     9571927   10138922        0.414163  5.000000e-01 -8.660254e-01   \n",
       "\n",
       "          day_of_week_sin  day_of_week_cos  day_of_month_sin  \\\n",
       "13164250         0.000000              1.0         -0.848644   \n",
       "6218269          0.866025             -0.5         -0.485302   \n",
       "12657684        -0.866025             -0.5          0.394356   \n",
       "12506608         0.866025              0.5         -0.937752   \n",
       "6859796          0.866025             -0.5          0.101168   \n",
       "\n",
       "          day_of_month_cos  dep_hour_sin  dep_hour_cos  arr_hour_sin  \\\n",
       "13164250          0.528964     -0.887885      0.460065     -0.730836   \n",
       "6218269          -0.874347     -0.519584      0.854419      0.979084   \n",
       "12657684          0.918958     -0.136167     -0.990686     -0.398401   \n",
       "12506608          0.347305      0.997669     -0.068242      0.942261   \n",
       "6859796          -0.994869      0.997669     -0.068242      0.631088   \n",
       "\n",
       "          arr_hour_cos  \n",
       "13164250      0.682553  \n",
       "6218269       0.203456  \n",
       "12657684     -0.917211  \n",
       "12506608     -0.334880  \n",
       "6859796      -0.775711  "
      ]
     },
     "execution_count": 59,
     "metadata": {},
     "output_type": "execute_result"
    }
   ],
   "source": [
    "X5.head()"
   ]
  },
  {
   "cell_type": "code",
   "execution_count": 60,
   "metadata": {
    "tags": []
   },
   "outputs": [],
   "source": [
    "#len(X5['unique_fl'].value_counts())"
   ]
  },
  {
   "cell_type": "markdown",
   "metadata": {},
   "source": [
    "## get_dummies for airport id's"
   ]
  },
  {
   "cell_type": "code",
   "execution_count": 61,
   "metadata": {},
   "outputs": [],
   "source": [
    "X6 = X5.copy()"
   ]
  },
  {
   "cell_type": "code",
   "execution_count": 62,
   "metadata": {
    "tags": []
   },
   "outputs": [],
   "source": [
    "# X6 = pd.get_dummies(X6, columns=['origin_airport_id'])\n",
    "# X6 = pd.get_dummies(X6, columns=['dest_airport_id'])"
   ]
  },
  {
   "cell_type": "code",
   "execution_count": 63,
   "metadata": {},
   "outputs": [
    {
     "data": {
      "text/plain": [
       "(12071082, 23)"
      ]
     },
     "execution_count": 63,
     "metadata": {},
     "output_type": "execute_result"
    }
   ],
   "source": [
    "X6.shape"
   ]
  },
  {
   "cell_type": "code",
   "execution_count": 64,
   "metadata": {},
   "outputs": [
    {
     "data": {
      "text/html": [
       "<div>\n",
       "<style scoped>\n",
       "    .dataframe tbody tr th:only-of-type {\n",
       "        vertical-align: middle;\n",
       "    }\n",
       "\n",
       "    .dataframe tbody tr th {\n",
       "        vertical-align: top;\n",
       "    }\n",
       "\n",
       "    .dataframe thead th {\n",
       "        text-align: right;\n",
       "    }\n",
       "</style>\n",
       "<table border=\"1\" class=\"dataframe\">\n",
       "  <thead>\n",
       "    <tr style=\"text-align: right;\">\n",
       "      <th></th>\n",
       "      <th>op_unique_carrier</th>\n",
       "      <th>origin</th>\n",
       "      <th>dest</th>\n",
       "      <th>dep_delay</th>\n",
       "      <th>arr_delay</th>\n",
       "      <th>cancellation_code</th>\n",
       "      <th>air_time</th>\n",
       "      <th>distance</th>\n",
       "      <th>unique_fl</th>\n",
       "      <th>speed</th>\n",
       "      <th>dep_status</th>\n",
       "      <th>arr_status</th>\n",
       "      <th>mean_arr_delay</th>\n",
       "      <th>month_sin</th>\n",
       "      <th>month_cos</th>\n",
       "      <th>day_of_week_sin</th>\n",
       "      <th>day_of_week_cos</th>\n",
       "      <th>day_of_month_sin</th>\n",
       "      <th>day_of_month_cos</th>\n",
       "      <th>dep_hour_sin</th>\n",
       "      <th>dep_hour_cos</th>\n",
       "      <th>arr_hour_sin</th>\n",
       "      <th>arr_hour_cos</th>\n",
       "    </tr>\n",
       "  </thead>\n",
       "  <tbody>\n",
       "    <tr>\n",
       "      <th>13164250</th>\n",
       "      <td>1222589</td>\n",
       "      <td>417043</td>\n",
       "      <td>18829</td>\n",
       "      <td>2.302585</td>\n",
       "      <td>0.000000</td>\n",
       "      <td>11836974</td>\n",
       "      <td>4.672829</td>\n",
       "      <td>6.739337</td>\n",
       "      <td>1865</td>\n",
       "      <td>477.735849</td>\n",
       "      <td>2269876</td>\n",
       "      <td>10138922</td>\n",
       "      <td>0.700079</td>\n",
       "      <td>1.000000e+00</td>\n",
       "      <td>6.123234e-17</td>\n",
       "      <td>0.000000</td>\n",
       "      <td>1.0</td>\n",
       "      <td>-0.848644</td>\n",
       "      <td>0.528964</td>\n",
       "      <td>-0.887885</td>\n",
       "      <td>0.460065</td>\n",
       "      <td>-0.730836</td>\n",
       "      <td>0.682553</td>\n",
       "    </tr>\n",
       "    <tr>\n",
       "      <th>6218269</th>\n",
       "      <td>452851</td>\n",
       "      <td>251909</td>\n",
       "      <td>147969</td>\n",
       "      <td>3.258097</td>\n",
       "      <td>1.609438</td>\n",
       "      <td>11836974</td>\n",
       "      <td>5.533389</td>\n",
       "      <td>7.684324</td>\n",
       "      <td>568</td>\n",
       "      <td>517.380952</td>\n",
       "      <td>2269876</td>\n",
       "      <td>1666388</td>\n",
       "      <td>1.286303</td>\n",
       "      <td>-5.000000e-01</td>\n",
       "      <td>-8.660254e-01</td>\n",
       "      <td>0.866025</td>\n",
       "      <td>-0.5</td>\n",
       "      <td>-0.485302</td>\n",
       "      <td>-0.874347</td>\n",
       "      <td>-0.519584</td>\n",
       "      <td>0.854419</td>\n",
       "      <td>0.979084</td>\n",
       "      <td>0.203456</td>\n",
       "    </tr>\n",
       "    <tr>\n",
       "      <th>12657684</th>\n",
       "      <td>1480677</td>\n",
       "      <td>595684</td>\n",
       "      <td>40093</td>\n",
       "      <td>0.000000</td>\n",
       "      <td>0.000000</td>\n",
       "      <td>11836974</td>\n",
       "      <td>3.784190</td>\n",
       "      <td>5.560682</td>\n",
       "      <td>5391</td>\n",
       "      <td>361.395349</td>\n",
       "      <td>9571927</td>\n",
       "      <td>10138922</td>\n",
       "      <td>0.000000</td>\n",
       "      <td>1.000000e+00</td>\n",
       "      <td>6.123234e-17</td>\n",
       "      <td>-0.866025</td>\n",
       "      <td>-0.5</td>\n",
       "      <td>0.394356</td>\n",
       "      <td>0.918958</td>\n",
       "      <td>-0.136167</td>\n",
       "      <td>-0.990686</td>\n",
       "      <td>-0.398401</td>\n",
       "      <td>-0.917211</td>\n",
       "    </tr>\n",
       "    <tr>\n",
       "      <th>12506608</th>\n",
       "      <td>471077</td>\n",
       "      <td>9251</td>\n",
       "      <td>597024</td>\n",
       "      <td>0.000000</td>\n",
       "      <td>0.000000</td>\n",
       "      <td>11836974</td>\n",
       "      <td>3.583519</td>\n",
       "      <td>4.875197</td>\n",
       "      <td>959</td>\n",
       "      <td>222.857143</td>\n",
       "      <td>9571927</td>\n",
       "      <td>10138922</td>\n",
       "      <td>0.482992</td>\n",
       "      <td>1.224647e-16</td>\n",
       "      <td>-1.000000e+00</td>\n",
       "      <td>0.866025</td>\n",
       "      <td>0.5</td>\n",
       "      <td>-0.937752</td>\n",
       "      <td>0.347305</td>\n",
       "      <td>0.997669</td>\n",
       "      <td>-0.068242</td>\n",
       "      <td>0.942261</td>\n",
       "      <td>-0.334880</td>\n",
       "    </tr>\n",
       "    <tr>\n",
       "      <th>6859796</th>\n",
       "      <td>381866</td>\n",
       "      <td>78884</td>\n",
       "      <td>194668</td>\n",
       "      <td>0.000000</td>\n",
       "      <td>0.000000</td>\n",
       "      <td>11836974</td>\n",
       "      <td>4.605170</td>\n",
       "      <td>6.501290</td>\n",
       "      <td>1127</td>\n",
       "      <td>403.030303</td>\n",
       "      <td>9571927</td>\n",
       "      <td>10138922</td>\n",
       "      <td>0.414163</td>\n",
       "      <td>5.000000e-01</td>\n",
       "      <td>-8.660254e-01</td>\n",
       "      <td>0.866025</td>\n",
       "      <td>-0.5</td>\n",
       "      <td>0.101168</td>\n",
       "      <td>-0.994869</td>\n",
       "      <td>0.997669</td>\n",
       "      <td>-0.068242</td>\n",
       "      <td>0.631088</td>\n",
       "      <td>-0.775711</td>\n",
       "    </tr>\n",
       "  </tbody>\n",
       "</table>\n",
       "</div>"
      ],
      "text/plain": [
       "         op_unique_carrier  origin    dest  dep_delay  arr_delay  \\\n",
       "13164250           1222589  417043   18829   2.302585   0.000000   \n",
       "6218269             452851  251909  147969   3.258097   1.609438   \n",
       "12657684           1480677  595684   40093   0.000000   0.000000   \n",
       "12506608            471077    9251  597024   0.000000   0.000000   \n",
       "6859796             381866   78884  194668   0.000000   0.000000   \n",
       "\n",
       "         cancellation_code  air_time  distance  unique_fl       speed  \\\n",
       "13164250          11836974  4.672829  6.739337       1865  477.735849   \n",
       "6218269           11836974  5.533389  7.684324        568  517.380952   \n",
       "12657684          11836974  3.784190  5.560682       5391  361.395349   \n",
       "12506608          11836974  3.583519  4.875197        959  222.857143   \n",
       "6859796           11836974  4.605170  6.501290       1127  403.030303   \n",
       "\n",
       "         dep_status arr_status  mean_arr_delay     month_sin     month_cos  \\\n",
       "13164250    2269876   10138922        0.700079  1.000000e+00  6.123234e-17   \n",
       "6218269     2269876    1666388        1.286303 -5.000000e-01 -8.660254e-01   \n",
       "12657684    9571927   10138922        0.000000  1.000000e+00  6.123234e-17   \n",
       "12506608    9571927   10138922        0.482992  1.224647e-16 -1.000000e+00   \n",
       "6859796     9571927   10138922        0.414163  5.000000e-01 -8.660254e-01   \n",
       "\n",
       "          day_of_week_sin  day_of_week_cos  day_of_month_sin  \\\n",
       "13164250         0.000000              1.0         -0.848644   \n",
       "6218269          0.866025             -0.5         -0.485302   \n",
       "12657684        -0.866025             -0.5          0.394356   \n",
       "12506608         0.866025              0.5         -0.937752   \n",
       "6859796          0.866025             -0.5          0.101168   \n",
       "\n",
       "          day_of_month_cos  dep_hour_sin  dep_hour_cos  arr_hour_sin  \\\n",
       "13164250          0.528964     -0.887885      0.460065     -0.730836   \n",
       "6218269          -0.874347     -0.519584      0.854419      0.979084   \n",
       "12657684          0.918958     -0.136167     -0.990686     -0.398401   \n",
       "12506608          0.347305      0.997669     -0.068242      0.942261   \n",
       "6859796          -0.994869      0.997669     -0.068242      0.631088   \n",
       "\n",
       "          arr_hour_cos  \n",
       "13164250      0.682553  \n",
       "6218269       0.203456  \n",
       "12657684     -0.917211  \n",
       "12506608     -0.334880  \n",
       "6859796      -0.775711  "
      ]
     },
     "execution_count": 64,
     "metadata": {},
     "output_type": "execute_result"
    }
   ],
   "source": [
    "X6.head()"
   ]
  }
 ],
 "metadata": {
  "colab": {
   "authorship_tag": "ABX9TyMjNz7RQSxKOJ+IhlcKLUkS",
   "collapsed_sections": [],
   "mount_file_id": "1RWlDLoSuQhkFqlu_0OEr-bWVqtuyd-OC",
   "name": "flights.ipynb",
   "provenance": []
  },
  "kernelspec": {
   "display_name": "Python 3",
   "language": "python",
   "name": "python3"
  },
  "language_info": {
   "codemirror_mode": {
    "name": "ipython",
    "version": 3
   },
   "file_extension": ".py",
   "mimetype": "text/x-python",
   "name": "python",
   "nbconvert_exporter": "python",
   "pygments_lexer": "ipython3",
   "version": "3.8.8"
  }
 },
 "nbformat": 4,
 "nbformat_minor": 4
}
