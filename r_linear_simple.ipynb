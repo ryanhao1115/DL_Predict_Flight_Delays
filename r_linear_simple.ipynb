{
 "cells": [
  {
   "cell_type": "markdown",
   "id": "f972ab27-6101-4297-b32e-5ef32587a402",
   "metadata": {},
   "source": [
    "# simple linear regression"
   ]
  },
  {
   "cell_type": "code",
   "execution_count": 126,
   "id": "f260d574-08cd-4f87-a227-21b11f43fd17",
   "metadata": {},
   "outputs": [],
   "source": [
    "# import base packages\n",
    "\n",
    "import numpy as np\n",
    "import pandas as pd\n",
    "#import modin.pandas as pd\n",
    "pd.set_option('max_columns', None)\n",
    "pd.set_option('max_rows', None)\n",
    "\n",
    "import matplotlib.pyplot as plt\n",
    "import seaborn as sns\n",
    "sns.set_style('darkgrid')\n",
    "\n",
    "#import ray\n",
    "#ray.init()\n",
    "# # Modin will connect to the existing Ray environment\n",
    "# import modin.pandas as pd\n"
   ]
  },
  {
   "cell_type": "code",
   "execution_count": 127,
   "id": "0da0e605-7208-4742-b1f0-79fddf32523e",
   "metadata": {},
   "outputs": [],
   "source": [
    "Z = pd.read_csv('for_modeling.csv', low_memory=False)"
   ]
  },
  {
   "cell_type": "code",
   "execution_count": 128,
   "id": "d09967f4-4541-4ace-bd8e-e95a9650ddda",
   "metadata": {},
   "outputs": [
    {
     "data": {
      "text/html": [
       "<div>\n",
       "<style scoped>\n",
       "    .dataframe tbody tr th:only-of-type {\n",
       "        vertical-align: middle;\n",
       "    }\n",
       "\n",
       "    .dataframe tbody tr th {\n",
       "        vertical-align: top;\n",
       "    }\n",
       "\n",
       "    .dataframe thead th {\n",
       "        text-align: right;\n",
       "    }\n",
       "</style>\n",
       "<table border=\"1\" class=\"dataframe\">\n",
       "  <thead>\n",
       "    <tr style=\"text-align: right;\">\n",
       "      <th></th>\n",
       "      <th>op_unique_carrier</th>\n",
       "      <th>origin</th>\n",
       "      <th>dest</th>\n",
       "      <th>dep_delay</th>\n",
       "      <th>arr_delay</th>\n",
       "      <th>cancellation_code</th>\n",
       "      <th>air_time</th>\n",
       "      <th>distance</th>\n",
       "      <th>unique_fl</th>\n",
       "      <th>speed</th>\n",
       "      <th>dep_status</th>\n",
       "      <th>arr_status</th>\n",
       "      <th>mean_arr_delay</th>\n",
       "      <th>month_sin</th>\n",
       "      <th>month_cos</th>\n",
       "      <th>day_of_week_sin</th>\n",
       "      <th>day_of_week_cos</th>\n",
       "      <th>day_of_month_sin</th>\n",
       "      <th>day_of_month_cos</th>\n",
       "      <th>dep_hour_sin</th>\n",
       "      <th>dep_hour_cos</th>\n",
       "      <th>arr_hour_sin</th>\n",
       "      <th>arr_hour_cos</th>\n",
       "    </tr>\n",
       "  </thead>\n",
       "  <tbody>\n",
       "    <tr>\n",
       "      <th>0</th>\n",
       "      <td>1222589</td>\n",
       "      <td>417043</td>\n",
       "      <td>18829</td>\n",
       "      <td>2.302585</td>\n",
       "      <td>0.000000</td>\n",
       "      <td>11836974</td>\n",
       "      <td>4.672829</td>\n",
       "      <td>6.739337</td>\n",
       "      <td>1865</td>\n",
       "      <td>477.735849</td>\n",
       "      <td>2269876</td>\n",
       "      <td>10138922</td>\n",
       "      <td>0.700079</td>\n",
       "      <td>1.000000e+00</td>\n",
       "      <td>6.123234e-17</td>\n",
       "      <td>0.000000</td>\n",
       "      <td>1.0</td>\n",
       "      <td>-0.848644</td>\n",
       "      <td>0.528964</td>\n",
       "      <td>-0.887885</td>\n",
       "      <td>0.460065</td>\n",
       "      <td>-0.730836</td>\n",
       "      <td>0.682553</td>\n",
       "    </tr>\n",
       "    <tr>\n",
       "      <th>1</th>\n",
       "      <td>452851</td>\n",
       "      <td>251909</td>\n",
       "      <td>147969</td>\n",
       "      <td>3.258097</td>\n",
       "      <td>1.609438</td>\n",
       "      <td>11836974</td>\n",
       "      <td>5.533389</td>\n",
       "      <td>7.684324</td>\n",
       "      <td>568</td>\n",
       "      <td>517.380952</td>\n",
       "      <td>2269876</td>\n",
       "      <td>1666388</td>\n",
       "      <td>1.286303</td>\n",
       "      <td>-5.000000e-01</td>\n",
       "      <td>-8.660254e-01</td>\n",
       "      <td>0.866025</td>\n",
       "      <td>-0.5</td>\n",
       "      <td>-0.485302</td>\n",
       "      <td>-0.874347</td>\n",
       "      <td>-0.519584</td>\n",
       "      <td>0.854419</td>\n",
       "      <td>0.979084</td>\n",
       "      <td>0.203456</td>\n",
       "    </tr>\n",
       "    <tr>\n",
       "      <th>2</th>\n",
       "      <td>1480677</td>\n",
       "      <td>595684</td>\n",
       "      <td>40093</td>\n",
       "      <td>0.000000</td>\n",
       "      <td>0.000000</td>\n",
       "      <td>11836974</td>\n",
       "      <td>3.784190</td>\n",
       "      <td>5.560682</td>\n",
       "      <td>5391</td>\n",
       "      <td>361.395349</td>\n",
       "      <td>9571927</td>\n",
       "      <td>10138922</td>\n",
       "      <td>0.000000</td>\n",
       "      <td>1.000000e+00</td>\n",
       "      <td>6.123234e-17</td>\n",
       "      <td>-0.866025</td>\n",
       "      <td>-0.5</td>\n",
       "      <td>0.394356</td>\n",
       "      <td>0.918958</td>\n",
       "      <td>-0.136167</td>\n",
       "      <td>-0.990686</td>\n",
       "      <td>-0.398401</td>\n",
       "      <td>-0.917211</td>\n",
       "    </tr>\n",
       "    <tr>\n",
       "      <th>3</th>\n",
       "      <td>471077</td>\n",
       "      <td>9251</td>\n",
       "      <td>597024</td>\n",
       "      <td>0.000000</td>\n",
       "      <td>0.000000</td>\n",
       "      <td>11836974</td>\n",
       "      <td>3.583519</td>\n",
       "      <td>4.875197</td>\n",
       "      <td>959</td>\n",
       "      <td>222.857143</td>\n",
       "      <td>9571927</td>\n",
       "      <td>10138922</td>\n",
       "      <td>0.482992</td>\n",
       "      <td>1.224647e-16</td>\n",
       "      <td>-1.000000e+00</td>\n",
       "      <td>0.866025</td>\n",
       "      <td>0.5</td>\n",
       "      <td>-0.937752</td>\n",
       "      <td>0.347305</td>\n",
       "      <td>0.997669</td>\n",
       "      <td>-0.068242</td>\n",
       "      <td>0.942261</td>\n",
       "      <td>-0.334880</td>\n",
       "    </tr>\n",
       "    <tr>\n",
       "      <th>4</th>\n",
       "      <td>381866</td>\n",
       "      <td>78884</td>\n",
       "      <td>194668</td>\n",
       "      <td>0.000000</td>\n",
       "      <td>0.000000</td>\n",
       "      <td>11836974</td>\n",
       "      <td>4.605170</td>\n",
       "      <td>6.501290</td>\n",
       "      <td>1127</td>\n",
       "      <td>403.030303</td>\n",
       "      <td>9571927</td>\n",
       "      <td>10138922</td>\n",
       "      <td>0.414163</td>\n",
       "      <td>5.000000e-01</td>\n",
       "      <td>-8.660254e-01</td>\n",
       "      <td>0.866025</td>\n",
       "      <td>-0.5</td>\n",
       "      <td>0.101168</td>\n",
       "      <td>-0.994869</td>\n",
       "      <td>0.997669</td>\n",
       "      <td>-0.068242</td>\n",
       "      <td>0.631088</td>\n",
       "      <td>-0.775711</td>\n",
       "    </tr>\n",
       "  </tbody>\n",
       "</table>\n",
       "</div>"
      ],
      "text/plain": [
       "   op_unique_carrier  origin    dest  dep_delay  arr_delay  cancellation_code  \\\n",
       "0            1222589  417043   18829   2.302585   0.000000           11836974   \n",
       "1             452851  251909  147969   3.258097   1.609438           11836974   \n",
       "2            1480677  595684   40093   0.000000   0.000000           11836974   \n",
       "3             471077    9251  597024   0.000000   0.000000           11836974   \n",
       "4             381866   78884  194668   0.000000   0.000000           11836974   \n",
       "\n",
       "   air_time  distance  unique_fl       speed  dep_status  arr_status  \\\n",
       "0  4.672829  6.739337       1865  477.735849     2269876    10138922   \n",
       "1  5.533389  7.684324        568  517.380952     2269876     1666388   \n",
       "2  3.784190  5.560682       5391  361.395349     9571927    10138922   \n",
       "3  3.583519  4.875197        959  222.857143     9571927    10138922   \n",
       "4  4.605170  6.501290       1127  403.030303     9571927    10138922   \n",
       "\n",
       "   mean_arr_delay     month_sin     month_cos  day_of_week_sin  \\\n",
       "0        0.700079  1.000000e+00  6.123234e-17         0.000000   \n",
       "1        1.286303 -5.000000e-01 -8.660254e-01         0.866025   \n",
       "2        0.000000  1.000000e+00  6.123234e-17        -0.866025   \n",
       "3        0.482992  1.224647e-16 -1.000000e+00         0.866025   \n",
       "4        0.414163  5.000000e-01 -8.660254e-01         0.866025   \n",
       "\n",
       "   day_of_week_cos  day_of_month_sin  day_of_month_cos  dep_hour_sin  \\\n",
       "0              1.0         -0.848644          0.528964     -0.887885   \n",
       "1             -0.5         -0.485302         -0.874347     -0.519584   \n",
       "2             -0.5          0.394356          0.918958     -0.136167   \n",
       "3              0.5         -0.937752          0.347305      0.997669   \n",
       "4             -0.5          0.101168         -0.994869      0.997669   \n",
       "\n",
       "   dep_hour_cos  arr_hour_sin  arr_hour_cos  \n",
       "0      0.460065     -0.730836      0.682553  \n",
       "1      0.854419      0.979084      0.203456  \n",
       "2     -0.990686     -0.398401     -0.917211  \n",
       "3     -0.068242      0.942261     -0.334880  \n",
       "4     -0.068242      0.631088     -0.775711  "
      ]
     },
     "execution_count": 128,
     "metadata": {},
     "output_type": "execute_result"
    }
   ],
   "source": [
    "Z.head()"
   ]
  },
  {
   "cell_type": "code",
   "execution_count": 129,
   "id": "9d735465-eb4e-4baa-8c2e-6075e1b05b2e",
   "metadata": {},
   "outputs": [
    {
     "data": {
      "text/plain": [
       "(12071082, 23)"
      ]
     },
     "execution_count": 129,
     "metadata": {},
     "output_type": "execute_result"
    }
   ],
   "source": [
    "Z.shape"
   ]
  },
  {
   "cell_type": "markdown",
   "id": "66610188-0a07-4423-9f88-2f33c7248b6e",
   "metadata": {},
   "source": [
    "# scaling"
   ]
  },
  {
   "cell_type": "code",
   "execution_count": 130,
   "id": "e403189f-6383-4766-bb51-c6ee2af6f84d",
   "metadata": {},
   "outputs": [],
   "source": [
    "Z1 = Z.copy()"
   ]
  },
  {
   "cell_type": "code",
   "execution_count": 131,
   "id": "3a5ebf7a-851a-4923-a475-ebd15fade438",
   "metadata": {},
   "outputs": [],
   "source": [
    "Z1 = Z1.dropna()"
   ]
  },
  {
   "cell_type": "code",
   "execution_count": 132,
   "id": "e20e6a8a-c52d-4dd9-aa56-58aae5794e02",
   "metadata": {},
   "outputs": [],
   "source": [
    "from sklearn.preprocessing import StandardScaler\n",
    "\n",
    "scaler = StandardScaler()\n",
    "scaler.fit(Z1)\n",
    "\n",
    "Z1 = pd.DataFrame(scaler.transform(Z1), index=Z1.index, columns=Z1.columns)"
   ]
  },
  {
   "cell_type": "code",
   "execution_count": 133,
   "id": "450e812f-881a-4d16-8147-e77f000dafc2",
   "metadata": {},
   "outputs": [
    {
     "data": {
      "text/html": [
       "<div>\n",
       "<style scoped>\n",
       "    .dataframe tbody tr th:only-of-type {\n",
       "        vertical-align: middle;\n",
       "    }\n",
       "\n",
       "    .dataframe tbody tr th {\n",
       "        vertical-align: top;\n",
       "    }\n",
       "\n",
       "    .dataframe thead th {\n",
       "        text-align: right;\n",
       "    }\n",
       "</style>\n",
       "<table border=\"1\" class=\"dataframe\">\n",
       "  <thead>\n",
       "    <tr style=\"text-align: right;\">\n",
       "      <th></th>\n",
       "      <th>op_unique_carrier</th>\n",
       "      <th>origin</th>\n",
       "      <th>dest</th>\n",
       "      <th>dep_delay</th>\n",
       "      <th>arr_delay</th>\n",
       "      <th>cancellation_code</th>\n",
       "      <th>air_time</th>\n",
       "      <th>distance</th>\n",
       "      <th>unique_fl</th>\n",
       "      <th>speed</th>\n",
       "      <th>dep_status</th>\n",
       "      <th>arr_status</th>\n",
       "      <th>mean_arr_delay</th>\n",
       "      <th>month_sin</th>\n",
       "      <th>month_cos</th>\n",
       "      <th>day_of_week_sin</th>\n",
       "      <th>day_of_week_cos</th>\n",
       "      <th>day_of_month_sin</th>\n",
       "      <th>day_of_month_cos</th>\n",
       "      <th>dep_hour_sin</th>\n",
       "      <th>dep_hour_cos</th>\n",
       "      <th>arr_hour_sin</th>\n",
       "      <th>arr_hour_cos</th>\n",
       "    </tr>\n",
       "  </thead>\n",
       "  <tbody>\n",
       "    <tr>\n",
       "      <th>0</th>\n",
       "      <td>0.295984</td>\n",
       "      <td>1.126201</td>\n",
       "      <td>-1.128602</td>\n",
       "      <td>2.131617</td>\n",
       "      <td>-0.405628</td>\n",
       "      <td>0.140633</td>\n",
       "      <td>0.281963</td>\n",
       "      <td>0.482075</td>\n",
       "      <td>-0.186554</td>\n",
       "      <td>1.042920</td>\n",
       "      <td>-1.888011</td>\n",
       "      <td>0.435738</td>\n",
       "      <td>0.348258</td>\n",
       "      <td>1.437215</td>\n",
       "      <td>0.019313</td>\n",
       "      <td>-0.027535</td>\n",
       "      <td>1.154550</td>\n",
       "      <td>-1.187652</td>\n",
       "      <td>0.779353</td>\n",
       "      <td>-1.106601</td>\n",
       "      <td>1.356446</td>\n",
       "      <td>-0.774938</td>\n",
       "      <td>1.297523</td>\n",
       "    </tr>\n",
       "    <tr>\n",
       "      <th>1</th>\n",
       "      <td>-0.871211</td>\n",
       "      <td>0.191195</td>\n",
       "      <td>-0.400112</td>\n",
       "      <td>3.210225</td>\n",
       "      <td>1.971999</td>\n",
       "      <td>0.140633</td>\n",
       "      <td>1.719586</td>\n",
       "      <td>1.707123</td>\n",
       "      <td>-0.861619</td>\n",
       "      <td>1.587918</td>\n",
       "      <td>-1.888011</td>\n",
       "      <td>-2.225992</td>\n",
       "      <td>1.710525</td>\n",
       "      <td>-0.677368</td>\n",
       "      <td>-1.210059</td>\n",
       "      <td>1.303723</td>\n",
       "      <td>-0.854492</td>\n",
       "      <td>-0.679452</td>\n",
       "      <td>-1.228281</td>\n",
       "      <td>-0.610684</td>\n",
       "      <td>2.035814</td>\n",
       "      <td>1.886628</td>\n",
       "      <td>0.609132</td>\n",
       "    </tr>\n",
       "    <tr>\n",
       "      <th>2</th>\n",
       "      <td>0.687337</td>\n",
       "      <td>2.137685</td>\n",
       "      <td>-1.008650</td>\n",
       "      <td>-0.467606</td>\n",
       "      <td>-0.405628</td>\n",
       "      <td>0.140633</td>\n",
       "      <td>-1.202566</td>\n",
       "      <td>-1.045891</td>\n",
       "      <td>1.648666</td>\n",
       "      <td>-0.556404</td>\n",
       "      <td>0.508990</td>\n",
       "      <td>0.435738</td>\n",
       "      <td>-1.278587</td>\n",
       "      <td>1.437215</td>\n",
       "      <td>0.019313</td>\n",
       "      <td>-1.358794</td>\n",
       "      <td>-0.854492</td>\n",
       "      <td>0.550908</td>\n",
       "      <td>1.337295</td>\n",
       "      <td>-0.094414</td>\n",
       "      <td>-1.142816</td>\n",
       "      <td>-0.257488</td>\n",
       "      <td>-1.001100</td>\n",
       "    </tr>\n",
       "    <tr>\n",
       "      <th>3</th>\n",
       "      <td>-0.843573</td>\n",
       "      <td>-1.182760</td>\n",
       "      <td>2.133046</td>\n",
       "      <td>-0.467606</td>\n",
       "      <td>-0.405628</td>\n",
       "      <td>0.140633</td>\n",
       "      <td>-1.537799</td>\n",
       "      <td>-1.934528</td>\n",
       "      <td>-0.658111</td>\n",
       "      <td>-2.460878</td>\n",
       "      <td>0.508990</td>\n",
       "      <td>0.435738</td>\n",
       "      <td>-0.156209</td>\n",
       "      <td>0.027493</td>\n",
       "      <td>-1.400244</td>\n",
       "      <td>1.303723</td>\n",
       "      <td>0.484870</td>\n",
       "      <td>-1.312285</td>\n",
       "      <td>0.519465</td>\n",
       "      <td>1.432291</td>\n",
       "      <td>0.446311</td>\n",
       "      <td>1.829311</td>\n",
       "      <td>-0.164376</td>\n",
       "    </tr>\n",
       "    <tr>\n",
       "      <th>4</th>\n",
       "      <td>-0.978849</td>\n",
       "      <td>-0.788491</td>\n",
       "      <td>-0.136679</td>\n",
       "      <td>-0.467606</td>\n",
       "      <td>-0.405628</td>\n",
       "      <td>0.140633</td>\n",
       "      <td>0.168935</td>\n",
       "      <td>0.173479</td>\n",
       "      <td>-0.570670</td>\n",
       "      <td>0.015949</td>\n",
       "      <td>0.508990</td>\n",
       "      <td>0.435738</td>\n",
       "      <td>-0.316156</td>\n",
       "      <td>0.732354</td>\n",
       "      <td>-1.210059</td>\n",
       "      <td>1.303723</td>\n",
       "      <td>-0.854492</td>\n",
       "      <td>0.140832</td>\n",
       "      <td>-1.400706</td>\n",
       "      <td>1.432291</td>\n",
       "      <td>0.446311</td>\n",
       "      <td>1.344957</td>\n",
       "      <td>-0.797785</td>\n",
       "    </tr>\n",
       "  </tbody>\n",
       "</table>\n",
       "</div>"
      ],
      "text/plain": [
       "   op_unique_carrier    origin      dest  dep_delay  arr_delay  \\\n",
       "0           0.295984  1.126201 -1.128602   2.131617  -0.405628   \n",
       "1          -0.871211  0.191195 -0.400112   3.210225   1.971999   \n",
       "2           0.687337  2.137685 -1.008650  -0.467606  -0.405628   \n",
       "3          -0.843573 -1.182760  2.133046  -0.467606  -0.405628   \n",
       "4          -0.978849 -0.788491 -0.136679  -0.467606  -0.405628   \n",
       "\n",
       "   cancellation_code  air_time  distance  unique_fl     speed  dep_status  \\\n",
       "0           0.140633  0.281963  0.482075  -0.186554  1.042920   -1.888011   \n",
       "1           0.140633  1.719586  1.707123  -0.861619  1.587918   -1.888011   \n",
       "2           0.140633 -1.202566 -1.045891   1.648666 -0.556404    0.508990   \n",
       "3           0.140633 -1.537799 -1.934528  -0.658111 -2.460878    0.508990   \n",
       "4           0.140633  0.168935  0.173479  -0.570670  0.015949    0.508990   \n",
       "\n",
       "   arr_status  mean_arr_delay  month_sin  month_cos  day_of_week_sin  \\\n",
       "0    0.435738        0.348258   1.437215   0.019313        -0.027535   \n",
       "1   -2.225992        1.710525  -0.677368  -1.210059         1.303723   \n",
       "2    0.435738       -1.278587   1.437215   0.019313        -1.358794   \n",
       "3    0.435738       -0.156209   0.027493  -1.400244         1.303723   \n",
       "4    0.435738       -0.316156   0.732354  -1.210059         1.303723   \n",
       "\n",
       "   day_of_week_cos  day_of_month_sin  day_of_month_cos  dep_hour_sin  \\\n",
       "0         1.154550         -1.187652          0.779353     -1.106601   \n",
       "1        -0.854492         -0.679452         -1.228281     -0.610684   \n",
       "2        -0.854492          0.550908          1.337295     -0.094414   \n",
       "3         0.484870         -1.312285          0.519465      1.432291   \n",
       "4        -0.854492          0.140832         -1.400706      1.432291   \n",
       "\n",
       "   dep_hour_cos  arr_hour_sin  arr_hour_cos  \n",
       "0      1.356446     -0.774938      1.297523  \n",
       "1      2.035814      1.886628      0.609132  \n",
       "2     -1.142816     -0.257488     -1.001100  \n",
       "3      0.446311      1.829311     -0.164376  \n",
       "4      0.446311      1.344957     -0.797785  "
      ]
     },
     "execution_count": 133,
     "metadata": {},
     "output_type": "execute_result"
    }
   ],
   "source": [
    "Z1.head()"
   ]
  },
  {
   "cell_type": "code",
   "execution_count": 134,
   "id": "312a3333-0293-4a1d-b976-4299c77674e5",
   "metadata": {},
   "outputs": [
    {
     "data": {
      "text/plain": [
       "Index(['op_unique_carrier', 'origin', 'dest', 'dep_delay', 'arr_delay',\n",
       "       'cancellation_code', 'air_time', 'distance', 'unique_fl', 'speed',\n",
       "       'dep_status', 'arr_status', 'mean_arr_delay', 'month_sin', 'month_cos',\n",
       "       'day_of_week_sin', 'day_of_week_cos', 'day_of_month_sin',\n",
       "       'day_of_month_cos', 'dep_hour_sin', 'dep_hour_cos', 'arr_hour_sin',\n",
       "       'arr_hour_cos'],\n",
       "      dtype='object')"
      ]
     },
     "execution_count": 134,
     "metadata": {},
     "output_type": "execute_result"
    }
   ],
   "source": [
    "Z1.columns"
   ]
  },
  {
   "cell_type": "code",
   "execution_count": 137,
   "id": "635a5afa-6821-4d7f-a136-b1b2ff7b6524",
   "metadata": {},
   "outputs": [
    {
     "data": {
      "text/plain": [
       "(12071079, 23)"
      ]
     },
     "execution_count": 137,
     "metadata": {},
     "output_type": "execute_result"
    }
   ],
   "source": [
    "Z1.shape"
   ]
  },
  {
   "cell_type": "markdown",
   "id": "eccf3551-52ea-4720-90eb-06a6f0567de1",
   "metadata": {},
   "source": [
    "# linear regression model"
   ]
  },
  {
   "cell_type": "markdown",
   "id": "70d63a47-8c55-4d29-8c80-2f063455ccf1",
   "metadata": {},
   "source": [
    "### split dataset to X and Y"
   ]
  },
  {
   "cell_type": "code",
   "execution_count": 138,
   "id": "926f340a-59e8-4ae2-a4ef-cc01e4ee5077",
   "metadata": {},
   "outputs": [],
   "source": [
    "Y = Z1.arr_delay"
   ]
  },
  {
   "cell_type": "code",
   "execution_count": 139,
   "id": "2e439420-374f-4145-86f5-7b61f4a669c8",
   "metadata": {},
   "outputs": [
    {
     "data": {
      "text/plain": [
       "(12071079,)"
      ]
     },
     "execution_count": 139,
     "metadata": {},
     "output_type": "execute_result"
    }
   ],
   "source": [
    "Y.shape"
   ]
  },
  {
   "cell_type": "code",
   "execution_count": 141,
   "id": "2711e9ec-e187-4305-8314-d735c7976e07",
   "metadata": {},
   "outputs": [],
   "source": [
    "X = Z1.drop(['arr_delay', 'cancellation_code', 'dep_delay'], axis=1)"
   ]
  },
  {
   "cell_type": "code",
   "execution_count": 142,
   "id": "d8d7ea88-be00-44ed-9906-2ed7fb769f2e",
   "metadata": {},
   "outputs": [
    {
     "data": {
      "text/plain": [
       "(12071079, 20)"
      ]
     },
     "execution_count": 142,
     "metadata": {},
     "output_type": "execute_result"
    }
   ],
   "source": [
    "X.shape"
   ]
  },
  {
   "cell_type": "code",
   "execution_count": 143,
   "id": "8a0c1f66-d05c-488e-b0c4-0d34d92a8beb",
   "metadata": {},
   "outputs": [
    {
     "data": {
      "text/plain": [
       "Index(['op_unique_carrier', 'origin', 'dest', 'air_time', 'distance',\n",
       "       'unique_fl', 'speed', 'dep_status', 'arr_status', 'mean_arr_delay',\n",
       "       'month_sin', 'month_cos', 'day_of_week_sin', 'day_of_week_cos',\n",
       "       'day_of_month_sin', 'day_of_month_cos', 'dep_hour_sin', 'dep_hour_cos',\n",
       "       'arr_hour_sin', 'arr_hour_cos'],\n",
       "      dtype='object')"
      ]
     },
     "execution_count": 143,
     "metadata": {},
     "output_type": "execute_result"
    }
   ],
   "source": [
    "X.columns"
   ]
  },
  {
   "cell_type": "markdown",
   "id": "ca7cc9a5-858e-4cc4-b09f-5d6b9a5674b8",
   "metadata": {},
   "source": [
    "## split dataset"
   ]
  },
  {
   "cell_type": "code",
   "execution_count": 144,
   "id": "7d1a3c38-e393-4231-bb97-c236ee28df1f",
   "metadata": {},
   "outputs": [],
   "source": [
    "from sklearn.model_selection import train_test_split\n",
    "\n",
    "X_train, X_test, Y_train, Y_test = train_test_split(X, Y, test_size=0.2)"
   ]
  },
  {
   "cell_type": "markdown",
   "id": "c549cceb-738c-47be-91a5-00927fd2700a",
   "metadata": {},
   "source": [
    "## check data dimensions"
   ]
  },
  {
   "cell_type": "code",
   "execution_count": 145,
   "id": "1e7272aa-72df-4325-816f-b0876cee226b",
   "metadata": {},
   "outputs": [
    {
     "data": {
      "text/plain": [
       "((9656863, 20), (9656863,))"
      ]
     },
     "execution_count": 145,
     "metadata": {},
     "output_type": "execute_result"
    }
   ],
   "source": [
    "X_train.shape, Y_train.shape"
   ]
  },
  {
   "cell_type": "code",
   "execution_count": 146,
   "id": "08fe1b50-fb8f-4738-9c1e-edc07386ee0f",
   "metadata": {},
   "outputs": [
    {
     "data": {
      "text/plain": [
       "((2414216, 20), (2414216,))"
      ]
     },
     "execution_count": 146,
     "metadata": {},
     "output_type": "execute_result"
    }
   ],
   "source": [
    "X_test.shape, Y_test.shape"
   ]
  },
  {
   "cell_type": "markdown",
   "id": "ae385769-9954-404e-93ba-78863a0f58c9",
   "metadata": {},
   "source": [
    "## build linear regression model"
   ]
  },
  {
   "cell_type": "code",
   "execution_count": 147,
   "id": "27e25a08-543f-48b2-b266-116e03882d89",
   "metadata": {},
   "outputs": [],
   "source": [
    "from sklearn import linear_model\n",
    "from sklearn.metrics import mean_squared_error, r2_score"
   ]
  },
  {
   "cell_type": "code",
   "execution_count": 148,
   "id": "4271ad79-7c15-43be-9e09-1196da954696",
   "metadata": {},
   "outputs": [],
   "source": [
    "model = linear_model.LinearRegression()"
   ]
  },
  {
   "cell_type": "code",
   "execution_count": 149,
   "id": "1013ee6c-cdea-4001-a6fe-44ba4625dc68",
   "metadata": {},
   "outputs": [
    {
     "data": {
      "text/plain": [
       "LinearRegression()"
      ]
     },
     "execution_count": 149,
     "metadata": {},
     "output_type": "execute_result"
    }
   ],
   "source": [
    "model.fit(X_train, Y_train)"
   ]
  },
  {
   "cell_type": "code",
   "execution_count": 150,
   "id": "5da884ba-609a-4162-bb76-64d824308664",
   "metadata": {},
   "outputs": [],
   "source": [
    "Y_pred = model.predict(X_test)"
   ]
  },
  {
   "cell_type": "markdown",
   "id": "09f7751d-85e1-4ed8-a2e4-ae5b6b9dc612",
   "metadata": {},
   "source": [
    "## prediction results"
   ]
  },
  {
   "cell_type": "code",
   "execution_count": 151,
   "id": "49828b57-78c4-4c38-84aa-4eff4e7a699c",
   "metadata": {},
   "outputs": [
    {
     "name": "stdout",
     "output_type": "stream",
     "text": [
      "Coefficients: [-9.82298089e-03 -2.57142395e-03  1.57673247e-03 -4.04466048e-02\n",
      "  5.81981163e-02 -6.92533533e-03 -1.93300369e-02 -2.97968411e-02\n",
      " -8.96879259e-01  7.94213718e-02 -6.22898807e-04  4.41466131e-04\n",
      "  7.19118513e-04 -7.87101557e-04  2.95209055e-04 -4.17854568e-04\n",
      "  1.09319856e-03 -2.45417827e-03  3.54934258e-04  7.00225301e-03]\n",
      "Intercept: 3.6626979611514667e-05\n",
      "Mean squared error (MSE): 0.13\n",
      "Coefficient of determination (R^2): 0.87\n"
     ]
    }
   ],
   "source": [
    "print('Coefficients:', model.coef_)\n",
    "print('Intercept:', model.intercept_)\n",
    "print('Mean squared error (MSE): %.2f'\n",
    "      % mean_squared_error(Y_test, Y_pred))\n",
    "print('Coefficient of determination (R^2): %.2f'\n",
    "      % r2_score(Y_test, Y_pred))"
   ]
  },
  {
   "cell_type": "code",
   "execution_count": 152,
   "id": "e84b6b9d-3bef-4ff3-8733-fb2914197709",
   "metadata": {},
   "outputs": [
    {
     "data": {
      "text/plain": [
       "Index(['op_unique_carrier', 'origin', 'dest', 'air_time', 'distance',\n",
       "       'unique_fl', 'speed', 'dep_status', 'arr_status', 'mean_arr_delay',\n",
       "       'month_sin', 'month_cos', 'day_of_week_sin', 'day_of_week_cos',\n",
       "       'day_of_month_sin', 'day_of_month_cos', 'dep_hour_sin', 'dep_hour_cos',\n",
       "       'arr_hour_sin', 'arr_hour_cos'],\n",
       "      dtype='object')"
      ]
     },
     "execution_count": 152,
     "metadata": {},
     "output_type": "execute_result"
    }
   ],
   "source": [
    "X.columns"
   ]
  }
 ],
 "metadata": {
  "kernelspec": {
   "display_name": "Python 3",
   "language": "python",
   "name": "python3"
  },
  "language_info": {
   "codemirror_mode": {
    "name": "ipython",
    "version": 3
   },
   "file_extension": ".py",
   "mimetype": "text/x-python",
   "name": "python",
   "nbconvert_exporter": "python",
   "pygments_lexer": "ipython3",
   "version": "3.8.8"
  }
 },
 "nbformat": 4,
 "nbformat_minor": 5
}
